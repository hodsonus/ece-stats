{
 "cells": [
  {
   "cell_type": "code",
   "execution_count": 1,
   "metadata": {},
   "outputs": [],
   "source": [
    "import numpy as np\n",
    "import numpy.random as npr\n",
    "import matplotlib.pyplot as plt\n",
    "import math\n",
    "%matplotlib inline\n",
    "import scipy.stats as stats"
   ]
  },
  {
   "cell_type": "markdown",
   "metadata": {},
   "source": [
    "# Lecture 21 Assignment"
   ]
  },
  {
   "cell_type": "markdown",
   "metadata": {},
   "source": [
    "1. For each of the Poisson random variables considered above ( 𝛼=20 , 0.5, and 2), draw 10,000 random variables and plot the cumulative histogram versus the distribution function.\n",
    "\n",
    "\n",
    "2. In 2003, there were many media reports about the number of shark attacks in Florida. At the end of the year, there were a total of 30 unprovoked shark attacks. By comparison, there were 246 shark attacks over the prior ten years. Using the pre-2003 data, simulate the number of shark attacks for 2003. Based on your simulation, what is the probability that there would be 30 or more shark attacks in that year?\n",
    "\n",
    "\n",
    "3. Find the analytical answer to question 2. (Evaluate your answer in the Jupyter notebook. Use of scipy.stats to find the answer is encouraged.)"
   ]
  },
  {
   "cell_type": "markdown",
   "metadata": {},
   "source": [
    "## 1."
   ]
  },
  {
   "cell_type": "code",
   "execution_count": 2,
   "metadata": {},
   "outputs": [],
   "source": [
    "def poisson_sim(alpha, num_bins, upper_range, num_sims=10000000):\n",
    "    P=stats.poisson(alpha)\n",
    "    p = P.rvs(num_sims)\n",
    "    \n",
    "    mybins=range(0,num_bins)\n",
    "    plt.hist(p,bins=mybins,density=True,alpha=0.3,cumulative=True)\n",
    "    \n",
    "    x=np.linspace(-1,upper_range,10000) \n",
    "    plt.step(x,P.cdf(x)) # Show that replacing with plt.step is better"
   ]
  },
  {
   "cell_type": "code",
   "execution_count": 3,
   "metadata": {},
   "outputs": [
    {
     "data": {
      "image/png": "[encoded data removed]",
      "text/plain": [
       "<Figure size 432x288 with 1 Axes>"
      ]
     },
     "metadata": {
      "needs_background": "light"
     },
     "output_type": "display_data"
    }
   ],
   "source": [
    "poisson_sim(alpha = 20, num_bins = 30, upper_range = 29)"
   ]
  },
  {
   "cell_type": "code",
   "execution_count": 4,
   "metadata": {},
   "outputs": [
    {
     "data": {
      "image/png": "[encoded data removed]",
      "text/plain": [
       "<Figure size 432x288 with 1 Axes>"
      ]
     },
     "metadata": {
      "needs_background": "light"
     },
     "output_type": "display_data"
    }
   ],
   "source": [
    "poisson_sim(alpha = 0.5, upper_range = 9, num_bins = 10)"
   ]
  },
  {
   "cell_type": "code",
   "execution_count": 5,
   "metadata": {},
   "outputs": [
    {
     "data": {
      "image/png": "[encoded data removed]",
      "text/plain": [
       "<Figure size 432x288 with 1 Axes>"
      ]
     },
     "metadata": {
      "needs_background": "light"
     },
     "output_type": "display_data"
    }
   ],
   "source": [
    "poisson_sim(alpha = 2, upper_range = 9, num_bins = 10)"
   ]
  },
  {
   "cell_type": "markdown",
   "metadata": {},
   "source": [
    "## 2."
   ]
  },
  {
   "cell_type": "code",
   "execution_count": 6,
   "metadata": {},
   "outputs": [
    {
     "name": "stdout",
     "output_type": "stream",
     "text": [
      "The simulation determined probability that the number of unprovoked shark attacks in Florida over a year is 30 or greater is equal to ~0.16119.\n"
     ]
    }
   ],
   "source": [
    "lam = 246/10\n",
    "t = 1\n",
    "alpha = lam*t\n",
    "shark_attack = stats.poisson(alpha)\n",
    "# simulate 1 million years\n",
    "num_sims = 1000000\n",
    "sim_prob_over_29 = sum(shark_attack.rvs(num_sims) >= 30)/num_sims\n",
    "print(\"The simulation determined probability that the number of unprovoked shark attacks in Florida over a year is 30 or greater is equal to ~\",sim_prob_over_29,\".\",sep=\"\")"
   ]
  },
  {
   "cell_type": "markdown",
   "metadata": {},
   "source": [
    "## 3."
   ]
  },
  {
   "cell_type": "code",
   "execution_count": 7,
   "metadata": {},
   "outputs": [
    {
     "name": "stdout",
     "output_type": "stream",
     "text": [
      "The analytically determined probability that the number of unprovoked shark attacks in Florida over a year is 30 or greater is equal to ~0.161014.\n"
     ]
    }
   ],
   "source": [
    "analy_prob_over_29 = 1-shark_attack.cdf(29)\n",
    "print(\"The analytically determined probability that the number of unprovoked shark attacks in Florida over a year is 30 or greater is equal to ~\",int(analy_prob_over_29*10**6)/10**6,\".\",sep=\"\")"
   ]
  },
  {
   "cell_type": "markdown",
   "metadata": {},
   "source": [
    "## Conclusion"
   ]
  },
  {
   "cell_type": "markdown",
   "metadata": {},
   "source": [
    "The shark attacks that occured in 2003 were statistically insignificant; the media hype was unwarranted and led to hysteria over what was likely nothing."
   ]
  }
 ],
 "metadata": {
  "kernelspec": {
   "display_name": "Python 3",
   "language": "python",
   "name": "python3"
  },
  "language_info": {
   "codemirror_mode": {
    "name": "ipython",
    "version": 3
   },
   "file_extension": ".py",
   "mimetype": "text/x-python",
   "name": "python",
   "nbconvert_exporter": "python",
   "pygments_lexer": "ipython3",
   "version": "3.7.2"
  }
 },
 "nbformat": 4,
 "nbformat_minor": 2
}
