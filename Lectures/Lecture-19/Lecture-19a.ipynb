{
 "cells": [
  {
   "cell_type": "code",
   "execution_count": 1,
   "metadata": {},
   "outputs": [],
   "source": [
    "import numpy as np\n",
    "import numpy.random as npr\n",
    "import matplotlib.pyplot as plt\n",
    "%matplotlib inline\n",
    "import random"
   ]
  },
  {
   "cell_type": "code",
   "execution_count": 2,
   "metadata": {},
   "outputs": [],
   "source": [
    "def exact_coins_even_dist(flips=8, target=-1, num_sims=1000000):\n",
    "    \n",
    "    if target==-1:\n",
    "        target=flips\n",
    "        \n",
    "    a,b = np.linspace(0,0.5,51),np.linspace(0.49,0,50)\n",
    "    allcoins=np.hstack((a,b))\n",
    "    \n",
    "    events=[]\n",
    "    for sim in range(num_sims):\n",
    "        prob_heads=npr.choice(allcoins)\n",
    "#         print(prob_heads)\n",
    "        R=npr.uniform(size=flips)\n",
    "#         print(R)\n",
    "        num_heads=np.sum(R<prob_heads)\n",
    "        if num_heads==target:\n",
    "            events+=[prob_heads]\n",
    "            \n",
    "    vals,counts=np.unique(events,return_counts=True)\n",
    "    plt.bar(vals,counts/len(events),width=0.01) # Note that we had to change the bar width here!!!\n",
    "    \n",
    "#     custom histogram made with plt.bar and np.unique\n",
    "    \n",
    "    return events"
   ]
  },
  {
   "cell_type": "code",
   "execution_count": 3,
   "metadata": {},
   "outputs": [],
   "source": [
    "def confidence_interval2(data, C):\n",
    "    ''' Find the C% confidence interval given data'''\n",
    "    pbar=1-C/100\n",
    "\n",
    "    vals,counts=np.unique(data,return_counts=True)\n",
    "\n",
    "\n",
    "    sum_counts=np.cumsum(counts/len(data))\n",
    "    # locate the lowest value for which the cumulative sum exceeds the specified probability\n",
    "    lower=np.nonzero(sum_counts>=pbar/2)[0][0]\n",
    "    upper=np.nonzero(sum_counts>=(1-pbar/2))[0][0]\n",
    "                  \n",
    "    plt.bar(vals,sum_counts,width=0.01)\n",
    "    plt.plot(vals,[pbar/2]*len(vals),'r')\n",
    "    plt.plot(vals,[(1-pbar/2)]*len(vals),'g')\n",
    "    \n",
    "    print(C,\"% confidence interval:[\",vals[lower],\",\",vals[upper],\"]\")"
   ]
  },
  {
   "cell_type": "markdown",
   "metadata": {},
   "source": [
    "1. Find and plot the a posteriori probabilities for getting 8 heads on 8 flips of a fair coin for a prior probabilities of your choice that have a peak around probability of heads equal to 0.5 (and that satisfy the requirements further below)."
   ]
  },
  {
   "cell_type": "code",
   "execution_count": 4,
   "metadata": {},
   "outputs": [
    {
     "data": {
      "image/png": "[encoded data removed]",
      "text/plain": [
       "<Figure size 432x288 with 1 Axes>"
      ]
     },
     "metadata": {
      "needs_background": "light"
     },
     "output_type": "display_data"
    }
   ],
   "source": [
    "data=exact_coins_even_dist(8);"
   ]
  },
  {
   "cell_type": "markdown",
   "metadata": {},
   "source": [
    "2. Determine the 95% and 99% confidence intervals under the a priori probabilities you created."
   ]
  },
  {
   "cell_type": "code",
   "execution_count": 5,
   "metadata": {},
   "outputs": [
    {
     "name": "stdout",
     "output_type": "stream",
     "text": [
      "95 % confidence interval:[ 0.34 , 0.5 ]\n",
      "99 % confidence interval:[ 0.3 , 0.5 ]\n"
     ]
    },
    {
     "data": {
      "image/png": "[encoded data removed]",
      "text/plain": [
       "<Figure size 432x288 with 1 Axes>"
      ]
     },
     "metadata": {
      "needs_background": "light"
     },
     "output_type": "display_data"
    }
   ],
   "source": [
    "confidence_interval2(data, 95)\n",
    "confidence_interval2(data, 99)"
   ]
  },
  {
   "cell_type": "markdown",
   "metadata": {},
   "source": [
    "3. Determine whether you should reject the possibility that the coin is fair using the a priori probabilities that you created. Briefly explain how you reached your conclusions."
   ]
  },
  {
   "cell_type": "markdown",
   "metadata": {},
   "source": [
    "We should not reject the possibility that the coin is fair using the a priori probabilities that I created because we found that 0.5 (the fair coin) was contained within both the 99% and the 95% confidence intervals."
   ]
  }
 ],
 "metadata": {
  "kernelspec": {
   "display_name": "Python 3",
   "language": "python",
   "name": "python3"
  },
  "language_info": {
   "codemirror_mode": {
    "name": "ipython",
    "version": 3
   },
   "file_extension": ".py",
   "mimetype": "text/x-python",
   "name": "python",
   "nbconvert_exporter": "python",
   "pygments_lexer": "ipython3",
   "version": "3.7.2"
  }
 },
 "nbformat": 4,
 "nbformat_minor": 2
}
