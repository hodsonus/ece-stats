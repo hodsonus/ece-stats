{
 "cells": [
  {
   "cell_type": "code",
   "execution_count": 1,
   "metadata": {},
   "outputs": [],
   "source": [
    "import numpy as np\n",
    "import numpy.random as npr\n",
    "import matplotlib.pyplot as plt\n",
    "%matplotlib inline\n",
    "import random"
   ]
  },
  {
   "cell_type": "markdown",
   "metadata": {},
   "source": [
    "## Bayesian Binary Hypothesis Testing"
   ]
  },
  {
   "cell_type": "markdown",
   "metadata": {},
   "source": [
    "## Extending the set of a prioris"
   ]
  },
  {
   "cell_type": "markdown",
   "metadata": {},
   "source": [
    "Consider again the example of flipping a coin 8 times and observing 8 heads. We wish to generalize our experimental test to deal with other cases beyond just either fair or two-sided:"
   ]
  },
  {
   "cell_type": "markdown",
   "metadata": {},
   "source": [
    "Coins can be biased to land on one side more than the other. We can extend our previous experiment to allow any probability of heads from 0 to 1. Let's take a sample every 0.01:"
   ]
  },
  {
   "cell_type": "code",
   "execution_count": 2,
   "metadata": {},
   "outputs": [
    {
     "data": {
      "text/plain": [
       "array([0.  , 0.01, 0.02, 0.03, 0.04, 0.05, 0.06, 0.07, 0.08, 0.09, 0.1 ,\n",
       "       0.11, 0.12, 0.13, 0.14, 0.15, 0.16, 0.17, 0.18, 0.19, 0.2 , 0.21,\n",
       "       0.22, 0.23, 0.24, 0.25, 0.26, 0.27, 0.28, 0.29, 0.3 , 0.31, 0.32,\n",
       "       0.33, 0.34, 0.35, 0.36, 0.37, 0.38, 0.39, 0.4 , 0.41, 0.42, 0.43,\n",
       "       0.44, 0.45, 0.46, 0.47, 0.48, 0.49, 0.5 , 0.51, 0.52, 0.53, 0.54,\n",
       "       0.55, 0.56, 0.57, 0.58, 0.59, 0.6 , 0.61, 0.62, 0.63, 0.64, 0.65,\n",
       "       0.66, 0.67, 0.68, 0.69, 0.7 , 0.71, 0.72, 0.73, 0.74, 0.75, 0.76,\n",
       "       0.77, 0.78, 0.79, 0.8 , 0.81, 0.82, 0.83, 0.84, 0.85, 0.86, 0.87,\n",
       "       0.88, 0.89, 0.9 , 0.91, 0.92, 0.93, 0.94, 0.95, 0.96, 0.97, 0.98,\n",
       "       0.99, 1.  ])"
      ]
     },
     "execution_count": 2,
     "metadata": {},
     "output_type": "execute_result"
    }
   ],
   "source": [
    "np.linspace(0,1,101)"
   ]
  },
  {
   "cell_type": "code",
   "execution_count": 3,
   "metadata": {},
   "outputs": [],
   "source": [
    "def exactcoins(flips=8, target=-1, num_sims=100000):\n",
    "    \n",
    "    if target==-1:\n",
    "        target=flips\n",
    "        \n",
    "    allcoins=np.linspace(0,1,101)\n",
    "    \n",
    "    events=[]\n",
    "    for sim in range(num_sims):\n",
    "        prob_heads=npr.choice(allcoins)\n",
    "        R=npr.uniform(size=flips)\n",
    "        num_heads=np.sum(R<prob_heads)\n",
    "        if num_heads==target:\n",
    "            events+=[prob_heads]\n",
    "            \n",
    "    vals,counts=np.unique(events,return_counts=True)\n",
    "    plt.bar(vals,counts/len(events),width=0.01) # Note that we had to change the bar width here!!!\n",
    "    \n",
    "#     custom histogram made with plt.bar and np.unique\n",
    "    \n",
    "    return events"
   ]
  },
  {
   "cell_type": "code",
   "execution_count": 4,
   "metadata": {},
   "outputs": [
    {
     "data": {
      "image/png": "[encoded data removed]",
      "text/plain": [
       "<Figure size 432x288 with 1 Axes>"
      ]
     },
     "metadata": {
      "needs_background": "light"
     },
     "output_type": "display_data"
    }
   ],
   "source": [
    "events=exactcoins()"
   ]
  },
  {
   "cell_type": "markdown",
   "metadata": {},
   "source": [
    "How can we use this to conduct a statistical test? The output is a full set of *a posterior* probabilities for all of the possible $p$-values considered"
   ]
  },
  {
   "cell_type": "markdown",
   "metadata": {},
   "source": [
    "A typical approach is to find see if a 95% or 99% confidence interval contains the fair coin ($p=0.5$)."
   ]
  },
  {
   "cell_type": "markdown",
   "metadata": {},
   "source": [
    "Here are two basic approaches to finding the 95% confidence interval (without assuming anything about the distribution of the data):\n",
    "\n",
    "**Confidence Interval Calculation Way 1**\n",
    "\n",
    "Sort the data and find the points that are 2.5% and 97.5% of the way through the sorted data."
   ]
  },
  {
   "cell_type": "code",
   "execution_count": 15,
   "metadata": {},
   "outputs": [],
   "source": [
    "def confidence_interval(data, C):\n",
    "    ''' Find the C% confidence interval given data'''\n",
    "    pbar=1-C/100\n",
    "    datalen = len(data)\n",
    "    \n",
    "    lower_bound = int(datalen*pbar/2)\n",
    "    upper_bound = datalen-lower_bound-1\n",
    "    \n",
    "    sorted = np.sort(data) # NOT an in-place sort, returns the sorted list\n",
    "    \n",
    "    print(C,\"% confidence interval:[\",sorted[lower_bound],\",\",sorted[upper_bound],\"]\",sep=\"\")"
   ]
  },
  {
   "cell_type": "code",
   "execution_count": 16,
   "metadata": {},
   "outputs": [
    {
     "name": "stdout",
     "output_type": "stream",
     "text": [
      "95% confidence interval:[0.67,1.0]\n"
     ]
    }
   ],
   "source": [
    "confidence_interval(events,95)"
   ]
  },
  {
   "cell_type": "code",
   "execution_count": 17,
   "metadata": {},
   "outputs": [
    {
     "name": "stdout",
     "output_type": "stream",
     "text": [
      "99% confidence interval:[0.5700000000000001,1.0]\n"
     ]
    }
   ],
   "source": [
    "confidence_interval(events,99)"
   ]
  },
  {
   "cell_type": "markdown",
   "metadata": {},
   "source": [
    "What is your conclusion?"
   ]
  },
  {
   "cell_type": "markdown",
   "metadata": {},
   "source": [
    "Under this prior, we would reject the possibility that the coin is fair, because p = 0.5 does not lie in the 95%, or even the 99%, confidence interval."
   ]
  },
  {
   "cell_type": "markdown",
   "metadata": {},
   "source": [
    "**Confidence Interval Calculation Way 2**\n",
    "\n",
    "The thing that makes it hard to find the confidence intervals from the graph is that we are really asking about the sums of the probabilities of the tails of the plot.\n",
    "\n",
    "If we sum up the data as we move from left to right and plot the running sums, then we can see where we hit probabilities of 0.025 and 0.975\n",
    "\n",
    "```numpy``` has a cumulative sum function ```np.cumsum``` to do just this:\n"
   ]
  },
  {
   "cell_type": "code",
   "execution_count": 19,
   "metadata": {},
   "outputs": [],
   "source": [
    "vals,counts=np.unique(events,return_counts=True)\n",
    "sum_counts = np.cumsum(counts/len(events))"
   ]
  },
  {
   "cell_type": "code",
   "execution_count": 20,
   "metadata": {},
   "outputs": [
    {
     "data": {
      "text/plain": [
       "(array([26, 27, 28, 29, 30, 31, 32, 33, 34, 35, 36, 37, 38, 39, 40, 41, 42,\n",
       "        43, 44, 45, 46, 47, 48, 49, 50, 51, 52, 53, 54, 55, 56, 57, 58, 59]),)"
      ]
     },
     "execution_count": 20,
     "metadata": {},
     "output_type": "execute_result"
    }
   ],
   "source": [
    "np.nonzero(sum_counts >= 0.025)"
   ]
  },
  {
   "cell_type": "code",
   "execution_count": 21,
   "metadata": {},
   "outputs": [
    {
     "data": {
      "text/plain": [
       "26"
      ]
     },
     "execution_count": 21,
     "metadata": {},
     "output_type": "execute_result"
    }
   ],
   "source": [
    "np.nonzero(sum_counts >= 0.025)[0][0]"
   ]
  },
  {
   "cell_type": "code",
   "execution_count": 22,
   "metadata": {},
   "outputs": [
    {
     "data": {
      "text/plain": [
       "0.67"
      ]
     },
     "execution_count": 22,
     "metadata": {},
     "output_type": "execute_result"
    }
   ],
   "source": [
    "vals[26]"
   ]
  },
  {
   "cell_type": "code",
   "execution_count": 33,
   "metadata": {},
   "outputs": [],
   "source": [
    "def confidence_interval2(data, C):\n",
    "    ''' Find the C% confidence interval given data'''\n",
    "    pbar=1-C/100\n",
    "\n",
    "    vals,counts=np.unique(data,return_counts=True)\n",
    "\n",
    "\n",
    "    sum_counts=np.cumsum(counts/len(data))\n",
    "    # locate the lowest value for which the cumulative sum exceeds the specified probability\n",
    "    lower=np.nonzero(sum_counts>=pbar/2)[0][0]\n",
    "    upper=np.nonzero(sum_counts>=(1-pbar/2))[0][0]\n",
    "                  \n",
    "    plt.bar(vals,sum_counts,width=0.01)\n",
    "    plt.plot(vals,[pbar/2]*len(vals),'r')\n",
    "    plt.plot(vals,[(1-pbar/2)]*len(vals),'g')\n",
    "    \n",
    "    print(C,\"% confidence interval:[\",vals[lower],\",\",vals[upper],\"]\")"
   ]
  },
  {
   "cell_type": "code",
   "execution_count": 24,
   "metadata": {},
   "outputs": [
    {
     "name": "stdout",
     "output_type": "stream",
     "text": [
      "95 % confidence interval:[ 0.67 , 1.0 ]\n"
     ]
    },
    {
     "data": {
      "image/png": "[encoded data removed]",
      "text/plain": [
       "<Figure size 432x288 with 1 Axes>"
      ]
     },
     "metadata": {
      "needs_background": "light"
     },
     "output_type": "display_data"
    }
   ],
   "source": [
    "confidence_interval2(events,95)"
   ]
  },
  {
   "cell_type": "markdown",
   "metadata": {},
   "source": [
    "For comparison, let's see what the *a posteriori* probabilities look like if we observe 4 heads on 8 flips of a coin:"
   ]
  },
  {
   "cell_type": "code",
   "execution_count": 34,
   "metadata": {},
   "outputs": [
    {
     "data": {
      "image/png": "[encoded data removed]",
      "text/plain": [
       "<Figure size 432x288 with 1 Axes>"
      ]
     },
     "metadata": {
      "needs_background": "light"
     },
     "output_type": "display_data"
    }
   ],
   "source": [
    "event2=exactcoins(8,4)"
   ]
  },
  {
   "cell_type": "code",
   "execution_count": 35,
   "metadata": {},
   "outputs": [
    {
     "name": "stdout",
     "output_type": "stream",
     "text": [
      "95% confidence interval:[0.21,0.79]\n"
     ]
    }
   ],
   "source": [
    "confidence_interval(event2,95)"
   ]
  },
  {
   "cell_type": "code",
   "execution_count": 36,
   "metadata": {},
   "outputs": [
    {
     "name": "stdout",
     "output_type": "stream",
     "text": [
      "95 % confidence interval:[ 0.21 , 0.79 ]\n"
     ]
    },
    {
     "data": {
      "image/png": "[encoded data removed]",
      "text/plain": [
       "<Figure size 432x288 with 1 Axes>"
      ]
     },
     "metadata": {
      "needs_background": "light"
     },
     "output_type": "display_data"
    }
   ],
   "source": [
    "confidence_interval2(event2,95)"
   ]
  },
  {
   "cell_type": "markdown",
   "metadata": {},
   "source": [
    "An interesting observation here -- \n",
    "\n",
    "The cumulative histogram is smooth, while the regular histogram is not."
   ]
  },
  {
   "cell_type": "markdown",
   "metadata": {},
   "source": [
    "To explore this any further, we'll need to extend our tools for modeling random phenomena:"
   ]
  }
 ],
 "metadata": {
  "kernelspec": {
   "display_name": "Python 3",
   "language": "python",
   "name": "python3"
  },
  "language_info": {
   "codemirror_mode": {
    "name": "ipython",
    "version": 3
   },
   "file_extension": ".py",
   "mimetype": "text/x-python",
   "name": "python",
   "nbconvert_exporter": "python",
   "pygments_lexer": "ipython3",
   "version": "3.7.2"
  }
 },
 "nbformat": 4,
 "nbformat_minor": 2
}
