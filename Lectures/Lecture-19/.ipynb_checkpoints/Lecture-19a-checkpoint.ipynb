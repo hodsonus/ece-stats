{
 "cells": [
  {
   "cell_type": "code",
   "execution_count": 5,
   "metadata": {},
   "outputs": [],
   "source": [
    "import numpy as np\n",
    "import numpy.random as npr\n",
    "import matplotlib.pyplot as plt\n",
    "%matplotlib inline\n",
    "import random"
   ]
  },
  {
   "cell_type": "code",
   "execution_count": 82,
   "metadata": {},
   "outputs": [],
   "source": [
    "def exact_coins_even_dist(flips=8, target=-1, num_sims=100000):\n",
    "    \n",
    "    if target==-1:\n",
    "        target=flips\n",
    "        \n",
    "    allcoins=np.linspace(0,1,101)\n",
    "    a,b = np.linspace(0,0.5,51),np.linspace(0.49,0,50)\n",
    "    allcoins=np.hstack((a,b))\n",
    "    \n",
    "    events=[]\n",
    "    for sim in range(num_sims):\n",
    "        prob_heads=npr.choice(allcoins)\n",
    "        print(prob_heads)\n",
    "        R=npr.uniform(size=flips)\n",
    "        num_heads=np.sum(R<prob_heads)\n",
    "        if num_heads==target:\n",
    "            events+=[prob_heads]\n",
    "            \n",
    "    vals,counts=np.unique(events,return_counts=True)\n",
    "    plt.bar(vals,counts/len(events),width=0.01) # Note that we had to change the bar width here!!!\n",
    "    \n",
    "#     custom histogram made with plt.bar and np.unique\n",
    "    \n",
    "    return events"
   ]
  },
  {
   "cell_type": "code",
   "execution_count": 59,
   "metadata": {},
   "outputs": [],
   "source": [
    "def confidence_interval(data, C):\n",
    "    ''' Find the C% confidence interval given data'''\n",
    "    pbar=1-C/100\n",
    "    datalen = len(data)\n",
    "    \n",
    "    lower_bound = int(datalen*pbar/2)\n",
    "    upper_bound = datalen-lower_bound-1\n",
    "    \n",
    "    sorted = np.sort(data) # NOT an in-place sort, returns the sorted list\n",
    "    \n",
    "    print(C,\"% confidence interval:[\",sorted[lower_bound],\",\",sorted[upper_bound],\"]\",sep=\"\")"
   ]
  },
  {
   "cell_type": "markdown",
   "metadata": {},
   "source": [
    "1. Find and plot the a posteriori probabilities for getting 8 heads on 8 flips of a fair coin for a prior probabilities of your choice that have a peak around probability of heads equal to 0.5 (and that satisfy the requirements further below)."
   ]
  },
  {
   "cell_type": "code",
   "execution_count": 83,
   "metadata": {},
   "outputs": [
    {
     "name": "stdout",
     "output_type": "stream",
     "text": [
      "[0.   0.01 0.02 0.03 0.04 0.05 0.06 0.07 0.08 0.09 0.1  0.11 0.12 0.13\n",
      " 0.14 0.15 0.16 0.17 0.18 0.19 0.2  0.21 0.22 0.23 0.24 0.25 0.26 0.27\n",
      " 0.28 0.29 0.3  0.31 0.32 0.33 0.34 0.35 0.36 0.37 0.38 0.39 0.4  0.41\n",
      " 0.42 0.43 0.44 0.45 0.46 0.47 0.48 0.49 0.5  0.49 0.48 0.47 0.46 0.45\n",
      " 0.44 0.43 0.42 0.41 0.4  0.39 0.38 0.37 0.36 0.35 0.34 0.33 0.32 0.31\n",
      " 0.3  0.29 0.28 0.27 0.26 0.25 0.24 0.23 0.22 0.21 0.2  0.19 0.18 0.17\n",
      " 0.16 0.15 0.14 0.13 0.12 0.11 0.1  0.09 0.08 0.07 0.06 0.05 0.04 0.03\n",
      " 0.02 0.01 0.  ]\n"
     ]
    },
    {
     "data": {
      "image/png": "[encoded data removed]",
      "text/plain": [
       "<Figure size 432x288 with 1 Axes>"
      ]
     },
     "metadata": {
      "needs_background": "light"
     },
     "output_type": "display_data"
    }
   ],
   "source": [
    "data=exact_coins_even_dist(8);"
   ]
  },
  {
   "cell_type": "markdown",
   "metadata": {},
   "source": [
    "2. Determine the 95% and 99% confidence intervals under the a priori probabilities you created."
   ]
  },
  {
   "cell_type": "code",
   "execution_count": 77,
   "metadata": {},
   "outputs": [
    {
     "name": "stdout",
     "output_type": "stream",
     "text": [
      "95% confidence interval:[0.37,0.5]\n",
      "99% confidence interval:[0.36,0.5]\n"
     ]
    }
   ],
   "source": [
    "confidence_interval(data, 95)\n",
    "confidence_interval(data, 99)"
   ]
  },
  {
   "cell_type": "markdown",
   "metadata": {},
   "source": [
    "3. Determine whether you should reject the possibility that the coin is fair using the a priori probabilities that you created. Briefly explain how you reached your conclusions."
   ]
  },
  {
   "cell_type": "code",
   "execution_count": null,
   "metadata": {},
   "outputs": [],
   "source": []
  }
 ],
 "metadata": {
  "kernelspec": {
   "display_name": "Python 3",
   "language": "python",
   "name": "python3"
  },
  "language_info": {
   "codemirror_mode": {
    "name": "ipython",
    "version": 3
   },
   "file_extension": ".py",
   "mimetype": "text/x-python",
   "name": "python",
   "nbconvert_exporter": "python",
   "pygments_lexer": "ipython3",
   "version": "3.7.2"
  }
 },
 "nbformat": 4,
 "nbformat_minor": 2
}
