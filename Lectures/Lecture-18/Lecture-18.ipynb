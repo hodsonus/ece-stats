{
 "cells": [
  {
   "cell_type": "code",
   "execution_count": 1,
   "metadata": {},
   "outputs": [],
   "source": [
    "import numpy as np\n",
    "import numpy.random as npr\n",
    "import matplotlib.pyplot as plt\n",
    "%matplotlib inline\n",
    "import random"
   ]
  },
  {
   "cell_type": "markdown",
   "metadata": {},
   "source": [
    "## Bayesian Binary Hypothesis Testing"
   ]
  },
  {
   "cell_type": "markdown",
   "metadata": {},
   "source": [
    "You flip a coin 8 times and it comes up heads every times. If this were a fair coin, the probability of this occurring is"
   ]
  },
  {
   "cell_type": "code",
   "execution_count": 2,
   "metadata": {},
   "outputs": [
    {
     "data": {
      "text/plain": [
       "0.00390625"
      ]
     },
     "execution_count": 2,
     "metadata": {},
     "output_type": "execute_result"
    }
   ],
   "source": [
    "0.5**8"
   ]
  },
  {
   "cell_type": "markdown",
   "metadata": {},
   "source": [
    "You have heard of two-headed coins. Without checking the coin, should you believe that it is two-headed? "
   ]
  },
  {
   "cell_type": "markdown",
   "metadata": {},
   "source": [
    "Let:\n",
    "\n",
    "**F** = event the coin is fair\n",
    "\n",
    "**E** = event that coin comes up heads 8 times out of 8\n",
    "\n",
    "We are asked to find $P(F|E)$\n",
    "\n",
    "What type of probability is this?"
   ]
  },
  {
   "cell_type": "markdown",
   "metadata": {},
   "source": [
    "It is an *a posteriori* probability. "
   ]
  },
  {
   "cell_type": "markdown",
   "metadata": {},
   "source": [
    "Do we know this probability? What do we know?"
   ]
  },
  {
   "cell_type": "markdown",
   "metadata": {},
   "source": [
    "No, we don't know it. We only know the **likelihoods**"
   ]
  },
  {
   "cell_type": "markdown",
   "metadata": {},
   "source": [
    "How can we determine $P(F|E)$?\n"
   ]
  },
  {
   "cell_type": "markdown",
   "metadata": {},
   "source": [
    "\n",
    "1. We can run a simulation of the system\n",
    "\n",
    "2. We can calculate it using Bayes' rule"
   ]
  },
  {
   "cell_type": "markdown",
   "metadata": {},
   "source": [
    "We need the *a priori* probabilities, but there is no way for us to know the true *a prioris*. So what to do?"
   ]
  },
  {
   "cell_type": "markdown",
   "metadata": {},
   "source": [
    "We will have to choose the *a prioris*. How? There are 2 typical approaches:\n",
    "\n",
    "1. **Uninformative prior**: We choose a prior that basically assumes as little information about the inputs as possible. For discrete inputs, this will often be equally likely probabilities\n",
    "\n",
    "2. **Informative prior**: We choose a prior based on other knowledge of the problem."
   ]
  },
  {
   "cell_type": "markdown",
   "metadata": {},
   "source": [
    "### Uninformative Prior\n",
    "\n",
    "Let's assume that the probabilities that coin is fair or two-tailed are equally likely:"
   ]
  },
  {
   "cell_type": "code",
   "execution_count": 4,
   "metadata": {},
   "outputs": [
    {
     "name": "stdout",
     "output_type": "stream",
     "text": [
      "Prob. of fair coin given that 8 heads observed is 0.003856872499620701\n"
     ]
    }
   ],
   "source": [
    "num_sims = 1000000\n",
    "flips = 8\n",
    "event_count = 0\n",
    "fair_count = 0\n",
    "\n",
    "coin_types=['fair','twohead']\n",
    "for sim in range(num_sims):\n",
    "    coin_type = random.choice(coin_types)\n",
    "    if coin_type=='fair':\n",
    "        faces=['H','T']\n",
    "    else:\n",
    "        faces=['H','H']\n",
    "    coins = random.choices(faces,k=flips)\n",
    "    num_heads=coins.count('H')\n",
    "    if num_heads == flips:\n",
    "        event_count += 1\n",
    "        if coin_type == 'fair':\n",
    "            fair_count+=1\n",
    "            \n",
    "print(\"Prob. of fair coin given that\",flips,\"heads observed is\",fair_count/event_count)"
   ]
  },
  {
   "cell_type": "markdown",
   "metadata": {},
   "source": [
    "It is very unlikely that the coin was fair, under this uninformative prior."
   ]
  },
  {
   "cell_type": "code",
   "execution_count": 8,
   "metadata": {},
   "outputs": [],
   "source": [
    "num_sims = 1000000\n",
    "flips = 8\n",
    "events = []\n",
    "\n",
    "coin_types=['fair','twohead']\n",
    "for sim in range(num_sims):\n",
    "    coin_type = random.choice(coin_types)\n",
    "    if coin_type=='fair':\n",
    "        faces=['H','T']\n",
    "    else:\n",
    "        faces=['H','H']\n",
    "    coins = random.choices(faces,k=flips)\n",
    "    num_heads=coins.count('H')\n",
    "    if num_heads == flips:\n",
    "        events+=[coin_type]"
   ]
  },
  {
   "cell_type": "code",
   "execution_count": 9,
   "metadata": {},
   "outputs": [
    {
     "data": {
      "text/plain": [
       "0.0037845386533665835"
      ]
     },
     "execution_count": 9,
     "metadata": {},
     "output_type": "execute_result"
    }
   ],
   "source": [
    "events.count('fair')/len(events)"
   ]
  },
  {
   "cell_type": "code",
   "execution_count": 10,
   "metadata": {},
   "outputs": [
    {
     "data": {
      "text/plain": [
       "0.9962154613466334"
      ]
     },
     "execution_count": 10,
     "metadata": {},
     "output_type": "execute_result"
    }
   ],
   "source": [
    "events.count('twohead')/len(events)"
   ]
  },
  {
   "cell_type": "code",
   "execution_count": 14,
   "metadata": {},
   "outputs": [
    {
     "data": {
      "text/plain": [
       "<BarContainer object of 2 artists>"
      ]
     },
     "execution_count": 14,
     "metadata": {},
     "output_type": "execute_result"
    },
    {
     "data": {
      "image/png": "[encoded data removed]",
      "text/plain": [
       "<Figure size 432x288 with 1 Axes>"
      ]
     },
     "metadata": {
      "needs_background": "light"
     },
     "output_type": "display_data"
    }
   ],
   "source": [
    "plt.bar(coin_types,[events.count('fair')/len(events),events.count('twohead')/len(events)])"
   ]
  },
  {
   "cell_type": "code",
   "execution_count": 15,
   "metadata": {},
   "outputs": [
    {
     "data": {
      "image/png": "[encoded data removed]",
      "text/plain": [
       "<Figure size 432x288 with 1 Axes>"
      ]
     },
     "metadata": {
      "needs_background": "light"
     },
     "output_type": "display_data"
    }
   ],
   "source": [
    "plt.bar(coin_types,[events.count('fair')/len(events),events.count('twohead')/len(events)])\n",
    "plt.yscale('log')"
   ]
  },
  {
   "cell_type": "markdown",
   "metadata": {},
   "source": [
    "## Informative prior"
   ]
  },
  {
   "cell_type": "markdown",
   "metadata": {},
   "source": [
    "What if you believe that before you observed the outcome, you thought the probability that the coin was fair was at least 99/100?"
   ]
  },
  {
   "cell_type": "code",
   "execution_count": 17,
   "metadata": {},
   "outputs": [
    {
     "data": {
      "text/plain": [
       "<BarContainer object of 2 artists>"
      ]
     },
     "execution_count": 17,
     "metadata": {},
     "output_type": "execute_result"
    },
    {
     "data": {
      "image/png": "[encoded data removed]",
      "text/plain": [
       "<Figure size 432x288 with 1 Axes>"
      ]
     },
     "metadata": {
      "needs_background": "light"
     },
     "output_type": "display_data"
    }
   ],
   "source": [
    "num_sims = 1000000\n",
    "flips = 8\n",
    "events = []\n",
    "\n",
    "coin_types=['fair']*99 + ['twohead']\n",
    "for sim in range(num_sims):\n",
    "    coin_type = random.choice(coin_types)\n",
    "    if coin_type=='fair':\n",
    "        faces=['H','T']\n",
    "    else:\n",
    "        faces=['H','H']\n",
    "    coins = random.choices(faces,k=flips)\n",
    "    num_heads=coins.count('H')\n",
    "    if num_heads == flips:\n",
    "        events+=[coin_type]\n",
    "\n",
    "plt.bar(['fair','twohead'],[events.count('fair')/len(events),events.count('twohead')/len(events)])"
   ]
  },
  {
   "cell_type": "markdown",
   "metadata": {},
   "source": [
    "What if you believe that before you observed the outcome, you thought the probability that the coin was fair was at least 999/1000?"
   ]
  },
  {
   "cell_type": "code",
   "execution_count": 18,
   "metadata": {},
   "outputs": [
    {
     "data": {
      "text/plain": [
       "<BarContainer object of 2 artists>"
      ]
     },
     "execution_count": 18,
     "metadata": {},
     "output_type": "execute_result"
    },
    {
     "data": {
      "image/png": "[encoded data removed]",
      "text/plain": [
       "<Figure size 432x288 with 1 Axes>"
      ]
     },
     "metadata": {
      "needs_background": "light"
     },
     "output_type": "display_data"
    }
   ],
   "source": [
    "num_sims = 1000000\n",
    "flips = 8\n",
    "events = []\n",
    "\n",
    "coin_types=['fair']*999 + ['twohead']\n",
    "for sim in range(num_sims):\n",
    "    coin_type = random.choice(coin_types)\n",
    "    if coin_type=='fair':\n",
    "        faces=['H','T']\n",
    "    else:\n",
    "        faces=['H','H']\n",
    "    coins = random.choices(faces,k=flips)\n",
    "    num_heads=coins.count('H')\n",
    "    if num_heads == flips:\n",
    "        events+=[coin_type]\n",
    "\n",
    "plt.bar(['fair','twohead'],[events.count('fair')/len(events),events.count('twohead')/len(events)])"
   ]
  },
  {
   "cell_type": "markdown",
   "metadata": {},
   "source": [
    "Why is the result like this? "
   ]
  },
  {
   "cell_type": "markdown",
   "metadata": {},
   "source": [
    "The evidence that the coin is not fair is pretty strong -- the chance of getting heads on all 8 flips is very small. However, the probability of having a two-hed coin is also very, very small."
   ]
  },
  {
   "cell_type": "markdown",
   "metadata": {},
   "source": [
    "What prior makes it equally liekly for the coin to be fair or two-headed?"
   ]
  },
  {
   "cell_type": "code",
   "execution_count": 19,
   "metadata": {},
   "outputs": [
    {
     "data": {
      "text/plain": [
       "<BarContainer object of 2 artists>"
      ]
     },
     "execution_count": 19,
     "metadata": {},
     "output_type": "execute_result"
    },
    {
     "data": {
      "image/png": "[encoded data removed]",
      "text/plain": [
       "<Figure size 432x288 with 1 Axes>"
      ]
     },
     "metadata": {
      "needs_background": "light"
     },
     "output_type": "display_data"
    }
   ],
   "source": [
    "num_sims = 1000000\n",
    "flips = 8\n",
    "events = []\n",
    "\n",
    "coin_types=['fair']*256+['twohead']\n",
    "for sim in range(num_sims):\n",
    "    coin_type = random.choice(coin_types)\n",
    "    if coin_type=='fair':\n",
    "        faces=['H','T']\n",
    "    else:\n",
    "        faces=['H','H']\n",
    "    coins = random.choices(faces,k=flips)\n",
    "    num_heads=coins.count('H')\n",
    "    if num_heads == flips:\n",
    "        events+=[coin_type]\n",
    "\n",
    "plt.bar(['fair','twohead'],[events.count('fair')/len(events),events.count('twohead')/len(events)])"
   ]
  },
  {
   "cell_type": "markdown",
   "metadata": {},
   "source": [
    "## Extending the set of a prioris"
   ]
  },
  {
   "cell_type": "markdown",
   "metadata": {},
   "source": [
    "Coins do not have to just be fair or two-sided. They can land on one side more than the other. Let's allow the probability of heads to vary from 0 to 1 by 0.01:"
   ]
  },
  {
   "cell_type": "code",
   "execution_count": 20,
   "metadata": {},
   "outputs": [
    {
     "data": {
      "text/plain": [
       "array([0.  , 0.01, 0.02, 0.03, 0.04, 0.05, 0.06, 0.07, 0.08, 0.09, 0.1 ,\n",
       "       0.11, 0.12, 0.13, 0.14, 0.15, 0.16, 0.17, 0.18, 0.19, 0.2 , 0.21,\n",
       "       0.22, 0.23, 0.24, 0.25, 0.26, 0.27, 0.28, 0.29, 0.3 , 0.31, 0.32,\n",
       "       0.33, 0.34, 0.35, 0.36, 0.37, 0.38, 0.39, 0.4 , 0.41, 0.42, 0.43,\n",
       "       0.44, 0.45, 0.46, 0.47, 0.48, 0.49, 0.5 , 0.51, 0.52, 0.53, 0.54,\n",
       "       0.55, 0.56, 0.57, 0.58, 0.59, 0.6 , 0.61, 0.62, 0.63, 0.64, 0.65,\n",
       "       0.66, 0.67, 0.68, 0.69, 0.7 , 0.71, 0.72, 0.73, 0.74, 0.75, 0.76,\n",
       "       0.77, 0.78, 0.79, 0.8 , 0.81, 0.82, 0.83, 0.84, 0.85, 0.86, 0.87,\n",
       "       0.88, 0.89, 0.9 , 0.91, 0.92, 0.93, 0.94, 0.95, 0.96, 0.97, 0.98,\n",
       "       0.99, 1.  ])"
      ]
     },
     "execution_count": 20,
     "metadata": {},
     "output_type": "execute_result"
    }
   ],
   "source": [
    "np.linspace(0,1,101)"
   ]
  },
  {
   "cell_type": "code",
   "execution_count": 34,
   "metadata": {},
   "outputs": [],
   "source": [
    "def exact_coins(flips=8, target=-1, num_sims=100000):\n",
    "    \n",
    "    if target==-1:\n",
    "        target=flips\n",
    "        \n",
    "    all_coins = np.linspace(0,1,101)\n",
    "    \n",
    "    events = []\n",
    "    \n",
    "    for sim in range(num_sims):\n",
    "        prob_heads = npr.choice(all_coins)\n",
    "        R = npr.uniform(size=flips)\n",
    "        num_heads = np.sum(R < prob_heads)\n",
    "        if num_heads==target:\n",
    "            events += [prob_heads]\n",
    "    \n",
    "    vals,counts = np.unique(events,return_counts=True)\n",
    "    plt.bar(vals,counts/len(events),width = 0.01)\n",
    "    \n",
    "    return events"
   ]
  },
  {
   "cell_type": "code",
   "execution_count": 35,
   "metadata": {},
   "outputs": [
    {
     "data": {
      "image/png": "[encoded data removed]",
      "text/plain": [
       "<Figure size 432x288 with 1 Axes>"
      ]
     },
     "metadata": {
      "needs_background": "light"
     },
     "output_type": "display_data"
    }
   ],
   "source": [
    "_=exact_coins()"
   ]
  },
  {
   "cell_type": "code",
   "execution_count": null,
   "metadata": {},
   "outputs": [],
   "source": []
  },
  {
   "cell_type": "code",
   "execution_count": null,
   "metadata": {},
   "outputs": [],
   "source": []
  },
  {
   "cell_type": "code",
   "execution_count": null,
   "metadata": {},
   "outputs": [],
   "source": []
  },
  {
   "cell_type": "markdown",
   "metadata": {},
   "source": [
    "What is your conclusion?"
   ]
  },
  {
   "cell_type": "code",
   "execution_count": null,
   "metadata": {},
   "outputs": [],
   "source": []
  },
  {
   "cell_type": "code",
   "execution_count": null,
   "metadata": {},
   "outputs": [],
   "source": []
  },
  {
   "cell_type": "code",
   "execution_count": null,
   "metadata": {},
   "outputs": [],
   "source": []
  },
  {
   "cell_type": "code",
   "execution_count": null,
   "metadata": {},
   "outputs": [],
   "source": []
  },
  {
   "cell_type": "markdown",
   "metadata": {},
   "source": [
    "To explore this any further, we'll need to extend our tools for modeling random phenomena:"
   ]
  }
 ],
 "metadata": {
  "kernelspec": {
   "display_name": "Python 3",
   "language": "python",
   "name": "python3"
  },
  "language_info": {
   "codemirror_mode": {
    "name": "ipython",
    "version": 3
   },
   "file_extension": ".py",
   "mimetype": "text/x-python",
   "name": "python",
   "nbconvert_exporter": "python",
   "pygments_lexer": "ipython3",
   "version": "3.7.2"
  }
 },
 "nbformat": 4,
 "nbformat_minor": 2
}
