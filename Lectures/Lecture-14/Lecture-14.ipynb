{
 "cells": [
  {
   "cell_type": "code",
   "execution_count": 1,
   "metadata": {},
   "outputs": [],
   "source": [
    "import numpy as np\n",
    "import numpy.random as npr\n",
    "import pandas as pd\n",
    "import matplotlib.pyplot as plt\n",
    "%matplotlib inline"
   ]
  },
  {
   "cell_type": "markdown",
   "metadata": {},
   "source": [
    "# Exact Permutation Tests"
   ]
  },
  {
   "cell_type": "markdown",
   "metadata": {},
   "source": [
    "Let's start with a simple example. Consider the average course grades for EEE 5544 over the past 6 years, omitting 2017 (when I didn't teach it):\n",
    "\n",
    "|Year | Grade|\n",
    "|-|-|\n",
    "|2013|74.1|\n",
    "|2014|74.5|\n",
    "|2015|79.4|\n",
    "|2016|79.0|\n",
    "|2018|78.4|"
   ]
  },
  {
   "cell_type": "markdown",
   "metadata": {},
   "source": [
    "Let's check the means for the first 2013-2014 vs 2015-2018:"
   ]
  },
  {
   "cell_type": "code",
   "execution_count": 2,
   "metadata": {},
   "outputs": [],
   "source": [
    "grades1=np.array([74.1,74.5])\n",
    "grades2=np.array([79.4,79,78.4])"
   ]
  },
  {
   "cell_type": "code",
   "execution_count": 3,
   "metadata": {},
   "outputs": [
    {
     "data": {
      "text/plain": [
       "(74.3, 78.93333333333334)"
      ]
     },
     "execution_count": 3,
     "metadata": {},
     "output_type": "execute_result"
    }
   ],
   "source": [
    "grades1.mean(), grades2.mean()"
   ]
  },
  {
   "cell_type": "code",
   "execution_count": 4,
   "metadata": {},
   "outputs": [
    {
     "data": {
      "text/plain": [
       "4.63333333333334"
      ]
     },
     "execution_count": 4,
     "metadata": {},
     "output_type": "execute_result"
    }
   ],
   "source": [
    "diff= grades2.mean()- grades1.mean()\n",
    "diff"
   ]
  },
  {
   "cell_type": "markdown",
   "metadata": {},
   "source": [
    "Has the average grade increased over time, or could this just be attributable to the small number of samples?\n",
    "\n",
    "We could perform bootstrap resampling under the null hypothesis, but the data is so small, we might get repeats of the same samples. "
   ]
  },
  {
   "cell_type": "markdown",
   "metadata": {},
   "source": [
    "An alternative is to pool the data and try **all** the ways to rsample the data into samples of size 2 and 3:"
   ]
  },
  {
   "cell_type": "markdown",
   "metadata": {},
   "source": [
    "# Exact Permutation Test"
   ]
  },
  {
   "cell_type": "markdown",
   "metadata": {},
   "source": [
    "In Fisher's exact permutation test (for binary hypothesis testing), we:\n",
    "\n",
    "1. Pool the data\n",
    "2. Find every partition of the data into two subsets (with sizes equal to the original samples)\n",
    "3. Measure the sample statistics for each new sample\n",
    "4. Determine whether the new sample statistics are as extreme as the original observation"
   ]
  },
  {
   "cell_type": "markdown",
   "metadata": {},
   "source": [
    "First, we demonstrate how to find all the subsets of a certain size for a list: "
   ]
  },
  {
   "cell_type": "code",
   "execution_count": 5,
   "metadata": {},
   "outputs": [],
   "source": [
    "import itertools"
   ]
  },
  {
   "cell_type": "code",
   "execution_count": 6,
   "metadata": {},
   "outputs": [
    {
     "data": {
      "text/plain": [
       "<itertools.combinations at 0x11a106c28>"
      ]
     },
     "execution_count": 6,
     "metadata": {},
     "output_type": "execute_result"
    }
   ],
   "source": [
    "itertools.combinations([1,2,3,4,5,6],3)"
   ]
  },
  {
   "cell_type": "code",
   "execution_count": 7,
   "metadata": {},
   "outputs": [
    {
     "data": {
      "text/plain": [
       "[(1, 2, 3),\n",
       " (1, 2, 4),\n",
       " (1, 2, 5),\n",
       " (1, 2, 6),\n",
       " (1, 3, 4),\n",
       " (1, 3, 5),\n",
       " (1, 3, 6),\n",
       " (1, 4, 5),\n",
       " (1, 4, 6),\n",
       " (1, 5, 6),\n",
       " (2, 3, 4),\n",
       " (2, 3, 5),\n",
       " (2, 3, 6),\n",
       " (2, 4, 5),\n",
       " (2, 4, 6),\n",
       " (2, 5, 6),\n",
       " (3, 4, 5),\n",
       " (3, 4, 6),\n",
       " (3, 5, 6),\n",
       " (4, 5, 6)]"
      ]
     },
     "execution_count": 7,
     "metadata": {},
     "output_type": "execute_result"
    }
   ],
   "source": [
    "samples=list(itertools.combinations([1,2,3,4,5,6],3))\n",
    "samples"
   ]
  },
  {
   "cell_type": "code",
   "execution_count": 8,
   "metadata": {},
   "outputs": [
    {
     "data": {
      "text/plain": [
       "20"
      ]
     },
     "execution_count": 8,
     "metadata": {},
     "output_type": "execute_result"
    }
   ],
   "source": [
    "len(samples)"
   ]
  },
  {
   "cell_type": "code",
   "execution_count": 9,
   "metadata": {},
   "outputs": [],
   "source": [
    "from scipy.special import binom"
   ]
  },
  {
   "cell_type": "code",
   "execution_count": 10,
   "metadata": {},
   "outputs": [
    {
     "data": {
      "text/plain": [
       "20.0"
      ]
     },
     "execution_count": 10,
     "metadata": {},
     "output_type": "execute_result"
    }
   ],
   "source": [
    "binom(6,3)"
   ]
  },
  {
   "cell_type": "markdown",
   "metadata": {},
   "source": [
    "Thus, we can pull all the samples of size 2 from our data:"
   ]
  },
  {
   "cell_type": "code",
   "execution_count": 11,
   "metadata": {},
   "outputs": [
    {
     "data": {
      "text/plain": [
       "array([74.1, 74.5, 79.4, 79. , 78.4])"
      ]
     },
     "execution_count": 11,
     "metadata": {},
     "output_type": "execute_result"
    }
   ],
   "source": [
    "pooled=np.hstack((grades1,grades2))\n",
    "pooled"
   ]
  },
  {
   "cell_type": "code",
   "execution_count": 12,
   "metadata": {},
   "outputs": [
    {
     "data": {
      "text/plain": [
       "[(74.1, 74.5),\n",
       " (74.1, 79.4),\n",
       " (74.1, 79.0),\n",
       " (74.1, 78.4),\n",
       " (74.5, 79.4),\n",
       " (74.5, 79.0),\n",
       " (74.5, 78.4),\n",
       " (79.4, 79.0),\n",
       " (79.4, 78.4),\n",
       " (79.0, 78.4)]"
      ]
     },
     "execution_count": 12,
     "metadata": {},
     "output_type": "execute_result"
    }
   ],
   "source": [
    "samples1=list(itertools.combinations(pooled,2))\n",
    "samples1"
   ]
  },
  {
   "cell_type": "markdown",
   "metadata": {},
   "source": [
    "The trick is that for each sample, we need to find the remaining set to go in the other sample.  We can use numpy's ```setxor1d``` method"
   ]
  },
  {
   "cell_type": "code",
   "execution_count": 13,
   "metadata": {},
   "outputs": [
    {
     "data": {
      "text/plain": [
       "((74.1, 74.5), array([78.4, 79. , 79.4]))"
      ]
     },
     "execution_count": 13,
     "metadata": {},
     "output_type": "execute_result"
    }
   ],
   "source": [
    "samples1[0],np.setxor1d(pooled,samples1[0])"
   ]
  },
  {
   "cell_type": "code",
   "execution_count": 14,
   "metadata": {},
   "outputs": [
    {
     "name": "stdout",
     "output_type": "stream",
     "text": [
      "(74.1, 74.5) [78.4 79.  79.4]\n",
      "(74.1, 79.4) [74.5 78.4 79. ]\n",
      "(74.1, 79.0) [74.5 78.4 79.4]\n",
      "(74.1, 78.4) [74.5 79.  79.4]\n",
      "(74.5, 79.4) [74.1 78.4 79. ]\n",
      "(74.5, 79.0) [74.1 78.4 79.4]\n",
      "(74.5, 78.4) [74.1 79.  79.4]\n",
      "(79.4, 79.0) [74.1 74.5 78.4]\n",
      "(79.4, 78.4) [74.1 74.5 79. ]\n",
      "(79.0, 78.4) [74.1 74.5 79.4]\n"
     ]
    }
   ],
   "source": [
    "for samples1 in itertools.combinations(pooled,2):\n",
    "    samples2= np.setxor1d(pooled,samples1)\n",
    "    print(samples1,samples2)"
   ]
  },
  {
   "cell_type": "markdown",
   "metadata": {},
   "source": [
    "Now we are ready to conduct our exact permutation test:"
   ]
  },
  {
   "cell_type": "code",
   "execution_count": 15,
   "metadata": {},
   "outputs": [
    {
     "name": "stdout",
     "output_type": "stream",
     "text": [
      "Prob. that mean difference is >= 4.63333333333334 =~ 0.0\n"
     ]
    }
   ],
   "source": [
    "perm_count = 0\n",
    "event_count = 0\n",
    "for samples1 in itertools.combinations(pooled,2):\n",
    "    samples2= np.setxor1d(pooled,samples1)\n",
    "    mean1 = np.mean(samples1)\n",
    "    mean2 = np.mean(samples1)\n",
    "    sample_diff = mean2-mean1\n",
    "    perm_count+=1\n",
    "    if abs(sample_diff) >= diff:\n",
    "        event_count+=1\n",
    "        \n",
    "print(\"Prob. that mean difference is >=\", diff, \"=~\", event_count/perm_count)"
   ]
  },
  {
   "cell_type": "markdown",
   "metadata": {},
   "source": [
    "There is not enough data to support that the average score has increased in the last 3 years of the study. \n",
    "\n",
    "(Since there are only 10 permutations, we can never get a $p$-value less than 0.1 with data sets of 2 values and 3 values)"
   ]
  },
  {
   "cell_type": "markdown",
   "metadata": {},
   "source": [
    "Unlike resampling, this approach tries **every** way or redistributing the pooled data. So why not always use it?"
   ]
  },
  {
   "cell_type": "markdown",
   "metadata": {},
   "source": [
    "Consider the previous example, where the data for the 50 states were split into two clusters of size 42 and 8. How many different combinations of samples would be created in the exact permutation test? "
   ]
  },
  {
   "cell_type": "code",
   "execution_count": 16,
   "metadata": {},
   "outputs": [
    {
     "data": {
      "text/plain": [
       "536878650.0"
      ]
     },
     "execution_count": 16,
     "metadata": {},
     "output_type": "execute_result"
    }
   ],
   "source": [
    "binom(50,8)"
   ]
  },
  {
   "cell_type": "code",
   "execution_count": 17,
   "metadata": {},
   "outputs": [
    {
     "data": {
      "text/plain": [
       "536878650.0"
      ]
     },
     "execution_count": 17,
     "metadata": {},
     "output_type": "execute_result"
    }
   ],
   "source": [
    "binom(50,42)"
   ]
  },
  {
   "cell_type": "markdown",
   "metadata": {},
   "source": [
    "So, how can we handle a case like this?"
   ]
  },
  {
   "cell_type": "markdown",
   "metadata": {},
   "source": [
    "# Monte Carlo Permutation Test"
   ]
  },
  {
   "cell_type": "markdown",
   "metadata": {},
   "source": [
    "Let's consider the following question that should be of interest to engineers: Do males score higher on standardized high school math and science tests than females?"
   ]
  },
  {
   "cell_type": "markdown",
   "metadata": {},
   "source": [
    "We will use data from the \"High School & Beyond (HS&B)\" survey conducted y the National Center for Education Statistics:\n",
    "\n",
    "https://nces.ed.gov/surveys/hsb/index.asp\n",
    "\n",
    "We are using a CSV file with 200 randomly selected observations from that data set. The CSV file is available here:\n",
    "\n",
    "https://github.com/rpruim/OpenIntro/blob/master/data/hsb2.csv\n",
    "\n",
    "A brief discussion of the different fields is available at\n",
    "\n",
    "http://www.philender.com/courses/762/notes1/about_hsb2.html\n"
   ]
  },
  {
   "cell_type": "code",
   "execution_count": 18,
   "metadata": {},
   "outputs": [],
   "source": [
    "df=pd.read_csv(\"hsb2.csv\")"
   ]
  },
  {
   "cell_type": "code",
   "execution_count": 19,
   "metadata": {},
   "outputs": [],
   "source": [
    "df;"
   ]
  },
  {
   "cell_type": "markdown",
   "metadata": {},
   "source": [
    "We want to partition this dataframes into two seperate dataframes according to gender. This is easy to do in pandas, but it looks a little strange. First we get a boolean Series that contains True for whichever rows we want to keep:"
   ]
  },
  {
   "cell_type": "code",
   "execution_count": 20,
   "metadata": {},
   "outputs": [],
   "source": [
    "df[\"gender\"]==\"male\";"
   ]
  },
  {
   "cell_type": "markdown",
   "metadata": {},
   "source": [
    "Now, if we pass that Series as indices to the original dataframe, it will return a new dataframe with only those rows:"
   ]
  },
  {
   "cell_type": "code",
   "execution_count": 21,
   "metadata": {},
   "outputs": [],
   "source": [
    "males=df[df[\"gender\"]==\"male\"]\n",
    "males;"
   ]
  },
  {
   "cell_type": "code",
   "execution_count": 22,
   "metadata": {},
   "outputs": [],
   "source": [
    "females=df[df[\"gender\"]==\"female\"]\n",
    "females;"
   ]
  },
  {
   "cell_type": "markdown",
   "metadata": {},
   "source": [
    "Let's start with math scores:"
   ]
  },
  {
   "cell_type": "code",
   "execution_count": 23,
   "metadata": {},
   "outputs": [
    {
     "data": {
      "text/plain": [
       "(array([ 1., 10., 15., 12., 16., 22., 10., 10.,  7.,  6.]),\n",
       " array([33. , 36.9, 40.8, 44.7, 48.6, 52.5, 56.4, 60.3, 64.2, 68.1, 72. ]),\n",
       " <a list of 10 Patch objects>)"
      ]
     },
     "execution_count": 23,
     "metadata": {},
     "output_type": "execute_result"
    },
    {
     "data": {
      "image/png": "[encoded data removed]",
      "text/plain": [
       "<Figure size 432x288 with 1 Axes>"
      ]
     },
     "metadata": {
      "needs_background": "light"
     },
     "output_type": "display_data"
    }
   ],
   "source": [
    "plt.hist(males[\"math\"])\n",
    "plt.hist(females[\"math\"])"
   ]
  },
  {
   "cell_type": "code",
   "execution_count": 24,
   "metadata": {},
   "outputs": [
    {
     "data": {
      "text/plain": [
       "(array([ 0.,  2.,  8.,  9.,  6.,  8.,  4.,  9.,  7., 12., 10.,  7.,  3.,\n",
       "         5.,  5.,  5.,  2.,  2.,  4.,  0.]),\n",
       " array([35., 37., 39., 41., 43., 45., 47., 49., 51., 53., 55., 57., 59.,\n",
       "        61., 63., 65., 67., 69., 71., 73., 75.]),\n",
       " <a list of 20 Patch objects>)"
      ]
     },
     "execution_count": 24,
     "metadata": {},
     "output_type": "execute_result"
    },
    {
     "data": {
      "image/png": "[encoded data removed]",
      "text/plain": [
       "<Figure size 432x288 with 1 Axes>"
      ]
     },
     "metadata": {
      "needs_background": "light"
     },
     "output_type": "display_data"
    }
   ],
   "source": [
    "counts,my_bins,_ = plt.hist(males[\"math\"], bins=20, alpha=0.5)\n",
    "plt.hist(females[\"math\"], bins = my_bins, alpha=0.5)"
   ]
  },
  {
   "cell_type": "code",
   "execution_count": 25,
   "metadata": {},
   "outputs": [
    {
     "data": {
      "text/plain": [
       "(52.94505494505494, 52.39449541284404)"
      ]
     },
     "execution_count": 25,
     "metadata": {},
     "output_type": "execute_result"
    }
   ],
   "source": [
    "np.mean(males[\"math\"]),np.mean(females[\"math\"])"
   ]
  },
  {
   "cell_type": "markdown",
   "metadata": {},
   "source": [
    "What can you infer from this plot?"
   ]
  },
  {
   "cell_type": "markdown",
   "metadata": {},
   "source": [
    "I'm going to guess that this is probably not statistically significant, we can test more later"
   ]
  },
  {
   "cell_type": "markdown",
   "metadata": {},
   "source": [
    "Let's consider science scores:"
   ]
  },
  {
   "cell_type": "code",
   "execution_count": 26,
   "metadata": {},
   "outputs": [
    {
     "data": {
      "text/plain": [
       "(array([0.        , 0.00382263, 0.00764526, 0.01529052, 0.00382263,\n",
       "        0.03058104, 0.03058104, 0.03058104, 0.02675841, 0.00764526,\n",
       "        0.06498471, 0.04204893, 0.04204893, 0.04204893, 0.02675841,\n",
       "        0.01529052, 0.01146789, 0.01529052, 0.        , 0.        ]),\n",
       " array([26. , 28.4, 30.8, 33.2, 35.6, 38. , 40.4, 42.8, 45.2, 47.6, 50. ,\n",
       "        52.4, 54.8, 57.2, 59.6, 62. , 64.4, 66.8, 69.2, 71.6, 74. ]),\n",
       " <a list of 20 Patch objects>)"
      ]
     },
     "execution_count": 26,
     "metadata": {},
     "output_type": "execute_result"
    },
    {
     "data": {
      "image/png": "[encoded data removed]",
      "text/plain": [
       "<Figure size 432x288 with 1 Axes>"
      ]
     },
     "metadata": {
      "needs_background": "light"
     },
     "output_type": "display_data"
    }
   ],
   "source": [
    "counts,my_bins,_ = plt.hist(males[\"science\"], bins=20, alpha=0.5, density=True)\n",
    "plt.hist(females[\"science\"], bins = my_bins, alpha=0.5, density=True)"
   ]
  },
  {
   "cell_type": "code",
   "execution_count": 27,
   "metadata": {},
   "outputs": [
    {
     "data": {
      "text/plain": [
       "(53.23076923076923, 50.69724770642202)"
      ]
     },
     "execution_count": 27,
     "metadata": {},
     "output_type": "execute_result"
    }
   ],
   "source": [
    "np.mean(males[\"science\"]),np.mean(females[\"science\"])"
   ]
  },
  {
   "cell_type": "code",
   "execution_count": 28,
   "metadata": {},
   "outputs": [
    {
     "data": {
      "text/plain": [
       "2.533521524347215"
      ]
     },
     "execution_count": 28,
     "metadata": {},
     "output_type": "execute_result"
    }
   ],
   "source": [
    "diff = np.mean(males[\"science\"]) - np.mean(females[\"science\"])\n",
    "diff"
   ]
  },
  {
   "cell_type": "markdown",
   "metadata": {},
   "source": [
    "Is this result statistically significant? \n",
    "\n",
    "How many different sample combinations are there in the exact permutation test?"
   ]
  },
  {
   "cell_type": "code",
   "execution_count": 29,
   "metadata": {},
   "outputs": [
    {
     "data": {
      "text/plain": [
       "4.040047748665152e+58"
      ]
     },
     "execution_count": 29,
     "metadata": {},
     "output_type": "execute_result"
    }
   ],
   "source": [
    "binom(200,91)"
   ]
  },
  {
   "cell_type": "markdown",
   "metadata": {},
   "source": [
    "Instead, let's sample 10,000 of the permutations. Since there are so many, we will randomly select permutations, so there is some small probability of repeat\n",
    "\n",
    "To choose the samples, we will permute the pooled data and then subdivide into the appropriate sizes:"
   ]
  },
  {
   "cell_type": "code",
   "execution_count": 30,
   "metadata": {},
   "outputs": [],
   "source": [
    "pooled = df[\"science\"]"
   ]
  },
  {
   "cell_type": "code",
   "execution_count": 31,
   "metadata": {},
   "outputs": [
    {
     "name": "stdout",
     "output_type": "stream",
     "text": [
      "Prob. of seeing mean diff >= 2.533521524347215 under H0 is =~ 0.07193\n"
     ]
    }
   ],
   "source": [
    "diff = np.mean(males[\"science\"]) - np.mean(females[\"science\"])\n",
    "pooled = df[\"science\"]\n",
    "num_sims = 100000\n",
    "event_count = 0\n",
    "\n",
    "for sim in range(num_sims):\n",
    "    perm = npr.permutation(pooled)\n",
    "    # first 91 and last 109\n",
    "    male_sample = perm[:len(males)]\n",
    "    female_sample = perm[len(males):]\n",
    "    sample_diff = male_sample.mean()-female_sample.mean()\n",
    "    if abs(sample_diff) >= diff:\n",
    "        event_count+=1\n",
    "        \n",
    "monte_p_val = event_count/num_sims\n",
    "\n",
    "print(\"Prob. of seeing mean diff >=\", diff,\"under H0 is =~\", monte_p_val)\n",
    "        "
   ]
  },
  {
   "cell_type": "markdown",
   "metadata": {},
   "source": [
    "What is your conclusion?"
   ]
  },
  {
   "cell_type": "markdown",
   "metadata": {},
   "source": [
    "The result is not statistically significant at the p < 0.01 level. We cannot be sure that the observed mean difference is caused by a true difference in the underlying populations."
   ]
  },
  {
   "cell_type": "markdown",
   "metadata": {},
   "source": []
  },
  {
   "cell_type": "code",
   "execution_count": 32,
   "metadata": {},
   "outputs": [
    {
     "name": "stdout",
     "output_type": "stream",
     "text": [
      "read     --\t Males: 52.824175824175825 \tFemales: 51.73394495412844\n",
      "write    --\t Males: 50.120879120879124 \tFemales: 54.99082568807339\n",
      "math     --\t Males: 52.94505494505494 \tFemales: 52.39449541284404\n",
      "science  --\t Males: 53.23076923076923 \tFemales: 50.69724770642202\n",
      "socst    --\t Males: 51.79120879120879 \tFemales: 52.91743119266055\n"
     ]
    }
   ],
   "source": [
    "# Here are all the average values\n",
    "tests=[\"read\",\"write\",\"math\",\"science\",\"socst\"]\n",
    "for test in tests:\n",
    "    print(test.ljust(8),\"--\\t\", \"Males:\",males[test].mean(),\"\\tFemales:\",females[test].mean())\n"
   ]
  },
  {
   "cell_type": "raw",
   "metadata": {},
   "source": [
    "Defn:\n",
    "    A collection of events A1,A2,...,An partitions the sample space (s) iff:\n",
    "        1) Ai intersection Aj = null, for all i,j in {1,2,...,N}\n",
    "        2) The union of each event together = S\n",
    "            the events make a \"tiling\" of S"
   ]
  },
  {
   "cell_type": "markdown",
   "metadata": {},
   "source": [
    "**Lecture 13 Assignment**\n",
    "\n",
    "1. Conduct a bootstrap resampling test for statistical significance of the difference in average science scores between the genders. Compare the $p$-value for the bootstrap test vs. that found via the Monte Carlo permutation test."
   ]
  },
  {
   "cell_type": "code",
   "execution_count": 33,
   "metadata": {},
   "outputs": [
    {
     "name": "stdout",
     "output_type": "stream",
     "text": [
      "Under null hypothesis, observe effect this large with prob. 0.07024.\n",
      "The 𝑝-value for the bootstrap test is 0.07024, as shown above and the 𝑝-value found via the Monte Carlo Permutation test is 0.07193. As you can see, there is very little difference between them and either technique works well for this data.\n"
     ]
    }
   ],
   "source": [
    "diff = np.mean(males[\"science\"]) - np.mean(females[\"science\"])\n",
    "pooled = df[\"science\"]\n",
    "num_sims=100000\n",
    "event_count=0\n",
    "for sim in range(num_sims):\n",
    "    sample_males=npr.choice(pooled,len(males))\n",
    "    sample_females=npr.choice(pooled,len(females))\n",
    "    sample_diff =sample_males.mean()-sample_females.mean()\n",
    "    if abs(sample_diff) >= diff:\n",
    "        event_count+=1\n",
    "\n",
    "bootstrap_p_val = event_count/num_sims\n",
    "\n",
    "print(\"Under null hypothesis, observe effect this large with prob. \",bootstrap_p_val, \".\", sep=\"\")\n",
    "print(\"The 𝑝-value for the bootstrap test is \",bootstrap_p_val,\", as shown above and the 𝑝-value found via the Monte Carlo Permutation test is \",monte_p_val,\". As you can see, there is very little difference between them and either technique works well for this data.\",sep=\"\")"
   ]
  },
  {
   "cell_type": "markdown",
   "metadata": {},
   "source": [
    "2. Generate a table of the median values for all tests, by gender."
   ]
  },
  {
   "cell_type": "code",
   "execution_count": 34,
   "metadata": {},
   "outputs": [
    {
     "name": "stdout",
     "output_type": "stream",
     "text": [
      "gender\tread\twrite\tmath\tscience\n",
      "males\t52.0\t52.0\t52.0\t55.0\t\n",
      "females\t50.0\t57.0\t53.0\t50.0\t\n"
     ]
    }
   ],
   "source": [
    "females=df[df[\"gender\"]==\"female\"]\n",
    "males=df[df[\"gender\"]==\"male\"]\n",
    "tests = [\"read\", \"write\", \"math\", \"science\"]\n",
    "genders = [males, females]\n",
    "\n",
    "print(\"gender\\tread\\twrite\\tmath\\tscience\",sep=\"\")\n",
    "for i in range(0,len(genders)):\n",
    "    gender = \"males\" if i==0 else \"females\"\n",
    "    print(gender,\"\\t\",sep=\"\",end=\"\")\n",
    "    for test in tests:\n",
    "        print(np.median(genders[i][test]),\"\\t\",sep=\"\",end=\"\")\n",
    "    print(\"\")\n",
    "        "
   ]
  },
  {
   "cell_type": "markdown",
   "metadata": {},
   "source": [
    "3. What is the median writing score for men vs women? Using a Monte Carlo permutation test (not bootstrap resampling), answer the following questions. Is the difference statistically significant at the p<0.01 level? What is the 99% confidence interval for the difference in medians?"
   ]
  },
  {
   "cell_type": "code",
   "execution_count": 35,
   "metadata": {},
   "outputs": [
    {
     "name": "stdout",
     "output_type": "stream",
     "text": [
      "The median writing score for men vs. women is 52.0 vs. 57.0, with a median difference of -5.0.\n",
      "Prob. of seeing median diff >= 5.0 under H0 is = ~0.075.\n",
      "The difference is NOT statistically significant at the p < 0.01 level.\n",
      "The 99% confidence interval is [-5.0, 5.0].\n"
     ]
    }
   ],
   "source": [
    "np.median(females[\"write\"])\n",
    "median_diff = np.median(males[\"write\"]) - np.median(females[\"write\"])\n",
    "print(\"The median writing score for men vs. women is \",np.median(males[\"write\"]),\" vs. \", np.median(females[\"write\"]),\", with a median difference of \", median_diff,\".\", sep=\"\")\n",
    "pooled = df[\"write\"]\n",
    "num_sims = 10000\n",
    "bs_stats=[]\n",
    "event_count = 0\n",
    "for sim in range(num_sims):\n",
    "    perm = npr.permutation(pooled)\n",
    "    # first 91 and last 109\n",
    "    male_sample = perm[:len(males)]\n",
    "    female_sample = perm[len(males):]\n",
    "    sample_diff = np.median(male_sample)-np.median(female_sample)\n",
    "    bs_stats+=[sample_diff]\n",
    "#     print(sample_diff,end=\" \")\n",
    "    if sample_diff**2 >= median_diff**2:\n",
    "        event_count+=1\n",
    "        \n",
    "print(\"Prob. of seeing median diff >= \", abs(median_diff),\" under H0 is = ~\", event_count/num_sims,\".\", sep=\"\")\n",
    "print(\"The difference is NOT statistically significant at the p < 0.01 level.\")\n",
    "\n",
    "# calculate 99% confidence interval\n",
    "bs_stats.sort()\n",
    "lower=int(len(bs_stats)*0.01/2)\n",
    "upper=int(len(bs_stats)-lower-1)\n",
    "bs_stats[lower],bs_stats[upper]\n",
    "print('The 99% confidence interval is [',bs_stats[lower],', ',bs_stats[upper],'].',sep=\"\")"
   ]
  }
 ],
 "metadata": {
  "kernelspec": {
   "display_name": "Python 3",
   "language": "python",
   "name": "python3"
  },
  "language_info": {
   "codemirror_mode": {
    "name": "ipython",
    "version": 3
   },
   "file_extension": ".py",
   "mimetype": "text/x-python",
   "name": "python",
   "nbconvert_exporter": "python",
   "pygments_lexer": "ipython3",
   "version": "3.7.2"
  }
 },
 "nbformat": 4,
 "nbformat_minor": 2
}
