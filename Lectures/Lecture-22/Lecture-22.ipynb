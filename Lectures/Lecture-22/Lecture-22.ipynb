{
 "cells": [
  {
   "cell_type": "code",
   "execution_count": 1,
   "metadata": {},
   "outputs": [],
   "source": [
    "import numpy as np\n",
    "import numpy.random as npr\n",
    "import matplotlib.pyplot as plt\n",
    "%matplotlib inline"
   ]
  },
  {
   "cell_type": "code",
   "execution_count": 2,
   "metadata": {},
   "outputs": [],
   "source": [
    "import scipy.stats as stats"
   ]
  },
  {
   "cell_type": "markdown",
   "metadata": {},
   "source": [
    "## Lecture 19 Assignment\n",
    "\n",
    "Answer the questions below in a Jupyter notebook and submit a PDF of your notebook:\n",
    "\n",
    " \n",
    "\n",
    "1. Find and plot the a posteriori probabilities for getting 8 heads on 8 flips of a fair coin for a prior probabilities of your choice that have a peak around probability of heads equal to 0.5 (and that satisfy the requirements further below).\n",
    "\n",
    "2. Determine the 95% and 99% confidence intervals under the a priori probabilities you created.\n",
    "\n",
    "3. Determine whether you should reject the possibility that the coin is fair using the a priori probabilities that you created. Briefly explain how you reached your conclusions.\n",
    "\n",
    " \n",
    "\n",
    "Some requirements on the a priori probabilities:\n",
    "\n",
    "1. Make the a priori probabilities based on some function of the probability of heads. For instance, the function could be a combination of linear functions, a quadratic function, a function like exp( - | (something) |), etc.\n",
    "\n",
    "2. Do not use any significant constant sections of your function. In particular, do not just use the existing a prior probabilities and then increase the probability at or around 0.5.\n",
    "\n",
    "3. Sample your a priori probabilities at steps of no bigger than 0.01 (same as in class).\n",
    "\n",
    "4. If you provide results for more than one interesting prior, we may award you bonus points.\n",
    "\n",
    "\n"
   ]
  },
  {
   "cell_type": "markdown",
   "metadata": {},
   "source": [
    "**With the Uniform Prior, we had**"
   ]
  },
  {
   "cell_type": "code",
   "execution_count": 3,
   "metadata": {},
   "outputs": [],
   "source": [
    "def exactcoins(flips=8, target=-1, num_sims=100000):\n",
    "    \n",
    "    if target==-1:\n",
    "        target=flips\n",
    "        \n",
    "    allcoins=np.linspace(0,1,101)\n",
    "    \n",
    "    events=[]\n",
    "    for sim in range(num_sims):\n",
    "        prob_heads=npr.choice(allcoins)\n",
    "        R=npr.uniform(size=flips)\n",
    "        num_heads=np.sum(R<prob_heads)\n",
    "        if num_heads==target:\n",
    "            events+=[prob_heads]\n",
    "            \n",
    "    vals,counts=np.unique(events,return_counts=True)\n",
    "    plt.bar(vals,counts/len(events),width=0.01) # Note that we had to change the bar width here!!!\n",
    "    \n",
    "    return events"
   ]
  },
  {
   "cell_type": "code",
   "execution_count": 4,
   "metadata": {
    "scrolled": true
   },
   "outputs": [
    {
     "data": {
      "image/png": "[encoded data removed]",
      "text/plain": [
       "<Figure size 432x288 with 1 Axes>"
      ]
     },
     "metadata": {
      "needs_background": "light"
     },
     "output_type": "display_data"
    }
   ],
   "source": [
    "events=exactcoins()"
   ]
  },
  {
   "cell_type": "code",
   "execution_count": 5,
   "metadata": {},
   "outputs": [],
   "source": [
    "def confidence_interval2(data, C):\n",
    "    ''' Find the C% confidence interval given data'''\n",
    "    pbar=1-C/100\n",
    "\n",
    "    vals,counts=np.unique(data,return_counts=True)\n",
    "\n",
    "\n",
    "    sum_counts=np.cumsum(counts/len(data))\n",
    "    # locate the lowest value for which the cumulative sum exceeds the specified probability\n",
    "    lower=np.nonzero(sum_counts>=pbar/2)[0][0]\n",
    "    upper=np.nonzero(sum_counts>=(1-pbar/2))[0][0]\n",
    "                  \n",
    "    plt.bar(vals,sum_counts,width=0.01)\n",
    "    plt.plot(vals,[pbar/2]*len(vals),'r')\n",
    "    plt.plot(vals,[(1-pbar/2)]*len(vals),'g')\n",
    "    \n",
    "    print(C,\"% confidence interval:[\",vals[lower],\",\",vals[upper],\"]\")"
   ]
  },
  {
   "cell_type": "code",
   "execution_count": 6,
   "metadata": {
    "scrolled": true
   },
   "outputs": [
    {
     "name": "stdout",
     "output_type": "stream",
     "text": [
      "95 % confidence interval:[ 0.67 , 1.0 ]\n"
     ]
    },
    {
     "data": {
      "image/png": "[encoded data removed]",
      "text/plain": [
       "<Figure size 432x288 with 1 Axes>"
      ]
     },
     "metadata": {
      "needs_background": "light"
     },
     "output_type": "display_data"
    }
   ],
   "source": [
    "confidence_interval2(events,95)"
   ]
  },
  {
   "cell_type": "code",
   "execution_count": 7,
   "metadata": {
    "scrolled": true
   },
   "outputs": [
    {
     "name": "stdout",
     "output_type": "stream",
     "text": [
      "99 % confidence interval:[ 0.54 , 1.0 ]\n"
     ]
    },
    {
     "data": {
      "image/png": "[encoded data removed]",
      "text/plain": [
       "<Figure size 432x288 with 1 Axes>"
      ]
     },
     "metadata": {
      "needs_background": "light"
     },
     "output_type": "display_data"
    }
   ],
   "source": [
    "confidence_interval2(events,99)"
   ]
  },
  {
   "cell_type": "markdown",
   "metadata": {},
   "source": [
    "### Generating a Nonuniform Prior:"
   ]
  },
  {
   "cell_type": "code",
   "execution_count": 8,
   "metadata": {},
   "outputs": [],
   "source": [
    "vals = np.linspace(0,1,101)"
   ]
  },
  {
   "cell_type": "code",
   "execution_count": 9,
   "metadata": {},
   "outputs": [
    {
     "data": {
      "text/plain": [
       "[<matplotlib.lines.Line2D at 0x1a19435b38>]"
      ]
     },
     "execution_count": 9,
     "metadata": {},
     "output_type": "execute_result"
    },
    {
     "data": {
      "image/png": "[encoded data removed]",
      "text/plain": [
       "<Figure size 432x288 with 1 Axes>"
      ]
     },
     "metadata": {
      "needs_background": "light"
     },
     "output_type": "display_data"
    }
   ],
   "source": [
    "plt.plot((vals-0.5)**2,'.')"
   ]
  },
  {
   "cell_type": "code",
   "execution_count": 10,
   "metadata": {},
   "outputs": [
    {
     "data": {
      "text/plain": [
       "[<matplotlib.lines.Line2D at 0x1a194f0ba8>]"
      ]
     },
     "execution_count": 10,
     "metadata": {},
     "output_type": "execute_result"
    },
    {
     "data": {
      "image/png": "[encoded data removed]",
      "text/plain": [
       "<Figure size 432x288 with 1 Axes>"
      ]
     },
     "metadata": {
      "needs_background": "light"
     },
     "output_type": "display_data"
    }
   ],
   "source": [
    "plt.plot(vals,0.25-(vals-0.5)**2,'.')"
   ]
  },
  {
   "cell_type": "code",
   "execution_count": 11,
   "metadata": {},
   "outputs": [
    {
     "data": {
      "text/plain": [
       "16.664999999999992"
      ]
     },
     "execution_count": 11,
     "metadata": {},
     "output_type": "execute_result"
    }
   ],
   "source": [
    "unnorm = 0.25-(vals-0.5)**2\n",
    "sum(unnorm)"
   ]
  },
  {
   "cell_type": "code",
   "execution_count": 12,
   "metadata": {},
   "outputs": [],
   "source": [
    "probs = unnorm/sum(unnorm)"
   ]
  },
  {
   "cell_type": "code",
   "execution_count": 13,
   "metadata": {},
   "outputs": [
    {
     "data": {
      "text/plain": [
       "1.0000000000000004"
      ]
     },
     "execution_count": 13,
     "metadata": {},
     "output_type": "execute_result"
    },
    {
     "data": {
      "image/png": "[encoded data removed]",
      "text/plain": [
       "<Figure size 432x288 with 1 Axes>"
      ]
     },
     "metadata": {
      "needs_background": "light"
     },
     "output_type": "display_data"
    }
   ],
   "source": [
    "plt.plot(vals, probs, '.');\n",
    "sum(probs)"
   ]
  },
  {
   "cell_type": "code",
   "execution_count": 14,
   "metadata": {},
   "outputs": [
    {
     "data": {
      "image/png": "[encoded data removed]",
      "text/plain": [
       "<Figure size 432x288 with 1 Axes>"
      ]
     },
     "metadata": {
      "needs_background": "light"
     },
     "output_type": "display_data"
    }
   ],
   "source": [
    "# cumulative distribution function (cdf)\n",
    "plt.step(vals,np.cumsum(probs));"
   ]
  },
  {
   "cell_type": "code",
   "execution_count": 15,
   "metadata": {},
   "outputs": [],
   "source": [
    "ap = stats.rv_discrete(values=(vals,probs))"
   ]
  },
  {
   "cell_type": "code",
   "execution_count": 16,
   "metadata": {},
   "outputs": [
    {
     "data": {
      "text/plain": [
       "array([0, 0, 0, 0, 0, 0, 0, 0, 0, 0])"
      ]
     },
     "execution_count": 16,
     "metadata": {},
     "output_type": "execute_result"
    }
   ],
   "source": [
    "ap.rvs(size=10)"
   ]
  },
  {
   "cell_type": "markdown",
   "metadata": {},
   "source": [
    "What do you observe?\n",
    "\n",
    "It doesnt work!!\n",
    "\n",
    "stats.rv_discrete only works for integer-valued discrete RVs"
   ]
  },
  {
   "cell_type": "code",
   "execution_count": 17,
   "metadata": {},
   "outputs": [],
   "source": [
    "ap = stats.rv_discrete(values=(range(len(vals)),probs))"
   ]
  },
  {
   "cell_type": "code",
   "execution_count": 18,
   "metadata": {},
   "outputs": [
    {
     "data": {
      "text/plain": [
       "array([0.95, 0.32, 0.54, 0.47, 0.38, 0.53, 0.53, 0.08, 0.69, 0.76])"
      ]
     },
     "execution_count": 18,
     "metadata": {},
     "output_type": "execute_result"
    }
   ],
   "source": [
    "vals[ap.rvs(size=10)]"
   ]
  },
  {
   "cell_type": "code",
   "execution_count": 19,
   "metadata": {},
   "outputs": [],
   "source": [
    "test = vals[ap.rvs(size=100000)]"
   ]
  },
  {
   "cell_type": "code",
   "execution_count": 20,
   "metadata": {},
   "outputs": [
    {
     "data": {
      "image/png": "[encoded data removed]",
      "text/plain": [
       "<Figure size 432x288 with 1 Axes>"
      ]
     },
     "metadata": {
      "needs_background": "light"
     },
     "output_type": "display_data"
    }
   ],
   "source": [
    "plt.hist(test, bins=vals, density=True);"
   ]
  },
  {
   "cell_type": "code",
   "execution_count": 21,
   "metadata": {},
   "outputs": [
    {
     "data": {
      "image/png": "[encoded data removed]",
      "text/plain": [
       "<Figure size 432x288 with 1 Axes>"
      ]
     },
     "metadata": {
      "needs_background": "light"
     },
     "output_type": "display_data"
    }
   ],
   "source": [
    "plt.stem(ap.pmf(range(len(vals))));"
   ]
  },
  {
   "cell_type": "code",
   "execution_count": 22,
   "metadata": {},
   "outputs": [],
   "source": [
    "def exactcoins2(flips=8, target=-1, num_sims=100000):\n",
    "    \n",
    "    if target==-1:\n",
    "        target=flips\n",
    "    \n",
    "    # set up the a priori distribution here\n",
    "    vals = np.linspace(0,1,101)\n",
    "    unnorm = 0.25-(vals-0.5)**2 # make unnormalized PMF\n",
    "    probs = unnorm/sum(unnorm) # normalize it to make valid probs\n",
    "    ap = stats.rv_discrete(values=(range(len(vals)),probs)) # create our discrete RV object\n",
    "    \n",
    "    # grab a random index and \n",
    "    \n",
    "    events=[]\n",
    "    for sim in range(num_sims):\n",
    "        prob_heads=vals[ap.rvs()] # grab a random index and map it back to the value\n",
    "        R=npr.uniform(size=flips)\n",
    "        num_heads=np.sum(R<prob_heads)\n",
    "        if num_heads==target:\n",
    "            events+=[prob_heads]\n",
    "            \n",
    "    vals,counts=np.unique(events,return_counts=True)\n",
    "    plt.bar(vals,counts/len(events),width=0.01) # Note that we had to change the bar width here!!!\n",
    "    \n",
    "    return events"
   ]
  },
  {
   "cell_type": "code",
   "execution_count": 24,
   "metadata": {},
   "outputs": [
    {
     "data": {
      "image/png": "[encoded data removed]",
      "text/plain": [
       "<Figure size 432x288 with 1 Axes>"
      ]
     },
     "metadata": {
      "needs_background": "light"
     },
     "output_type": "display_data"
    }
   ],
   "source": [
    "events2=exactcoins2()"
   ]
  },
  {
   "cell_type": "code",
   "execution_count": 26,
   "metadata": {},
   "outputs": [
    {
     "name": "stdout",
     "output_type": "stream",
     "text": [
      "95 % confidence interval:[ 0.58 , 0.97 ]\n"
     ]
    },
    {
     "data": {
      "image/png": "[encoded data removed]",
      "text/plain": [
       "<Figure size 432x288 with 1 Axes>"
      ]
     },
     "metadata": {
      "needs_background": "light"
     },
     "output_type": "display_data"
    }
   ],
   "source": [
    "confidence_interval2(events2,95)"
   ]
  },
  {
   "cell_type": "code",
   "execution_count": 27,
   "metadata": {},
   "outputs": [
    {
     "name": "stdout",
     "output_type": "stream",
     "text": [
      "99 % confidence interval:[ 0.5 , 0.99 ]\n"
     ]
    },
    {
     "data": {
      "image/png": "[encoded data removed]",
      "text/plain": [
       "<Figure size 432x288 with 1 Axes>"
      ]
     },
     "metadata": {
      "needs_background": "light"
     },
     "output_type": "display_data"
    }
   ],
   "source": [
    "confidence_interval2(events2,99)"
   ]
  },
  {
   "cell_type": "markdown",
   "metadata": {},
   "source": [
    "## Properties of Distribution Functions -- See Handout"
   ]
  },
  {
   "cell_type": "markdown",
   "metadata": {},
   "source": [
    "## Uniform Continuous Random Variables"
   ]
  },
  {
   "cell_type": "markdown",
   "metadata": {},
   "source": [
    "Previously, we introduced a way to choose random values from the interval $[0,1)$:"
   ]
  },
  {
   "cell_type": "code",
   "execution_count": 29,
   "metadata": {},
   "outputs": [
    {
     "data": {
      "text/plain": [
       "array([0.7298426 , 0.02342212, 0.12823727, 0.013913  , 0.52001198,\n",
       "       0.28629908, 0.51311827, 0.31027519, 0.08240854, 0.58022238,\n",
       "       0.38978304, 0.00392387, 0.66399284, 0.17137142, 0.45293394,\n",
       "       0.72279844, 0.47490595, 0.49285623, 0.16619262, 0.78714984])"
      ]
     },
     "execution_count": 29,
     "metadata": {},
     "output_type": "execute_result"
    }
   ],
   "source": [
    "npr.random(size=20)"
   ]
  },
  {
   "cell_type": "markdown",
   "metadata": {},
   "source": [
    "We could also use scipy.stats for this:"
   ]
  },
  {
   "cell_type": "code",
   "execution_count": 30,
   "metadata": {},
   "outputs": [
    {
     "data": {
      "text/plain": [
       "<scipy.stats._distn_infrastructure.rv_frozen at 0x1a1a59be48>"
      ]
     },
     "execution_count": 30,
     "metadata": {},
     "output_type": "execute_result"
    }
   ],
   "source": [
    "U=stats.uniform()"
   ]
  },
  {
   "cell_type": "code",
   "execution_count": 31,
   "metadata": {},
   "outputs": [
    {
     "data": {
      "text/plain": [
       "array([0.46399178, 0.29315176, 0.86485235, 0.37668269, 0.33960491,\n",
       "       0.00358872, 0.22402621, 0.70990911, 0.38030713, 0.34758595,\n",
       "       0.31919321, 0.86700555, 0.91859199, 0.04195151, 0.9727895 ,\n",
       "       0.34219423, 0.3473171 , 0.44459118, 0.57491403, 0.42258039])"
      ]
     },
     "execution_count": 31,
     "metadata": {},
     "output_type": "execute_result"
    }
   ],
   "source": [
    "U.rvs(20)"
   ]
  },
  {
   "cell_type": "markdown",
   "metadata": {},
   "source": [
    "Find $F_U(0.2)=P(U \\le u)$ for $u=0.2$:"
   ]
  },
  {
   "cell_type": "code",
   "execution_count": 34,
   "metadata": {},
   "outputs": [
    {
     "data": {
      "text/plain": [
       "0.201"
      ]
     },
     "execution_count": 34,
     "metadata": {},
     "output_type": "execute_result"
    }
   ],
   "source": [
    "u=0.2\n",
    "num_sims=100000\n",
    "Uvals= U.rvs(size=num_sims)\n",
    "np.sum(Uvals<=0.2)/num_sims"
   ]
  },
  {
   "cell_type": "code",
   "execution_count": 37,
   "metadata": {},
   "outputs": [
    {
     "name": "stdout",
     "output_type": "stream",
     "text": [
      "Prob(U<=0.0)=~0.0\n",
      "Prob(U<=0.2)=~0.19982\n",
      "Prob(U<=0.4)=~0.40105\n",
      "Prob(U<=0.6)=~0.59903\n",
      "Prob(U<=0.8)=~0.80019\n",
      "Prob(U<=1.0)=~1.0\n"
     ]
    }
   ],
   "source": [
    "uvals=[0.0, 0.2, 0.4, 0.6, 0.8, 1.0]\n",
    "\n",
    "num_sims = 100000\n",
    "Uvals=U.rvs(size=num_sims)\n",
    "\n",
    "for u in uvals:\n",
    "    print(\"Prob(U<=\",u,\")=~\",np.sum(Uvals<=u)/num_sims,sep=\"\")"
   ]
  },
  {
   "cell_type": "markdown",
   "metadata": {},
   "source": [
    "So, what is the distribution function for U?\n",
    "\n",
    "$F_U(u)=u, -- 0\\le u \\le 1$"
   ]
  },
  {
   "cell_type": "markdown",
   "metadata": {},
   "source": [
    "Check:"
   ]
  },
  {
   "cell_type": "code",
   "execution_count": 54,
   "metadata": {},
   "outputs": [
    {
     "data": {
      "text/plain": [
       "[<matplotlib.lines.Line2D at 0x1a1a9d6828>]"
      ]
     },
     "execution_count": 54,
     "metadata": {},
     "output_type": "execute_result"
    },
    {
     "data": {
      "image/png": "[encoded data removed]",
      "text/plain": [
       "<Figure size 432x288 with 1 Axes>"
      ]
     },
     "metadata": {
      "needs_background": "light"
     },
     "output_type": "display_data"
    }
   ],
   "source": [
    "uvals=np.linspace(-0.1,1.1,200)\n",
    "plt.plot(uvals,U.cdf(uvals))"
   ]
  },
  {
   "cell_type": "markdown",
   "metadata": {},
   "source": [
    "Find $P(0.25 < U \\le 0.75)$:"
   ]
  },
  {
   "cell_type": "code",
   "execution_count": 40,
   "metadata": {},
   "outputs": [
    {
     "data": {
      "text/plain": [
       "0.5"
      ]
     },
     "execution_count": 40,
     "metadata": {},
     "output_type": "execute_result"
    }
   ],
   "source": [
    "U.cdf(0.75)-U.cdf(0.25)"
   ]
  },
  {
   "cell_type": "markdown",
   "metadata": {
    "slideshow": {
     "slide_type": "subslide"
    }
   },
   "source": [
    "Find $P(0.45 < U \\le 0.55)$"
   ]
  },
  {
   "cell_type": "code",
   "execution_count": 41,
   "metadata": {},
   "outputs": [
    {
     "data": {
      "text/plain": [
       "0.10000000000000003"
      ]
     },
     "execution_count": 41,
     "metadata": {},
     "output_type": "execute_result"
    }
   ],
   "source": [
    "U.cdf(0.55)-U.cdf(0.45)"
   ]
  },
  {
   "cell_type": "markdown",
   "metadata": {},
   "source": [
    "Note that since $F_U(u)=u$, then $F_U(b)-F_U(a)=b-a$"
   ]
  },
  {
   "cell_type": "markdown",
   "metadata": {},
   "source": [
    "So what is  $P(0.4995 < U \\le 0.5005)$?"
   ]
  },
  {
   "cell_type": "code",
   "execution_count": 42,
   "metadata": {},
   "outputs": [
    {
     "data": {
      "text/plain": [
       "0.0009999999999999454"
      ]
     },
     "execution_count": 42,
     "metadata": {},
     "output_type": "execute_result"
    }
   ],
   "source": [
    "0.5005-0.4995"
   ]
  },
  {
   "cell_type": "markdown",
   "metadata": {},
   "source": [
    "Then what is $P(U=0.5)$?"
   ]
  },
  {
   "cell_type": "code",
   "execution_count": 51,
   "metadata": {},
   "outputs": [
    {
     "data": {
      "text/plain": [
       "0"
      ]
     },
     "execution_count": 51,
     "metadata": {},
     "output_type": "execute_result"
    }
   ],
   "source": [
    "0"
   ]
  },
  {
   "cell_type": "markdown",
   "metadata": {},
   "source": [
    "In general, what is $P(U=u)$?"
   ]
  },
  {
   "cell_type": "code",
   "execution_count": 52,
   "metadata": {},
   "outputs": [
    {
     "data": {
      "text/plain": [
       "0"
      ]
     },
     "execution_count": 52,
     "metadata": {},
     "output_type": "execute_result"
    }
   ],
   "source": [
    "0"
   ]
  }
 ],
 "metadata": {
  "kernelspec": {
   "display_name": "Python 3",
   "language": "python",
   "name": "python3"
  },
  "language_info": {
   "codemirror_mode": {
    "name": "ipython",
    "version": 3
   },
   "file_extension": ".py",
   "mimetype": "text/x-python",
   "name": "python",
   "nbconvert_exporter": "python",
   "pygments_lexer": "ipython3",
   "version": "3.7.2"
  }
 },
 "nbformat": 4,
 "nbformat_minor": 2
}
