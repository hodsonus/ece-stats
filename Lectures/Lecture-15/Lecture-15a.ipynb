{
 "cells": [
  {
   "cell_type": "code",
   "execution_count": 1,
   "metadata": {},
   "outputs": [],
   "source": [
    "# Some helpful imports -- feel free to import any other libraries you need!\n",
    "import numpy as np\n",
    "import numpy.random as npr\n",
    "import random\n",
    "import matplotlib.pyplot as plt\n",
    "import math\n",
    "%matplotlib inline"
   ]
  },
  {
   "cell_type": "markdown",
   "metadata": {},
   "source": [
    "1) Suppose the pocket contains one fair coin and one two-headed coin. Find the approximate probability that the coin is fair given that it came up heads on the first flip."
   ]
  },
  {
   "cell_type": "code",
   "execution_count": 2,
   "metadata": {},
   "outputs": [
    {
     "name": "stdout",
     "output_type": "stream",
     "text": [
      "The probability of this occuring is ~0.3340150786012191.\n"
     ]
    }
   ],
   "source": [
    "coins = [['H','T'],['H','H']]\n",
    "num_sims = 100000\n",
    "# num_sims = 5\n",
    "times_to_flip = 1\n",
    "\n",
    "heads_count = 0\n",
    "fair_coin_count = 0\n",
    "coin_indexes = range(0,len(coins))\n",
    "outcomes = []\n",
    "for i in range(0, num_sims):\n",
    "    coin = coins[random.choice(coin_indexes)]\n",
    "#     print(coin)\n",
    "    outcome = random.choices(coin, k=times_to_flip)\n",
    "    outcomes.append(outcome)\n",
    "#     print(outcome)\n",
    "    if outcome == ['H']:\n",
    "        heads_count+=1\n",
    "        if coin == ['H', 'T']:\n",
    "            fair_coin_count+=1\n",
    "        \n",
    "print('The probability of this occuring is ~',fair_coin_count/heads_count,'.',sep='')"
   ]
  },
  {
   "cell_type": "markdown",
   "metadata": {},
   "source": [
    "2) Suppose the pocket contains one fair coin and one two-headed coin. Find the approximate probability that the coin is fair given that it came up heads on the first two flips."
   ]
  },
  {
   "cell_type": "code",
   "execution_count": 3,
   "metadata": {},
   "outputs": [
    {
     "name": "stdout",
     "output_type": "stream",
     "text": [
      "The probability of this occuring is ~0.19886409344681671.\n"
     ]
    }
   ],
   "source": [
    "coins = [['H','T'],['H','H']]\n",
    "num_sims = 100000\n",
    "times_to_flip = 2\n",
    "\n",
    "heads_count = 0\n",
    "fair_coin_count = 0\n",
    "coin_indexes = range(0,len(coins))\n",
    "outcomes = []\n",
    "for i in range(0, num_sims):\n",
    "    coin = coins[random.choice(coin_indexes)]\n",
    "#     print(coin)\n",
    "    outcome = random.choices(coin, k=times_to_flip)\n",
    "    outcomes.append(outcome)\n",
    "#     print(outcome)\n",
    "    if outcome == ['H','H']:\n",
    "        heads_count+=1\n",
    "        if coin == ['H', 'T']:\n",
    "            fair_coin_count+=1\n",
    "        \n",
    "print('The probability of this occuring is ~',fair_coin_count/heads_count,'.',sep='')"
   ]
  },
  {
   "cell_type": "markdown",
   "metadata": {},
   "source": [
    "3) Repeat part 1 if her pocket contains two fair coins and one two-headed coin."
   ]
  },
  {
   "cell_type": "code",
   "execution_count": 4,
   "metadata": {},
   "outputs": [
    {
     "name": "stdout",
     "output_type": "stream",
     "text": [
      "The probability of this occuring is ~0.5014275677534119.\n"
     ]
    }
   ],
   "source": [
    "coins = [['H','T'],['H','T'],['H','H']]\n",
    "\n",
    "num_sims = 100000\n",
    "times_to_flip = 1\n",
    "\n",
    "heads_count = 0\n",
    "fair_coin_count = 0\n",
    "coin_indexes = range(0,len(coins))\n",
    "outcomes = []\n",
    "for i in range(0, num_sims):\n",
    "    coin = coins[random.choice(coin_indexes)]\n",
    "#     print(coin)\n",
    "    outcome = random.choices(coin, k=times_to_flip)\n",
    "    outcomes.append(outcome)\n",
    "#     print(outcome)\n",
    "    if outcome == ['H']:\n",
    "        heads_count+=1\n",
    "        if coin == ['H', 'T']:\n",
    "            fair_coin_count+=1\n",
    "        \n",
    "print('The probability of this occuring is ~',fair_coin_count/heads_count,'.',sep='')"
   ]
  },
  {
   "cell_type": "markdown",
   "metadata": {},
   "source": [
    "4) Repeat part 2 if her pocket contains two fair coins and one two-headed coin."
   ]
  },
  {
   "cell_type": "code",
   "execution_count": 5,
   "metadata": {},
   "outputs": [
    {
     "name": "stdout",
     "output_type": "stream",
     "text": [
      "The probability of this occuring is ~0.3324159820011651.\n"
     ]
    }
   ],
   "source": [
    "coins = [['H','T'],['H','T'],['H','H']]\n",
    "\n",
    "num_sims = 100000\n",
    "times_to_flip = 2\n",
    "\n",
    "heads_count = 0\n",
    "fair_coin_count = 0\n",
    "coin_indexes = range(0,len(coins))\n",
    "outcomes = []\n",
    "for i in range(0, num_sims):\n",
    "    coin = coins[random.choice(coin_indexes)]\n",
    "#     print(coin)\n",
    "    outcome = random.choices(coin, k=times_to_flip)\n",
    "    outcomes.append(outcome)\n",
    "#     print(outcome)\n",
    "    if outcome == ['H','H']:\n",
    "        heads_count+=1\n",
    "        if coin == ['H', 'T']:\n",
    "            fair_coin_count+=1\n",
    "        \n",
    "print('The probability of this occuring is ~',fair_coin_count/heads_count,'.',sep='')"
   ]
  }
 ],
 "metadata": {
  "kernelspec": {
   "display_name": "Python 3",
   "language": "python",
   "name": "python3"
  },
  "language_info": {
   "codemirror_mode": {
    "name": "ipython",
    "version": 3
   },
   "file_extension": ".py",
   "mimetype": "text/x-python",
   "name": "python",
   "nbconvert_exporter": "python",
   "pygments_lexer": "ipython3",
   "version": "3.7.2"
  }
 },
 "nbformat": 4,
 "nbformat_minor": 2
}
