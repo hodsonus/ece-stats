{
 "cells": [
  {
   "cell_type": "code",
   "execution_count": null,
   "metadata": {},
   "outputs": [],
   "source": [
    "import pandas as pd\n",
    "import matplotlib.pyplot as plt\n",
    "%matplotlib inline\n",
    "import pickle\n",
    "import numpy as np"
   ]
  },
  {
   "cell_type": "markdown",
   "metadata": {},
   "source": [
    "Reminder: Correlation is\n",
    "\n",
    "$$\n",
    "\\rho= \\frac{\\operatorname{Cov[X,Y]}}{\\sigma_X \\sigma_Y}\n",
    "$$\n",
    "\n",
    "* Measurement of dependence between $X$ and $Y$\n",
    "\n",
    "* $|\\rho| \\le 1$\n",
    "\n",
    "* If $X$, $Y$ are s.i., then $\\rho=0$\n",
    "\n",
    "* $\\rho =0$ does not necessarily imply $X$, $Y$, s.i.\n",
    "\n",
    "* If $Y$ is a linear function of $X$ (and vice versa), then $\\rho=1$\n",
    "\n"
   ]
  },
  {
   "cell_type": "markdown",
   "metadata": {},
   "source": [
    "**Examples**\n",
    "\n",
    "![Correlation Examples](Correlation_examples.pdf)"
   ]
  },
  {
   "cell_type": "code",
   "execution_count": null,
   "metadata": {},
   "outputs": [],
   "source": [
    "file=open(\"brfss17.pickle\",\"rb\")\n",
    "df=pickle.load(file)\n",
    "file.close()"
   ]
  },
  {
   "cell_type": "code",
   "execution_count": null,
   "metadata": {},
   "outputs": [],
   "source": [
    "m=1\n",
    "b=0\n",
    "x=np.linspace(45,85,100)\n",
    "plt.scatter(df['HEIGHT'],df['WEIGHT2'],alpha=0.2)\n",
    "plt.xlabel('Height (in)')\n",
    "plt.ylabel('Weight (lb)')\n",
    "plt.plot(x,m*x+b)"
   ]
  },
  {
   "cell_type": "code",
   "execution_count": null,
   "metadata": {},
   "outputs": [],
   "source": [
    "K=np.cov(df['HEIGHT'],df['WEIGHT2'])\n",
    "K"
   ]
  },
  {
   "cell_type": "code",
   "execution_count": null,
   "metadata": {},
   "outputs": [],
   "source": []
  }
 ],
 "metadata": {
  "kernelspec": {
   "display_name": "Python 3",
   "language": "python",
   "name": "python3"
  },
  "language_info": {
   "codemirror_mode": {
    "name": "ipython",
    "version": 3
   },
   "file_extension": ".py",
   "mimetype": "text/x-python",
   "name": "python",
   "nbconvert_exporter": "python",
   "pygments_lexer": "ipython3",
   "version": "3.6.7"
  }
 },
 "nbformat": 4,
 "nbformat_minor": 2
}
