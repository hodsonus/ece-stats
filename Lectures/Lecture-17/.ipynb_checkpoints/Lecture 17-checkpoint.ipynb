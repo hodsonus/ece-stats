{
 "cells": [
  {
   "cell_type": "code",
   "execution_count": 1,
   "metadata": {},
   "outputs": [],
   "source": [
    "import numpy as np\n",
    "import numpy.random as npr\n",
    "import matplotlib.pyplot as plt\n",
    "%matplotlib inline\n",
    "import random"
   ]
  },
  {
   "cell_type": "markdown",
   "metadata": {},
   "source": [
    "## Preliminaries"
   ]
  },
  {
   "cell_type": "markdown",
   "metadata": {},
   "source": [
    "To simulate an event with arbitary probability $P_E$:\n",
    "\n",
    "1. Generate a random number R that is equally likely to be between 0 and 1\n",
    "\n",
    "2. If $R \\le P_E$, then in the simulation, the event occurs. Otherwise it does not occur."
   ]
  },
  {
   "cell_type": "markdown",
   "metadata": {},
   "source": [
    "We can generate the required random number using different libraries. In practice, the number is actually a value from a pseudo-random sequence, such that the values of the sequence have properties that make them seem random"
   ]
  },
  {
   "cell_type": "code",
   "execution_count": 2,
   "metadata": {},
   "outputs": [],
   "source": [
    "?npr.uniform"
   ]
  },
  {
   "cell_type": "code",
   "execution_count": 3,
   "metadata": {},
   "outputs": [],
   "source": [
    "?npr.random"
   ]
  },
  {
   "cell_type": "code",
   "execution_count": 4,
   "metadata": {},
   "outputs": [
    {
     "name": "stdout",
     "output_type": "stream",
     "text": [
      "According to the simulation Pe =~ 0.12999\n"
     ]
    }
   ],
   "source": [
    "# Example simulation\n",
    "Pe=0.13\n",
    "\n",
    "num_sims=100000\n",
    "event_count=0\n",
    "for sim in range(num_sims):\n",
    "    if npr.uniform()<Pe:\n",
    "        event_count+=1\n",
    "    # Code here\n",
    "        \n",
    "print('According to the simulation Pe =~',event_count/num_sims)"
   ]
  },
  {
   "cell_type": "code",
   "execution_count": 23,
   "metadata": {},
   "outputs": [
    {
     "name": "stdout",
     "output_type": "stream",
     "text": [
      "According to the simulation Pe =~ 0.130451\n"
     ]
    }
   ],
   "source": [
    "# Faster simulation:\n",
    "Pe=0.13\n",
    "num_sims=1000000\n",
    "\n",
    "# Faster code here ;-)\n",
    "R=npr.uniform(size=num_sims)\n",
    "event_count=np.sum(R<=Pe)\n",
    "\n",
    "print('According to the simulation Pe =~',event_count/num_sims)"
   ]
  },
  {
   "cell_type": "code",
   "execution_count": null,
   "metadata": {},
   "outputs": [],
   "source": []
  },
  {
   "cell_type": "code",
   "execution_count": null,
   "metadata": {},
   "outputs": [],
   "source": []
  },
  {
   "cell_type": "code",
   "execution_count": null,
   "metadata": {},
   "outputs": [],
   "source": []
  },
  {
   "cell_type": "code",
   "execution_count": 6,
   "metadata": {},
   "outputs": [
    {
     "ename": "SyntaxError",
     "evalue": "invalid syntax (<ipython-input-6-5a657afbb02e>, line 7)",
     "output_type": "error",
     "traceback": [
      "\u001b[0;36m  File \u001b[0;32m\"<ipython-input-6-5a657afbb02e>\"\u001b[0;36m, line \u001b[0;32m7\u001b[0m\n\u001b[0;31m    pc=\u001b[0m\n\u001b[0m       ^\u001b[0m\n\u001b[0;31mSyntaxError\u001b[0m\u001b[0;31m:\u001b[0m invalid syntax\n"
     ]
    }
   ],
   "source": [
    "num_samples=100000\n",
    "num_detected=0\n",
    "num_detected_with_cancer=0\n",
    "\n",
    "\n",
    "# Prob. a woman (over 40) has cancer (approximately the same as number of women diagnosed with cancer)\n",
    "pc=\n",
    "\n",
    "\n",
    "# Prob. cancer is detected given that it is actually present\n",
    "p_d_c=0.87\n",
    "\n",
    "# Prob. cancer is detected given that it is NOT present\n",
    "p_d_n=0.1\n",
    "\n",
    "for woman in range(num_samples):\n",
    "    cancer=npr.uniform()<pc\n",
    "    if cancer:\n",
    "        detected=npr.uniform()<p_d_c\n",
    "    else: # No cancer\n",
    "        detected=npr.uniform()<p_d_n\n",
    "    if detected:\n",
    "        num_detected+=1 # We only care about those cases where cancer is detected\n",
    "        if cancer:      # This nested if is the most straight-forward way to count those cases with cancer\n",
    "                        # when it is detected\n",
    "            num_detected_with_cancer+=1\n",
    "\n",
    "print(\"Prob. of cancer given that it is detected is approx.\", num_detected_with_cancer/num_detected)\n",
    "    "
   ]
  },
  {
   "cell_type": "code",
   "execution_count": null,
   "metadata": {},
   "outputs": [],
   "source": []
  },
  {
   "cell_type": "code",
   "execution_count": null,
   "metadata": {},
   "outputs": [],
   "source": []
  },
  {
   "cell_type": "markdown",
   "metadata": {},
   "source": [
    "## Bayesian Binary Hypothesis Testing"
   ]
  },
  {
   "cell_type": "markdown",
   "metadata": {},
   "source": [
    "You flip a coin 8 times and it comes up heads every times. If this were a fair coin, the probability of this occurring is"
   ]
  },
  {
   "cell_type": "code",
   "execution_count": null,
   "metadata": {},
   "outputs": [],
   "source": [
    "0.5**8"
   ]
  },
  {
   "cell_type": "markdown",
   "metadata": {},
   "source": [
    "You have heard of two-headed coins. Without checking the coin, should you belive that it is two-headed?"
   ]
  },
  {
   "cell_type": "markdown",
   "metadata": {},
   "source": [
    "Let:\n",
    "\n",
    "**F** = event the coin is fair\n",
    "\n",
    "**E** = event that coin comes up heads 4 times out of 20\n",
    "\n",
    "What is the probability that we are asked to find?"
   ]
  },
  {
   "cell_type": "markdown",
   "metadata": {},
   "source": []
  },
  {
   "cell_type": "markdown",
   "metadata": {},
   "source": [
    "What type of probability is this?"
   ]
  },
  {
   "cell_type": "markdown",
   "metadata": {},
   "source": []
  },
  {
   "cell_type": "markdown",
   "metadata": {},
   "source": [
    "Do we know this probability? What do we know?"
   ]
  },
  {
   "cell_type": "markdown",
   "metadata": {},
   "source": []
  },
  {
   "cell_type": "markdown",
   "metadata": {},
   "source": [
    "How can we determine $P(F|E)$?\n"
   ]
  },
  {
   "cell_type": "markdown",
   "metadata": {},
   "source": [
    "\n",
    "1. \n",
    "\n",
    "2. "
   ]
  },
  {
   "cell_type": "markdown",
   "metadata": {},
   "source": [
    "We need the *a priori* probabilities, but there is no way for us to know the true *a prioris*. So what to do?"
   ]
  },
  {
   "cell_type": "markdown",
   "metadata": {},
   "source": [
    "We will have to choose the *a prioris*. How? There are 2 typical approaches:\n",
    "\n",
    "1. **Uninformative prior**: We choose a prior that basically assumes as little information about the inputs as possible. For discrete inputs, this will often be equally likely probabilities\n",
    "\n",
    "2. **Informative prior**: We choose a prior based on other knowledge of the problem."
   ]
  },
  {
   "cell_type": "markdown",
   "metadata": {},
   "source": [
    "### Uninformative Prior\n",
    "\n",
    "Let's assume that the probabilities that coin is fair or two-tailed are equally likely:"
   ]
  },
  {
   "cell_type": "code",
   "execution_count": null,
   "metadata": {},
   "outputs": [],
   "source": [
    "num_sims=1000000\n",
    "flips=8\n",
    "event_count=0\n",
    "fair_count=0\n",
    "cointypes= # A list\n",
    "for sim in range(num_sims):\n",
    "    cointype=random.choice(cointypes)\n",
    "    if cointype == 'fair':\n",
    "        faces=['H','T']\n",
    "    else:\n",
    "        faces=['H','H']\n",
    "    coins=random.choices(faces,k=flips)\n",
    "    num_heads=coins.count('H')\n",
    "    # Add counting code\n",
    "            \n",
    "            \n",
    "print(\"Prob. of fair coin given that\",flips,\"heads observed is\", fair_count/event_count)"
   ]
  },
  {
   "cell_type": "markdown",
   "metadata": {},
   "source": [
    "## Informative prior"
   ]
  },
  {
   "cell_type": "markdown",
   "metadata": {},
   "source": [
    "What if you believe that before you observed the outcome, you thought that the chance of finding a two-headed coin is at most 1 in 1000? "
   ]
  },
  {
   "cell_type": "code",
   "execution_count": null,
   "metadata": {},
   "outputs": [],
   "source": []
  },
  {
   "cell_type": "markdown",
   "metadata": {},
   "source": [
    "Why is the result like this? "
   ]
  },
  {
   "cell_type": "markdown",
   "metadata": {},
   "source": []
  },
  {
   "cell_type": "markdown",
   "metadata": {},
   "source": [
    "## Extending the set of a prioris"
   ]
  },
  {
   "cell_type": "markdown",
   "metadata": {},
   "source": [
    "Coins do not have to just be fair or two-sided. They can be biased to land on one side more than the other. We can extend our previous experiment to allow any probability of heads from 0 to 1. Let's take a sample every 0.01:"
   ]
  },
  {
   "cell_type": "code",
   "execution_count": null,
   "metadata": {},
   "outputs": [],
   "source": []
  }
 ],
 "metadata": {
  "kernelspec": {
   "display_name": "Python 3",
   "language": "python",
   "name": "python3"
  },
  "language_info": {
   "codemirror_mode": {
    "name": "ipython",
    "version": 3
   },
   "file_extension": ".py",
   "mimetype": "text/x-python",
   "name": "python",
   "nbconvert_exporter": "python",
   "pygments_lexer": "ipython3",
   "version": "3.7.2"
  }
 },
 "nbformat": 4,
 "nbformat_minor": 2
}
