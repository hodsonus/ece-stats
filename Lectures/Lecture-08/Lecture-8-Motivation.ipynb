{
 "cells": [
  {
   "cell_type": "code",
   "execution_count": 1,
   "metadata": {},
   "outputs": [],
   "source": [
    "import random"
   ]
  },
  {
   "cell_type": "markdown",
   "metadata": {},
   "source": [
    "1. A magician has in her pocket a fair coin and a two-headed coin. She chooses one at random and flips it. What is the probability that the result is heads?\n",
    "\n",
    "Build a simulation to answer this"
   ]
  },
  {
   "cell_type": "code",
   "execution_count": 5,
   "metadata": {},
   "outputs": [],
   "source": [
    "def one_flip(num_sims=10000):\n",
    "    coins=['fair','2head']\n",
    "    heads_count=0\n",
    "    for sim in range(num_sims):\n",
    "        coin = random.choice(coins)\n",
    "        if coin=='fair':\n",
    "            faces=['H','T']\n",
    "        else:\n",
    "            faces = ['H','H']\n",
    "            \n",
    "        value = random.choice(faces)\n",
    "        \n",
    "        if value == 'H':\n",
    "            heads_count+=1\n",
    "\n",
    "    print(\"Prob. of heads is\",heads_count/num_sims)\n"
   ]
  },
  {
   "cell_type": "code",
   "execution_count": 11,
   "metadata": {},
   "outputs": [
    {
     "name": "stdout",
     "output_type": "stream",
     "text": [
      "Prob. of heads is 0.7497915\n"
     ]
    }
   ],
   "source": [
    "one_flip()"
   ]
  },
  {
   "cell_type": "markdown",
   "metadata": {},
   "source": [
    "How can we calculate this probability using equally likely outcomes?"
   ]
  },
  {
   "cell_type": "markdown",
   "metadata": {},
   "source": [
    "2. The magician withdraws a coin and flips it. If it comes up Heads, what is the probability that a second flip of that same coin will also be Heads?"
   ]
  },
  {
   "cell_type": "markdown",
   "metadata": {},
   "source": [
    "How can we simulate this?"
   ]
  },
  {
   "cell_type": "code",
   "execution_count": 18,
   "metadata": {},
   "outputs": [],
   "source": [
    "def two_flips(num_sims=10000):\n",
    "    coins=['fair','2head']\n",
    "    heads1_count=0\n",
    "    heads2_count=0;\n",
    "    for sim in range(num_sims):\n",
    "        coin = random.choice(coins)\n",
    "        if coin=='fair':\n",
    "            faces=['H','T']\n",
    "        else:\n",
    "            faces = ['H','H']\n",
    "            \n",
    "        values = random.choices(faces,k=2)\n",
    "        \n",
    "        if values[0] == 'H':\n",
    "            heads1_count+=1\n",
    "            if values[1] =='H':\n",
    "                heads2_count+=1\n",
    "\n",
    "    print(\"Prob. of heads on 2nd flip, given that heads on 1st flip is \",heads2_count/heads1_count)\n"
   ]
  },
  {
   "cell_type": "code",
   "execution_count": 19,
   "metadata": {},
   "outputs": [
    {
     "name": "stdout",
     "output_type": "stream",
     "text": [
      "Prob. of heads on 2nd flip, given that heads on 1st flip is  0.8345295055821371\n"
     ]
    }
   ],
   "source": [
    "two_flips()"
   ]
  },
  {
   "cell_type": "markdown",
   "metadata": {},
   "source": []
  },
  {
   "cell_type": "markdown",
   "metadata": {},
   "source": [
    "How can we get this probability using equally likely outcomes?"
   ]
  },
  {
   "cell_type": "code",
   "execution_count": null,
   "metadata": {},
   "outputs": [],
   "source": []
  }
 ],
 "metadata": {
  "kernelspec": {
   "display_name": "Python 3",
   "language": "python",
   "name": "python3"
  },
  "language_info": {
   "codemirror_mode": {
    "name": "ipython",
    "version": 3
   },
   "file_extension": ".py",
   "mimetype": "text/x-python",
   "name": "python",
   "nbconvert_exporter": "python",
   "pygments_lexer": "ipython3",
   "version": "3.7.2"
  }
 },
 "nbformat": 4,
 "nbformat_minor": 2
}
