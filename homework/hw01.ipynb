{
 "cells": [
  {
   "cell_type": "markdown",
   "metadata": {},
   "source": [
    "### Notes on Preparing and Submitting this Assignment -- Please Read Carefully\n",
    "\n",
    "* Your responses should be created in Python in a Jupyter Notebook.\n",
    "You can put your solutions in this notebook or make a new notebook.\n",
    "* **Use simulations to answer these questions.** Analytical solutions for some of the questions will be requested in Homework 2.\n",
    "* Please submit **both your notebook and a PDF of the notebook** with your solutions. When you are all done, the best way to create a PDF is:\n",
    "    1. Restart and rerun your notebook using the \"Kernel->Restart & Run All\" menu item.\n",
    "    1. Save your notebook by clicking on the Save icon or using the \"File->Save and Checkpoint\" menu item.\n",
    "    1. Generate a static HTML version of your notebook by using the \"File->Print Preview\" menu item. The static HTML version should open in a new tab or window.\n",
    "    1. Generate a PDF of that version. You can follow this guide: [How to Save a Webpage as a PDF](https://www.digitaltrends.com/computing/how-to-save-a-webpage-as-a-pdf/)\n",
    "\n",
    "\n"
   ]
  },
  {
   "cell_type": "code",
   "execution_count": 1,
   "metadata": {},
   "outputs": [],
   "source": [
    "# Some helpful imports -- feel free to import any other libraries you need!\n",
    "import numpy as np\n",
    "import numpy.random as npr\n",
    "import random\n",
    "import matplotlib.pyplot as plt\n",
    "%matplotlib inline"
   ]
  },
  {
   "cell_type": "markdown",
   "metadata": {},
   "source": [
    "## Some features of numpy that you may find useful:\n",
    "**a.** If you add a scalar to a vector, that scalar gets added to every member of the vector:"
   ]
  },
  {
   "cell_type": "code",
   "execution_count": 2,
   "metadata": {},
   "outputs": [
    {
     "data": {
      "text/plain": [
       "array([1, 0, 0, 1, 1, 0, 0, 0, 0, 1])"
      ]
     },
     "execution_count": 2,
     "metadata": {},
     "output_type": "execute_result"
    }
   ],
   "source": [
    "x=npr.randint(2,size=10)\n",
    "x"
   ]
  },
  {
   "cell_type": "code",
   "execution_count": 3,
   "metadata": {},
   "outputs": [
    {
     "data": {
      "text/plain": [
       "array([2, 1, 1, 2, 2, 1, 1, 1, 1, 2])"
      ]
     },
     "execution_count": 3,
     "metadata": {},
     "output_type": "execute_result"
    }
   ],
   "source": [
    "x+1"
   ]
  },
  {
   "cell_type": "markdown",
   "metadata": {},
   "source": [
    "**b.** For a vector of boolean values, you can check whether they are all True using np.all(). Typically, this is used with a condition on a non-boolean vector"
   ]
  },
  {
   "cell_type": "code",
   "execution_count": 4,
   "metadata": {},
   "outputs": [],
   "source": [
    "y=x+1"
   ]
  },
  {
   "cell_type": "code",
   "execution_count": 5,
   "metadata": {},
   "outputs": [
    {
     "data": {
      "text/plain": [
       "False"
      ]
     },
     "execution_count": 5,
     "metadata": {},
     "output_type": "execute_result"
    }
   ],
   "source": [
    "np.all(y<=1)"
   ]
  },
  {
   "cell_type": "code",
   "execution_count": 6,
   "metadata": {},
   "outputs": [
    {
     "data": {
      "text/plain": [
       "True"
      ]
     },
     "execution_count": 6,
     "metadata": {},
     "output_type": "execute_result"
    }
   ],
   "source": [
    "np.all(x<=1)"
   ]
  },
  {
   "cell_type": "markdown",
   "metadata": {},
   "source": [
    "**c.** You can also check if any value satisfies a condition using np.any():"
   ]
  },
  {
   "cell_type": "code",
   "execution_count": 7,
   "metadata": {},
   "outputs": [
    {
     "data": {
      "text/plain": [
       "True"
      ]
     },
     "execution_count": 7,
     "metadata": {},
     "output_type": "execute_result"
    }
   ],
   "source": [
    "np.any(y==2)"
   ]
  },
  {
   "cell_type": "code",
   "execution_count": 8,
   "metadata": {},
   "outputs": [
    {
     "data": {
      "text/plain": [
       "False"
      ]
     },
     "execution_count": 8,
     "metadata": {},
     "output_type": "execute_result"
    }
   ],
   "source": [
    "np.any(x==2)"
   ]
  },
  {
   "cell_type": "markdown",
   "metadata": {},
   "source": [
    "# Problems"
   ]
  },
  {
   "cell_type": "markdown",
   "metadata": {},
   "source": [
    "## I. Simulations of fair experiments"
   ]
  },
  {
   "cell_type": "markdown",
   "metadata": {},
   "source": [
    "**1.** Simulate rolling a fair die three times.  Let $E_i$ be the event that the total value rolled is equal to $i$. Find the relative frequencies of all of the events $E_3, E_4, \\ldots, E_{18}$\n",
    "\n",
    "a) Choose an appropriate number of experiments to simulate to make the simulated results useful for estimating the probabilities. What number of simulations did you choose? "
   ]
  },
  {
   "cell_type": "markdown",
   "metadata": {},
   "source": [
    "b) Print a table of all of the events $E_3, E_4, \\ldots, E_{18}$ and their relative frequencies"
   ]
  },
  {
   "cell_type": "markdown",
   "metadata": {},
   "source": [
    "c) Plot a histogram of the relative frequencies of the events $E_3, E_4, \\ldots, E_{18}$"
   ]
  },
  {
   "cell_type": "markdown",
   "metadata": {},
   "source": [
    "**2.** When values are chosen at random over an interval such that all the parts of the interval are equally likely (we will clarify all this later), we say the values are uniformly distributed\n",
    "\n",
    "The method ```npr.uniform()``` can be used to generate an arbitrary number of uniformly distributed real numbers in a specified interval. For instance, to generate 5 rows of 3 random  reals, each of which is chosen from the interval $[-2,2)$, we can do"
   ]
  },
  {
   "cell_type": "code",
   "execution_count": 9,
   "metadata": {},
   "outputs": [
    {
     "data": {
      "text/plain": [
       "array([[ 1.75745223, -1.87277944,  1.91940772],\n",
       "       [ 2.47156776,  2.56202152,  0.01096757],\n",
       "       [ 1.50001248,  0.96508994, -0.12682467],\n",
       "       [ 0.67111333, -1.2339316 , -1.04316454],\n",
       "       [ 1.03724394, -1.19302786,  1.29531907]])"
      ]
     },
     "execution_count": 9,
     "metadata": {},
     "output_type": "execute_result"
    }
   ],
   "source": [
    "npr.uniform(-2,3,size=(5,3))"
   ]
  },
  {
   "cell_type": "markdown",
   "metadata": {},
   "source": [
    "Use this information to build a simulation to calculate $\\pi$. Draw pairs of random values, each of which is uniformly distributed on $[-1,1)$. Determine the number of pairs that lie within the unit circle. The relative frequency of the event \"a pair lies within the unit circle\" is related to pi. Explain the relation and show that you can accurately simulate $\\pi$ to at least 3 decimal places using this technique"
   ]
  },
  {
   "cell_type": "markdown",
   "metadata": {},
   "source": [
    "## Simulation and Hypothesis Testing"
   ]
  },
  {
   "cell_type": "markdown",
   "metadata": {},
   "source": [
    "Review the notes and example on binary hypothesis testing from Lecture 4. In what follows, apply a $p$-value threshold of 0.01.  That is, there must be less than a 1% probability of seeing such an extreme value under the null hypothesis before we are willing to conclude that the null hypothesis is not reasonable."
   ]
  },
  {
   "cell_type": "markdown",
   "metadata": {},
   "source": [
    "**3.** If a 6-sided die is rolled 12 times and all the values are <=4, should we feel confident that the dice is not fair (i.e., reject the null hypothesis with p=0.01)?"
   ]
  },
  {
   "cell_type": "markdown",
   "metadata": {},
   "source": [
    "**4.** If a pair of dice is rolled 4 times (i.e., each die is rolled 6 times) and the sum of the dice is always less than or equal to 6, should we feel confident that the dice are note fair?"
   ]
  },
  {
   "cell_type": "markdown",
   "metadata": {},
   "source": [
    "**5.** Repeat problem 4 if the pairs of dice are rolled 6 times instead of 4 times."
   ]
  },
  {
   "cell_type": "markdown",
   "metadata": {},
   "source": [
    "## Simulation of Systems with Hidden State and Conditional Probabilities"
   ]
  },
  {
   "cell_type": "markdown",
   "metadata": {},
   "source": [
    "**6.** A magician has in her pocket **two** fair coins and a two-headed coin. She chooses one at random and flips it. What is the probability that the result is heads?\n",
    "\n",
    "Build a simulation to answer this"
   ]
  },
  {
   "cell_type": "markdown",
   "metadata": {},
   "source": [
    "**7.** A magician has in her pocket two fair coins and a two-headed coin. The magician withdraws a coin and flips it. If it comes up Heads, what is the probability that a second flip of that same coin will also be Heads?"
   ]
  },
  {
   "cell_type": "markdown",
   "metadata": {},
   "source": [
    "**8.** A magician has in her pocket two fair coins and a two-headed coin. The magician withdraws a coin and flips it twice. If it comes up Heads both times, what is the probability that a third flip of that same coin will also be Heads?"
   ]
  },
  {
   "cell_type": "code",
   "execution_count": null,
   "metadata": {},
   "outputs": [],
   "source": []
  }
 ],
 "metadata": {
  "kernelspec": {
   "display_name": "Python 3",
   "language": "python",
   "name": "python3"
  },
  "language_info": {
   "codemirror_mode": {
    "name": "ipython",
    "version": 3
   },
   "file_extension": ".py",
   "mimetype": "text/x-python",
   "name": "python",
   "nbconvert_exporter": "python",
   "pygments_lexer": "ipython3",
   "version": "3.6.7"
  }
 },
 "nbformat": 4,
 "nbformat_minor": 2
}
