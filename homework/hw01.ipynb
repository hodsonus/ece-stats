{
 "cells": [
  {
   "cell_type": "markdown",
   "metadata": {},
   "source": [
    "### Notes on Preparing and Submitting this Assignment -- Please Read Carefully\n",
    "\n",
    "* Your responses should be created in Python in a Jupyter Notebook.\n",
    "You can put your solutions in this notebook or make a new notebook.\n",
    "* **Use simulations to answer these questions.** Analytical solutions for some of the questions will be requested in Homework 2.\n",
    "* Please submit **both your notebook and a PDF of the notebook** with your solutions. When you are all done, the best way to create a PDF is:\n",
    "    1. Restart and rerun your notebook using the \"Kernel->Restart & Run All\" menu item.\n",
    "    1. Save your notebook by clicking on the Save icon or using the \"File->Save and Checkpoint\" menu item.\n",
    "    1. Generate a static HTML version of your notebook by using the \"File->Print Preview\" menu item. The static HTML version should open in a new tab or window.\n",
    "    1. Generate a PDF of that version. You can follow this guide: [How to Save a Webpage as a PDF](https://www.digitaltrends.com/computing/how-to-save-a-webpage-as-a-pdf/)\n",
    "\n",
    "\n"
   ]
  },
  {
   "cell_type": "code",
   "execution_count": 1,
   "metadata": {},
   "outputs": [],
   "source": [
    "# Some helpful imports -- feel free to import any other libraries you need!\n",
    "import numpy as np\n",
    "import numpy.random as npr\n",
    "import random\n",
    "import matplotlib.pyplot as plt\n",
    "import math\n",
    "%matplotlib inline"
   ]
  },
  {
   "cell_type": "markdown",
   "metadata": {},
   "source": [
    "## Some features of numpy that you may find useful:\n",
    "**a.** If you add a scalar to a vector, that scalar gets added to every member of the vector:"
   ]
  },
  {
   "cell_type": "code",
   "execution_count": 2,
   "metadata": {},
   "outputs": [
    {
     "data": {
      "text/plain": [
       "array([0, 0, 1, 0, 0, 1, 1, 0, 1, 0])"
      ]
     },
     "execution_count": 2,
     "metadata": {},
     "output_type": "execute_result"
    }
   ],
   "source": [
    "x=npr.randint(2,size=10)\n",
    "x"
   ]
  },
  {
   "cell_type": "code",
   "execution_count": 3,
   "metadata": {},
   "outputs": [
    {
     "data": {
      "text/plain": [
       "array([1, 1, 2, 1, 1, 2, 2, 1, 2, 1])"
      ]
     },
     "execution_count": 3,
     "metadata": {},
     "output_type": "execute_result"
    }
   ],
   "source": [
    "x+1"
   ]
  },
  {
   "cell_type": "markdown",
   "metadata": {},
   "source": [
    "**b.** For a vector of boolean values, you can check whether they are all True using np.all(). Typically, this is used with a condition on a non-boolean vector"
   ]
  },
  {
   "cell_type": "code",
   "execution_count": 4,
   "metadata": {},
   "outputs": [],
   "source": [
    "y=x+1"
   ]
  },
  {
   "cell_type": "code",
   "execution_count": 5,
   "metadata": {},
   "outputs": [
    {
     "data": {
      "text/plain": [
       "False"
      ]
     },
     "execution_count": 5,
     "metadata": {},
     "output_type": "execute_result"
    }
   ],
   "source": [
    "np.all(y<=1)"
   ]
  },
  {
   "cell_type": "code",
   "execution_count": 6,
   "metadata": {},
   "outputs": [
    {
     "data": {
      "text/plain": [
       "True"
      ]
     },
     "execution_count": 6,
     "metadata": {},
     "output_type": "execute_result"
    }
   ],
   "source": [
    "np.all(x<=1)"
   ]
  },
  {
   "cell_type": "markdown",
   "metadata": {},
   "source": [
    "**c.** You can also check if any value satisfies a condition using np.any():"
   ]
  },
  {
   "cell_type": "code",
   "execution_count": 7,
   "metadata": {},
   "outputs": [
    {
     "data": {
      "text/plain": [
       "True"
      ]
     },
     "execution_count": 7,
     "metadata": {},
     "output_type": "execute_result"
    }
   ],
   "source": [
    "np.any(y==2)"
   ]
  },
  {
   "cell_type": "code",
   "execution_count": 8,
   "metadata": {},
   "outputs": [
    {
     "data": {
      "text/plain": [
       "False"
      ]
     },
     "execution_count": 8,
     "metadata": {},
     "output_type": "execute_result"
    }
   ],
   "source": [
    "np.any(x==2)"
   ]
  },
  {
   "cell_type": "markdown",
   "metadata": {},
   "source": [
    "# Problems"
   ]
  },
  {
   "cell_type": "markdown",
   "metadata": {},
   "source": [
    "## I. Simulations of fair experiments"
   ]
  },
  {
   "cell_type": "markdown",
   "metadata": {},
   "source": [
    "**1.** Simulate rolling a fair die three times.  Let $E_i$ be the event that the total value rolled is equal to $i$. Find the relative frequencies of all of the events $E_3, E_4, \\ldots, E_{18}$\n",
    "\n",
    "a) Choose an appropriate number of experiments to simulate to make the simulated results useful for estimating the probabilities. What number of simulations did you choose? "
   ]
  },
  {
   "cell_type": "markdown",
   "metadata": {},
   "source": [
    "<span style=\"color:red\">I chose the number of simuations to be 1,000,000 as the relative frequencies began to converge to 3 decimal points at this number and the histogram seemed to have converged from this number of simulations forward.</span>"
   ]
  },
  {
   "cell_type": "code",
   "execution_count": 9,
   "metadata": {},
   "outputs": [],
   "source": [
    "def roll_three(i, num_sims=1000000):\n",
    "    sides = range(1,7)\n",
    "    events = []\n",
    "    desired_event_count = 0\n",
    "    for j in range(0, num_sims):\n",
    "        event = random.choices(sides, k=3)\n",
    "        event_sum = sum(event)\n",
    "#         print('event sum =',event_sum)\n",
    "        if event_sum == i:\n",
    "#             print('Success!, event sum of',event_sum,'matches with desired event sum of',i)\n",
    "            desired_event_count+=1\n",
    "    \n",
    "    return desired_event_count/num_sims"
   ]
  },
  {
   "cell_type": "markdown",
   "metadata": {},
   "source": [
    "b) Print a table of all of the events $E_3, E_4, \\ldots, E_{18}$ and their relative frequencies"
   ]
  },
  {
   "cell_type": "code",
   "execution_count": 10,
   "metadata": {},
   "outputs": [
    {
     "name": "stdout",
     "output_type": "stream",
     "text": [
      "Event\tRelative Frequency\n",
      "E3\t0.004672\n",
      "E4\t0.013776\n",
      "E5\t0.02781\n",
      "E6\t0.045929\n",
      "E7\t0.069356\n",
      "E8\t0.097211\n",
      "E9\t0.115363\n",
      "E10\t0.125301\n",
      "E11\t0.125402\n",
      "E12\t0.115771\n",
      "E13\t0.097523\n",
      "E14\t0.069502\n",
      "E15\t0.045951\n",
      "E16\t0.027833\n",
      "E17\t0.013897\n",
      "E18\t0.00465\n"
     ]
    }
   ],
   "source": [
    "rfreqs = []\n",
    "num_sims = 1000000\n",
    "print('Event\\tRelative Frequency')\n",
    "for i in range(3,19):\n",
    "    rfreq=roll_three(i,num_sims)\n",
    "    rfreqs.append(rfreq)\n",
    "    print('E',i,'\\t',rfreq,sep=\"\",end=\"\\n\")"
   ]
  },
  {
   "cell_type": "markdown",
   "metadata": {},
   "source": [
    "c) Plot a histogram of the relative frequencies of the events $E_3, E_4, \\ldots, E_{18}$"
   ]
  },
  {
   "cell_type": "code",
   "execution_count": 11,
   "metadata": {},
   "outputs": [
    {
     "data": {
      "text/plain": [
       "Text(0, 0.5, 'Counts')"
      ]
     },
     "execution_count": 11,
     "metadata": {},
     "output_type": "execute_result"
    },
    {
     "data": {
      "image/png": "[encoded data removed]",
      "text/plain": [
       "<Figure size 432x288 with 1 Axes>"
      ]
     },
     "metadata": {
      "needs_background": "light"
     },
     "output_type": "display_data"
    }
   ],
   "source": [
    "events= []\n",
    "for i in range(16):\n",
    "    num_events = int(rfreqs[i]*10000)\n",
    "    for j in range(num_events):\n",
    "        events+=[i+3]\n",
    "\n",
    "plt.hist(x=events,bins=16,label=\"Events\");\n",
    "plt.legend();\n",
    "plt.xlabel(\"Sum of the 3 rolls\")\n",
    "plt.ylabel(\"Counts\")"
   ]
  },
  {
   "cell_type": "markdown",
   "metadata": {},
   "source": [
    "**2.** When values are chosen at random over an interval such that all the parts of the interval are equally likely (we will clarify all this later), we say the values are uniformly distributed\n",
    "\n",
    "The method ```npr.uniform()``` can be used to generate an arbitrary number of uniformly distributed real numbers in a specified interval. For instance, to generate 5 rows of 3 random  reals, each of which is chosen from the interval $[-2,2)$, we can do"
   ]
  },
  {
   "cell_type": "code",
   "execution_count": 12,
   "metadata": {},
   "outputs": [
    {
     "data": {
      "text/plain": [
       "array([[ 1.71887404,  1.66376096,  0.44987845],\n",
       "       [ 2.95244842,  2.11899952,  1.46256648],\n",
       "       [-0.60370182,  1.66039341,  0.30241233],\n",
       "       [-1.63710121,  1.21253598,  2.06210554],\n",
       "       [ 0.17839079,  2.1954707 ,  0.0957756 ]])"
      ]
     },
     "execution_count": 12,
     "metadata": {},
     "output_type": "execute_result"
    }
   ],
   "source": [
    "npr.uniform(-2,3,size=(5,3))"
   ]
  },
  {
   "cell_type": "markdown",
   "metadata": {},
   "source": [
    "Use this information to build a simulation to calculate $\\pi$. Draw pairs of random values, each of which is uniformly distributed on $[-1,1)$. Determine the number of pairs that lie within the unit circle. The relative frequency of the event \"a pair lies within the unit circle\" is related to pi. Explain the relation and show that you can accurately simulate $\\pi$ to at least 3 decimal places using this technique"
   ]
  },
  {
   "cell_type": "code",
   "execution_count": 13,
   "metadata": {},
   "outputs": [],
   "source": [
    "def calculate_pi(num_sims = 10000000):\n",
    "    points = npr.uniform(-1,1,size=(num_sims,2))\n",
    "    desired_outcome_count = 0\n",
    "    for i in range(0,num_sims):\n",
    "        point = points[i]\n",
    "        inside_circle = math.sqrt(point[0]**2 + point[1]**2) <= 1\n",
    "#         print('Is ',point,'inside of the circle?',inside_circle)\n",
    "        desired_outcome_count += inside_circle\n",
    "    \n",
    "    return desired_outcome_count/num_sims*4"
   ]
  },
  {
   "cell_type": "code",
   "execution_count": 14,
   "metadata": {},
   "outputs": [
    {
     "name": "stdout",
     "output_type": "stream",
     "text": [
      "According to this Monte Carlo simulation, pi is ~3.1415212.\n"
     ]
    }
   ],
   "source": [
    "print('According to this Monte Carlo simulation, pi is ~',calculate_pi(),'.',sep=\"\")"
   ]
  },
  {
   "cell_type": "markdown",
   "metadata": {},
   "source": [
    "<span style=\"color:red\">The relation between the relative frequency of the event \"a pair lies within the unit circle\" and pi, where each coordinate of the pair is between -1 inclusive and 1 noninclusive, is as follows.<br><br>Pi is found by multiplying this relative frequency by 4. This is because the unit circle has pi/4 the area of the 2x2 square that it is inscribed within. The possible points are randomnly distributed throughout this square, and thus you have pi/4 chance to draw a point within the unit circle out of the square.</span>"
   ]
  },
  {
   "cell_type": "markdown",
   "metadata": {},
   "source": [
    "## Simulation and Hypothesis Testing"
   ]
  },
  {
   "cell_type": "markdown",
   "metadata": {},
   "source": [
    "Review the notes and example on binary hypothesis testing from Lecture 4. In what follows, apply a $p$-value threshold of 0.01.  That is, there must be less than a 1% probability of seeing such an extreme value under the null hypothesis before we are willing to conclude that the null hypothesis is not reasonable."
   ]
  },
  {
   "cell_type": "code",
   "execution_count": 15,
   "metadata": {},
   "outputs": [],
   "source": [
    "def roll_dice(num_dice, times_to_roll, num_sims):\n",
    "    die = range(1,7)\n",
    "    sims = []\n",
    "    for j in range(0,num_sims):\n",
    "        rolls = []\n",
    "        for i in range (0, times_to_roll):\n",
    "            roll = random.choices(die,k=num_dice)\n",
    "            rolls.append(roll)\n",
    "        sims.append(rolls)\n",
    "    return sims\n",
    "\n",
    "def roll_under_four(num_sims=100000):\n",
    "    sims = roll_dice(1,12,num_sims)\n",
    "    count = 0\n",
    "    for rolls in sims:\n",
    "#         print(roll)\n",
    "        if np.all(np.array(rolls) <= 4):\n",
    "            count+=1\n",
    "        \n",
    "    return count/num_sims\n",
    "\n",
    "def roll_pair_under_six(times_to_roll, num_sims=100000):\n",
    "    sims = roll_dice(2,times_to_roll,num_sims)\n",
    "    under_occurrences = []\n",
    "    for rolls in sims:\n",
    "        over_occurred = False\n",
    "        for pair in rolls:\n",
    "            if pair[0]+pair[1] > 6:\n",
    "                over_occurred = True\n",
    "                break\n",
    "        under_occurrences.append(not over_occurred)\n",
    "    return sum(under_occurrences)/num_sims"
   ]
  },
  {
   "cell_type": "markdown",
   "metadata": {},
   "source": [
    "**3.** If a 6-sided die is rolled 12 times and all the values are <=4, should we feel confident that the dice is not fair (i.e., reject the null hypothesis with p=0.01)?"
   ]
  },
  {
   "cell_type": "code",
   "execution_count": 16,
   "metadata": {},
   "outputs": [
    {
     "name": "stdout",
     "output_type": "stream",
     "text": [
      "Yes, we should feel confident that the die is not fair and reject the null hypothesis with p=0.01 as the probability of this occuring in a fair die is ~0.00741.\n"
     ]
    }
   ],
   "source": [
    "print('Yes, we should feel confident that the die is not fair and reject the null hypothesis with p=0.01 as the probability of this occuring in a fair die is ~',roll_under_four(),'.',sep=\"\")"
   ]
  },
  {
   "cell_type": "markdown",
   "metadata": {},
   "source": [
    "#### **4.** If a pair of dice is rolled 4 times (i.e., each die is rolled 4 times) and the sum of the dice is always less than or equal to 6, should we feel confident that the dice are note fair?"
   ]
  },
  {
   "cell_type": "code",
   "execution_count": 17,
   "metadata": {},
   "outputs": [
    {
     "name": "stdout",
     "output_type": "stream",
     "text": [
      "No, we should not feel confident that the dice are unfair as the probability of this occuring in a real set of dice is ~0.02986. This is certainly a small percentage, but with my p=0.01 this is not enough to definitively say.\n"
     ]
    }
   ],
   "source": [
    "print('No, we should not feel confident that the dice are unfair as the probability of this occuring in a real set of dice is ~',roll_pair_under_six(4),'. This is certainly a small percentage, but with my p=0.01 this is not enough to definitively say.',sep=\"\")"
   ]
  },
  {
   "cell_type": "markdown",
   "metadata": {},
   "source": [
    "**5.** Repeat problem 4 if the pairs of dice are rolled 6 times instead of 4 times."
   ]
  },
  {
   "cell_type": "code",
   "execution_count": 18,
   "metadata": {},
   "outputs": [
    {
     "name": "stdout",
     "output_type": "stream",
     "text": [
      "Yes, we should feel confident that the dice are unfair as the probability of this occuring in a real set of dice is ~0.00521. There is a very small percentage of this happening, and with my p=0.01 this is enough to definitively say.\n"
     ]
    }
   ],
   "source": [
    "print('Yes, we should feel confident that the dice are unfair as the probability of this occuring in a real set of dice is ~',roll_pair_under_six(6),'. There is a very small percentage of this happening, and with my p=0.01 this is enough to definitively say.',sep=\"\")"
   ]
  },
  {
   "cell_type": "markdown",
   "metadata": {},
   "source": [
    "## Simulation of Systems with Hidden State and Conditional Probabilities"
   ]
  },
  {
   "cell_type": "markdown",
   "metadata": {},
   "source": [
    "**6.** A magician has in her pocket **two** fair coins and a two-headed coin. She chooses one at random and flips it. What is the probability that the result is heads?\n",
    "\n",
    "Build a simulation to answer this"
   ]
  },
  {
   "cell_type": "code",
   "execution_count": 19,
   "metadata": {},
   "outputs": [],
   "source": [
    "def flip_coins(times_to_flip, num_sims = 100000):\n",
    "    coins = [['H','T'],['H','T'],['H','H']]\n",
    "    heads_count = 0;\n",
    "    coin_indexes = range(0,len(coins))\n",
    "    outcomes = []\n",
    "    for i in range(0, num_sims):\n",
    "        coin = coins[random.choice(coin_indexes)]\n",
    "    #     print(coin)\n",
    "        outcomes.append(random.choices(coin, k=times_to_flip))\n",
    "    return outcomes"
   ]
  },
  {
   "cell_type": "code",
   "execution_count": 20,
   "metadata": {},
   "outputs": [
    {
     "name": "stdout",
     "output_type": "stream",
     "text": [
      "The probability that a result is heads is ~0.666.\n"
     ]
    }
   ],
   "source": [
    "num_sims = 100000\n",
    "outcomes = flip_coins(times_to_flip=1,num_sims=num_sims)\n",
    "head_count = outcomes.count(['H'])\n",
    "print(\"The probability that a result is heads is ~\",head_count/num_sims,\".\",sep=\"\")"
   ]
  },
  {
   "cell_type": "markdown",
   "metadata": {},
   "source": [
    "**7.** A magician has in her pocket two fair coins and a two-headed coin. The magician withdraws a coin and flips it. If it comes up Heads, what is the probability that a second flip of that same coin will also be Heads?"
   ]
  },
  {
   "cell_type": "code",
   "execution_count": 21,
   "metadata": {},
   "outputs": [
    {
     "name": "stdout",
     "output_type": "stream",
     "text": [
      "The probability that both results are heads is ~0.748782570910562.\n"
     ]
    }
   ],
   "source": [
    "outcomes = flip_coins(times_to_flip=2)\n",
    "HH_count = outcomes.count(['H','H'])\n",
    "HT_count = outcomes.count(['H','T'])\n",
    "print(\"The probability that both results are heads is ~\",HH_count/(HH_count+HT_count),\".\",sep=\"\")"
   ]
  },
  {
   "cell_type": "markdown",
   "metadata": {},
   "source": [
    "**8.** A magician has in her pocket two fair coins and a two-headed coin. The magician withdraws a coin and flips it twice. If it comes up Heads both times, what is the probability that a third flip of that same coin will also be Heads?"
   ]
  },
  {
   "cell_type": "code",
   "execution_count": 22,
   "metadata": {},
   "outputs": [
    {
     "name": "stdout",
     "output_type": "stream",
     "text": [
      "The probability that all three results are heads is ~0.8326449166916093.\n"
     ]
    }
   ],
   "source": [
    "outcomes = flip_coins(times_to_flip=3)\n",
    "HHH_count = outcomes.count(['H','H','H'])\n",
    "HHT_count = outcomes.count(['H','H','T'])\n",
    "print(\"The probability that all three results are heads is ~\",HHH_count/(HHH_count+HHT_count),\".\",sep=\"\")"
   ]
  }
 ],
 "metadata": {
  "kernelspec": {
   "display_name": "Python 3",
   "language": "python",
   "name": "python3"
  },
  "language_info": {
   "codemirror_mode": {
    "name": "ipython",
    "version": 3
   },
   "file_extension": ".py",
   "mimetype": "text/x-python",
   "name": "python",
   "nbconvert_exporter": "python",
   "pygments_lexer": "ipython3",
   "version": "3.7.2"
  }
 },
 "nbformat": 4,
 "nbformat_minor": 2
}
