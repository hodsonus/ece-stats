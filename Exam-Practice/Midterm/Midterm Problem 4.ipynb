{
 "cells": [
  {
   "cell_type": "markdown",
   "metadata": {},
   "source": [
    "Problem 4 (20 points)\n",
    "\n",
    "Write simulation(s) in Python to answer the following questions. Submit your answers (as a Jupyter notebook) to the Midterm Question 4 assignment in Canvas.\n",
    "\n",
    "(a) A gambler has a fair coin and a two-headed coin in his pocket. He chooses one at random. He rolls a fair 6-sided die to determine how many times to flip the coin. What is the probability that it comes up all heads?\n",
    "\n",
    "(b) For the scenario in part (a), given that the coin came up all heads, what is the probability that the coin was the fair coin?\n",
    "\n",
    "(c) Now suppose the gambler has 2 fair coins and 1 two-headed coin in his pocket. Again, he chooses one at random. He rolls a fair 6-sided die to determine how many times to flip the coin. What is the probability that it comes up all heads?\n",
    "\n",
    "(d) For the scenario in part (c), given that the coin came up all heads, what is the probability that the choin was the fair coin?"
   ]
  },
  {
   "cell_type": "code",
   "execution_count": 1,
   "metadata": {},
   "outputs": [],
   "source": [
    "import numpy as np\n",
    "import scipy.stats as stats"
   ]
  },
  {
   "cell_type": "code",
   "execution_count": 2,
   "metadata": {},
   "outputs": [],
   "source": [
    "# A"
   ]
  },
  {
   "cell_type": "code",
   "execution_count": 3,
   "metadata": {},
   "outputs": [],
   "source": [
    "def coin_and_die(coins,num_sims = 10000):\n",
    "    die = [1,2,3,4,5,6]\n",
    "    event_count = 0\n",
    "    fair_coin_count = 0\n",
    "    for i in range(num_sims):\n",
    "#         print(len(coins))\n",
    "        ind = np.random.choice(range(0,len(coins)),1)[0]\n",
    "        coin = coins[ind]\n",
    "        flips= np.random.choice(die,1)[0]\n",
    "        res = np.random.choice(coin,flips)\n",
    "        sum = np.sum( res == 'H' )\n",
    "    #     print('sum: ', sum, \". flips: \",flips, sep=\"\")\n",
    "        if (sum == flips): \n",
    "            event_count+=1\n",
    "            if (coin == ['H','T']):\n",
    "                fair_coin_count+=1    \n",
    "    return num_sims,event_count,fair_coin_count"
   ]
  },
  {
   "cell_type": "code",
   "execution_count": 4,
   "metadata": {},
   "outputs": [
    {
     "name": "stdout",
     "output_type": "stream",
     "text": [
      "0.5823\n"
     ]
    }
   ],
   "source": [
    "coins = [['H','T'],['H','H']]\n",
    "num_sims,event_count,fair_coin_count=coin_and_die(coins)\n",
    "print(event_count/num_sims)"
   ]
  },
  {
   "cell_type": "code",
   "execution_count": 5,
   "metadata": {},
   "outputs": [],
   "source": [
    "# B"
   ]
  },
  {
   "cell_type": "code",
   "execution_count": 6,
   "metadata": {},
   "outputs": [
    {
     "name": "stdout",
     "output_type": "stream",
     "text": [
      "0.13893182208483598\n"
     ]
    }
   ],
   "source": [
    "print(fair_coin_count/event_count)"
   ]
  },
  {
   "cell_type": "code",
   "execution_count": 7,
   "metadata": {},
   "outputs": [],
   "source": [
    "# C"
   ]
  },
  {
   "cell_type": "code",
   "execution_count": 8,
   "metadata": {},
   "outputs": [
    {
     "name": "stdout",
     "output_type": "stream",
     "text": [
      "0.4387\n"
     ]
    }
   ],
   "source": [
    "coins = [['H','T'],['H','H'],['H','T']]\n",
    "num_sims,event_count,fair_coin_count=coin_and_die(coins)\n",
    "print(event_count/num_sims)"
   ]
  },
  {
   "cell_type": "code",
   "execution_count": 9,
   "metadata": {},
   "outputs": [],
   "source": [
    "# D"
   ]
  },
  {
   "cell_type": "code",
   "execution_count": 10,
   "metadata": {},
   "outputs": [
    {
     "name": "stdout",
     "output_type": "stream",
     "text": [
      "0.24321860041030316\n"
     ]
    }
   ],
   "source": [
    "print(fair_coin_count/event_count)"
   ]
  }
 ],
 "metadata": {
  "kernelspec": {
   "display_name": "Python 3",
   "language": "python",
   "name": "python3"
  },
  "language_info": {
   "codemirror_mode": {
    "name": "ipython",
    "version": 3
   },
   "file_extension": ".py",
   "mimetype": "text/x-python",
   "name": "python",
   "nbconvert_exporter": "python",
   "pygments_lexer": "ipython3",
   "version": "3.7.2"
  }
 },
 "nbformat": 4,
 "nbformat_minor": 2
}
