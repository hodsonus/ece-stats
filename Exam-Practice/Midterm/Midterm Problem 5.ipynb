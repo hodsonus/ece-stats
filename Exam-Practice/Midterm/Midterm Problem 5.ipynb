{
 "cells": [
  {
   "cell_type": "code",
   "execution_count": 5,
   "metadata": {},
   "outputs": [],
   "source": [
    "import pickle\n",
    "import matplotlib.pyplot as plt\n",
    "%matplotlib inline\n",
    "import numpy as np\n",
    "import numpy.random as npr"
   ]
  },
  {
   "cell_type": "markdown",
   "metadata": {},
   "source": [
    "Problem. 5. (30 points)\n",
    "\n",
    "Using the NSFG pregnancy data set (the same data set\n",
    "  that we have used throughout the class), conduct a binary hypothesis\n",
    "  test (a classical test, not Bayesian) to determine if a woman's age \n",
    "  during her pregnancy affects the birth weight of the child.  Solutions should be submitted as  Jupyter notebook to the Canvas assignment \"Midterm Problem 5\".\n",
    "\n",
    "  To make this problem easier, I have already processed the data and pickled it to a file.  Different groups of students will use different subsets of the original data, which are in different pickle files. You will choose to uncomment one of the lines below to use a particular pickle file based on the first letter of your last name:\n",
    "  \n",
    "* **A-K** weights1.pickle\n",
    "* **L-S** weights2.pickle\n",
    "* **T-Z** weights3.pickle\n",
    "\n",
    "Each pickle file contains three numpy arrays of birth weights in ounces in the following order\n",
    "1. The first array is\n",
    "  for women who were under age 30 at the time they got pregnant\n",
    "2. The second array is for women who were 30 or older at the time\n",
    "  they got pregnant.  \n",
    "3. The third array contains the birth weights for both of the above groups."
   ]
  },
  {
   "cell_type": "code",
   "execution_count": 6,
   "metadata": {},
   "outputs": [],
   "source": [
    "file=open('weights1.pickle','rb')\n",
    "#file=open('weights2.pickle','rb')\n",
    "#file=open('weights3.pickle','rb')"
   ]
  },
  {
   "cell_type": "code",
   "execution_count": 7,
   "metadata": {},
   "outputs": [],
   "source": [
    "young=pickle.load(file)\n",
    "older=pickle.load(file)\n",
    "both=pickle.load(file)"
   ]
  },
  {
   "cell_type": "code",
   "execution_count": 9,
   "metadata": {},
   "outputs": [],
   "source": [
    "file.close()"
   ]
  },
  {
   "cell_type": "markdown",
   "metadata": {},
   "source": [
    "**(a) On the same graph, plot normalized histograms of the same data set. Adjust the number of bins so that differences in the weights of the babies can be readily observed.**"
   ]
  },
  {
   "cell_type": "code",
   "execution_count": 47,
   "metadata": {},
   "outputs": [
    {
     "data": {
      "image/png": "[encoded data removed]",
      "text/plain": [
       "<Figure size 432x288 with 1 Axes>"
      ]
     },
     "metadata": {
      "needs_background": "light"
     },
     "output_type": "display_data"
    }
   ],
   "source": [
    "n,bins,patches = plt.hist(young, alpha=0.5, bins=40, label=\"Young\", density=True);\n",
    "plt.hist(older, bins=bins, alpha=0.5, label=\"Older\", density=True);\n",
    "plt.xlabel(\"Birth weight (ounces)\");\n",
    "plt.ylabel(\"Normalized occurences\");\n",
    "plt.legend();"
   ]
  },
  {
   "cell_type": "markdown",
   "metadata": {},
   "source": [
    "**(b) Determine the averages for each data set (young vs. older) **"
   ]
  },
  {
   "cell_type": "code",
   "execution_count": 64,
   "metadata": {},
   "outputs": [
    {
     "name": "stdout",
     "output_type": "stream",
     "text": [
      "Average of young data set: 115.88054938956715.\n",
      "Average of older data set: 117.70546448087431.\n"
     ]
    }
   ],
   "source": [
    "print(\"Average of young data set: \",np.mean(young),\".\",sep=\"\")\n",
    "print(\"Average of older data set: \",np.mean(older),\".\",sep=\"\")"
   ]
  },
  {
   "cell_type": "markdown",
   "metadata": {},
   "source": [
    "**(c) Determine the medians for each data set (young vs. older) **"
   ]
  },
  {
   "cell_type": "code",
   "execution_count": 65,
   "metadata": {},
   "outputs": [
    {
     "name": "stdout",
     "output_type": "stream",
     "text": [
      "Median of young data set: 117.0.\n",
      "Median of older data set: 119.0.\n"
     ]
    }
   ],
   "source": [
    "print(\"Median of young data set: \",np.median(young),\".\",sep=\"\")\n",
    "print(\"Median of older data set: \",np.median(older),\".\",sep=\"\")"
   ]
  },
  {
   "cell_type": "markdown",
   "metadata": {},
   "source": [
    "**(d) Based on these observations, which have heavier babies, younger mothers or older mothers? Briefly explain.**"
   ]
  },
  {
   "cell_type": "markdown",
   "metadata": {},
   "source": [
    "It appears that the older mothers may have heavier babies, but we cannot be sure that this is not noise at this point of our analysis."
   ]
  },
  {
   "cell_type": "markdown",
   "metadata": {},
   "source": [
    "**(d) Determine the proportion of births that are over 8 pounds (i.e., 128 ounces) for each class. **"
   ]
  },
  {
   "cell_type": "code",
   "execution_count": 194,
   "metadata": {},
   "outputs": [
    {
     "name": "stdout",
     "output_type": "stream",
     "text": [
      "The proportion of births that are over 8 pounds for the younger data set is = 0.2561043285238624.\n",
      "The proportion of births that are over 8 pounds for the older data set is = 0.3087431693989071.\n",
      "0.05263884087504472\n"
     ]
    }
   ],
   "source": [
    "young_prop = np.sum(young > 128)/len(young)\n",
    "older_prop = np.sum(older > 128)/len(older)\n",
    "diff = older_prop - young_prop\n",
    "\n",
    "print(\"The proportion of births that are over 8 pounds for the younger data set is = \",young_prop,\".\",sep=\"\")\n",
    "print(\"The proportion of births that are over 8 pounds for the older data set is = \",older_prop,\".\",sep=\"\")\n",
    "print(diff)"
   ]
  },
  {
   "cell_type": "markdown",
   "metadata": {},
   "source": [
    "**(e) Use resampling (simulation) to determine if the effect observed in part (d) is statistically significant (at the p<=0.05 level). Provide your code, a clear conclusion, and a brief discussion of why you made that conclusion. **"
   ]
  },
  {
   "cell_type": "code",
   "execution_count": 113,
   "metadata": {},
   "outputs": [
    {
     "data": {
      "text/plain": [
       "(7208, 1830)"
      ]
     },
     "execution_count": 113,
     "metadata": {},
     "output_type": "execute_result"
    }
   ],
   "source": [
    "len(young),len(older)"
   ]
  },
  {
   "cell_type": "code",
   "execution_count": 206,
   "metadata": {},
   "outputs": [
    {
     "name": "stdout",
     "output_type": "stream",
     "text": [
      "0.05336086800943701\n"
     ]
    }
   ],
   "source": [
    "pooled = both\n",
    "num_sims = 100000\n",
    "event_count = 0\n",
    "max_diff = 0\n",
    "for i in range(num_sims):\n",
    "    young_resample = npr.choice(pooled, size=7208)\n",
    "    older_resample = npr.choice(pooled, size=1830)\n",
    "    young_resample_prop = np.sum(young_resample > 128)/len(young_resample)\n",
    "    older_resample_prop = np.sum(older_resample > 128)/len(older_resample)\n",
    "\n",
    "    diff_resample = older_resample_prop - young_resample_prop\n",
    "    \n",
    "    \n",
    "    \n",
    "    \n",
    "    if (abs(diff_resample) >= diff):\n",
    "        event_count+=1\n",
    "        \n",
    "    if (abs(diff_resample) > max_diff):\n",
    "        max_diff = abs(diff_resample)\n",
    "        \n",
    "print(max_diff)"
   ]
  },
  {
   "cell_type": "code",
   "execution_count": 208,
   "metadata": {},
   "outputs": [
    {
     "name": "stdout",
     "output_type": "stream",
     "text": [
      "1e-05\n",
      "1\n"
     ]
    }
   ],
   "source": [
    "print(event_count/num_sims)\n",
    "print(event_count)"
   ]
  }
 ],
 "metadata": {
  "kernelspec": {
   "display_name": "Python 3",
   "language": "python",
   "name": "python3"
  },
  "language_info": {
   "codemirror_mode": {
    "name": "ipython",
    "version": 3
   },
   "file_extension": ".py",
   "mimetype": "text/x-python",
   "name": "python",
   "nbconvert_exporter": "python",
   "pygments_lexer": "ipython3",
   "version": "3.7.2"
  }
 },
 "nbformat": 4,
 "nbformat_minor": 2
}
