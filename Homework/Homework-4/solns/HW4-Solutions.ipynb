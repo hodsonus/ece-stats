{
 "cells": [
  {
   "cell_type": "code",
   "execution_count": 2,
   "metadata": {},
   "outputs": [],
   "source": [
    "import numpy as np\n",
    "import numpy.random as npr\n",
    "\n",
    "import sympy as sp\n",
    "\n",
    "import scipy.stats as stats\n",
    "\n",
    "import matplotlib.pyplot as plt\n",
    "%matplotlib inline"
   ]
  },
  {
   "cell_type": "markdown",
   "metadata": {},
   "source": [
    "## Problem 1"
   ]
  },
  {
   "cell_type": "markdown",
   "metadata": {},
   "source": [
    "a) Find $c$ for $f_X(x)$ to be a valid density function.\n",
    "\n",
    "(It must integrate to 1)"
   ]
  },
  {
   "cell_type": "code",
   "execution_count": 3,
   "metadata": {},
   "outputs": [],
   "source": [
    "c,x=sp.symbols('c,x')"
   ]
  },
  {
   "cell_type": "code",
   "execution_count": 4,
   "metadata": {},
   "outputs": [
    {
     "data": {
      "text/plain": [
       "2*c/5"
      ]
     },
     "execution_count": 4,
     "metadata": {},
     "output_type": "execute_result"
    }
   ],
   "source": [
    "sp.integrate(c*x**4,(x,-1,1))"
   ]
  },
  {
   "cell_type": "code",
   "execution_count": 5,
   "metadata": {},
   "outputs": [
    {
     "data": {
      "text/plain": [
       "[5/2]"
      ]
     },
     "execution_count": 5,
     "metadata": {},
     "output_type": "execute_result"
    }
   ],
   "source": [
    "sp.solve(2*c/5-1)"
   ]
  },
  {
   "cell_type": "markdown",
   "metadata": {},
   "source": [
    "So, $c=5/2$"
   ]
  },
  {
   "cell_type": "markdown",
   "metadata": {},
   "source": [
    "b) Find the distribution function of $X$.\n",
    "\n",
    "$$\n",
    "F_X(x)= \\int_{-\\infty}^{x} f_x(u) du\n",
    "= \\int_{-1}^{x} \\frac{5}{2} u^4 du, -1 \\le x <= 1\n",
    "$$\n",
    "\n"
   ]
  },
  {
   "cell_type": "code",
   "execution_count": 6,
   "metadata": {},
   "outputs": [],
   "source": [
    "u=sp.symbols('u')"
   ]
  },
  {
   "cell_type": "code",
   "execution_count": 7,
   "metadata": {},
   "outputs": [
    {
     "data": {
      "text/plain": [
       "x**5/2 + 1/2"
      ]
     },
     "execution_count": 7,
     "metadata": {},
     "output_type": "execute_result"
    }
   ],
   "source": [
    "sp.integrate(sp.Rational(5,2)*u**4,(u,-1,x))"
   ]
  },
  {
   "cell_type": "markdown",
   "metadata": {},
   "source": [
    "$$\n",
    "F_X(x) =\n",
    "\\begin{cases}\n",
    "0, & x< -1 \\\\\n",
    "\\frac{x^5+1}{2}, & -1 \\le x \\le 1 \\\\\n",
    "1 & x > 1\n",
    "\\end{cases}\n",
    "$$"
   ]
  },
  {
   "cell_type": "markdown",
   "metadata": {},
   "source": [
    "c) Find the mean of $X$\n",
    "\n",
    "$$\n",
    "\\begin{align}\n",
    "E[X] &= \\int_{-\\infty}^{\\infty} x f_X(x) ~dx \\\\\n",
    "&= \\int_{-1}^{1}  x \\cdot \\frac{5}{2} x^4 ~dx \n",
    "\\end{align}\n",
    "$$"
   ]
  },
  {
   "cell_type": "code",
   "execution_count": 8,
   "metadata": {},
   "outputs": [
    {
     "data": {
      "text/plain": [
       "0"
      ]
     },
     "execution_count": 8,
     "metadata": {},
     "output_type": "execute_result"
    }
   ],
   "source": [
    "sp.integrate(x*sp.Rational(5,2)*x**4,(x,-1,1))"
   ]
  },
  {
   "cell_type": "markdown",
   "metadata": {},
   "source": [
    "(We could have determined this without the math -- the density is symmetric.)"
   ]
  },
  {
   "cell_type": "markdown",
   "metadata": {},
   "source": [
    "d) Find the variance of $X$.\n",
    "\n",
    "$$\n",
    "\\begin{align}\n",
    "\\operatorname{Var}[X] &= E[X^2] -E[X]^2 = E[X^2]\\\\\n",
    "&= \\int_{-\\infty}^{\\infty} x^2 f_X(x) ~dx\\\\\n",
    "&= \\int_{-1}^{1} x^2 \\frac{5}{2}{x^4}~dx\n",
    "\\end{align}\n",
    "$$"
   ]
  },
  {
   "cell_type": "code",
   "execution_count": 9,
   "metadata": {},
   "outputs": [
    {
     "data": {
      "text/plain": [
       "0.7142857142857143"
      ]
     },
     "execution_count": 9,
     "metadata": {},
     "output_type": "execute_result"
    }
   ],
   "source": [
    "sp.integrate(x**2*sp.Rational(5,2)*x**4,(x,-1,1))\n",
    "5/7"
   ]
  },
  {
   "cell_type": "markdown",
   "metadata": {},
   "source": [
    "e) Find $E[(X-1)^2]$\n",
    "\n",
    "$$\n",
    "E[(X-1)^2] = E[X^2 -2*X +1] = E[X^2] - 2E[X] +1\n",
    "$$\n",
    "\n",
    "From above $E[X^2] = \\operatorname{Var}[X]=5/7$ and $E[X]=0$, so\n",
    "\n",
    "$$\n",
    "E[(X-1)^2] = \\frac{5/7} + 2(0)+1 = \\frac{12}{7}\n",
    "$$\n",
    "\n",
    "We can also use the LOTUS rule directly in sympy:\n"
   ]
  },
  {
   "cell_type": "code",
   "execution_count": 9,
   "metadata": {},
   "outputs": [
    {
     "data": {
      "text/plain": [
       "12/7"
      ]
     },
     "execution_count": 9,
     "metadata": {},
     "output_type": "execute_result"
    }
   ],
   "source": [
    "sp.integrate((x-1)**2*sp.Rational(5,2)*x**4,(x,-1,1))"
   ]
  },
  {
   "cell_type": "markdown",
   "metadata": {},
   "source": [
    "## Problem 2"
   ]
  },
  {
   "cell_type": "code",
   "execution_count": 10,
   "metadata": {},
   "outputs": [],
   "source": [
    "def Q(x):\n",
    "    return stats.norm.sf(x)"
   ]
  },
  {
   "cell_type": "markdown",
   "metadata": {},
   "source": [
    "a) If the mean exam score is 82 and the variance is 64, find the probabilities of A, B, and C.\n",
    "\n",
    "$$ P(A) = P(X> 85) = Q \\left( \\frac{85-82}{8} \\right)$$\n",
    "\n",
    "$$ P(C) = P(X< 70) = Q \\left( \\frac{82-70}{8} \\right)$$\n",
    "\n",
    "$$ P(B) = 1 -P(A) - P(C)$$"
   ]
  },
  {
   "cell_type": "code",
   "execution_count": 11,
   "metadata": {},
   "outputs": [],
   "source": [
    "pA= Q((85-82)/8)\n",
    "pC= Q((82-70)/8)\n",
    "pB=1- pA -pC"
   ]
  },
  {
   "cell_type": "code",
   "execution_count": 12,
   "metadata": {},
   "outputs": [
    {
     "name": "stdout",
     "output_type": "stream",
     "text": [
      "P(A)= 0.3538302333272762\n",
      "P(B)= 0.5793625654038657\n",
      "P(C)= 0.06680720126885807\n"
     ]
    }
   ],
   "source": [
    "print(\"P(A)=\",pA)\n",
    "print(\"P(B)=\",pB)\n",
    "print(\"P(C)=\",pC)"
   ]
  },
  {
   "cell_type": "markdown",
   "metadata": {},
   "source": [
    "(b) If a student is confident that he made at least an 80 on the exam, what is the probability that the student made an A on the exam?\n",
    "\n",
    "We are looking for the probability of an A given that $X\\ge 80$:\n",
    "\n",
    "$$\n",
    "\\begin{align}\n",
    "P(A| X \\ge 80) &= \\frac{P(A \\cap X \\ge 80)}{P(X \\ge 80)}\\\\\n",
    "&=\\frac{P(X \\ge 85 \\cap X \\ge 80)}{P(X \\ge 80)}\\\\\n",
    "&=\\frac{P(X \\ge 85)}{P(X \\ge 80)}\n",
    "\\end{align}\n",
    "$$\n",
    "\n",
    "$$\n",
    "P(X \\ge 85) = Q \\left( \\frac{85-82}{8} \\right)$$\n",
    "\n",
    "$$\n",
    "P(X \\ge 80) = 1- Q \\left(\\frac{82-80}{8} \\right)$$\n",
    "\n",
    "Thus, the probability is:"
   ]
  },
  {
   "cell_type": "code",
   "execution_count": 13,
   "metadata": {},
   "outputs": [
    {
     "data": {
      "text/plain": [
       "0.5909913060024449"
      ]
     },
     "execution_count": 13,
     "metadata": {},
     "output_type": "execute_result"
    }
   ],
   "source": [
    "Q((85-82)/8)/(1-Q((82-80)/8))"
   ]
  },
  {
   "cell_type": "markdown",
   "metadata": {},
   "source": [
    "(c) Suppose that the professor instead wants to adjust the difficulty of the problems of the exam so that the probability of an A is 0.25 and the probability of a B is 0.52. What should the values of the mean and variance be to achieve these probabilities?\n",
    "\n",
    "$$\n",
    "P(A) = Q\\left( \\frac{85-\\mu}{\\sigma} \\right)= 0.25\n",
    "$$\n",
    "$$\n",
    "\\frac{85-\\mu}{\\sigma} = Q^{-1} (0.25)\n",
    "$$\n"
   ]
  },
  {
   "cell_type": "code",
   "execution_count": 14,
   "metadata": {},
   "outputs": [],
   "source": [
    "def Qinv(p):\n",
    "    return stats.norm.isf(p)"
   ]
  },
  {
   "cell_type": "code",
   "execution_count": 15,
   "metadata": {},
   "outputs": [
    {
     "data": {
      "text/plain": [
       "0.6744897501960817"
      ]
     },
     "execution_count": 15,
     "metadata": {},
     "output_type": "execute_result"
    }
   ],
   "source": [
    "Qinv(0.25)"
   ]
  },
  {
   "cell_type": "markdown",
   "metadata": {},
   "source": [
    "$$\n",
    "85- \\mu = 0.675 \\sigma\n",
    "$$\n",
    "\n",
    "Knowing just $P(A)$ is not enough. Again, $P(C)$ is simpler than $P(B)$, so let's use that:\n",
    "\n",
    "$$\n",
    "\\begin{align}\n",
    "P(C) &= 1- P(A) - P(B)\\\\\n",
    "&= 1- 0.25 -0.52 \\\\\n",
    "&= 0.23\n",
    "\\end{align}\n",
    "$$\n",
    "\n",
    "$$\n",
    "P(C) = Q \\left( \\frac{\\mu-70}{\\sigma} \\right) = 0.23\n",
    "$$\n",
    "$$\n",
    "\\frac{\\mu-70}{\\sigma} = Q^{-1} (0.23)\n",
    "$$\n"
   ]
  },
  {
   "cell_type": "code",
   "execution_count": 16,
   "metadata": {},
   "outputs": [
    {
     "data": {
      "text/plain": [
       "0.7388468491852137"
      ]
     },
     "execution_count": 16,
     "metadata": {},
     "output_type": "execute_result"
    }
   ],
   "source": [
    "Qinv(0.23)"
   ]
  },
  {
   "cell_type": "markdown",
   "metadata": {},
   "source": [
    "$$\n",
    "\\mu -70 = 0.739 \\sigma\n",
    "$$\n",
    "\n",
    "Reformulating as a matrix equation (we could easily solve directly, but then I wouldn't get to show you solving linear equations with numpy):\n",
    "$$\n",
    "\\left[\n",
    "\\begin{matrix}\n",
    "1 & 0.675\\\\\n",
    "1 & -0.739 \n",
    "\\end{matrix}\n",
    "\\right]\n",
    "\\left[\n",
    "\\begin{matrix}\n",
    "\\mu\\\\\n",
    "\\sigma\n",
    "\\end{matrix}\n",
    "\\right]\n",
    "= \n",
    "\\left[\n",
    "\\begin{matrix}\n",
    "85 \\\\\n",
    "70\n",
    "\\end{matrix}\n",
    "\\right]\n",
    "$$"
   ]
  },
  {
   "cell_type": "code",
   "execution_count": 17,
   "metadata": {},
   "outputs": [],
   "source": [
    "A=np.array([[1, 0.675],\n",
    "            [1, -0.739]])"
   ]
  },
  {
   "cell_type": "code",
   "execution_count": 18,
   "metadata": {},
   "outputs": [],
   "source": [
    "import numpy.linalg as npl"
   ]
  },
  {
   "cell_type": "code",
   "execution_count": 20,
   "metadata": {},
   "outputs": [
    {
     "data": {
      "text/plain": [
       "array([[77.83946252],\n",
       "       [10.60820368]])"
      ]
     },
     "execution_count": 20,
     "metadata": {},
     "output_type": "execute_result"
    }
   ],
   "source": [
    "npl.inv(A) @ np.array([[85],[70]])"
   ]
  },
  {
   "cell_type": "markdown",
   "metadata": {},
   "source": [
    "The mean should be set to $77.84$ and the variance should be set to \n",
    "$(10.610)^2$.\n",
    "\n",
    "Let's confirm:\n",
    "$$ P(A) = P(X> 85) = Q \\left( \\frac{85-\\mu}{\\sigma} \\right)$$\n",
    "\n",
    "$$ P(C) = P(X< 70) = Q \\left( \\frac{\\mu-70}{\\sigma} \\right)$$\n",
    "\n",
    "$$ P(B) = 1 -P(A) - P(C)$$"
   ]
  },
  {
   "cell_type": "code",
   "execution_count": 21,
   "metadata": {},
   "outputs": [],
   "source": [
    "mu=77.84\n",
    "sigma=10.610\n",
    "\n",
    "pA=Q((85-mu)/sigma)\n",
    "pC=Q((mu-70)/sigma)\n",
    "pB=1-pA-pC"
   ]
  },
  {
   "cell_type": "code",
   "execution_count": 22,
   "metadata": {},
   "outputs": [
    {
     "name": "stdout",
     "output_type": "stream",
     "text": [
      "P(A)= 0.24989028101259186\n",
      "P(B)= 0.520133613197442\n",
      "P(C)= 0.2299761057899662\n"
     ]
    }
   ],
   "source": [
    "print(\"P(A)=\",pA)\n",
    "print(\"P(B)=\",pB)\n",
    "print(\"P(C)=\",pC)"
   ]
  },
  {
   "cell_type": "markdown",
   "metadata": {},
   "source": [
    "## Problem 3"
   ]
  },
  {
   "cell_type": "markdown",
   "metadata": {},
   "source": [
    "(a) Which of $E[X]$ or $E[Y]$ do you think is larger? Why?\n",
    "\n",
    "$E[Y]$ should be larger. For example, the probability of choosing the the box with the most chips when choosing a box at random is $1/4=0.25$. However, when choosing a chip at random, the probability of choosing a chip from the box with the most chips is $$500/(250+300+400+500) \\approx 0.345$$\n"
   ]
  },
  {
   "cell_type": "markdown",
   "metadata": {},
   "source": [
    "(b) Compute $E[X]$ and $E[Y]$.\n",
    "\n",
    "$$\n",
    "\\begin{align}\n",
    "E[X] &= 250 \\left(\\frac 1 4 \\right) + 300 \\left(\\frac 1 4 \\right) +400 \\left(\\frac 1 4 \\right) + 500 \\left(\\frac 1 4 \\right) \\\\\n",
    "& = 362.5\n",
    "\\end{align}\n",
    "$$\n",
    "\n",
    "Let the boxes with 250, 300, 400, and 500 chips be denoted by $A$, $B$, $C$, and $D$, respectively. Then when choosing a chip at random, the probability that it comes from a given box is equal to the number of chips in the box divided by the total number of chips, 250+300+400+500 = 1450$:\n",
    "\n",
    "$$\n",
    "\\begin{align}\n",
    "P(A) &= \\frac{250}{1450} \\approx 0.172 \\\\\n",
    "P(B) &= \\frac{300}{1450} \\approx 0.207 \\\\\n",
    "P(C) &= \\frac{400}{1450} \\approx 0.276 \\\\\n",
    "P(D) &= \\frac{500}{1450} \\approx 0.345 \\\\\n",
    "\\end{align}\n",
    "$$\n",
    "\n",
    "Then\n",
    "$$\n",
    "\\begin{align}\n",
    "E[Y] &= 250 P(A) + 300 P(B) + 400 P(C) + 500 P(D) \\\\\n",
    "&\\approx 387.9\n",
    "\\end{align}\n",
    "$$"
   ]
  },
  {
   "cell_type": "markdown",
   "metadata": {},
   "source": [
    "## Problem 4"
   ]
  },
  {
   "cell_type": "markdown",
   "metadata": {},
   "source": [
    "(a) What is the probability that there will be at least one disturbance in a 1 minute period?\n",
    "\n",
    "Model as Poisson RV $X$ with $\\lambda = 30/\\mbox{hour}$ or, equivalently $\\lambda= 0.5/\\mbox{minute}$\n",
    "\n",
    "You can use either, we just need to measure both the amount of time and the rate in the same units\n",
    "\n",
    "Let's use minutes. \n",
    "\n",
    "Recall that the parameter of the Poisson RV is the average number of events in the specified time or space. It is computed as the product of the rate and time"
   ]
  },
  {
   "cell_type": "code",
   "execution_count": 23,
   "metadata": {},
   "outputs": [],
   "source": [
    "poiss1=stats.poisson(1*0.5)"
   ]
  },
  {
   "cell_type": "code",
   "execution_count": 24,
   "metadata": {},
   "outputs": [
    {
     "data": {
      "text/plain": [
       "0.3934693402873665"
      ]
     },
     "execution_count": 24,
     "metadata": {},
     "output_type": "execute_result"
    }
   ],
   "source": [
    "poiss1.sf(0) # Remember, 0 is not included so this is \n",
    "            # the probability of at least one"
   ]
  },
  {
   "cell_type": "markdown",
   "metadata": {},
   "source": [
    "(b) What is the probability that there will be at least one disturbance in a 5 minute period?"
   ]
  },
  {
   "cell_type": "code",
   "execution_count": 25,
   "metadata": {},
   "outputs": [],
   "source": [
    "poiss5=stats.poisson(5*0.5)"
   ]
  },
  {
   "cell_type": "code",
   "execution_count": 26,
   "metadata": {},
   "outputs": [
    {
     "data": {
      "text/plain": [
       "0.9179150013761012"
      ]
     },
     "execution_count": 26,
     "metadata": {},
     "output_type": "execute_result"
    }
   ],
   "source": [
    "poiss5.sf(0)"
   ]
  },
  {
   "cell_type": "markdown",
   "metadata": {},
   "source": [
    "(c) What is the probability that there will be fewer than 5 disturbances in a 15 minute period?\n",
    "\n",
    "Since the distribution function $F_X(x)$ is inclusive of $x$, we want $F_X(4)$:"
   ]
  },
  {
   "cell_type": "code",
   "execution_count": 27,
   "metadata": {},
   "outputs": [],
   "source": [
    "poiss15=stats.poisson(15*0.5)"
   ]
  },
  {
   "cell_type": "code",
   "execution_count": 28,
   "metadata": {},
   "outputs": [
    {
     "data": {
      "text/plain": [
       "0.1320618562877206"
      ]
     },
     "execution_count": 28,
     "metadata": {},
     "output_type": "execute_result"
    }
   ],
   "source": [
    "poiss15.cdf(4)"
   ]
  },
  {
   "cell_type": "markdown",
   "metadata": {},
   "source": [
    "(d) What is the probability that there will be more than 10 disturbances in a 15 minute period?"
   ]
  },
  {
   "cell_type": "code",
   "execution_count": 29,
   "metadata": {},
   "outputs": [
    {
     "data": {
      "text/plain": [
       "0.13776201657161194"
      ]
     },
     "execution_count": 29,
     "metadata": {},
     "output_type": "execute_result"
    }
   ],
   "source": [
    "poiss15.sf(10)"
   ]
  },
  {
   "cell_type": "markdown",
   "metadata": {},
   "source": [
    "## Problem 5"
   ]
  },
  {
   "cell_type": "markdown",
   "metadata": {},
   "source": [
    "5.  If 65% of the population of a large community is in favor of a proposed rise in school taxes, approximate the probability that a random sample of 100 people will contain:\n",
    "\n",
    "(a) at least 50 who are in favor of the proposition;\n",
    "\n"
   ]
  },
  {
   "cell_type": "markdown",
   "metadata": {},
   "source": [
    "Here, we are asked to find an approximation because the analytical calculation of the \"exact\" value would be very difficult by hand. However, we can compute the solution using scipy.stats:\n",
    "\n",
    "$p=P($randomly chosen person in favor of tax rise$)=0.65$\n",
    "\n",
    "$P(\\ge \\mbox{50 out of 100 people in favor})$ is a binomial probability\n",
    "\n",
    "$= 1- F_X(49)$, where $X$ is Binomial(100, 0.65)"
   ]
  },
  {
   "cell_type": "code",
   "execution_count": 30,
   "metadata": {},
   "outputs": [
    {
     "data": {
      "text/plain": [
       "0.9992621667511374"
      ]
     },
     "execution_count": 30,
     "metadata": {},
     "output_type": "execute_result"
    }
   ],
   "source": [
    "mybinom=stats.binom(100,0.65)\n",
    "1-mybinom.cdf(49)"
   ]
  },
  {
   "cell_type": "markdown",
   "metadata": {},
   "source": [
    "The approximate solution can be found by realizing that the Binomial is a sum of many Bernoulli, and hence it will converge to Gaussian. Let $\\widetilde{X}$ denote the Gaussian approximation to $X$. We just need its mean and variance, which is the same as those for $X$. We can get them analytically (from formulas given in class, the book, or online) or using scipy.stats:\n",
    "\n",
    "$E[X] = Np= (100)(0.65) =65$\n",
    "\n",
    "$\\operatorname{Var}(X) = N p (1-p) = 65 (0.35) = 22.75$"
   ]
  },
  {
   "cell_type": "code",
   "execution_count": 31,
   "metadata": {},
   "outputs": [
    {
     "data": {
      "text/plain": [
       "65.0"
      ]
     },
     "execution_count": 31,
     "metadata": {},
     "output_type": "execute_result"
    }
   ],
   "source": [
    "mybinom.mean()"
   ]
  },
  {
   "cell_type": "code",
   "execution_count": 32,
   "metadata": {},
   "outputs": [
    {
     "data": {
      "text/plain": [
       "22.75"
      ]
     },
     "execution_count": 32,
     "metadata": {},
     "output_type": "execute_result"
    }
   ],
   "source": [
    "mybinom.var()"
   ]
  },
  {
   "cell_type": "markdown",
   "metadata": {},
   "source": [
    "Then \n",
    "\n",
    "$$\n",
    "P(X \\ge 50) \\approx P( \\widetilde{X} \\ge 50) \\\\\n",
    "= 1- Q\\left(\\frac{65-50}{\\sqrt{22.75}}\\right)\n",
    "$$"
   ]
  },
  {
   "cell_type": "code",
   "execution_count": 33,
   "metadata": {},
   "outputs": [
    {
     "data": {
      "text/plain": [
       "0.9991691527710083"
      ]
     },
     "execution_count": 33,
     "metadata": {},
     "output_type": "execute_result"
    }
   ],
   "source": [
    "1-Q((65-50)/np.sqrt(22.75)) "
   ]
  },
  {
   "cell_type": "markdown",
   "metadata": {},
   "source": [
    "Note that we have 50 in one expression and 49 in the other, which is an inconsistency related to treating something that is discrete as if it were continuous. In practice, the usual approach is to split the difference when using the continuous approximation:"
   ]
  },
  {
   "cell_type": "code",
   "execution_count": 34,
   "metadata": {},
   "outputs": [
    {
     "data": {
      "text/plain": [
       "0.9994223314054234"
      ]
     },
     "execution_count": 34,
     "metadata": {},
     "output_type": "execute_result"
    }
   ],
   "source": [
    "1-Q((65-49.5)/np.sqrt(22.75)) "
   ]
  },
  {
   "cell_type": "markdown",
   "metadata": {},
   "source": [
    "(b) between 60 and 70 who are in favor of the proposition?\n",
    "\n",
    "$$\n",
    "P(60 \\le X \\le 70) = P(X \\le 70) - P(X \\le 59) \\\\\n",
    "= F_X(70) - F_X(59)\n",
    "$$\n"
   ]
  },
  {
   "cell_type": "code",
   "execution_count": 35,
   "metadata": {},
   "outputs": [
    {
     "data": {
      "text/plain": [
       "0.7513790890227081"
      ]
     },
     "execution_count": 35,
     "metadata": {},
     "output_type": "execute_result"
    }
   ],
   "source": [
    "mybinom.cdf(70)-mybinom.cdf(59)"
   ]
  },
  {
   "cell_type": "markdown",
   "metadata": {},
   "source": [
    "The approximate value is"
   ]
  },
  {
   "cell_type": "code",
   "execution_count": 36,
   "metadata": {},
   "outputs": [
    {
     "data": {
      "text/plain": [
       "0.7511361250620778"
      ]
     },
     "execution_count": 36,
     "metadata": {},
     "output_type": "execute_result"
    }
   ],
   "source": [
    "1-Q((70.5-65)/np.sqrt(22.75))- Q((65-59.5)/np.sqrt(22.75))"
   ]
  },
  {
   "cell_type": "markdown",
   "metadata": {},
   "source": [
    "(c) fewer than 75 in favor.\n",
    "\n",
    "$$\n",
    "P(X < 75) = P(X \\le 74) = F_X(74)\n",
    "$$"
   ]
  },
  {
   "cell_type": "code",
   "execution_count": 37,
   "metadata": {},
   "outputs": [
    {
     "data": {
      "text/plain": [
       "0.978858376346662"
      ]
     },
     "execution_count": 37,
     "metadata": {},
     "output_type": "execute_result"
    }
   ],
   "source": [
    "mybinom.cdf(74)"
   ]
  },
  {
   "cell_type": "code",
   "execution_count": 38,
   "metadata": {},
   "outputs": [
    {
     "data": {
      "text/plain": [
       "0.9768002690645478"
      ]
     },
     "execution_count": 38,
     "metadata": {},
     "output_type": "execute_result"
    }
   ],
   "source": [
    "1-Q((74.5-65)/np.sqrt(22.75))"
   ]
  },
  {
   "cell_type": "markdown",
   "metadata": {
    "hideOutput": true
   },
   "source": [
    "## Problem 6\n",
    "\n",
    "Samples from a certain low noise amplifier are distributed Gaussian\n",
    "  with mean 0 and variance 1. Samples from the same company's power amplifier\n",
    "  are Gaussian with mean 0 and variance 4. During a particular day, the chip\n",
    "  labeler breaks down, but nobody noticed until chips of both types have been\n",
    "  mixed together.\n",
    "\n",
    "  Recall that by the \"weighted density functions\", we refer to the numerator\n",
    "  of the *a posteriori* probabilities, which is the product of the\n",
    "  likelihoods and the *a priori* probabilities.\n",
    "\n",
    "  This problem requires both plotting work (in a Jupyter notebook) and\n",
    "  analytical work (that I recommend you do by hand on paper).\n",
    "\n"
   ]
  },
  {
   "cell_type": "markdown",
   "metadata": {},
   "source": [
    "### a)\n",
    "First consider that chips of both types are equally likely. Plot the\n",
    "    weighted density functions in Jupyter notebook.  Vary the regions plotted to zoom in\n",
    "    on any points necessary to give a reasonable estimate (at least accurated to\n",
    "    within $\\pm$0.25) of the MAP decision regions.\n",
    "  "
   ]
  },
  {
   "cell_type": "code",
   "execution_count": 51,
   "metadata": {},
   "outputs": [],
   "source": [
    "X=stats.norm() # Low noise amplifier\n",
    "Y=stats.norm(scale=2) # Power amplifier"
   ]
  },
  {
   "cell_type": "code",
   "execution_count": 50,
   "metadata": {},
   "outputs": [
    {
     "data": {
      "text/plain": [
       "<matplotlib.legend.Legend at 0x1a1dd62748>"
      ]
     },
     "execution_count": 50,
     "metadata": {},
     "output_type": "execute_result"
    },
    {
     "data": {
      "image/png": "[encoded data removed]",
      "text/plain": [
       "<Figure size 432x288 with 1 Axes>"
      ]
     },
     "metadata": {
      "needs_background": "light"
     },
     "output_type": "display_data"
    }
   ],
   "source": [
    "x=np.linspace(-8,8,100)\n",
    "plt.plot(x,0.5*X.pdf(x), label=\"f_X(x)*P_X\")\n",
    "plt.plot(x,0.5*Y.pdf(x), label=\"f_Y(x)*P_Y\")\n",
    "plt.legend()"
   ]
  },
  {
   "cell_type": "code",
   "execution_count": 46,
   "metadata": {},
   "outputs": [
    {
     "data": {
      "text/plain": [
       "(-1.4, -1.3)"
      ]
     },
     "execution_count": 46,
     "metadata": {},
     "output_type": "execute_result"
    },
    {
     "data": {
      "image/png": "[encoded data removed]",
      "text/plain": [
       "<Figure size 432x288 with 1 Axes>"
      ]
     },
     "metadata": {
      "needs_background": "light"
     },
     "output_type": "display_data"
    }
   ],
   "source": [
    "x=np.linspace(-8,8,100)\n",
    "plt.plot(x,0.5*X.pdf(x))\n",
    "plt.plot(x,0.5*Y.pdf(x))\n",
    "plt.xlim([-1.4,-1.3])"
   ]
  },
  {
   "cell_type": "markdown",
   "metadata": {},
   "source": [
    "Looks like the left-side crossover is at about -1.36. By symmetry, it should be the same on the right side:"
   ]
  },
  {
   "cell_type": "code",
   "execution_count": 47,
   "metadata": {},
   "outputs": [
    {
     "data": {
      "text/plain": [
       "(1.3, 1.4)"
      ]
     },
     "execution_count": 47,
     "metadata": {},
     "output_type": "execute_result"
    },
    {
     "data": {
      "image/png": "[encoded data removed]",
      "text/plain": [
       "<Figure size 432x288 with 1 Axes>"
      ]
     },
     "metadata": {
      "needs_background": "light"
     },
     "output_type": "display_data"
    }
   ],
   "source": [
    "x=np.linspace(-8,8,100)\n",
    "plt.plot(x,0.5*X.pdf(x))\n",
    "plt.plot(x,0.5*Y.pdf(x))\n",
    "plt.xlim([1.3,1.4])"
   ]
  },
  {
   "cell_type": "markdown",
   "metadata": {},
   "source": [
    "Confirmed. Thus, the MAP decision regions are:\n",
    "\n",
    "* Power amplifier,  $|X|> 1.36$\n",
    "* Low-noise amplifier,   $|X| \\le 1.36$"
   ]
  },
  {
   "cell_type": "markdown",
   "metadata": {},
   "source": [
    "### b)\n",
    "The MAP decision regions in this problem are determined by a set of\n",
    "    thresholds. (Unlike the case covered in class, there is not just a single\n",
    "    threshold for each value of the {\\it a priori } probabilities.) Give a\n",
    "    formula for the MAP decision thresholds\n"
   ]
  },
  {
   "cell_type": "markdown",
   "metadata": {},
   "source": [
    "* See the separate PDF for the derivation. The value then is computed as:"
   ]
  },
  {
   "cell_type": "code",
   "execution_count": 52,
   "metadata": {},
   "outputs": [],
   "source": [
    "def crossing (pA):\n",
    "    return np.sqrt(8/3*np.log(2*pA/(1-pA)))"
   ]
  },
  {
   "cell_type": "code",
   "execution_count": 53,
   "metadata": {},
   "outputs": [
    {
     "data": {
      "text/plain": [
       "1.3595559868917453"
      ]
     },
     "execution_count": 53,
     "metadata": {},
     "output_type": "execute_result"
    }
   ],
   "source": [
    "crossing(0.5)"
   ]
  },
  {
   "cell_type": "markdown",
   "metadata": {},
   "source": [
    "The estimate using the graphs was very accurate."
   ]
  },
  {
   "cell_type": "markdown",
   "metadata": {},
   "source": [
    "### c)\n",
    "\n",
    "Write a function in your Jupyter notebook that inputs the probability\n",
    "    that a randomly chosen chip is a low noise amplifier. The function should\n",
    "    \n",
    "* plot (using ```plt.plot```) both the weighted density functions \n",
    "\n",
    "* calculate the numerical value of the MAP decision thresholds\n",
    "    \n",
    "* plot (using \\texttt{plt.scatter}) the points where the $x$-values is a MAP decision threshold and the $y$-value is the value of the weighted densities at that MAP decision threshold\n",
    "    \n",
    "    \n"
   ]
  },
  {
   "cell_type": "code",
   "execution_count": 62,
   "metadata": {},
   "outputs": [],
   "source": [
    "def varmap(p_LNA=0.5):\n",
    "    x=np.linspace(-8,8,100)\n",
    "    cross=crossing(p_LNA)\n",
    "\n",
    "    plt.plot(x,p_LNA*X.pdf(x))\n",
    "    plt.plot(x,(1-p_LNA)*Y.pdf(x))\n",
    "    plt.scatter(cross,p_LNA*X.pdf(cross))    \n",
    "    plt.scatter(-cross,p_LNA*X.pdf(-cross))        \n",
    "    return cross"
   ]
  },
  {
   "cell_type": "markdown",
   "metadata": {},
   "source": [
    "### d)\n",
    "\n",
    "Show the output of your function when  there are equal numbers of each type of amplifier\n"
   ]
  },
  {
   "cell_type": "code",
   "execution_count": 63,
   "metadata": {},
   "outputs": [
    {
     "data": {
      "text/plain": [
       "1.3595559868917453"
      ]
     },
     "execution_count": 63,
     "metadata": {},
     "output_type": "execute_result"
    },
    {
     "data": {
      "image/png": "[encoded data removed]",
      "text/plain": [
       "<Figure size 432x288 with 1 Axes>"
      ]
     },
     "metadata": {
      "needs_background": "light"
     },
     "output_type": "display_data"
    }
   ],
   "source": [
    "varmap()"
   ]
  },
  {
   "cell_type": "markdown",
   "metadata": {},
   "source": [
    "### e)\n",
    "\n",
    "Show the output of your function when there are twice as many power\n",
    "amplifiers as low-noise amplifiers\n"
   ]
  },
  {
   "cell_type": "code",
   "execution_count": 64,
   "metadata": {},
   "outputs": [
    {
     "name": "stderr",
     "output_type": "stream",
     "text": [
      "/anaconda3/lib/python3.6/site-packages/ipykernel_launcher.py:2: RuntimeWarning: invalid value encountered in sqrt\n",
      "  \n"
     ]
    },
    {
     "data": {
      "text/plain": [
       "nan"
      ]
     },
     "execution_count": 64,
     "metadata": {},
     "output_type": "execute_result"
    },
    {
     "data": {
      "image/png": "[encoded data removed]",
      "text/plain": [
       "<Figure size 432x288 with 1 Axes>"
      ]
     },
     "metadata": {
      "needs_background": "light"
     },
     "output_type": "display_data"
    }
   ],
   "source": [
    "varmap(1/3)"
   ]
  },
  {
   "cell_type": "markdown",
   "metadata": {},
   "source": [
    "### f)\n",
    "\n",
    "Show the output of your function when the probability of a randomly\n",
    "chosen chip being a low-noise amplifier is 0.9\n"
   ]
  },
  {
   "cell_type": "code",
   "execution_count": 65,
   "metadata": {},
   "outputs": [
    {
     "data": {
      "text/plain": [
       "2.7762669217956044"
      ]
     },
     "execution_count": 65,
     "metadata": {},
     "output_type": "execute_result"
    },
    {
     "data": {
      "image/png": "[encoded data removed]",
      "text/plain": [
       "<Figure size 432x288 with 1 Axes>"
      ]
     },
     "metadata": {
      "needs_background": "light"
     },
     "output_type": "display_data"
    }
   ],
   "source": [
    "varmap(0.9)"
   ]
  },
  {
   "cell_type": "markdown",
   "metadata": {},
   "source": [
    "### g)\n",
    "\n",
    "What happens when the probability of a random chosen chip being a\n",
    "low-noise amplifier is 0.2? \n"
   ]
  },
  {
   "cell_type": "code",
   "execution_count": 66,
   "metadata": {},
   "outputs": [
    {
     "name": "stderr",
     "output_type": "stream",
     "text": [
      "/anaconda3/lib/python3.6/site-packages/ipykernel_launcher.py:2: RuntimeWarning: invalid value encountered in sqrt\n",
      "  \n"
     ]
    },
    {
     "data": {
      "text/plain": [
       "nan"
      ]
     },
     "execution_count": 66,
     "metadata": {},
     "output_type": "execute_result"
    },
    {
     "data": {
      "image/png": "[encoded data removed]",
      "text/plain": [
       "<Figure size 432x288 with 1 Axes>"
      ]
     },
     "metadata": {
      "needs_background": "light"
     },
     "output_type": "display_data"
    }
   ],
   "source": [
    "varmap(0.2)"
   ]
  },
  {
   "cell_type": "markdown",
   "metadata": {},
   "source": [
    "The function returns nan for the intersection. "
   ]
  },
  {
   "cell_type": "markdown",
   "metadata": {},
   "source": [
    "### h)\n",
    "Plot the weighted density functions using a logarithmic y-axis (using\n",
    "    ```plt.semilogy```) when the probability of a random chosen chip being a\n",
    "    low-noise amplifier is 0.2"
   ]
  },
  {
   "cell_type": "code",
   "execution_count": 69,
   "metadata": {},
   "outputs": [
    {
     "data": {
      "text/plain": [
       "[<matplotlib.lines.Line2D at 0x1a1e57d470>]"
      ]
     },
     "execution_count": 69,
     "metadata": {},
     "output_type": "execute_result"
    },
    {
     "data": {
      "image/png": "[encoded data removed]",
      "text/plain": [
       "<Figure size 432x288 with 1 Axes>"
      ]
     },
     "metadata": {
      "needs_background": "light"
     },
     "output_type": "display_data"
    }
   ],
   "source": [
    "p_LNA=0.2\n",
    "x=np.linspace(-8,8,100)\n",
    "\n",
    "plt.semilogy(x,p_LNA*X.pdf(x))\n",
    "plt.semilogy(x,(1-p_LNA)*Y.pdf(x))"
   ]
  },
  {
   "cell_type": "markdown",
   "metadata": {},
   "source": [
    "The curves never actually intersect!"
   ]
  },
  {
   "cell_type": "markdown",
   "metadata": {},
   "source": [
    "### i)\n",
    "Show where the math breaks down when the probability of a random chosen chip being a low-noise amplifier is low\n",
    "    \n"
   ]
  },
  {
   "cell_type": "markdown",
   "metadata": {},
   "source": [
    "*See the separate PDF*"
   ]
  }
 ],
 "metadata": {
  "kernelspec": {
   "display_name": "Python 3",
   "language": "python",
   "name": "python3"
  },
  "language_info": {
   "codemirror_mode": {
    "name": "ipython",
    "version": 3
   },
   "file_extension": ".py",
   "mimetype": "text/x-python",
   "name": "python",
   "nbconvert_exporter": "python",
   "pygments_lexer": "ipython3",
   "version": "3.7.2"
  }
 },
 "nbformat": 4,
 "nbformat_minor": 2
}
