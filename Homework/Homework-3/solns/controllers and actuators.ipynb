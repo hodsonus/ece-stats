{
 "cells": [
  {
   "cell_type": "markdown",
   "metadata": {},
   "source": [
    "### Part I\n",
    "For the system to be operational, it needs at least one controller and 2 actuators to be working\n",
    "\n",
    "Let $C_{i}$ be the event that $i$ controllers are working, and let $C_j$ be the event that $j$ controllers are working. Let $p_c$ be the event that a controller fails and $p_a$ be the event that an actuator fails. Let $N_c$ and $N_a$ be the number of controllers and actuators, respectively.\n",
    "\n",
    "Then the system will be operational $(O)$  if \n",
    "$$\\overline{C_0} \\cap \\overline{A_0 \\cup A_1}.$$\n",
    "\n",
    "Thus,\n",
    "$$\n",
    "P(O) = \\left[ 1-p_{c}^{N_c} \\right]\n",
    "\\left[ 1-p_{a}^{N_a} - N_a (1-p_a)p_a ^{N_a-1} \\right]\n",
    "$$"
   ]
  },
  {
   "cell_type": "code",
   "execution_count": 1,
   "metadata": {},
   "outputs": [],
   "source": [
    "def operational(num_c, num_a, pc=0.25, pa=0.1):\n",
    "    op_c=1-pc**num_c\n",
    "    op_a=1-pa**num_a-num_a*(1-pa)*pa**(num_a-1)\n",
    "    return op_c*op_a\n",
    "    "
   ]
  },
  {
   "cell_type": "code",
   "execution_count": 2,
   "metadata": {},
   "outputs": [
    {
     "data": {
      "text/plain": [
       "0.6074999999999999"
      ]
     },
     "execution_count": 2,
     "metadata": {},
     "output_type": "execute_result"
    }
   ],
   "source": [
    "operational(1,2)"
   ]
  },
  {
   "cell_type": "code",
   "execution_count": 3,
   "metadata": {},
   "outputs": [
    {
     "data": {
      "text/plain": [
       "0.7593749999999999"
      ]
     },
     "execution_count": 3,
     "metadata": {},
     "output_type": "execute_result"
    }
   ],
   "source": [
    "operational(2,2)"
   ]
  },
  {
   "cell_type": "code",
   "execution_count": 4,
   "metadata": {},
   "outputs": [
    {
     "data": {
      "text/plain": [
       "0.91125"
      ]
     },
     "execution_count": 4,
     "metadata": {},
     "output_type": "execute_result"
    }
   ],
   "source": [
    "operational(2,3)"
   ]
  },
  {
   "cell_type": "code",
   "execution_count": 5,
   "metadata": {},
   "outputs": [
    {
     "data": {
      "text/plain": [
       "0.93403125"
      ]
     },
     "execution_count": 5,
     "metadata": {},
     "output_type": "execute_result"
    }
   ],
   "source": [
    "operational(2,4)"
   ]
  },
  {
   "cell_type": "code",
   "execution_count": 6,
   "metadata": {},
   "outputs": [
    {
     "data": {
      "text/plain": [
       "0.9807328125"
      ]
     },
     "execution_count": 6,
     "metadata": {},
     "output_type": "execute_result"
    }
   ],
   "source": [
    "operational(3,4)"
   ]
  },
  {
   "cell_type": "markdown",
   "metadata": {
    "collapsed": true
   },
   "source": [
    "### Part II\n",
    "\n",
    "I apologize that this problem was a little ambiguous. Let's evaluate the answer for specific values of $p_c$ at system (e). To be more clear, let's denote the probability that a controller or actuator of system (e) have failed as $p_{c,e}$. We can use the formula/function above to find $P(O_e)$, the probability that the system of part (e)is operational.  \n",
    "\n",
    "Then we can solve for the needed value of $p_{c,a}$, the probability that a controller or actuator of system (a) has failed.  Note that for part (a), we can write\n",
    "$$\n",
    "P(O)= (1-p_{c,a})(1-p_{c,a})^2 = (1-p_{c,a})^3\n",
    "$$\n",
    "Thus, we wish to find the value of $p_{c,a}$ that satisfies\n",
    "$$\n",
    "p_{c,a}=1- \\sqrt[3]{P(O_e)}\n",
    "$$"
   ]
  },
  {
   "cell_type": "code",
   "execution_count": 7,
   "metadata": {},
   "outputs": [
    {
     "data": {
      "text/plain": [
       "0.9953037"
      ]
     },
     "execution_count": 7,
     "metadata": {},
     "output_type": "execute_result"
    }
   ],
   "source": [
    "operational(3,4,0.1,0.1)"
   ]
  },
  {
   "cell_type": "code",
   "execution_count": 8,
   "metadata": {},
   "outputs": [
    {
     "data": {
      "text/plain": [
       "0.0015678903286447943"
      ]
     },
     "execution_count": 8,
     "metadata": {},
     "output_type": "execute_result"
    }
   ],
   "source": [
    "1-(0.9953037)**(1/3)"
   ]
  },
  {
   "cell_type": "markdown",
   "metadata": {},
   "source": [
    "The required probability of component failure for system (a) is almost two orders of magnitude lower than for system (e)"
   ]
  },
  {
   "cell_type": "code",
   "execution_count": 9,
   "metadata": {},
   "outputs": [
    {
     "data": {
      "text/plain": [
       "0.93438720703125"
      ]
     },
     "execution_count": 9,
     "metadata": {},
     "output_type": "execute_result"
    }
   ],
   "source": [
    "operational(3,4,0.25,0.25)"
   ]
  },
  {
   "cell_type": "code",
   "execution_count": 10,
   "metadata": {},
   "outputs": [
    {
     "data": {
      "text/plain": [
       "0.022367508577909367"
      ]
     },
     "execution_count": 10,
     "metadata": {},
     "output_type": "execute_result"
    }
   ],
   "source": [
    "1-(0.9343872)**(1/3)"
   ]
  },
  {
   "cell_type": "markdown",
   "metadata": {},
   "source": [
    "Here, the required probability of component failure for system (a) is slightly more than one order of magnitude lower then for system (e)"
   ]
  },
  {
   "cell_type": "code",
   "execution_count": 11,
   "metadata": {},
   "outputs": [
    {
     "data": {
      "text/plain": [
       "0.9999950300039699"
      ]
     },
     "execution_count": 11,
     "metadata": {},
     "output_type": "execute_result"
    }
   ],
   "source": [
    "operational(3,4,0.01,0.01)"
   ]
  },
  {
   "cell_type": "code",
   "execution_count": 12,
   "metadata": {},
   "outputs": [
    {
     "data": {
      "text/plain": [
       "1.6566680879348539e-06"
      ]
     },
     "execution_count": 12,
     "metadata": {},
     "output_type": "execute_result"
    }
   ],
   "source": [
    "1-(0.9999950300039699)**(1/3)"
   ]
  },
  {
   "cell_type": "markdown",
   "metadata": {},
   "source": [
    "As the components of system (e) become more reliable, the requirements on the components of system (a) become even more stringent. For system (e) operating with probability of component failure of $10^{-2}$, system (a) would need components that fail with probability $1.66 \\times 10^{-6}$ to achieve the same system reliability"
   ]
  },
  {
   "cell_type": "code",
   "execution_count": null,
   "metadata": {
    "collapsed": true
   },
   "outputs": [],
   "source": []
  }
 ],
 "metadata": {
  "kernelspec": {
   "display_name": "Python 3",
   "language": "python",
   "name": "python3"
  },
  "language_info": {
   "codemirror_mode": {
    "name": "ipython",
    "version": 3
   },
   "file_extension": ".py",
   "mimetype": "text/x-python",
   "name": "python",
   "nbconvert_exporter": "python",
   "pygments_lexer": "ipython3",
   "version": "3.7.2"
  }
 },
 "nbformat": 4,
 "nbformat_minor": 1
}
