{
 "cells": [
  {
   "cell_type": "code",
   "execution_count": 1,
   "metadata": {},
   "outputs": [],
   "source": [
    "import numpy.random as npr\n",
    "import matplotlib.pyplot as plt\n",
    "%matplotlib inline\n",
    "import numpy as np"
   ]
  },
  {
   "cell_type": "code",
   "execution_count": 2,
   "metadata": {},
   "outputs": [],
   "source": [
    "import pickle"
   ]
  },
  {
   "cell_type": "code",
   "execution_count": 63,
   "metadata": {},
   "outputs": [],
   "source": [
    "f=open(\"hw3.pickle\",\"rb\")"
   ]
  },
  {
   "cell_type": "code",
   "execution_count": 64,
   "metadata": {},
   "outputs": [],
   "source": [
    "df=pickle.load(f)"
   ]
  },
  {
   "cell_type": "code",
   "execution_count": 65,
   "metadata": {},
   "outputs": [],
   "source": [
    "f.close()"
   ]
  },
  {
   "cell_type": "code",
   "execution_count": 66,
   "metadata": {},
   "outputs": [],
   "source": [
    "bo1=df[df['birthord']==1]\n",
    "boN=df[df['birthord']>1]"
   ]
  },
  {
   "cell_type": "code",
   "execution_count": 67,
   "metadata": {},
   "outputs": [
    {
     "data": {
      "text/plain": [
       "(183, 203)"
      ]
     },
     "execution_count": 67,
     "metadata": {},
     "output_type": "execute_result"
    }
   ],
   "source": [
    "len(bo1),len(boN)"
   ]
  },
  {
   "cell_type": "code",
   "execution_count": 68,
   "metadata": {},
   "outputs": [
    {
     "name": "stdout",
     "output_type": "stream",
     "text": [
      "[1.0, 1.0, 1.0, 1.0, 1.0, 1.0, 1.0, 1.0, 1.0, 1.0, 1.0, 1.0, 1.0, 1.0, 1.0, 1.0, 1.0, 1.0, 1.0, 1.0, 1.0, 1.0, 1.0, 1.0, 1.0, 1.0, 1.0, 1.0, 1.0, 1.0, 1.0, 1.0, 1.0, 1.0, 1.0, 1.0, 1.0, 1.0, 1.0, 1.0, 1.0, 1.0, 1.0, 1.0, 1.0, 1.0, 1.0, 1.0, 1.0, 1.0, 1.0, 1.0, 1.0, 1.0, 1.0, 1.0, 1.0, 1.0, 1.0, 1.0, 1.0, 1.0, 1.0, 1.0, 1.0, 1.0, 1.0, 1.0, 1.0, 1.0, 1.0, 1.0, 1.0, 1.0, 1.0, 1.0, 1.0, 1.0, 1.0, 1.0, 1.0, 1.0, 1.0, 1.0, 1.0, 1.0, 1.0, 1.0, 1.0, 1.0, 1.0, 1.0, 1.0, 1.0, 1.0, 1.0, 1.0, 1.0, 1.0, 1.0, 1.0, 1.0, 1.0, 1.0, 1.0, 1.0, 1.0, 1.0, 1.0, 1.0, 1.0, 1.0, 1.0, 1.0, 1.0, 1.0, 1.0, 1.0, 1.0, 1.0, 1.0, 1.0, 1.0, 1.0, 1.0, 1.0, 1.0, 1.0, 1.0, 1.0, 1.0, 1.0, 1.0, 1.0, 1.0, 1.0, 1.0, 1.0, 1.0, 1.0, 1.0, 1.0, 1.0, 1.0, 1.0, 1.0, 1.0, 1.0, 1.0, 1.0, 1.0, 1.0, 1.0, 1.0, 1.0, 1.0, 1.0, 1.0, 1.0, 1.0, 1.0, 1.0, 1.0, 1.0, 1.0, 1.0, 1.0, 1.0, 1.0, 1.0, 1.0, 1.0, 1.0, 1.0, 1.0, 1.0, 1.0, 1.0, 1.0, 1.0, 1.0, 1.0, 1.0]\n"
     ]
    }
   ],
   "source": [
    "print(list(bo1['birthord']))"
   ]
  },
  {
   "cell_type": "code",
   "execution_count": 69,
   "metadata": {},
   "outputs": [
    {
     "name": "stdout",
     "output_type": "stream",
     "text": [
      "[2.0, 2.0, 3.0, 2.0, 3.0, 2.0, 2.0, 2.0, 2.0, 2.0, 3.0, 2.0, 3.0, 2.0, 3.0, 2.0, 2.0, 2.0, 2.0, 2.0, 3.0, 2.0, 2.0, 2.0, 2.0, 2.0, 2.0, 3.0, 4.0, 2.0, 3.0, 2.0, 3.0, 4.0, 2.0, 3.0, 2.0, 2.0, 3.0, 2.0, 3.0, 2.0, 2.0, 2.0, 3.0, 4.0, 2.0, 3.0, 4.0, 2.0, 3.0, 2.0, 3.0, 4.0, 5.0, 2.0, 3.0, 2.0, 2.0, 2.0, 3.0, 2.0, 3.0, 2.0, 2.0, 2.0, 2.0, 2.0, 3.0, 4.0, 2.0, 2.0, 3.0, 2.0, 2.0, 2.0, 2.0, 2.0, 2.0, 2.0, 3.0, 2.0, 2.0, 3.0, 4.0, 2.0, 3.0, 2.0, 2.0, 2.0, 2.0, 2.0, 3.0, 2.0, 2.0, 3.0, 2.0, 2.0, 2.0, 3.0, 4.0, 2.0, 3.0, 2.0, 3.0, 4.0, 5.0, 6.0, 7.0, 2.0, 3.0, 2.0, 3.0, 4.0, 5.0, 2.0, 3.0, 2.0, 3.0, 2.0, 2.0, 3.0, 4.0, 5.0, 2.0, 2.0, 3.0, 4.0, 2.0, 3.0, 2.0, 2.0, 2.0, 2.0, 3.0, 2.0, 3.0, 2.0, 3.0, 4.0, 2.0, 2.0, 2.0, 3.0, 2.0, 2.0, 3.0, 2.0, 2.0, 2.0, 2.0, 3.0, 4.0, 2.0, 3.0, 2.0, 3.0, 2.0, 2.0, 2.0, 3.0, 2.0, 2.0, 3.0, 2.0, 3.0, 4.0, 2.0, 2.0, 2.0, 2.0, 3.0, 4.0, 2.0, 3.0, 2.0, 2.0, 3.0, 2.0, 2.0, 3.0, 2.0, 2.0, 2.0, 3.0, 4.0, 5.0, 6.0, 7.0, 2.0, 2.0, 2.0, 2.0, 2.0, 3.0, 2.0, 2.0, 3.0, 2.0, 3.0, 2.0, 3.0, 2.0]\n"
     ]
    }
   ],
   "source": [
    "print(list(boN['birthord']))"
   ]
  },
  {
   "cell_type": "markdown",
   "metadata": {},
   "source": [
    "**Note** If you use \"!=1\" instead of \">1\", your results will change!! \n",
    "With creating the non-first child births using \"!=1\", you will keep those entries with \"nan\" = \"Not a number\" values. \n",
    "\n",
    "If you did that, your values will change, but we will check to make sure you have the right approaches."
   ]
  },
  {
   "cell_type": "markdown",
   "metadata": {},
   "source": [
    "\n",
    "# 1.\n",
    "\n",
    "Plot (on the same graph) histograms for the two data sets. Adjust the number of bins to make the histograms show the data well. Use transparency to make the overlapping histograms more understandable. Label the x- and y- axes, and add a legend."
   ]
  },
  {
   "cell_type": "code",
   "execution_count": 70,
   "metadata": {},
   "outputs": [
    {
     "data": {
      "text/plain": [
       "Text(0,0.5,'Counts')"
      ]
     },
     "execution_count": 70,
     "metadata": {},
     "output_type": "execute_result"
    },
    {
     "data": {
      "image/png": "[encoded data removed]",
      "text/plain": [
       "<Figure size 432x288 with 1 Axes>"
      ]
     },
     "metadata": {
      "needs_background": "light"
     },
     "output_type": "display_data"
    }
   ],
   "source": [
    "counts,mybins,patches=plt.hist(bo1['prglngth'],bins=20,alpha=0.7,label='Birth Order 1')\n",
    "plt.hist(boN['prglngth'], bins=mybins,alpha=0.4,label=\"Birth Order >1\")\n",
    "plt.legend()\n",
    "plt.xlabel('Pregnancy Length (weeks)')\n",
    "plt.ylabel('Counts')"
   ]
  },
  {
   "cell_type": "markdown",
   "metadata": {},
   "source": [
    "# 2. \n",
    "\n",
    "Find the average pregnancy lengths for both subsets of the data. Do the calculated average pregnancy lengths support the hypothesis that women's first babies are born later than their other babies? Using a two-sided binary hypothesis test, determine if any observed difference in average pregnancy lengths is statistically significant (at the $p<=0.05$ level)."
   ]
  },
  {
   "cell_type": "code",
   "execution_count": 71,
   "metadata": {},
   "outputs": [
    {
     "name": "stdout",
     "output_type": "stream",
     "text": [
      "Avg. pregnancy length for first children: 38.75409836065574\n",
      "Avg. pregnancy length for other children: 38.70935960591133\n",
      "Different in averages: 0.04473875474440803\n"
     ]
    }
   ],
   "source": [
    "print(\"Avg. pregnancy length for first children:\", bo1['prglngth'].mean())\n",
    "print(\"Avg. pregnancy length for other children:\", boN['prglngth'].mean())\n",
    "diff1=bo1['prglngth'].mean()-boN['prglngth'].mean()\n",
    "print(\"Different in averages:\", diff1)"
   ]
  },
  {
   "cell_type": "markdown",
   "metadata": {},
   "source": [
    "Yes, the average pregnancy length for first children is *slightly* longer than for other children. (The difference is more pronounced if you separated the two sets the other way.)"
   ]
  },
  {
   "cell_type": "markdown",
   "metadata": {},
   "source": [
    "**For this solution, I will show a Monte Carlo permutation test. You could also have used bootstrap resampling**"
   ]
  },
  {
   "cell_type": "code",
   "execution_count": 75,
   "metadata": {},
   "outputs": [
    {
     "name": "stdout",
     "output_type": "stream",
     "text": [
      "Under H0, probability of observing an absolute difference as large as 0.04473875474440803  is 0.8884\n"
     ]
    }
   ],
   "source": [
    "num_sims=10000\n",
    "pooled=df['prglngth']\n",
    "\n",
    "count=0\n",
    "for sim in range(num_sims):\n",
    "    permbirths=npr.permutation(pooled)\n",
    "    samp1=permbirths[:len(bo1)]\n",
    "    sampN=permbirths[len(bo1):] # See note 1 below\n",
    "    prop1=np.mean(samp1)\n",
    "    propN=np.mean(sampN)\n",
    "    if abs(prop1-propN)>=diff1:\n",
    "        count+=1\n",
    "\n",
    "print(\"Under H0, probability of observing an absolute difference as large as\",diff1,\" is\", count/num_sims)"
   ]
  },
  {
   "cell_type": "markdown",
   "metadata": {},
   "source": [
    "We actually see differences this large with very high probability, so we reject the null hypothesis. The observed effects could be due to random sampling."
   ]
  },
  {
   "cell_type": "markdown",
   "metadata": {},
   "source": [
    "# 3.\n",
    "\n",
    "Find the 95% confidence interval for the average pregnancy lengths under the null hypothesis. Using this confidence interval, determine whether the null hypothesis should be rejected (i.e., the difference in average pregnancy lengths is statistically significant)."
   ]
  },
  {
   "cell_type": "code",
   "execution_count": 94,
   "metadata": {},
   "outputs": [
    {
     "name": "stdout",
     "output_type": "stream",
     "text": [
      "[-1.21094911 -1.18073078 -1.12029413 ...  1.075571    1.08564378\n",
      "  1.10578933]\n",
      "-0.6468736622094653 0.6222960892447986\n"
     ]
    }
   ],
   "source": [
    "num_sims=10000\n",
    "pooled=df['prglngth']\n",
    "\n",
    "observed=[]\n",
    "for sim in range(num_sims):\n",
    "    permbirths=npr.permutation(pooled)\n",
    "    samp1=permbirths[:len(bo1)]\n",
    "    sampN=permbirths[len(bo1):] # See note 1 below\n",
    "    prop1=np.mean(samp1)\n",
    "    propN=np.mean(sampN)\n",
    "    observed+=[prop1-propN]\n",
    "\n",
    "sorted=np.sort(observed)\n",
    "print(sorted)\n",
    "print(sorted[int(num_sims*0.025)],sorted[int(num_sims*0.975)])"
   ]
  },
  {
   "cell_type": "markdown",
   "metadata": {},
   "source": [
    "The 95% confidence interval for the differences in averages is [-0.64, 0.63]\n",
    "\n",
    "Since the obssesrved value of 0.044 is in this confidence interval, we cannot reject the null hypothesis."
   ]
  },
  {
   "cell_type": "markdown",
   "metadata": {},
   "source": [
    "# 4. \n",
    "\n",
    "\"Full term\" is considered to be 40 weeks, and births from pregnancies over 40 weeks are considered \"late\". Find the proportion of births that had pregnancy lengths over 40 weeks for each subset of the data. Using a two-sided binary hypothesis test, determine if any observed difference  in the proportion of late births is statistically significant (at the $p<=0.05$ level)."
   ]
  },
  {
   "cell_type": "code",
   "execution_count": 98,
   "metadata": {},
   "outputs": [
    {
     "name": "stdout",
     "output_type": "stream",
     "text": [
      "Proportion of 1st births over 40 weeks 0.15846994535519127\n",
      "Proportion of later births over 40 weeks 0.06896551724137931\n",
      "The difference in proportions is 0.08950442811381196\n"
     ]
    }
   ],
   "source": [
    "prop1=np.sum((bo1['prglngth']>40))/len(bo1)\n",
    "propN=np.sum((boN['prglngth']>40))/len(boN)\n",
    "diff2=prop1-propN\n",
    "print(\"Proportion of 1st births over 40 weeks\", prop1)\n",
    "print(\"Proportion of later births over 40 weeks\", propN)\n",
    "print(\"The difference in proportions is\", diff2)"
   ]
  },
  {
   "cell_type": "markdown",
   "metadata": {},
   "source": [
    "It appears that first births are more likely to last over 40 weeks. However, let's test to see whether the result is statistically significant:"
   ]
  },
  {
   "cell_type": "markdown",
   "metadata": {},
   "source": [
    "**For this one, I will show a bootstrap test.  A Monte Carlo permutation test would be equally valid.**"
   ]
  },
  {
   "cell_type": "code",
   "execution_count": 93,
   "metadata": {},
   "outputs": [
    {
     "name": "stdout",
     "output_type": "stream",
     "text": [
      "Under H0, effect of that size is observed with prob. 0.0049\n"
     ]
    }
   ],
   "source": [
    "num_sims=10000\n",
    "\n",
    "count=0\n",
    "for sim in range(num_sims):\n",
    "    samp1=npr.choice(pooled,size=len(bo1))\n",
    "    sampN=npr.choice(pooled,size=len(boN))\n",
    "    prop1=np.sum(samp1>40)/len(samp1)\n",
    "    propN=np.sum(sampN>40)/len(sampN)\n",
    "    if abs(prop1-propN)>=diff2:\n",
    "        count+=1\n",
    "            \n",
    "print(\"Under H0, effect of that size is observed with prob.\",\n",
    "      count/num_sims)"
   ]
  },
  {
   "cell_type": "markdown",
   "metadata": {},
   "source": [
    "Since the probability of observing such a big difference in proportions is approximately $5 \\times 10^{-3}< 0.05$, we cannot reject the null hypothesis. The difference is statistically significant."
   ]
  },
  {
   "cell_type": "markdown",
   "metadata": {},
   "source": [
    "# 5.\n",
    "\n",
    "Find the 95% confidence interval for the proportions of births over 40 weeks under the null hypothesis. Using this confidence interval, determine whether the null hypothesis should be rejected (i.e., the difference in average pregnancy lengths is statistically significant)."
   ]
  },
  {
   "cell_type": "code",
   "execution_count": 97,
   "metadata": {},
   "outputs": [
    {
     "name": "stdout",
     "output_type": "stream",
     "text": [
      "[-0.12269509 -0.11391962 -0.11068939 ...  0.11413497  0.11844195\n",
      "  0.12229131]\n",
      "-0.06142830224232146 0.06164365124229454\n"
     ]
    }
   ],
   "source": [
    "num_sims=10000\n",
    "\n",
    "observed=[]\n",
    "for sim in range(num_sims):\n",
    "    samp1=npr.choice(pooled,size=len(bo1))\n",
    "    sampN=npr.choice(pooled,size=len(boN))\n",
    "    prop1=np.sum(samp1>40)/len(samp1)\n",
    "    propN=np.sum(sampN>40)/len(sampN)\n",
    "    diff=prop1-propN\n",
    "    observed+=[diff]\n",
    "    \n",
    "sorted=np.sort(observed)\n",
    "print(sorted)\n",
    "print(sorted[int(num_sims*0.025)],sorted[int(num_sims*0.975)])"
   ]
  },
  {
   "cell_type": "markdown",
   "metadata": {},
   "source": [
    "The 95% confidence interval is approximately [-0.061, 0.062]. Since this does not contain the observed difference we observed (approximately 0.0895), we reject the null hypothesis"
   ]
  },
  {
   "cell_type": "markdown",
   "metadata": {},
   "source": [
    "# 6.\n",
    "\n",
    "Write a couple sentences to explain your results."
   ]
  },
  {
   "cell_type": "markdown",
   "metadata": {},
   "source": [
    "The results show that statistical results can be very sensitive to the particular statistics chosen. Although the statistics do no support the hypothesis that the average pregnancy length for first children is longer than that for later children, it does support the hypothesis that first children are more likely to be \"late\" (over 40 weeks) than later children.\n",
    "\n",
    "(One confounding factor is that later children are more likely to be delivered by scheduled Caeserean section, which reduces the proportion of births that would have gone over 40 weeks in the absence of medical intervention.)"
   ]
  },
  {
   "cell_type": "code",
   "execution_count": null,
   "metadata": {},
   "outputs": [],
   "source": []
  }
 ],
 "metadata": {
  "kernelspec": {
   "display_name": "Python 3",
   "language": "python",
   "name": "python3"
  },
  "language_info": {
   "codemirror_mode": {
    "name": "ipython",
    "version": 3
   },
   "file_extension": ".py",
   "mimetype": "text/x-python",
   "name": "python",
   "nbconvert_exporter": "python",
   "pygments_lexer": "ipython3",
   "version": "3.7.2"
  }
 },
 "nbformat": 4,
 "nbformat_minor": 1
}
