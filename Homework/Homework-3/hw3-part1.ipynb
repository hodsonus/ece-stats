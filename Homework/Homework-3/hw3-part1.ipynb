{
 "cells": [
  {
   "cell_type": "markdown",
   "metadata": {},
   "source": [
    "### Problem Setup"
   ]
  },
  {
   "cell_type": "markdown",
   "metadata": {},
   "source": [
    "We can use the ```pickle``` library to make loading the data for HW 3 easier. ```pickle``` is a library for serializing arbitrary Python objects; i.e., it is a way to turn a Python object into a series of bytes (that can then be written to a file, for instance).\n",
    "\n",
    "I have taken the first 400 rows from the National Survey of Family Growth and then reduced it to focus on just two colums:\n",
    "\n",
    "* ```birthord``` is the order of the birth. I.e., birthord==n indicates that it is a woman's $n$th child\n",
    "\n",
    "* ```prglngth``` is the length of the pregnancy in weeks.\n",
    "\n",
    "Be sure you have downloaded the file ```hw3.pickle``` and have it in the same directory as this Jupyter notebook. \n",
    "\n",
    "Then you can open the file and import the data as follows. (Here \"rb\" indicates that the file is being opened read-binary.)"
   ]
  },
  {
   "cell_type": "code",
   "execution_count": 1,
   "metadata": {},
   "outputs": [],
   "source": [
    "import pickle\n",
    "import matplotlib.pyplot as plt\n",
    "%matplotlib inline\n",
    "import random\n",
    "import numpy.random as npr\n",
    "import numpy as np"
   ]
  },
  {
   "cell_type": "code",
   "execution_count": 2,
   "metadata": {},
   "outputs": [],
   "source": [
    "f=open(\"hw3.pickle\",\"rb\")"
   ]
  },
  {
   "cell_type": "code",
   "execution_count": 3,
   "metadata": {},
   "outputs": [],
   "source": [
    "df=pickle.load(f)"
   ]
  },
  {
   "cell_type": "code",
   "execution_count": 4,
   "metadata": {},
   "outputs": [],
   "source": [
    "f.close()"
   ]
  },
  {
   "cell_type": "markdown",
   "metadata": {},
   "source": [
    "If you have successfully loaded the dataframe from the pickle file, then you will have not seen any error messages,and you will be able to look at the dataframe:"
   ]
  },
  {
   "cell_type": "code",
   "execution_count": 5,
   "metadata": {},
   "outputs": [
    {
     "data": {
      "text/html": [
       "<div>\n",
       "<style scoped>\n",
       "    .dataframe tbody tr th:only-of-type {\n",
       "        vertical-align: middle;\n",
       "    }\n",
       "\n",
       "    .dataframe tbody tr th {\n",
       "        vertical-align: top;\n",
       "    }\n",
       "\n",
       "    .dataframe thead th {\n",
       "        text-align: right;\n",
       "    }\n",
       "</style>\n",
       "<table border=\"1\" class=\"dataframe\">\n",
       "  <thead>\n",
       "    <tr style=\"text-align: right;\">\n",
       "      <th></th>\n",
       "      <th>index</th>\n",
       "      <th>birthord</th>\n",
       "      <th>prglngth</th>\n",
       "    </tr>\n",
       "  </thead>\n",
       "  <tbody>\n",
       "    <tr>\n",
       "      <th>0</th>\n",
       "      <td>0</td>\n",
       "      <td>1.0</td>\n",
       "      <td>39</td>\n",
       "    </tr>\n",
       "    <tr>\n",
       "      <th>1</th>\n",
       "      <td>1</td>\n",
       "      <td>2.0</td>\n",
       "      <td>39</td>\n",
       "    </tr>\n",
       "    <tr>\n",
       "      <th>2</th>\n",
       "      <td>2</td>\n",
       "      <td>1.0</td>\n",
       "      <td>39</td>\n",
       "    </tr>\n",
       "    <tr>\n",
       "      <th>3</th>\n",
       "      <td>3</td>\n",
       "      <td>2.0</td>\n",
       "      <td>39</td>\n",
       "    </tr>\n",
       "    <tr>\n",
       "      <th>4</th>\n",
       "      <td>4</td>\n",
       "      <td>3.0</td>\n",
       "      <td>39</td>\n",
       "    </tr>\n",
       "    <tr>\n",
       "      <th>5</th>\n",
       "      <td>5</td>\n",
       "      <td>1.0</td>\n",
       "      <td>38</td>\n",
       "    </tr>\n",
       "    <tr>\n",
       "      <th>6</th>\n",
       "      <td>6</td>\n",
       "      <td>2.0</td>\n",
       "      <td>40</td>\n",
       "    </tr>\n",
       "    <tr>\n",
       "      <th>7</th>\n",
       "      <td>7</td>\n",
       "      <td>3.0</td>\n",
       "      <td>42</td>\n",
       "    </tr>\n",
       "    <tr>\n",
       "      <th>8</th>\n",
       "      <td>8</td>\n",
       "      <td>1.0</td>\n",
       "      <td>39</td>\n",
       "    </tr>\n",
       "    <tr>\n",
       "      <th>9</th>\n",
       "      <td>9</td>\n",
       "      <td>2.0</td>\n",
       "      <td>35</td>\n",
       "    </tr>\n",
       "    <tr>\n",
       "      <th>10</th>\n",
       "      <td>10</td>\n",
       "      <td>1.0</td>\n",
       "      <td>39</td>\n",
       "    </tr>\n",
       "    <tr>\n",
       "      <th>11</th>\n",
       "      <td>11</td>\n",
       "      <td>1.0</td>\n",
       "      <td>39</td>\n",
       "    </tr>\n",
       "    <tr>\n",
       "      <th>12</th>\n",
       "      <td>12</td>\n",
       "      <td>2.0</td>\n",
       "      <td>37</td>\n",
       "    </tr>\n",
       "    <tr>\n",
       "      <th>13</th>\n",
       "      <td>15</td>\n",
       "      <td>1.0</td>\n",
       "      <td>33</td>\n",
       "    </tr>\n",
       "    <tr>\n",
       "      <th>14</th>\n",
       "      <td>16</td>\n",
       "      <td>2.0</td>\n",
       "      <td>33</td>\n",
       "    </tr>\n",
       "    <tr>\n",
       "      <th>15</th>\n",
       "      <td>17</td>\n",
       "      <td>1.0</td>\n",
       "      <td>39</td>\n",
       "    </tr>\n",
       "    <tr>\n",
       "      <th>16</th>\n",
       "      <td>19</td>\n",
       "      <td>1.0</td>\n",
       "      <td>41</td>\n",
       "    </tr>\n",
       "    <tr>\n",
       "      <th>17</th>\n",
       "      <td>20</td>\n",
       "      <td>2.0</td>\n",
       "      <td>39</td>\n",
       "    </tr>\n",
       "    <tr>\n",
       "      <th>18</th>\n",
       "      <td>21</td>\n",
       "      <td>1.0</td>\n",
       "      <td>39</td>\n",
       "    </tr>\n",
       "    <tr>\n",
       "      <th>19</th>\n",
       "      <td>23</td>\n",
       "      <td>1.0</td>\n",
       "      <td>39</td>\n",
       "    </tr>\n",
       "    <tr>\n",
       "      <th>20</th>\n",
       "      <td>24</td>\n",
       "      <td>2.0</td>\n",
       "      <td>39</td>\n",
       "    </tr>\n",
       "    <tr>\n",
       "      <th>21</th>\n",
       "      <td>25</td>\n",
       "      <td>3.0</td>\n",
       "      <td>39</td>\n",
       "    </tr>\n",
       "    <tr>\n",
       "      <th>22</th>\n",
       "      <td>26</td>\n",
       "      <td>1.0</td>\n",
       "      <td>39</td>\n",
       "    </tr>\n",
       "    <tr>\n",
       "      <th>23</th>\n",
       "      <td>27</td>\n",
       "      <td>1.0</td>\n",
       "      <td>42</td>\n",
       "    </tr>\n",
       "    <tr>\n",
       "      <th>24</th>\n",
       "      <td>28</td>\n",
       "      <td>2.0</td>\n",
       "      <td>37</td>\n",
       "    </tr>\n",
       "    <tr>\n",
       "      <th>25</th>\n",
       "      <td>29</td>\n",
       "      <td>3.0</td>\n",
       "      <td>40</td>\n",
       "    </tr>\n",
       "    <tr>\n",
       "      <th>26</th>\n",
       "      <td>31</td>\n",
       "      <td>1.0</td>\n",
       "      <td>41</td>\n",
       "    </tr>\n",
       "    <tr>\n",
       "      <th>27</th>\n",
       "      <td>32</td>\n",
       "      <td>1.0</td>\n",
       "      <td>38</td>\n",
       "    </tr>\n",
       "    <tr>\n",
       "      <th>28</th>\n",
       "      <td>33</td>\n",
       "      <td>2.0</td>\n",
       "      <td>39</td>\n",
       "    </tr>\n",
       "    <tr>\n",
       "      <th>29</th>\n",
       "      <td>34</td>\n",
       "      <td>3.0</td>\n",
       "      <td>39</td>\n",
       "    </tr>\n",
       "    <tr>\n",
       "      <th>...</th>\n",
       "      <td>...</td>\n",
       "      <td>...</td>\n",
       "      <td>...</td>\n",
       "    </tr>\n",
       "    <tr>\n",
       "      <th>370</th>\n",
       "      <td>517</td>\n",
       "      <td>1.0</td>\n",
       "      <td>39</td>\n",
       "    </tr>\n",
       "    <tr>\n",
       "      <th>371</th>\n",
       "      <td>518</td>\n",
       "      <td>2.0</td>\n",
       "      <td>39</td>\n",
       "    </tr>\n",
       "    <tr>\n",
       "      <th>372</th>\n",
       "      <td>520</td>\n",
       "      <td>1.0</td>\n",
       "      <td>40</td>\n",
       "    </tr>\n",
       "    <tr>\n",
       "      <th>373</th>\n",
       "      <td>521</td>\n",
       "      <td>1.0</td>\n",
       "      <td>41</td>\n",
       "    </tr>\n",
       "    <tr>\n",
       "      <th>374</th>\n",
       "      <td>523</td>\n",
       "      <td>2.0</td>\n",
       "      <td>37</td>\n",
       "    </tr>\n",
       "    <tr>\n",
       "      <th>375</th>\n",
       "      <td>524</td>\n",
       "      <td>1.0</td>\n",
       "      <td>35</td>\n",
       "    </tr>\n",
       "    <tr>\n",
       "      <th>376</th>\n",
       "      <td>525</td>\n",
       "      <td>2.0</td>\n",
       "      <td>39</td>\n",
       "    </tr>\n",
       "    <tr>\n",
       "      <th>377</th>\n",
       "      <td>526</td>\n",
       "      <td>NaN</td>\n",
       "      <td>30</td>\n",
       "    </tr>\n",
       "    <tr>\n",
       "      <th>378</th>\n",
       "      <td>527</td>\n",
       "      <td>1.0</td>\n",
       "      <td>37</td>\n",
       "    </tr>\n",
       "    <tr>\n",
       "      <th>379</th>\n",
       "      <td>528</td>\n",
       "      <td>2.0</td>\n",
       "      <td>35</td>\n",
       "    </tr>\n",
       "    <tr>\n",
       "      <th>380</th>\n",
       "      <td>529</td>\n",
       "      <td>3.0</td>\n",
       "      <td>35</td>\n",
       "    </tr>\n",
       "    <tr>\n",
       "      <th>381</th>\n",
       "      <td>530</td>\n",
       "      <td>1.0</td>\n",
       "      <td>39</td>\n",
       "    </tr>\n",
       "    <tr>\n",
       "      <th>382</th>\n",
       "      <td>532</td>\n",
       "      <td>2.0</td>\n",
       "      <td>30</td>\n",
       "    </tr>\n",
       "    <tr>\n",
       "      <th>383</th>\n",
       "      <td>534</td>\n",
       "      <td>1.0</td>\n",
       "      <td>44</td>\n",
       "    </tr>\n",
       "    <tr>\n",
       "      <th>384</th>\n",
       "      <td>535</td>\n",
       "      <td>1.0</td>\n",
       "      <td>40</td>\n",
       "    </tr>\n",
       "    <tr>\n",
       "      <th>385</th>\n",
       "      <td>536</td>\n",
       "      <td>2.0</td>\n",
       "      <td>39</td>\n",
       "    </tr>\n",
       "    <tr>\n",
       "      <th>386</th>\n",
       "      <td>540</td>\n",
       "      <td>1.0</td>\n",
       "      <td>43</td>\n",
       "    </tr>\n",
       "    <tr>\n",
       "      <th>387</th>\n",
       "      <td>542</td>\n",
       "      <td>3.0</td>\n",
       "      <td>43</td>\n",
       "    </tr>\n",
       "    <tr>\n",
       "      <th>388</th>\n",
       "      <td>543</td>\n",
       "      <td>1.0</td>\n",
       "      <td>39</td>\n",
       "    </tr>\n",
       "    <tr>\n",
       "      <th>389</th>\n",
       "      <td>546</td>\n",
       "      <td>1.0</td>\n",
       "      <td>39</td>\n",
       "    </tr>\n",
       "    <tr>\n",
       "      <th>390</th>\n",
       "      <td>547</td>\n",
       "      <td>2.0</td>\n",
       "      <td>42</td>\n",
       "    </tr>\n",
       "    <tr>\n",
       "      <th>391</th>\n",
       "      <td>548</td>\n",
       "      <td>3.0</td>\n",
       "      <td>39</td>\n",
       "    </tr>\n",
       "    <tr>\n",
       "      <th>392</th>\n",
       "      <td>549</td>\n",
       "      <td>1.0</td>\n",
       "      <td>41</td>\n",
       "    </tr>\n",
       "    <tr>\n",
       "      <th>393</th>\n",
       "      <td>550</td>\n",
       "      <td>1.0</td>\n",
       "      <td>39</td>\n",
       "    </tr>\n",
       "    <tr>\n",
       "      <th>394</th>\n",
       "      <td>551</td>\n",
       "      <td>2.0</td>\n",
       "      <td>39</td>\n",
       "    </tr>\n",
       "    <tr>\n",
       "      <th>395</th>\n",
       "      <td>552</td>\n",
       "      <td>3.0</td>\n",
       "      <td>39</td>\n",
       "    </tr>\n",
       "    <tr>\n",
       "      <th>396</th>\n",
       "      <td>554</td>\n",
       "      <td>1.0</td>\n",
       "      <td>38</td>\n",
       "    </tr>\n",
       "    <tr>\n",
       "      <th>397</th>\n",
       "      <td>556</td>\n",
       "      <td>2.0</td>\n",
       "      <td>40</td>\n",
       "    </tr>\n",
       "    <tr>\n",
       "      <th>398</th>\n",
       "      <td>557</td>\n",
       "      <td>NaN</td>\n",
       "      <td>20</td>\n",
       "    </tr>\n",
       "    <tr>\n",
       "      <th>399</th>\n",
       "      <td>559</td>\n",
       "      <td>1.0</td>\n",
       "      <td>39</td>\n",
       "    </tr>\n",
       "  </tbody>\n",
       "</table>\n",
       "<p>400 rows × 3 columns</p>\n",
       "</div>"
      ],
      "text/plain": [
       "     index  birthord  prglngth\n",
       "0        0       1.0        39\n",
       "1        1       2.0        39\n",
       "2        2       1.0        39\n",
       "3        3       2.0        39\n",
       "4        4       3.0        39\n",
       "5        5       1.0        38\n",
       "6        6       2.0        40\n",
       "7        7       3.0        42\n",
       "8        8       1.0        39\n",
       "9        9       2.0        35\n",
       "10      10       1.0        39\n",
       "11      11       1.0        39\n",
       "12      12       2.0        37\n",
       "13      15       1.0        33\n",
       "14      16       2.0        33\n",
       "15      17       1.0        39\n",
       "16      19       1.0        41\n",
       "17      20       2.0        39\n",
       "18      21       1.0        39\n",
       "19      23       1.0        39\n",
       "20      24       2.0        39\n",
       "21      25       3.0        39\n",
       "22      26       1.0        39\n",
       "23      27       1.0        42\n",
       "24      28       2.0        37\n",
       "25      29       3.0        40\n",
       "26      31       1.0        41\n",
       "27      32       1.0        38\n",
       "28      33       2.0        39\n",
       "29      34       3.0        39\n",
       "..     ...       ...       ...\n",
       "370    517       1.0        39\n",
       "371    518       2.0        39\n",
       "372    520       1.0        40\n",
       "373    521       1.0        41\n",
       "374    523       2.0        37\n",
       "375    524       1.0        35\n",
       "376    525       2.0        39\n",
       "377    526       NaN        30\n",
       "378    527       1.0        37\n",
       "379    528       2.0        35\n",
       "380    529       3.0        35\n",
       "381    530       1.0        39\n",
       "382    532       2.0        30\n",
       "383    534       1.0        44\n",
       "384    535       1.0        40\n",
       "385    536       2.0        39\n",
       "386    540       1.0        43\n",
       "387    542       3.0        43\n",
       "388    543       1.0        39\n",
       "389    546       1.0        39\n",
       "390    547       2.0        42\n",
       "391    548       3.0        39\n",
       "392    549       1.0        41\n",
       "393    550       1.0        39\n",
       "394    551       2.0        39\n",
       "395    552       3.0        39\n",
       "396    554       1.0        38\n",
       "397    556       2.0        40\n",
       "398    557       NaN        20\n",
       "399    559       1.0        39\n",
       "\n",
       "[400 rows x 3 columns]"
      ]
     },
     "execution_count": 5,
     "metadata": {},
     "output_type": "execute_result"
    }
   ],
   "source": [
    "df"
   ]
  },
  {
   "cell_type": "markdown",
   "metadata": {},
   "source": [
    "### Questions"
   ]
  },
  {
   "cell_type": "markdown",
   "metadata": {},
   "source": [
    "Many people believe that women's first babies are born later (in terms of pregnancy length, measured in weeks) than their other babies. In this problem, you will test that hypothesis. The first step is to divide the dataset into two subsets: first babies and other babies. Then:\n",
    "\n",
    "1. Plot (on the same graph) histograms for the two data sets. Adjust the number of bins to make the histograms show the data well. Use transparency to make the overlapping histograms more understandable. Label the x- and y- axes, and add a legend."
   ]
  },
  {
   "cell_type": "code",
   "execution_count": 6,
   "metadata": {},
   "outputs": [],
   "source": [
    "first_babies = df.loc[df['birthord'] == 1];\n",
    "other_babies = df.loc[df['birthord'] != 1];"
   ]
  },
  {
   "cell_type": "code",
   "execution_count": 7,
   "metadata": {},
   "outputs": [
    {
     "data": {
      "image/png": "[encoded data removed]",
      "text/plain": [
       "<Figure size 432x288 with 1 Axes>"
      ]
     },
     "metadata": {
      "needs_background": "light"
     },
     "output_type": "display_data"
    }
   ],
   "source": [
    "num_bins=range(20,45)\n",
    "alpha_val = 0.5\n",
    "plt.hist(first_babies['prglngth'], bins=num_bins, alpha=alpha_val, label=\"First Babies\");\n",
    "plt.hist(other_babies['prglngth'], bins=num_bins, alpha=alpha_val, label=\"Other Babies\");\n",
    "plt.legend();\n",
    "plt.xlabel(\"Length of Pregnancy (weeks)\");\n",
    "plt.ylabel(\"Counts\");"
   ]
  },
  {
   "cell_type": "markdown",
   "metadata": {},
   "source": [
    "2. Find the average pregnancy lengths for both subsets of the data. Do the calculated average pregnancy lengths support the hypothesis that women's first babies are born later than their other babies? Using a two-sided binary hypothesis test, determine if any observed difference in average pregnancy lengths is statistically significant (at the $p<=0.05$ level)."
   ]
  },
  {
   "cell_type": "code",
   "execution_count": 8,
   "metadata": {},
   "outputs": [
    {
     "name": "stdout",
     "output_type": "stream",
     "text": [
      "The average pregnancy length for the first born babies is 38.75409836065574 weeks.\n",
      "The average pregnancy length for the babies NOT born first is 37.99078341013825 weeks.\n",
      "The difference of the two sample means is 0.7633149505174899.\n"
     ]
    }
   ],
   "source": [
    "first_babies_mean = first_babies['prglngth'].mean()\n",
    "other_babies_mean = other_babies['prglngth'].mean()\n",
    "diff = first_babies_mean - other_babies_mean\n",
    "\n",
    "print('The average pregnancy length for the first born babies is',first_babies_mean, 'weeks.')\n",
    "print('The average pregnancy length for the babies NOT born first is',other_babies_mean, 'weeks.')\n",
    "print(\"The difference of the two sample means is \", diff, \".\",sep=\"\")"
   ]
  },
  {
   "cell_type": "code",
   "execution_count": 9,
   "metadata": {},
   "outputs": [
    {
     "name": "stdout",
     "output_type": "stream",
     "text": [
      "Under the null hypothesis, observe effect this large with prob =~ 0.0188.\n",
      "This is statistically significant at the p <= 0.05 level.\n"
     ]
    }
   ],
   "source": [
    "pooled = np.array(df['prglngth'])\n",
    "# stacked = np.vstack((rate2005,rate2014))\n",
    "\n",
    "num_sims=50000\n",
    "event_count=0\n",
    "bs_stats = []\n",
    "for sim in range(num_sims):\n",
    "    sample_first = npr.choice(pooled, size=183)\n",
    "    sample_others = npr.choice(pooled, size=217)\n",
    "    # Bootstrap samples DO NOT have to be the same size\n",
    "    # They should be the sizes of the original sample\n",
    "    mean_first  = sample_first.mean()\n",
    "    mean_others = sample_others.mean()\n",
    "    sample_diff = mean_first-mean_others\n",
    "    abs_sample_diff = abs(sample_diff)\n",
    "    bs_stats += [abs_sample_diff]\n",
    "    if abs_sample_diff >= diff:\n",
    "        event_count+=1\n",
    "        \n",
    "prob = event_count/num_sims\n",
    "print(\"Under the null hypothesis, observe effect this large with prob =~ \",prob,\".\", sep=\"\")\n",
    "\n",
    "if prob <= 0.05:\n",
    "    print(\"This is statistically significant at the p <= 0.05 level.\")\n",
    "else:\n",
    "    print(\"This is not statistically significant at the p <= 0.05 level.\")"
   ]
  },
  {
   "cell_type": "markdown",
   "metadata": {},
   "source": [
    "3. Find the 95% confidence interval for the average pregnancy lengths under the null hypothesis. Using this confidence interval, determine whether the null hypothesis should be rejected (i.e., the difference in average pregnancy lengths is statistically significant)."
   ]
  },
  {
   "cell_type": "code",
   "execution_count": 10,
   "metadata": {},
   "outputs": [],
   "source": [
    "def confidence_interval(bs_stats, n):\n",
    "    bs_stats.sort()\n",
    "    x = (1-n/100)\n",
    "    lower=int(len(bs_stats)*x/2)\n",
    "    upper=int(len(bs_stats)-lower-1)\n",
    "    bs_stats[lower],bs_stats[upper]\n",
    "    print('The ',n,'% confidence interval is [',bs_stats[lower],', ',bs_stats[upper],'].',sep=\"\")\n",
    "    return bs_stats[lower],bs_stats[upper]"
   ]
  },
  {
   "cell_type": "code",
   "execution_count": 11,
   "metadata": {},
   "outputs": [
    {
     "name": "stdout",
     "output_type": "stream",
     "text": [
      "The 95% confidence interval is [0.010500868776915695, 0.7282113268363943].\n",
      "Using the confidence interval, I have determined that the null hypothesis should be rejected as the mean pregnancy length diff that was observed between first babies and other babies does not fall within the confidence interval.\n"
     ]
    }
   ],
   "source": [
    "lower,upper = confidence_interval(bs_stats, 95)\n",
    "if lower <= diff <= upper: \n",
    "    print(\"Using the confidence interval, I have determined that the null hypothesis should not be rejected as the mean pregnancy length diff that was observed between first babies and other babies does indeed fall within the confidence interval.\")\n",
    "else:\n",
    "    print(\"Using the confidence interval, I have determined that the null hypothesis should be rejected as the mean pregnancy length diff that was observed between first babies and other babies does not fall within the confidence interval.\")"
   ]
  },
  {
   "cell_type": "markdown",
   "metadata": {},
   "source": [
    "4. \"Full term\" is considered to be 40 weeks, and births from pregnancies over 40 weeks are considered \"late\". Find the proportion of births that had pregnancy lengths over 40 weeks for each subset of the data. Using a two-sided binary hypothesis test, determine if any observed difference  in the proportion of late births is statistically significant (at the $p<=0.05$ level)."
   ]
  },
  {
   "cell_type": "code",
   "execution_count": 12,
   "metadata": {},
   "outputs": [],
   "source": [
    "full_term_first = first_babies.loc[first_babies['prglngth'] <= 40];\n",
    "late_term_first = first_babies.loc[first_babies['prglngth'] >  40];\n",
    "full_term_other = other_babies.loc[other_babies['prglngth'] <= 40];\n",
    "late_term_other = other_babies.loc[other_babies['prglngth'] >  40];"
   ]
  },
  {
   "cell_type": "code",
   "execution_count": 13,
   "metadata": {},
   "outputs": [
    {
     "data": {
      "text/plain": [
       "0"
      ]
     },
     "execution_count": 13,
     "metadata": {},
     "output_type": "execute_result"
    }
   ],
   "source": [
    "# Sanity check\n",
    "df.size-(full_term_first.size + late_term_first.size + full_term_other.size + late_term_other.size)"
   ]
  },
  {
   "cell_type": "code",
   "execution_count": 14,
   "metadata": {},
   "outputs": [
    {
     "name": "stdout",
     "output_type": "stream",
     "text": [
      "The proportion of late to not late pregancies for first born children is 0.18831168831168832.\n",
      "The proportion of late to not late pregancies for children NOT born first is 0.06896551724137931.\n",
      "The difference of the two proportions is 0.11934617107030901.\n"
     ]
    }
   ],
   "source": [
    "late_propor_first  = late_term_first.size/full_term_first.size\n",
    "late_propor_others = late_term_other.size/full_term_other.size\n",
    "diff_2 = late_propor_first - late_propor_others\n",
    "\n",
    "print(\"The proportion of late to not late pregancies for first born children is \",late_propor_first,\".\",sep=\"\")\n",
    "print(\"The proportion of late to not late pregancies for children NOT born first is \",late_propor_others,\".\",sep=\"\")\n",
    "print(\"The difference of the two proportions is \",diff_2,\".\",sep=\"\")"
   ]
  },
  {
   "cell_type": "code",
   "execution_count": 15,
   "metadata": {},
   "outputs": [
    {
     "name": "stdout",
     "output_type": "stream",
     "text": [
      "Under the null hypothesis, observe effect this large with prob =~ 0.0034.\n",
      "This is statistically significant at the p <= 0.05 level.\n"
     ]
    }
   ],
   "source": [
    "pooled_2 = np.array(df['prglngth'])\n",
    "# stacked = np.vstack((rate2005,rate2014))\n",
    "\n",
    "num_sims_2=50000\n",
    "event_count_2=0\n",
    "bs_stats_2 = []\n",
    "for sim in range(num_sims_2):\n",
    "    sample_first = npr.choice(pooled_2, size=183)\n",
    "    sample_others = npr.choice(pooled_2, size=217)\n",
    "    # Bootstrap samples DO NOT have to be the same size\n",
    "    # They should be the sizes of the original sample\n",
    "    \n",
    "    full_term_first_sample = np.sum(sample_first<=40);\n",
    "    late_term_first_sample = np.sum(sample_first>40);\n",
    "    full_term_other_sample = np.sum(sample_others<=40);\n",
    "    late_term_other_sample = np.sum(sample_others>40);\n",
    "    \n",
    "    late_propor_first_sample  = late_term_first_sample/full_term_first_sample\n",
    "    late_propor_others_sample = late_term_other_sample/full_term_other_sample\n",
    "    \n",
    "    sample_diff_2 = late_propor_first_sample-late_propor_others_sample\n",
    "    abs_sample_diff_2 = abs(sample_diff_2) #2-sided\n",
    "    \n",
    "    bs_stats_2 += [abs_sample_diff_2]\n",
    "    if abs_sample_diff_2 >= diff_2:\n",
    "        event_count_2+=1\n",
    "        \n",
    "prob_2 = event_count_2/num_sims_2\n",
    "\n",
    "print(\"Under the null hypothesis, observe effect this large with prob =~ \",prob_2,\".\",sep=\"\")\n",
    "\n",
    "if prob_2 <= 0.05:\n",
    "    print(\"This is statistically significant at the p <= 0.05 level.\")\n",
    "else:\n",
    "    print(\"This is not statistically significant at the p <= 0.05 level.\")"
   ]
  },
  {
   "cell_type": "markdown",
   "metadata": {},
   "source": [
    "5. Find the 95% confidence interval for the proportions of births over 40 weeks under the null hypothesis. Using this confidence interval, determine whether the null hypothesis should be rejected (i.e., the difference in average pregnancy lengths is statistically significant)."
   ]
  },
  {
   "cell_type": "code",
   "execution_count": 16,
   "metadata": {},
   "outputs": [
    {
     "name": "stdout",
     "output_type": "stream",
     "text": [
      "The 95% confidence interval is [0.0011665470208183787, 0.08989805375347545].\n",
      "Using the confidence interval, I have determined that the null hypothesis should be rejected as the diff of the proportion of late to not late pregancies for first born children and other children does NOT fall within the confidence interval.\n"
     ]
    }
   ],
   "source": [
    "lower_2,upper_2 = confidence_interval(bs_stats_2, 95)\n",
    "if lower_2 <= diff_2 <= upper_2: \n",
    "    print(\"Using the confidence interval, I have determined that the null hypothesis should not be rejected as the diff of the proportion of late to not late pregancies for first born children and other children does indeed fall within the confidence interval.\")\n",
    "else:\n",
    "    print(\"Using the confidence interval, I have determined that the null hypothesis should be rejected as the diff of the proportion of late to not late pregancies for first born children and other children does NOT fall within the confidence interval.\")"
   ]
  },
  {
   "cell_type": "markdown",
   "metadata": {},
   "source": [
    "6. Write a couple sentences to explain your results."
   ]
  },
  {
   "cell_type": "markdown",
   "metadata": {},
   "source": [
    "## Results\n",
    "For both of these problems, I found the numbers to be statistically significant and I rejected the null hypothesis. We saw that you should expect the pregnancy length of a women's first born to be longer than their other babies. We also saw that a women's first babies has a much larger proportion of late to not late pregnancies than their other babies.\n",
    "\n",
    "In conclusion, we can assume the effect is real. Women's first babies are born later (in terms of pregnancy length, measured in weeks) than their other babies."
   ]
  }
 ],
 "metadata": {
  "kernelspec": {
   "display_name": "Python 3",
   "language": "python",
   "name": "python3"
  },
  "language_info": {
   "codemirror_mode": {
    "name": "ipython",
    "version": 3
   },
   "file_extension": ".py",
   "mimetype": "text/x-python",
   "name": "python",
   "nbconvert_exporter": "python",
   "pygments_lexer": "ipython3",
   "version": "3.7.2"
  }
 },
 "nbformat": 4,
 "nbformat_minor": 2
}
