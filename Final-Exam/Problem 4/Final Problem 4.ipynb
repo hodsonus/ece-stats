{
 "cells": [
  {
   "cell_type": "code",
   "execution_count": 2,
   "metadata": {},
   "outputs": [],
   "source": [
    "import numpy as np\n",
    "import numpy.random as npr\n",
    "import scipy.stats as stats"
   ]
  },
  {
   "cell_type": "code",
   "execution_count": 4,
   "metadata": {},
   "outputs": [],
   "source": [
    "bullied=np.array([[42,50],\n",
    "                [30,87]])"
   ]
  },
  {
   "cell_type": "code",
   "execution_count": 5,
   "metadata": {},
   "outputs": [],
   "source": [
    "# null hypothesis - height has no effect on bullying"
   ]
  },
  {
   "cell_type": "code",
   "execution_count": 8,
   "metadata": {},
   "outputs": [
    {
     "name": "stdout",
     "output_type": "stream",
     "text": [
      "(a)\n",
      "[[31.6937799 60.3062201]\n",
      " [40.3062201 76.6937799]]\n"
     ]
    }
   ],
   "source": [
    "expected=stats.contingency.expected_freq(bullied)\n",
    "print(\"(a)\")\n",
    "print(expected)"
   ]
  },
  {
   "cell_type": "code",
   "execution_count": 11,
   "metadata": {},
   "outputs": [
    {
     "name": "stdout",
     "output_type": "stream",
     "text": [
      "(b)\n",
      "[[ 10.3062201 -10.3062201]\n",
      " [-10.3062201  10.3062201]]\n"
     ]
    }
   ],
   "source": [
    "errors = bullied-expected\n",
    "print(\"(b)\")\n",
    "print(errors)"
   ]
  },
  {
   "cell_type": "code",
   "execution_count": 12,
   "metadata": {},
   "outputs": [],
   "source": [
    "C,p,dof,exp = stats.chi2_contingency(bullied,correction=False)"
   ]
  },
  {
   "cell_type": "code",
   "execution_count": 13,
   "metadata": {},
   "outputs": [
    {
     "name": "stdout",
     "output_type": "stream",
     "text": [
      "(c)\n",
      "9.132946873465757\n"
     ]
    }
   ],
   "source": [
    "print(\"(c)\")\n",
    "print(C)"
   ]
  },
  {
   "cell_type": "code",
   "execution_count": 14,
   "metadata": {},
   "outputs": [
    {
     "name": "stdout",
     "output_type": "stream",
     "text": [
      "(d)\n",
      "1\n"
     ]
    }
   ],
   "source": [
    "print(\"(d)\")\n",
    "print(dof)"
   ]
  },
  {
   "cell_type": "code",
   "execution_count": 19,
   "metadata": {},
   "outputs": [
    {
     "name": "stdout",
     "output_type": "stream",
     "text": [
      "(e)\n",
      "Yes, I believe that there is sufficient data to justify modeling the test statistic under the chi-squared as the expected value of the number of sample observations in each level of the variable is at least 5 (there is sufficient data).\n"
     ]
    }
   ],
   "source": [
    "print(\"(e)\")\n",
    "print(\"Yes, I believe that there is sufficient data to justify modeling the test statistic under the chi-squared as the expected value of the number of sample observations in each level of the variable is at least 5 (there is sufficient data).\")"
   ]
  },
  {
   "cell_type": "code",
   "execution_count": 20,
   "metadata": {},
   "outputs": [
    {
     "name": "stdout",
     "output_type": "stream",
     "text": [
      "(f)\n",
      "Observe this effect with probability ~=0.002510470255816033\n"
     ]
    }
   ],
   "source": [
    "print(\"(f)\")\n",
    "print(\"Observe this effect with probability ~=\",p,sep=\"\")"
   ]
  },
  {
   "cell_type": "code",
   "execution_count": 23,
   "metadata": {},
   "outputs": [
    {
     "name": "stdout",
     "output_type": "stream",
     "text": [
      "(g)\n",
      "Yes, I believe that the data supports the hypothesis that being bullied is associed with being short, as the probability of observing the null hypothesis is ~=0.003 in this data set.\n"
     ]
    }
   ],
   "source": [
    "print(\"(g)\")\n",
    "print(\"Yes, I believe that the data supports the hypothesis that being bullied is associed with being short, as the probability of observing the null hypothesis is ~=0.003 in this data set.\")"
   ]
  }
 ],
 "metadata": {
  "kernelspec": {
   "display_name": "Python 3",
   "language": "python",
   "name": "python3"
  },
  "language_info": {
   "codemirror_mode": {
    "name": "ipython",
    "version": 3
   },
   "file_extension": ".py",
   "mimetype": "text/x-python",
   "name": "python",
   "nbconvert_exporter": "python",
   "pygments_lexer": "ipython3",
   "version": "3.7.2"
  }
 },
 "nbformat": 4,
 "nbformat_minor": 2
}
