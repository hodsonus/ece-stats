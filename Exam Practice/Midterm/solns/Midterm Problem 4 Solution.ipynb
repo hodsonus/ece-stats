{
 "cells": [
  {
   "cell_type": "markdown",
   "metadata": {},
   "source": [
    "Prob. 4. Write simulation(s) in Python to answer the following questions. Submit your answers (as a Jupyter notebook) to the Midterm Question 3 assignment in Canvas.\n",
    "\n",
    "(a) A gambler has a fair coin and a two-headed coin in his pocket. He chooses one at random. He rolls a fair 6-sided die to determine how many times to flip the coin. What is the probability that it comes up all heads?\n",
    "\n",
    "(b) For the scenario in part (a), given that the coin came up all heads, what is the probability that the coin was the fair coin?\n",
    "\n",
    "(c) Now suppose the gambler has 2 fair coins and 1 two-headed coin in his pocket. Again, he chooses one at random. He rolls a fair 6-sided die to determine how many times to flip the coin. What is the probability that it comes up all heads?\n",
    "\n",
    "(d) For the scenario in part (c), given that the coin came up all heads, what is the probability that the choin was the fair coin?"
   ]
  },
  {
   "cell_type": "code",
   "execution_count": 1,
   "metadata": {},
   "outputs": [],
   "source": [
    "import numpy as np\n",
    "import numpy.random as npr"
   ]
  },
  {
   "cell_type": "code",
   "execution_count": 7,
   "metadata": {},
   "outputs": [
    {
     "name": "stdout",
     "output_type": "stream",
     "text": [
      "The probability of all heads is 0.5821\n",
      "Given that the coin came up all heads, the conditional probability that it was the fair coin is 0.13502834564507815\n"
     ]
    }
   ],
   "source": [
    "# One fair, one 2-head\n",
    "sim_runs=10000\n",
    "allheads=0\n",
    "ah_and_f=0\n",
    "for sim in range(sim_runs):\n",
    "    coin=npr.choice(['fair','2head'])\n",
    "    flips=npr.randint(1,7)\n",
    "    if coin == 'fair':\n",
    "        faces=npr.randint(0,2,size=flips)\n",
    "        if np.sum(faces)==flips:\n",
    "            allheads+=1\n",
    "            ah_and_f+=1\n",
    "    else:\n",
    "        allheads+=1\n",
    "    \n",
    "    \n",
    "print(\"The probability of all heads is\",allheads/sim_runs)\n",
    "print(\"Given that the coin came up all heads, the conditional probability that it was the fair coin is\",ah_and_f/allheads)\n",
    "        "
   ]
  },
  {
   "cell_type": "code",
   "execution_count": 8,
   "metadata": {},
   "outputs": [
    {
     "name": "stdout",
     "output_type": "stream",
     "text": [
      "The probability of all heads is 0.4485\n",
      "Given that the coin came up all heads, the conditional probability that it was the fair coin is 0.24503901895206243\n"
     ]
    }
   ],
   "source": [
    "sim_runs=10000\n",
    "allheads=0\n",
    "ah_and_f=0\n",
    "for sim in range(sim_runs):\n",
    "    coin=npr.choice(['fair','fair','2head'])\n",
    "    flips=npr.randint(1,7)\n",
    "    if coin == 'fair':\n",
    "        faces=npr.randint(0,2,size=flips)\n",
    "        if np.sum(faces)==flips:\n",
    "            allheads+=1\n",
    "            ah_and_f+=1\n",
    "    else:\n",
    "        allheads+=1\n",
    "    \n",
    "    \n",
    "print(\"The probability of all heads is\",allheads/sim_runs)\n",
    "print(\"Given that the coin came up all heads, the conditional probability that it was the fair coin is\",ah_and_f/allheads)\n",
    "        "
   ]
  },
  {
   "cell_type": "code",
   "execution_count": null,
   "metadata": {},
   "outputs": [],
   "source": []
  },
  {
   "cell_type": "code",
   "execution_count": null,
   "metadata": {},
   "outputs": [],
   "source": []
  }
 ],
 "metadata": {
  "kernelspec": {
   "display_name": "Python 3",
   "language": "python",
   "name": "python3"
  },
  "language_info": {
   "codemirror_mode": {
    "name": "ipython",
    "version": 3
   },
   "file_extension": ".py",
   "mimetype": "text/x-python",
   "name": "python",
   "nbconvert_exporter": "python",
   "pygments_lexer": "ipython3",
   "version": "3.7.2"
  }
 },
 "nbformat": 4,
 "nbformat_minor": 2
}
