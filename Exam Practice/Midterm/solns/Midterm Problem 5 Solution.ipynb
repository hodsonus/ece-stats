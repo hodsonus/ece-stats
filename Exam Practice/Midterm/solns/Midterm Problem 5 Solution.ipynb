{
 "cells": [
  {
   "cell_type": "code",
   "execution_count": 1,
   "metadata": {},
   "outputs": [],
   "source": [
    "import pickle\n",
    "import matplotlib.pyplot as plt\n",
    "%matplotlib inline\n",
    "import numpy as np\n",
    "import numpy.random as npr"
   ]
  },
  {
   "cell_type": "code",
   "execution_count": 2,
   "metadata": {},
   "outputs": [],
   "source": [
    "file=open('weights1.pickle','rb')"
   ]
  },
  {
   "cell_type": "code",
   "execution_count": 3,
   "metadata": {},
   "outputs": [],
   "source": [
    "young=pickle.load(file)\n",
    "old=pickle.load(file)\n",
    "both=pickle.load(file)"
   ]
  },
  {
   "cell_type": "code",
   "execution_count": 5,
   "metadata": {},
   "outputs": [],
   "source": [
    "file.close()"
   ]
  },
  {
   "cell_type": "code",
   "execution_count": 6,
   "metadata": {},
   "outputs": [
    {
     "data": {
      "image/png": "[encoded data removed]",
      "text/plain": [
       "<Figure size 432x288 with 1 Axes>"
      ]
     },
     "metadata": {
      "needs_background": "light"
     },
     "output_type": "display_data"
    }
   ],
   "source": [
    "plt.hist(young,bins=20);"
   ]
  },
  {
   "cell_type": "code",
   "execution_count": 7,
   "metadata": {},
   "outputs": [
    {
     "data": {
      "image/png": "[encoded data removed]",
      "text/plain": [
       "<Figure size 432x288 with 1 Axes>"
      ]
     },
     "metadata": {
      "needs_background": "light"
     },
     "output_type": "display_data"
    }
   ],
   "source": [
    "plt.hist(old,bins=20);"
   ]
  },
  {
   "cell_type": "markdown",
   "metadata": {},
   "source": [
    "## (a) \n",
    "\n",
    "**On the same graph, plot normalized histograms of the same data set. Adjust the number of bins so that differences in the weights of the babies can be readily observed.**"
   ]
  },
  {
   "cell_type": "code",
   "execution_count": 166,
   "metadata": {},
   "outputs": [
    {
     "data": {
      "image/png": "[encoded data removed]",
      "text/plain": [
       "<matplotlib.figure.Figure at 0x10dadbac8>"
      ]
     },
     "metadata": {},
     "output_type": "display_data"
    }
   ],
   "source": [
    "plt.hist(young,bins=20,alpha=0.5,normed=True);\n",
    "plt.hist(old,bins=20,alpha=0.5,normed=True);"
   ]
  },
  {
   "cell_type": "markdown",
   "metadata": {},
   "source": [
    "## (b),(c)\n",
    "\n",
    "**Determine the average and median for each data set**"
   ]
  },
  {
   "cell_type": "code",
   "execution_count": 8,
   "metadata": {},
   "outputs": [
    {
     "data": {
      "text/plain": [
       "(115.88054938956715, 117.70546448087431)"
      ]
     },
     "execution_count": 8,
     "metadata": {},
     "output_type": "execute_result"
    }
   ],
   "source": [
    "young.mean(),old.mean()"
   ]
  },
  {
   "cell_type": "code",
   "execution_count": 9,
   "metadata": {},
   "outputs": [
    {
     "data": {
      "text/plain": [
       "(117.0, 119.0)"
      ]
     },
     "execution_count": 9,
     "metadata": {},
     "output_type": "execute_result"
    }
   ],
   "source": [
    "np.median(young),np.median(old)"
   ]
  },
  {
   "cell_type": "markdown",
   "metadata": {},
   "source": [
    "## (d)\n",
    "\n",
    "**Based on these observations, which have heavier babies, younger mothers or older mothers? Briefly explain.**"
   ]
  },
  {
   "cell_type": "markdown",
   "metadata": {},
   "source": [
    "Older mothers. The average and median weights for the older mothers are higher than for those in the younger cohort."
   ]
  },
  {
   "cell_type": "markdown",
   "metadata": {},
   "source": [
    "## (e) \n",
    "\n",
    "**Determine the proportion of births that are over 8 pounds for each class.**"
   ]
  },
  {
   "cell_type": "code",
   "execution_count": 20,
   "metadata": {},
   "outputs": [
    {
     "name": "stdout",
     "output_type": "stream",
     "text": [
      "0.2561043285238624\n"
     ]
    }
   ],
   "source": [
    "young_over8=np.sum(young>128)/len(young)\n",
    "print(young_over8)"
   ]
  },
  {
   "cell_type": "code",
   "execution_count": 21,
   "metadata": {},
   "outputs": [
    {
     "name": "stdout",
     "output_type": "stream",
     "text": [
      "0.3360655737704918\n"
     ]
    }
   ],
   "source": [
    "old_over8=np.sum(old>=128)/len(old)\n",
    "print(old_over8)"
   ]
  },
  {
   "cell_type": "code",
   "execution_count": 22,
   "metadata": {},
   "outputs": [
    {
     "data": {
      "text/plain": [
       "0.0799612452466294"
      ]
     },
     "execution_count": 22,
     "metadata": {},
     "output_type": "execute_result"
    }
   ],
   "source": [
    "diff=old_over8-young_over8\n",
    "diff"
   ]
  },
  {
   "cell_type": "markdown",
   "metadata": {},
   "source": [
    "## (f) \n",
    "\n",
    "**Use resampling (simulation) to determine if the effect observed in part () is statistically significant (at the p<=0.05 level). Provide your code, a clear conclusion, and a brief discussion of why you made that conclusion.**"
   ]
  },
  {
   "cell_type": "code",
   "execution_count": 23,
   "metadata": {},
   "outputs": [
    {
     "name": "stdout",
     "output_type": "stream",
     "text": [
      "-0.003407719413159621\n",
      "0.016462582558541494\n",
      "0.0013885603731130791\n",
      "0.019203313864983057\n",
      "-0.008203999199432321\n",
      "-0.008203999199432321\n",
      "-0.010944730505873856\n",
      "0.021944045171424592\n",
      "-0.006833633546211554\n",
      "-0.0006669881067180861\n",
      "0.0\n"
     ]
    }
   ],
   "source": [
    "num_sims=10\n",
    "count=0\n",
    "for sim in range(num_sims):\n",
    "    permuted=npr.permutation(both)\n",
    "    newyoung=permuted[:len(young)]\n",
    "    newold=permuted[len(young):]\n",
    "    py=np.sum(newyoung>132)/len(young)\n",
    "    po=np.sum(newold>132)/len(old)\n",
    "    print(po-py)\n",
    "    if (po-py)>diff:\n",
    "        count+=1\n",
    "print(count/num_sims)"
   ]
  },
  {
   "cell_type": "code",
   "execution_count": 1,
   "metadata": {},
   "outputs": [],
   "source": [
    "def big_babies_test (weight, num_sims=10000):\n",
    "    diff=np.sum(old>weight)/len(old)-np.sum(young>weight)/len(young)    \n",
    "    count=0\n",
    "    for sim in range(num_sims):\n",
    "        permuted=npr.permutation(both)\n",
    "        newyoung=permuted[:len(young)]\n",
    "        newold=permuted[len(young):]\n",
    "        py=np.sum(newyoung>weight)/len(young)\n",
    "        po=np.sum(newold>weight)/len(old)\n",
    "        #print(po-py)\n",
    "        if abs(po-py)>diff:\n",
    "            count+=1\n",
    "    print(\"Probability of observing a proportion difference this large under null hypothesis is approximately\",\\\n",
    "          count/num_sims)"
   ]
  },
  {
   "cell_type": "code",
   "execution_count": 48,
   "metadata": {},
   "outputs": [
    {
     "name": "stdout",
     "output_type": "stream",
     "text": [
      "Probability of observing a proportion difference this large under null hypothesis is approximately 0.0\n"
     ]
    }
   ],
   "source": [
    "big_babies_test(128)"
   ]
  },
  {
   "cell_type": "markdown",
   "metadata": {},
   "source": [
    "The probability of observing a difference in averages as large as the observed difference (approximately 0.08) is too small to even estimate well with the simulation. Thus, the result is statistically signficant at the $p<0.05$ (or even $p< 0.001$) level. When we pool the data and sample from it (here I showed a Monte Carlo permuatation test), we never observed a case of such a large difference in average weights over 10000 simulation runs. Thus, the observed difference is likely to be a real phenomenon and not just caused by random sampling.\n",
    "\n"
   ]
  }
 ],
 "metadata": {
  "kernelspec": {
   "display_name": "Python 3",
   "language": "python",
   "name": "python3"
  },
  "language_info": {
   "codemirror_mode": {
    "name": "ipython",
    "version": 3
   },
   "file_extension": ".py",
   "mimetype": "text/x-python",
   "name": "python",
   "nbconvert_exporter": "python",
   "pygments_lexer": "ipython3",
   "version": "3.7.2"
  }
 },
 "nbformat": 4,
 "nbformat_minor": 2
}
