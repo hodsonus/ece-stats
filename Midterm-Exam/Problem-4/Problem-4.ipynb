{
 "cells": [
  {
   "cell_type": "markdown",
   "metadata": {},
   "source": [
    "# Problem 4"
   ]
  },
  {
   "cell_type": "code",
   "execution_count": 1,
   "metadata": {},
   "outputs": [],
   "source": [
    "import numpy as np\n",
    "import numpy.random as npr"
   ]
  },
  {
   "cell_type": "markdown",
   "metadata": {},
   "source": [
    "Consider a binary channel with inputs $A_0$ and $A_1$ and outputs $B_0$ and $B_1$. Let the *a priori* probabilities be $P(A_0)=0.75$ and $P(A_1)=0.25$.\n",
    "\n",
    "You are given the following channel transition probabilities: $P(B_1|A_0)=0.3$ $P(B_0|A_1)=0.25$.\n",
    "\n",
    "1) The following simulation simulates a stream of bits through this channel. Add the appropriate counters to estimate and print:\n",
    "\n",
    "* **All** of the *a posteriori* probablities\n",
    "\n",
    "* The output probabilities $P(B_0)$ and $P(B_1)$"
   ]
  },
  {
   "cell_type": "code",
   "execution_count": 2,
   "metadata": {},
   "outputs": [],
   "source": [
    "num_sims=10000\n",
    "\n",
    "b1_given_a0_cnt = 0\n",
    "b0_given_a0_cnt = 0\n",
    "b1_given_a1_cnt = 0\n",
    "b0_given_a1_cnt = 0\n",
    "\n",
    "a0_cnt = 0\n",
    "a1_cnt = 0\n",
    "\n",
    "for i in range(num_sims):\n",
    "    bit=1*(npr.random()>0.75) # Will be 0 with probability 0.75\n",
    "    \n",
    "    # A0\n",
    "    if (bit==0):\n",
    "        if npr.random()<=0.3: # probability of error when 0 sent\n",
    "            out=1\n",
    "            b1_given_a0_cnt+=1\n",
    "        else:\n",
    "            out=0\n",
    "            b0_given_a0_cnt+=1\n",
    "        a0_cnt+=1\n",
    "            \n",
    "    # A1\n",
    "    if (bit==1):\n",
    "        if npr.random()<=0.25: # probability of error when 1 sent\n",
    "            out=0\n",
    "            b0_given_a1_cnt+=1\n",
    "        else:\n",
    "            out=1\n",
    "            b1_given_a1_cnt+=1\n",
    "        a1_cnt+=1"
   ]
  },
  {
   "cell_type": "code",
   "execution_count": 3,
   "metadata": {},
   "outputs": [],
   "source": [
    "# P(A0)\n",
    "a0 = a0_cnt/num_sims\n",
    "# P(A1)\n",
    "a1 = a1_cnt/num_sims"
   ]
  },
  {
   "cell_type": "code",
   "execution_count": 4,
   "metadata": {},
   "outputs": [
    {
     "name": "stdout",
     "output_type": "stream",
     "text": [
      "Prob B0 ~= 0.5923\n"
     ]
    }
   ],
   "source": [
    "# P(B0)\n",
    "b0 = (b0_given_a1_cnt+b0_given_a0_cnt)/num_sims\n",
    "print(\"Prob B0 ~=\",b0)"
   ]
  },
  {
   "cell_type": "code",
   "execution_count": 5,
   "metadata": {},
   "outputs": [
    {
     "name": "stdout",
     "output_type": "stream",
     "text": [
      "Prob B1 ~= 0.4077\n"
     ]
    }
   ],
   "source": [
    "# P(B1)\n",
    "b1=(b1_given_a1_cnt+b1_given_a0_cnt)/num_sims\n",
    "print(\"Prob B1 ~=\",b1)"
   ]
  },
  {
   "cell_type": "code",
   "execution_count": 6,
   "metadata": {},
   "outputs": [],
   "source": [
    "b0_given_a0 = b0_given_a0_cnt/a0_cnt\n",
    "b1_given_a0 = b1_given_a0_cnt/a0_cnt\n",
    "b0_given_a1 = b0_given_a1_cnt/a1_cnt\n",
    "b1_given_a1 = b1_given_a1_cnt/a1_cnt"
   ]
  },
  {
   "cell_type": "code",
   "execution_count": 7,
   "metadata": {},
   "outputs": [],
   "source": [
    "# P(A0|B0)\n",
    "a0_given_b0 = b0_given_a0 * a0 / b0\n",
    "# P(A0|B1)\n",
    "a0_given_b1 = b1_given_a0 * a0 / b1\n",
    "# P(A1|B0)\n",
    "a1_given_b0 = b0_given_a1 * a1 / b0\n",
    "# P(A1|B1)\n",
    "a1_given_b1 = b1_given_a1 * a1 / b1"
   ]
  },
  {
   "cell_type": "code",
   "execution_count": 8,
   "metadata": {},
   "outputs": [
    {
     "data": {
      "text/plain": [
       "(0.8985311497551918, 0.10146885024480837)"
      ]
     },
     "execution_count": 8,
     "metadata": {},
     "output_type": "execute_result"
    }
   ],
   "source": [
    "a0_given_b0,a1_given_b0"
   ]
  },
  {
   "cell_type": "code",
   "execution_count": 9,
   "metadata": {},
   "outputs": [
    {
     "data": {
      "text/plain": [
       "(0.5479519254353692, 0.4520480745646308)"
      ]
     },
     "execution_count": 9,
     "metadata": {},
     "output_type": "execute_result"
    }
   ],
   "source": [
    "a0_given_b1,a1_given_b1"
   ]
  },
  {
   "cell_type": "markdown",
   "metadata": {},
   "source": [
    "2) Find the MAP decision rule(s)"
   ]
  },
  {
   "cell_type": "markdown",
   "metadata": {},
   "source": [
    "Given B0, choose A0\n",
    "\n",
    "Given B1, choose A0"
   ]
  }
 ],
 "metadata": {
  "kernelspec": {
   "display_name": "Python 3",
   "language": "python",
   "name": "python3"
  },
  "language_info": {
   "codemirror_mode": {
    "name": "ipython",
    "version": 3
   },
   "file_extension": ".py",
   "mimetype": "text/x-python",
   "name": "python",
   "nbconvert_exporter": "python",
   "pygments_lexer": "ipython3",
   "version": "3.7.2"
  }
 },
 "nbformat": 4,
 "nbformat_minor": 2
}
