{
 "cells": [
  {
   "cell_type": "code",
   "execution_count": 1,
   "metadata": {},
   "outputs": [],
   "source": [
    "import numpy as np\n",
    "import numpy.random as npr\n",
    "import matplotlib.pyplot as plt\n",
    "%matplotlib inline\n",
    "import pandas as pd"
   ]
  },
  {
   "cell_type": "markdown",
   "metadata": {},
   "source": [
    "The data for this problem is in the CSV file \"firearms-urban.csv\". The columns of interest for this investigation are:\n",
    "\n",
    "* **RATE-2014**: The firearms mortality rate by state from 2014. \n",
    "\n",
    "* **Percent Urban**: The percentage of the total population in urban areas, from https://www.icip.iastate.edu/tables/population/urban-pct-states . Although this data is 2010, it should be sufficiently accurate for our purposes."
   ]
  },
  {
   "cell_type": "markdown",
   "metadata": {},
   "source": [
    "(a) Read in the file and convert it to a Pandas dataframe"
   ]
  },
  {
   "cell_type": "code",
   "execution_count": 2,
   "metadata": {},
   "outputs": [],
   "source": [
    "df=pd.read_csv(\"firearms-urban.csv\")"
   ]
  },
  {
   "cell_type": "code",
   "execution_count": 3,
   "metadata": {},
   "outputs": [
    {
     "data": {
      "text/html": [
       "<div>\n",
       "<style scoped>\n",
       "    .dataframe tbody tr th:only-of-type {\n",
       "        vertical-align: middle;\n",
       "    }\n",
       "\n",
       "    .dataframe tbody tr th {\n",
       "        vertical-align: top;\n",
       "    }\n",
       "\n",
       "    .dataframe thead th {\n",
       "        text-align: right;\n",
       "    }\n",
       "</style>\n",
       "<table border=\"1\" class=\"dataframe\">\n",
       "  <thead>\n",
       "    <tr style=\"text-align: right;\">\n",
       "      <th></th>\n",
       "      <th>STATE</th>\n",
       "      <th>RATE-2014</th>\n",
       "      <th>Percent Urban</th>\n",
       "    </tr>\n",
       "  </thead>\n",
       "  <tbody>\n",
       "    <tr>\n",
       "      <th>0</th>\n",
       "      <td>AL</td>\n",
       "      <td>16.9</td>\n",
       "      <td>59.0</td>\n",
       "    </tr>\n",
       "    <tr>\n",
       "      <th>1</th>\n",
       "      <td>AK</td>\n",
       "      <td>19.2</td>\n",
       "      <td>66.0</td>\n",
       "    </tr>\n",
       "    <tr>\n",
       "      <th>2</th>\n",
       "      <td>AZ</td>\n",
       "      <td>13.5</td>\n",
       "      <td>89.8</td>\n",
       "    </tr>\n",
       "    <tr>\n",
       "      <th>3</th>\n",
       "      <td>AR</td>\n",
       "      <td>16.6</td>\n",
       "      <td>56.2</td>\n",
       "    </tr>\n",
       "    <tr>\n",
       "      <th>4</th>\n",
       "      <td>CA</td>\n",
       "      <td>7.4</td>\n",
       "      <td>95.0</td>\n",
       "    </tr>\n",
       "    <tr>\n",
       "      <th>5</th>\n",
       "      <td>CO</td>\n",
       "      <td>12.2</td>\n",
       "      <td>86.2</td>\n",
       "    </tr>\n",
       "    <tr>\n",
       "      <th>6</th>\n",
       "      <td>CT</td>\n",
       "      <td>5.0</td>\n",
       "      <td>88.0</td>\n",
       "    </tr>\n",
       "    <tr>\n",
       "      <th>7</th>\n",
       "      <td>DE</td>\n",
       "      <td>11.1</td>\n",
       "      <td>83.3</td>\n",
       "    </tr>\n",
       "    <tr>\n",
       "      <th>8</th>\n",
       "      <td>FL</td>\n",
       "      <td>11.5</td>\n",
       "      <td>91.2</td>\n",
       "    </tr>\n",
       "    <tr>\n",
       "      <th>9</th>\n",
       "      <td>GA</td>\n",
       "      <td>13.7</td>\n",
       "      <td>75.1</td>\n",
       "    </tr>\n",
       "    <tr>\n",
       "      <th>10</th>\n",
       "      <td>HI</td>\n",
       "      <td>2.6</td>\n",
       "      <td>91.9</td>\n",
       "    </tr>\n",
       "    <tr>\n",
       "      <th>11</th>\n",
       "      <td>ID</td>\n",
       "      <td>13.2</td>\n",
       "      <td>70.6</td>\n",
       "    </tr>\n",
       "    <tr>\n",
       "      <th>12</th>\n",
       "      <td>IL</td>\n",
       "      <td>9.0</td>\n",
       "      <td>88.5</td>\n",
       "    </tr>\n",
       "    <tr>\n",
       "      <th>13</th>\n",
       "      <td>IN</td>\n",
       "      <td>12.4</td>\n",
       "      <td>72.4</td>\n",
       "    </tr>\n",
       "    <tr>\n",
       "      <th>14</th>\n",
       "      <td>IA</td>\n",
       "      <td>7.5</td>\n",
       "      <td>64.0</td>\n",
       "    </tr>\n",
       "    <tr>\n",
       "      <th>15</th>\n",
       "      <td>KS</td>\n",
       "      <td>11.3</td>\n",
       "      <td>74.2</td>\n",
       "    </tr>\n",
       "    <tr>\n",
       "      <th>16</th>\n",
       "      <td>KY</td>\n",
       "      <td>13.9</td>\n",
       "      <td>58.4</td>\n",
       "    </tr>\n",
       "    <tr>\n",
       "      <th>17</th>\n",
       "      <td>LA</td>\n",
       "      <td>19.0</td>\n",
       "      <td>73.2</td>\n",
       "    </tr>\n",
       "    <tr>\n",
       "      <th>18</th>\n",
       "      <td>ME</td>\n",
       "      <td>9.4</td>\n",
       "      <td>38.7</td>\n",
       "    </tr>\n",
       "    <tr>\n",
       "      <th>19</th>\n",
       "      <td>MD</td>\n",
       "      <td>9.0</td>\n",
       "      <td>87.2</td>\n",
       "    </tr>\n",
       "    <tr>\n",
       "      <th>20</th>\n",
       "      <td>MA</td>\n",
       "      <td>3.2</td>\n",
       "      <td>92.0</td>\n",
       "    </tr>\n",
       "    <tr>\n",
       "      <th>21</th>\n",
       "      <td>MI</td>\n",
       "      <td>11.1</td>\n",
       "      <td>74.6</td>\n",
       "    </tr>\n",
       "    <tr>\n",
       "      <th>22</th>\n",
       "      <td>MN</td>\n",
       "      <td>6.6</td>\n",
       "      <td>73.3</td>\n",
       "    </tr>\n",
       "    <tr>\n",
       "      <th>23</th>\n",
       "      <td>MS</td>\n",
       "      <td>18.3</td>\n",
       "      <td>49.4</td>\n",
       "    </tr>\n",
       "    <tr>\n",
       "      <th>24</th>\n",
       "      <td>MO</td>\n",
       "      <td>15.3</td>\n",
       "      <td>70.4</td>\n",
       "    </tr>\n",
       "    <tr>\n",
       "      <th>25</th>\n",
       "      <td>MT</td>\n",
       "      <td>16.1</td>\n",
       "      <td>55.9</td>\n",
       "    </tr>\n",
       "    <tr>\n",
       "      <th>26</th>\n",
       "      <td>NE</td>\n",
       "      <td>9.5</td>\n",
       "      <td>73.1</td>\n",
       "    </tr>\n",
       "    <tr>\n",
       "      <th>27</th>\n",
       "      <td>NV</td>\n",
       "      <td>14.8</td>\n",
       "      <td>94.2</td>\n",
       "    </tr>\n",
       "    <tr>\n",
       "      <th>28</th>\n",
       "      <td>NH</td>\n",
       "      <td>8.7</td>\n",
       "      <td>60.3</td>\n",
       "    </tr>\n",
       "    <tr>\n",
       "      <th>29</th>\n",
       "      <td>NJ</td>\n",
       "      <td>5.3</td>\n",
       "      <td>94.7</td>\n",
       "    </tr>\n",
       "    <tr>\n",
       "      <th>30</th>\n",
       "      <td>NM</td>\n",
       "      <td>16.0</td>\n",
       "      <td>77.4</td>\n",
       "    </tr>\n",
       "    <tr>\n",
       "      <th>31</th>\n",
       "      <td>NY</td>\n",
       "      <td>4.2</td>\n",
       "      <td>87.9</td>\n",
       "    </tr>\n",
       "    <tr>\n",
       "      <th>32</th>\n",
       "      <td>NC</td>\n",
       "      <td>11.8</td>\n",
       "      <td>66.1</td>\n",
       "    </tr>\n",
       "    <tr>\n",
       "      <th>33</th>\n",
       "      <td>ND</td>\n",
       "      <td>12.3</td>\n",
       "      <td>59.9</td>\n",
       "    </tr>\n",
       "    <tr>\n",
       "      <th>34</th>\n",
       "      <td>OH</td>\n",
       "      <td>10.3</td>\n",
       "      <td>77.9</td>\n",
       "    </tr>\n",
       "    <tr>\n",
       "      <th>35</th>\n",
       "      <td>OK</td>\n",
       "      <td>15.7</td>\n",
       "      <td>66.2</td>\n",
       "    </tr>\n",
       "    <tr>\n",
       "      <th>36</th>\n",
       "      <td>OR</td>\n",
       "      <td>11.7</td>\n",
       "      <td>81.0</td>\n",
       "    </tr>\n",
       "    <tr>\n",
       "      <th>37</th>\n",
       "      <td>PA</td>\n",
       "      <td>10.5</td>\n",
       "      <td>78.7</td>\n",
       "    </tr>\n",
       "    <tr>\n",
       "      <th>38</th>\n",
       "      <td>RI</td>\n",
       "      <td>3.0</td>\n",
       "      <td>90.7</td>\n",
       "    </tr>\n",
       "    <tr>\n",
       "      <th>39</th>\n",
       "      <td>SC</td>\n",
       "      <td>15.5</td>\n",
       "      <td>66.3</td>\n",
       "    </tr>\n",
       "    <tr>\n",
       "      <th>40</th>\n",
       "      <td>SD</td>\n",
       "      <td>10.3</td>\n",
       "      <td>56.7</td>\n",
       "    </tr>\n",
       "    <tr>\n",
       "      <th>41</th>\n",
       "      <td>TN</td>\n",
       "      <td>15.1</td>\n",
       "      <td>66.4</td>\n",
       "    </tr>\n",
       "    <tr>\n",
       "      <th>42</th>\n",
       "      <td>TX</td>\n",
       "      <td>10.7</td>\n",
       "      <td>84.7</td>\n",
       "    </tr>\n",
       "    <tr>\n",
       "      <th>43</th>\n",
       "      <td>UT</td>\n",
       "      <td>12.3</td>\n",
       "      <td>90.6</td>\n",
       "    </tr>\n",
       "    <tr>\n",
       "      <th>44</th>\n",
       "      <td>VT</td>\n",
       "      <td>10.3</td>\n",
       "      <td>38.9</td>\n",
       "    </tr>\n",
       "    <tr>\n",
       "      <th>45</th>\n",
       "      <td>VA</td>\n",
       "      <td>10.3</td>\n",
       "      <td>75.5</td>\n",
       "    </tr>\n",
       "    <tr>\n",
       "      <th>46</th>\n",
       "      <td>WA</td>\n",
       "      <td>9.7</td>\n",
       "      <td>84.1</td>\n",
       "    </tr>\n",
       "    <tr>\n",
       "      <th>47</th>\n",
       "      <td>WV</td>\n",
       "      <td>14.6</td>\n",
       "      <td>48.7</td>\n",
       "    </tr>\n",
       "    <tr>\n",
       "      <th>48</th>\n",
       "      <td>WI</td>\n",
       "      <td>8.2</td>\n",
       "      <td>70.2</td>\n",
       "    </tr>\n",
       "    <tr>\n",
       "      <th>49</th>\n",
       "      <td>WY</td>\n",
       "      <td>16.2</td>\n",
       "      <td>64.8</td>\n",
       "    </tr>\n",
       "  </tbody>\n",
       "</table>\n",
       "</div>"
      ],
      "text/plain": [
       "   STATE  RATE-2014  Percent Urban\n",
       "0     AL       16.9           59.0\n",
       "1     AK       19.2           66.0\n",
       "2     AZ       13.5           89.8\n",
       "3     AR       16.6           56.2\n",
       "4     CA        7.4           95.0\n",
       "5     CO       12.2           86.2\n",
       "6     CT        5.0           88.0\n",
       "7     DE       11.1           83.3\n",
       "8     FL       11.5           91.2\n",
       "9     GA       13.7           75.1\n",
       "10    HI        2.6           91.9\n",
       "11    ID       13.2           70.6\n",
       "12    IL        9.0           88.5\n",
       "13    IN       12.4           72.4\n",
       "14    IA        7.5           64.0\n",
       "15    KS       11.3           74.2\n",
       "16    KY       13.9           58.4\n",
       "17    LA       19.0           73.2\n",
       "18    ME        9.4           38.7\n",
       "19    MD        9.0           87.2\n",
       "20    MA        3.2           92.0\n",
       "21    MI       11.1           74.6\n",
       "22    MN        6.6           73.3\n",
       "23    MS       18.3           49.4\n",
       "24    MO       15.3           70.4\n",
       "25    MT       16.1           55.9\n",
       "26    NE        9.5           73.1\n",
       "27    NV       14.8           94.2\n",
       "28    NH        8.7           60.3\n",
       "29    NJ        5.3           94.7\n",
       "30    NM       16.0           77.4\n",
       "31    NY        4.2           87.9\n",
       "32    NC       11.8           66.1\n",
       "33    ND       12.3           59.9\n",
       "34    OH       10.3           77.9\n",
       "35    OK       15.7           66.2\n",
       "36    OR       11.7           81.0\n",
       "37    PA       10.5           78.7\n",
       "38    RI        3.0           90.7\n",
       "39    SC       15.5           66.3\n",
       "40    SD       10.3           56.7\n",
       "41    TN       15.1           66.4\n",
       "42    TX       10.7           84.7\n",
       "43    UT       12.3           90.6\n",
       "44    VT       10.3           38.9\n",
       "45    VA       10.3           75.5\n",
       "46    WA        9.7           84.1\n",
       "47    WV       14.6           48.7\n",
       "48    WI        8.2           70.2\n",
       "49    WY       16.2           64.8"
      ]
     },
     "execution_count": 3,
     "metadata": {},
     "output_type": "execute_result"
    }
   ],
   "source": [
    "df"
   ]
  },
  {
   "cell_type": "markdown",
   "metadata": {},
   "source": [
    "(b) Create a scatter plot of the firearms mortality rate (y-axis) vs the percentage of the population living in urban areas (x-axis). Label the axes. Plot the point for Florida using a different color and/or marker style."
   ]
  },
  {
   "cell_type": "code",
   "execution_count": 4,
   "metadata": {},
   "outputs": [
    {
     "data": {
      "image/png": "[encoded data removed]",
      "text/plain": [
       "<Figure size 432x288 with 1 Axes>"
      ]
     },
     "metadata": {
      "needs_background": "light"
     },
     "output_type": "display_data"
    }
   ],
   "source": [
    "# MAKE TWO DATA FRAMES, ONE FOR FL AND ONE FOR NOT FL\n",
    "not_fl = df.loc[df[\"STATE\"] != \"FL\"]\n",
    "fl = df.loc[df[\"STATE\"] == \"FL\"]\n",
    "\n",
    "# CALCULATE NOT FL RATES\n",
    "mort_rate_not_fl = np.array(not_fl[\"RATE-2014\"])\n",
    "urban_percent_not_fl = np.array(not_fl[\"Percent Urban\"])\n",
    "\n",
    "# CALCULAT FL RATES\n",
    "mort_rate_fl = np.array(fl[\"RATE-2014\"])\n",
    "urban_percent_fl = np.array(fl[\"Percent Urban\"])\n",
    "\n",
    "# PLOT NOT FL\n",
    "plt.scatter(x=urban_percent_not_fl,y=mort_rate_not_fl);\n",
    "\n",
    "# PLOT FL\n",
    "plt.scatter(x=urban_percent_fl,y=mort_rate_fl);\n",
    "\n",
    "# LABEL AXES\n",
    "plt.xlabel(\"Percent Urban\");\n",
    "plt.ylabel(\"Firearms Mortality Rate (2014)\");"
   ]
  },
  {
   "cell_type": "markdown",
   "metadata": {},
   "source": [
    "(c) We will partition the states as follows: Urban states have $>80$% of the population living in urban areas. Rural states have $\\le 80$% of the population living in urban areas. On the same graph, plot histograms for the firearms mortality rates of urban and rural states. Use the same bin indices for both histograms. Use transparency to make the histograms more readable. Add a legend and axes labels."
   ]
  },
  {
   "cell_type": "code",
   "execution_count": 5,
   "metadata": {},
   "outputs": [],
   "source": [
    "urban = df.loc[df[\"Percent Urban\"] > 80];\n",
    "rural = df.loc[df[\"Percent Urban\"] <= 80];"
   ]
  },
  {
   "cell_type": "code",
   "execution_count": 6,
   "metadata": {},
   "outputs": [
    {
     "data": {
      "image/png": "[encoded data removed]",
      "text/plain": [
       "<Figure size 432x288 with 1 Axes>"
      ]
     },
     "metadata": {
      "needs_background": "light"
     },
     "output_type": "display_data"
    }
   ],
   "source": [
    "n,bins,patches = plt.hist(urban[\"RATE-2014\"],alpha=0.5,label\n",
    "=\"Urban\");\n",
    "plt.hist(rural[\"RATE-2014\"],alpha=0.5,bins=bins,label\n",
    "=\"Rural\");\n",
    "plt.legend();\n",
    "plt.xlabel(\"Firearms Mortality Rate (2014)\");\n",
    "plt.ylabel(\"Counts\");"
   ]
  },
  {
   "cell_type": "markdown",
   "metadata": {},
   "source": [
    "(d) Find the mean firearms mortality rates for both urban and rural states. Compute the difference in means."
   ]
  },
  {
   "cell_type": "code",
   "execution_count": 7,
   "metadata": {},
   "outputs": [
    {
     "data": {
      "text/plain": [
       "(8.677777777777777, 12.99375, 4.315972222222223)"
      ]
     },
     "execution_count": 7,
     "metadata": {},
     "output_type": "execute_result"
    }
   ],
   "source": [
    "urban_rate = urban[\"RATE-2014\"].mean()\n",
    "rural_rate = rural[\"RATE-2014\"].mean()\n",
    "diff = abs(urban_rate-rural_rate)\n",
    "urban_rate,rural_rate,diff"
   ]
  },
  {
   "cell_type": "markdown",
   "metadata": {},
   "source": [
    "(e) Find the median firearms mortality rates for both urban and rural states."
   ]
  },
  {
   "cell_type": "code",
   "execution_count": 8,
   "metadata": {},
   "outputs": [
    {
     "data": {
      "text/plain": [
       "(9.35, 12.8)"
      ]
     },
     "execution_count": 8,
     "metadata": {},
     "output_type": "execute_result"
    }
   ],
   "source": [
    "urban_median = urban[\"RATE-2014\"].median()\n",
    "rural_median = rural[\"RATE-2014\"].median()\n",
    "urban_median,rural_median"
   ]
  },
  {
   "cell_type": "markdown",
   "metadata": {},
   "source": [
    "(f) In a sentence or two, comment on the results of parts d) and e)."
   ]
  },
  {
   "cell_type": "markdown",
   "metadata": {},
   "source": [
    "Both the median and the mean firearm mortality rates are higher for rural states, by several percentage points."
   ]
  },
  {
   "cell_type": "markdown",
   "metadata": {},
   "source": [
    "(g) Construct a two-sided binary hypothesis test using random sampling (bootstrap or Monte Carlo permutation) and determine the probability of such a large difference in means under the null hypothesis. Use at least 10,000 samples."
   ]
  },
  {
   "cell_type": "code",
   "execution_count": 9,
   "metadata": {},
   "outputs": [
    {
     "data": {
      "text/plain": [
       "(18, 32)"
      ]
     },
     "execution_count": 9,
     "metadata": {},
     "output_type": "execute_result"
    }
   ],
   "source": [
    "len(urban),len(rural)"
   ]
  },
  {
   "cell_type": "code",
   "execution_count": 10,
   "metadata": {},
   "outputs": [
    {
     "name": "stdout",
     "output_type": "stream",
     "text": [
      "Under the null hypothesis, observe effect this large with prob =~0.000191.\n",
      "This is statistically significant at the p <= 0.05 level.\n"
     ]
    }
   ],
   "source": [
    "pooled = np.array(df['RATE-2014'])\n",
    "\n",
    "num_sims=1000000\n",
    "event_count=0\n",
    "bs_stats = []\n",
    "for sim in range(num_sims):\n",
    "    \n",
    "    perm=npr.permutation(pooled)\n",
    "    sample_urban=perm[:len(urban)]\n",
    "    sample_rural=perm[len(urban):]\n",
    "    \n",
    "#     sample_urban = npr.choice(pooled, size=18)\n",
    "#     sample_rural = npr.choice(pooled, size=32)\n",
    "    # Bootstrap samples DO NOT have to be the same size # They should be the sizes of the original sample\n",
    "    mean_urban = sample_urban.mean()\n",
    "    mean_rural = sample_rural.mean()\n",
    "    sample_diff = mean_rural-mean_urban\n",
    "    abs_sample_diff = abs(sample_diff)\n",
    "    bs_stats += [abs_sample_diff]\n",
    "    if abs_sample_diff >= diff:\n",
    "            event_count+=1        \n",
    "            \n",
    "prob = event_count/num_sims\n",
    "print(\"Under the null hypothesis, observe effect this large with prob =~\",prob,\".\", sep=\"\")\n",
    "print(\"This is statistically significant at the p <= 0.05 level.\")"
   ]
  },
  {
   "cell_type": "markdown",
   "metadata": {},
   "source": [
    "(h) Plot a histogram of the observed mean differences from at least 10,000 random samples under the null hypothesis."
   ]
  },
  {
   "cell_type": "code",
   "execution_count": 11,
   "metadata": {},
   "outputs": [
    {
     "data": {
      "image/png": "[encoded data removed]",
      "text/plain": [
       "<Figure size 432x288 with 1 Axes>"
      ]
     },
     "metadata": {
      "needs_background": "light"
     },
     "output_type": "display_data"
    }
   ],
   "source": [
    "plt.hist(bs_stats,density=True,bins=75);"
   ]
  },
  {
   "cell_type": "markdown",
   "metadata": {},
   "source": [
    "(i) Use random sampling to determine a 95% confidence interval for the mean difference under the null hypothesis."
   ]
  },
  {
   "cell_type": "code",
   "execution_count": 12,
   "metadata": {},
   "outputs": [],
   "source": [
    "def confidence_interval(bs_stats, n):\n",
    "    bs_stats.sort()\n",
    "    x = (1-n/100)\n",
    "    lower=int(len(bs_stats)*x/2)\n",
    "    upper=int(len(bs_stats)-lower-1)\n",
    "    bs_stats[lower],bs_stats[upper]\n",
    "    print('The ',n,'% confidence interval is [',bs_stats[lower],', ',bs_stats[upper],'].',sep=\"\")\n",
    "    return bs_stats[lower],bs_stats[upper]"
   ]
  },
  {
   "cell_type": "code",
   "execution_count": 13,
   "metadata": {},
   "outputs": [
    {
     "name": "stdout",
     "output_type": "stream",
     "text": [
      "The 95% confidence interval is [0.0364583333333357, 2.715277777777775].\n"
     ]
    },
    {
     "data": {
      "text/plain": [
       "(0.0364583333333357, 2.715277777777775)"
      ]
     },
     "execution_count": 13,
     "metadata": {},
     "output_type": "execute_result"
    }
   ],
   "source": [
    "confidence_interval(bs_stats,95)"
   ]
  },
  {
   "cell_type": "markdown",
   "metadata": {},
   "source": [
    "(j) Discuss the results of part (g)-(i).  Is there sufficient statistical data to claim that urban states and rural states have differen firearms mortalities?"
   ]
  },
  {
   "cell_type": "markdown",
   "metadata": {},
   "source": [
    "I believe that there is indeed sufficient statistical data to claim that urban states and rurla states have different firearms mortalities. We saw that the diff is as large as 4.315 only with probability ~0.00019. We also saw that our confidence interval ranged from 0.0365 to 2.715. 4.315, our observed diff, was very far removed from this confidence interval"
   ]
  }
 ],
 "metadata": {
  "kernelspec": {
   "display_name": "Python 3",
   "language": "python",
   "name": "python3"
  },
  "language_info": {
   "codemirror_mode": {
    "name": "ipython",
    "version": 3
   },
   "file_extension": ".py",
   "mimetype": "text/x-python",
   "name": "python",
   "nbconvert_exporter": "python",
   "pygments_lexer": "ipython3",
   "version": "3.7.2"
  }
 },
 "nbformat": 4,
 "nbformat_minor": 2
}
