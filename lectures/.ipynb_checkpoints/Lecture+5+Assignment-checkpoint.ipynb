{
 "cells": [
  {
   "cell_type": "markdown",
   "metadata": {},
   "source": [
    "### Notes on Preparing and Submitting this Assignment\n",
    "\n",
    "* You can put your solutions in this notebook or make a new notebook\n",
    "* Rather than submit your notebook, please create a PDF of the notebook with your solutions. When you are all done, the best way to do this is:\n",
    "    1. Restart and rerun your notebook using the \"Kernel->Restart & Run All\" menu item.\n",
    "    1. Save your notebook by clicking on the Save icon or using the \"File->Save and Checkpoint\" menu item.\n",
    "    1. Generate a static HTML version of your notebook by using the \"File->Print Preview\" menu item. The static HTML version should open in a new tab or window.\n",
    "    1. Generate a PDF of that version. You can follow this guide: [How to Save a Webpage as a PDF](https://www.digitaltrends.com/computing/how-to-save-a-webpage-as-a-pdf/)\n",
    "\n"
   ]
  },
  {
   "cell_type": "markdown",
   "metadata": {},
   "source": [
    "**Read the following information on combinatorics and how to compute Cartesian products in Python. Then solve the problems at the end of the notebook.**"
   ]
  },
  {
   "cell_type": "markdown",
   "metadata": {},
   "source": [
    "## Combinatorics"
   ]
  },
  {
   "cell_type": "markdown",
   "metadata": {},
   "source": [
    "*Definition* **Combinatorics** is the mathematics of counting. It can be used to find probabilities involving combinations of fair experiments."
   ]
  },
  {
   "cell_type": "markdown",
   "metadata": {},
   "source": [
    "*Definition* A combined experiment is one in which the outcome is a tuple that takes one outcome from each of a sequence of subexperiments."
   ]
  },
  {
   "cell_type": "markdown",
   "metadata": {},
   "source": [
    "We have already seen an example of a combined experiment: rolling a fair die twice."
   ]
  },
  {
   "cell_type": "markdown",
   "metadata": {},
   "source": [
    "When applied to probability, combinatorics often consists of counting two things for a combined experiment:\n",
    "1. The cardinality of the sample space\n",
    "2. The cardinality of some event we are asked about"
   ]
  },
  {
   "cell_type": "markdown",
   "metadata": {},
   "source": [
    "For instance, a state has license plates of the form AAA DDDD, where A represents any letter of the alphabet and D represents any numerical digit. \n",
    "\n",
    "What is the probability that a randomly chosen license plate is EEL 4930?\n",
    "\n",
    "If no characters or digits are allowed to repeat, what is the probability that a randomly chosen licen plate is UFL 2019 ?"
   ]
  },
  {
   "cell_type": "markdown",
   "metadata": {},
   "source": [
    "We are not quite ready to answer these yet. To answer them, we will need to determine the size of the sample space for the combined experiment. "
   ]
  },
  {
   "cell_type": "markdown",
   "metadata": {},
   "source": [
    "## Cartesian Products\n",
    "\n",
    "The *cartesian product* of two sets $A$ and $B$ is denoted $A \\times B$ and is defined by \n",
    "$$\n",
    "A \\times B = \\{ (a,b) | a \\in A \\mbox{ and } b \\in B\\}.\n",
    "$$\n",
    "That is, it is the set of all two-tuples with the first element from set $A$ and the second element from set $B$."
   ]
  },
  {
   "cell_type": "markdown",
   "metadata": {},
   "source": [
    "The sample space for a combined experiment is the Cartesian product of the sample spaces for the subexperiments.  "
   ]
  },
  {
   "cell_type": "markdown",
   "metadata": {},
   "source": [
    "**Example**\n",
    "\n",
    "If we want to know the sample space for an experiment where we flip a fair coin and then roll a fair die, then we just need to compute the Cartesian product of the sample spaces for each experiment.\n",
    "$$\n",
    "A = \\{ \\mbox{heads}, \\mbox{tails} \\}\n",
    "$$\n",
    "$$\n",
    "B = \\{ 1,2,3,4,5,6 \\}\n",
    "$$\n",
    "The ordered outcomes of the combined experiment are in the set $A \\times B$.\n",
    "\n",
    "\n",
    "\n"
   ]
  },
  {
   "cell_type": "markdown",
   "metadata": {},
   "source": [
    "Note that the experiments are conducted in order, and the outcome of one experiment may influence the sample spaces for later experiments.\n",
    "\n",
    "**Example**\n",
    "\n",
    "Suppose we are drawing balls for a lottery with 40 numbered balls in a bin. Consider only the first two draws. Let $S_1$ denote the sample space for the first draw, and $S_2$ denote the sample space for the second draw. The balls are not replace after the draws.  Let $s_i$ denote the outcome of draw $i$. \n",
    "\n",
    "Then\n",
    "$$S_1= \\{1,2,\\ldots, 40 \\}\\mbox{, and}$$\n",
    "$$S_2= S_1 - s_1$$ \n",
    "\n",
    "(I.e., $S_2$ is the same as $S_1$ except the first ball drawn is removed.)\n",
    "\n",
    "Then the combined sample space is $S_1 \\times S_2$\n",
    "\n",
    "In such cases, the particular set of outcomes in $S_2$ changes, but the cardinality of $S_2$ is constant"
   ]
  },
  {
   "cell_type": "markdown",
   "metadata": {},
   "source": [
    "The *itertools* library has a *product* method that computes the Cartesian products for sets:"
   ]
  },
  {
   "cell_type": "code",
   "execution_count": 1,
   "metadata": {},
   "outputs": [],
   "source": [
    "import itertools"
   ]
  },
  {
   "cell_type": "markdown",
   "metadata": {},
   "source": [
    "**Example** Flip a fair coin and roll a fair die"
   ]
  },
  {
   "cell_type": "code",
   "execution_count": 2,
   "metadata": {},
   "outputs": [],
   "source": [
    "A=[ 'heads','tails']\n",
    "B=list(range(1,7))"
   ]
  },
  {
   "cell_type": "code",
   "execution_count": 3,
   "metadata": {},
   "outputs": [],
   "source": [
    "AtimesB=itertools.product(A,B)"
   ]
  },
  {
   "cell_type": "code",
   "execution_count": 4,
   "metadata": {},
   "outputs": [],
   "source": [
    "AtimesB"
   ]
  },
  {
   "cell_type": "markdown",
   "metadata": {},
   "source": [
    "Note that itertools.product does not return a list directly, but instead gives an object that can be iterated over or turned into a list:"
   ]
  },
  {
   "cell_type": "code",
   "execution_count": 5,
   "metadata": {},
   "outputs": [],
   "source": [
    "C=list(AtimesB)\n",
    "C"
   ]
  },
  {
   "cell_type": "markdown",
   "metadata": {},
   "source": [
    "You have to be careful in working with iteratable objects. Once you iterate over them. They won't return anything else:"
   ]
  },
  {
   "cell_type": "code",
   "execution_count": 6,
   "metadata": {},
   "outputs": [],
   "source": [
    "D=list(AtimesB)\n",
    "D"
   ]
  },
  {
   "cell_type": "markdown",
   "metadata": {},
   "source": [
    "Note that you can pass more than two sets to itertools.product, and it will compute the Cartesian product of all of them. For instance, the ordered outcomes from flipping a fair coin, rolling a 6-sided die, and then flipping the coin again are"
   ]
  },
  {
   "cell_type": "code",
   "execution_count": 7,
   "metadata": {},
   "outputs": [],
   "source": [
    "list(itertools.product(A,B,A))"
   ]
  },
  {
   "cell_type": "markdown",
   "metadata": {},
   "source": [
    "## Assignment"
   ]
  },
  {
   "cell_type": "markdown",
   "metadata": {},
   "source": [
    "The following sets will be useful in answering the questions below:"
   ]
  },
  {
   "cell_type": "code",
   "execution_count": 8,
   "metadata": {},
   "outputs": [],
   "source": [
    "import string\n",
    "alpha=list(string.ascii_lowercase)\n",
    "print(alpha)"
   ]
  },
  {
   "cell_type": "code",
   "execution_count": 9,
   "metadata": {},
   "outputs": [
    {
     "name": "stdout",
     "output_type": "stream",
     "text": [
      "[0, 1, 2, 3, 4, 5, 6, 7, 8, 9]\n"
     ]
    }
   ],
   "source": [
    "digits=list(range(10))\n",
    "print(digits)"
   ]
  },
  {
   "cell_type": "markdown",
   "metadata": {},
   "source": [
    "Answer the following questions and upload your work to Canvas:\n",
    "\n",
    "1. Use itertools to create a list of all the license plates of the form AA NNN, where A denotes an alphabetic character and N denotes a numeric digit? How many are there?\n",
    "1. Use itertools to create a list of all the license plates of the form\n",
    "XXXX, where X can be an alphabetic character **or** a numeric digit. How many are there?\n",
    "1. Use itertools to create a list of all the three-number lock combinations, where the numbers are from 1 to 50 and **can** be repeated. How many are there?"
   ]
  },
  {
   "cell_type": "markdown",
   "metadata": {},
   "source": [
    "# 1."
   ]
  },
  {
   "cell_type": "code",
   "execution_count": 24,
   "metadata": {},
   "outputs": [
    {
     "name": "stdout",
     "output_type": "stream",
     "text": [
      "There are 676000 license plates of the form \"AA NNN\".\n"
     ]
    }
   ],
   "source": [
    "A = list(string.ascii_uppercase)\n",
    "N = list(range(10))\n",
    "plates = list(itertools.product(A,A,N,N,N))\n",
    "print('There are',len(plates),'license plates of the form \"AA NNN\".')"
   ]
  },
  {
   "cell_type": "markdown",
   "metadata": {},
   "source": [
    "# 2."
   ]
  },
  {
   "cell_type": "code",
   "execution_count": 25,
   "metadata": {},
   "outputs": [
    {
     "name": "stdout",
     "output_type": "stream",
     "text": [
      "There are 1679616 license plates of the form \"XXXX\".\n"
     ]
    }
   ],
   "source": [
    "X = list(string.ascii_uppercase) + list(range(10))\n",
    "plates = list(itertools.product(X,X,X,X))\n",
    "print('There are',len(plates),'license plates of the form \"XXXX\".')"
   ]
  },
  {
   "cell_type": "markdown",
   "metadata": {},
   "source": [
    "# 3."
   ]
  },
  {
   "cell_type": "code",
   "execution_count": null,
   "metadata": {},
   "outputs": [],
   "source": [
    "Z = list(range(1,51))\n",
    "print(Z)\n",
    "# plates = list(itertools.product(X,X,X,X))\n",
    "# print('There are',len(plates),'license plates of the form \"XXXX\".')"
   ]
  }
 ],
 "metadata": {
  "kernelspec": {
   "display_name": "Python 3",
   "language": "python",
   "name": "python3"
  },
  "language_info": {
   "codemirror_mode": {
    "name": "ipython",
    "version": 3
   },
   "file_extension": ".py",
   "mimetype": "text/x-python",
   "name": "python",
   "nbconvert_exporter": "python",
   "pygments_lexer": "ipython3",
   "version": "3.7.2"
  }
 },
 "nbformat": 4,
 "nbformat_minor": 2
}
