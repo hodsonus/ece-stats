{
 "cells": [
  {
   "cell_type": "markdown",
   "metadata": {},
   "source": [
    "### Notes on Preparing and Submitting this Assignment\n",
    "\n",
    "* You can put your solutions in this notebook or make a new notebook\n",
    "* I did not import any libraries or include any necessary magics to make the images appear in the notebook; you should do these things as necessary.\n",
    "* Rather than submit your notebook, please create a PDF of the notebook with your solutions. When you are all done, the best way to do this is:\n",
    "    1. Restart and rerun your notebook using the \"Kernel->Restart & Run All\" menu item.\n",
    "    1. Save your notebook by clicking on the Save icon or using the \"File->Save and Checkpoint\" menu item.\n",
    "    1. Generate a static HTML version of your notebook by using the \"File->Print Preview\" menu item. The static HTML version should open in a new tab or window.\n",
    "    1. Generate a PDF of that version. You can follow this guide: [How to Save a Webpage as a PDF](https://www.digitaltrends.com/computing/how-to-save-a-webpage-as-a-pdf/)\n"
   ]
  },
  {
   "cell_type": "markdown",
   "metadata": {},
   "source": [
    "## Problems"
   ]
  },
  {
   "cell_type": "markdown",
   "metadata": {},
   "source": [
    "1. Generate a plot of a sin wave in Python. You may wish to type import the ```numpy``` modulate and type ```?np.linspace``` or ```?numpy.linspace```\n",
    "2. Generate overlaid plots of a sin wave and a cos wave"
   ]
  },
  {
   "cell_type": "markdown",
   "metadata": {},
   "source": [
    "You can import the ```random``` module by typing\n",
    "\n",
    "```import random```\n",
    "\n",
    "The ```random``` module has methods for generating random numbers and for drawing randomly from lists.\n",
    "\n",
    "3. Set a cell to Markdown and explain the difference between ```random.choices()``` and ```random.sample()```\n",
    "4. Write your first simulation of this class. You will simulate flipping a fair coin 20 times. Create a list with entries 'H' and 'T', and draw 20 samples from that list using a method from the random module.\n",
    "5. Write your second simulation of this class; simulate rolling a fair die 20 times.\n",
    "\n"
   ]
  },
  {
   "cell_type": "code",
   "execution_count": null,
   "metadata": {},
   "outputs": [],
   "source": []
  }
 ],
 "metadata": {
  "kernelspec": {
   "display_name": "Python 3",
   "language": "python",
   "name": "python3"
  },
  "language_info": {
   "codemirror_mode": {
    "name": "ipython",
    "version": 3
   },
   "file_extension": ".py",
   "mimetype": "text/x-python",
   "name": "python",
   "nbconvert_exporter": "python",
   "pygments_lexer": "ipython3",
   "version": "3.7.2"
  }
 },
 "nbformat": 4,
 "nbformat_minor": 2
}
