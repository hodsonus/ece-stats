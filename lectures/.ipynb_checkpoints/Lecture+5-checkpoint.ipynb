{
 "cells": [
  {
   "cell_type": "markdown",
   "metadata": {},
   "source": [
    "# Lecture 5\n",
    "## Fair Experiments, Counting"
   ]
  },
  {
   "cell_type": "code",
   "execution_count": 1,
   "metadata": {},
   "outputs": [],
   "source": [
    "import numpy as np\n",
    "import numpy.random as npr\n",
    "import matplotlib.pyplot as plt\n",
    "%matplotlib inline"
   ]
  },
  {
   "cell_type": "markdown",
   "metadata": {},
   "source": [
    "**Definition** The **probability** of an event is a number between 0 and 1 that quantifies how likely that event is to occur. An event that cannot occur has probability 0, and an event that is sure to occur has probability 1. The probabilities of the outcomes sum to 1."
   ]
  },
  {
   "cell_type": "markdown",
   "metadata": {},
   "source": [
    "**Definition** We say an experiment is **fair** if every outcome is equally likely."
   ]
  },
  {
   "cell_type": "markdown",
   "metadata": {},
   "source": [
    "Consider a fair experiment with $N$ outcomes, and let $p_i$ denote the probability of outcome $i$, then\n",
    "\n",
    "$$\n",
    "\\sum_{i=1}^{N} p_i = 1 \\\\\n",
    "\\sum_{i=1}^{N} p_1 = 1 \\\\\n",
    "Np_1=1\\\\\n",
    "p_1 = \\frac 1 N\\\\\n",
    "p_i = \\frac 1 N\\\\\n",
    "$$"
   ]
  },
  {
   "cell_type": "markdown",
   "metadata": {},
   "source": [
    "So, for instance, the probability of getting any number on a fair die is 1/6. Let's compare these to the relative frequencies:"
   ]
  },
  {
   "cell_type": "code",
   "execution_count": 2,
   "metadata": {},
   "outputs": [],
   "source": [
    "def rolldie(num_sims=1000):\n",
    "    results = npr.randint(1,7, size=num_sims)\n",
    "    vals, counts = np.unique(results, return_counts=True)\n",
    "    plt.bar(vals,counts/num_sims)\n",
    "    for i in range(len(vals)):\n",
    "        print(vals[i],counts[i]/num_sims)"
   ]
  },
  {
   "cell_type": "code",
   "execution_count": 3,
   "metadata": {},
   "outputs": [
    {
     "name": "stdout",
     "output_type": "stream",
     "text": [
      "1 0.182\n",
      "2 0.16\n",
      "3 0.165\n",
      "4 0.163\n",
      "5 0.158\n",
      "6 0.172\n"
     ]
    },
    {
     "data": {
      "image/png": "[encoded data removed]",
      "text/plain": [
       "<Figure size 432x288 with 1 Axes>"
      ]
     },
     "metadata": {
      "needs_background": "light"
     },
     "output_type": "display_data"
    }
   ],
   "source": [
    "rolldie()"
   ]
  },
  {
   "cell_type": "code",
   "execution_count": 4,
   "metadata": {},
   "outputs": [
    {
     "name": "stdout",
     "output_type": "stream",
     "text": [
      "1 0.16663871\n",
      "2 0.16665872\n",
      "3 0.16667767\n",
      "4 0.16664981\n",
      "5 0.16671211\n",
      "6 0.16666298\n"
     ]
    },
    {
     "data": {
      "image/png": "[encoded data removed]",
      "text/plain": [
       "<Figure size 432x288 with 1 Axes>"
      ]
     },
     "metadata": {
      "needs_background": "light"
     },
     "output_type": "display_data"
    }
   ],
   "source": [
    "rolldie(100000000)"
   ]
  },
  {
   "cell_type": "markdown",
   "metadata": {},
   "source": [
    "Let's try that for our experiment where we flip a coin 20 times:"
   ]
  },
  {
   "cell_type": "code",
   "execution_count": 5,
   "metadata": {},
   "outputs": [],
   "source": [
    "def coinsim2(num_sims=1000000, flips=20, threshold=6):\n",
    "\n",
    "    results=npr.randint(2,size=(num_sims,flips))\n",
    "    num_heads=np.sum(results,axis=1)\n",
    "\n",
    "    vals,counts=np.unique(num_heads,return_counts=True)\n",
    "    plt.bar(vals,counts)\n",
    "    for i in range(len(vals)):\n",
    "\n",
    "        print(vals[i],counts[i]/num_sims)"
   ]
  },
  {
   "cell_type": "code",
   "execution_count": 6,
   "metadata": {},
   "outputs": [
    {
     "name": "stdout",
     "output_type": "stream",
     "text": [
      "0 3e-06\n",
      "1 1.9e-05\n",
      "2 0.000181\n",
      "3 0.001122\n",
      "4 0.004507\n",
      "5 0.014712\n",
      "6 0.037068\n",
      "7 0.074146\n",
      "8 0.120369\n",
      "9 0.159979\n",
      "10 0.176097\n",
      "11 0.160547\n",
      "12 0.120275\n",
      "13 0.07359\n",
      "14 0.036904\n",
      "15 0.014644\n",
      "16 0.004605\n",
      "17 0.001039\n",
      "18 0.000173\n",
      "19 1.9e-05\n",
      "20 1e-06\n"
     ]
    },
    {
     "data": {
      "image/png": "[encoded data removed]",
      "text/plain": [
       "<Figure size 432x288 with 1 Axes>"
      ]
     },
     "metadata": {
      "needs_background": "light"
     },
     "output_type": "display_data"
    }
   ],
   "source": [
    "coinsim2()"
   ]
  },
  {
   "cell_type": "markdown",
   "metadata": {},
   "source": [
    "### What is the difference? Why does rolling a die give equal relative frequencies, while flipping a coin and counting the number of heads does not? "
   ]
  },
  {
   "cell_type": "markdown",
   "metadata": {},
   "source": [
    "When we combine the subexperiments and count some particular value as our observation, the observed value may no longer be fair."
   ]
  },
  {
   "cell_type": "markdown",
   "metadata": {},
   "source": [
    "## Probabilities of Events for Fair Experiments"
   ]
  },
  {
   "cell_type": "markdown",
   "metadata": {},
   "source": [
    "Consider an experiment with equally likely outcomes $S$, where $|S|=N$.\n",
    "\n",
    "If $E \\subset S$ is an event that consists of $K$ equally likely outcomes\n",
    "(i.e,. $E=\\{ o_1, o_2, \\ldots, o_K\\}$ \n",
    "    \\begin{eqnarray*}\n",
    "      P(E) &=& \\sum_{j=1}^{K} P(o_j) \\\\\n",
    "       &=& \\sum_{j=1}^{|E|} \\frac{1}{|S|}  \\\\\n",
    "       &=& \\frac{|E|}{N} = \\frac{K}{N}\n",
    "    \\end{eqnarray*}\n"
   ]
  },
  {
   "cell_type": "markdown",
   "metadata": {},
   "source": [
    "**Example** What is the probability of getting a 1 or 2 when rolling a fair 6-sided die?"
   ]
  },
  {
   "cell_type": "markdown",
   "metadata": {},
   "source": [
    "1/3"
   ]
  },
  {
   "cell_type": "markdown",
   "metadata": {},
   "source": [
    "**Example** What is the probability of getting a 1 or 2 on either of 2 rolls of a fair 6-sided die?"
   ]
  },
  {
   "cell_type": "markdown",
   "metadata": {},
   "source": [
    "Write a simulation to answer this question.\n",
    "\n",
    "It may be helpful to know that you can use | to OR together two numpy arrays of Boolean values. "
   ]
  },
  {
   "cell_type": "code",
   "execution_count": 7,
   "metadata": {},
   "outputs": [],
   "source": [
    "def tworolls(num_rolls=10000000,success=[1,2]):\n",
    "    \n",
    "    die1 = npr.randint(1,7, size=num_rolls)\n",
    "    die2 = npr.randint(1,7, size=num_rolls)\n",
    "    \n",
    "    wanted_event = np.isin(die1,success) | np.isin(die2,success)\n",
    "    print(np.sum(wanted_event)/num_rolls)"
   ]
  },
  {
   "cell_type": "code",
   "execution_count": 16,
   "metadata": {},
   "outputs": [
    {
     "name": "stdout",
     "output_type": "stream",
     "text": [
      "0.5557011\n"
     ]
    }
   ],
   "source": [
    "tworolls()"
   ]
  },
  {
   "cell_type": "code",
   "execution_count": 9,
   "metadata": {},
   "outputs": [
    {
     "data": {
      "text/plain": [
       "0.5555555555555556"
      ]
     },
     "execution_count": 9,
     "metadata": {},
     "output_type": "execute_result"
    }
   ],
   "source": [
    "5/9"
   ]
  },
  {
   "cell_type": "markdown",
   "metadata": {},
   "source": [
    "What are all of the outcomes for this experiment?"
   ]
  },
  {
   "cell_type": "code",
   "execution_count": 18,
   "metadata": {},
   "outputs": [
    {
     "name": "stdout",
     "output_type": "stream",
     "text": [
      "1,1\t1,2\t1,3\t1,4\t1,5\t1,6\t\n",
      "2,1\t2,2\t2,3\t2,4\t2,5\t2,6\t\n",
      "3,1\t3,2\t3,3\t3,4\t3,5\t3,6\t\n",
      "4,1\t4,2\t4,3\t4,4\t4,5\t4,6\t\n",
      "5,1\t5,2\t5,3\t5,4\t5,5\t5,6\t\n",
      "6,1\t6,2\t6,3\t6,4\t6,5\t6,6\t\n"
     ]
    }
   ],
   "source": [
    "for i in range(1,7):\n",
    "    for j in range(1,7):\n",
    "        print(i,\",\",j,\"\\t\",sep=\"\",end=\"\")\n",
    "    print()"
   ]
  },
  {
   "cell_type": "markdown",
   "metadata": {},
   "source": [
    "Now modify this to print those that belong to the event we are evaluating."
   ]
  },
  {
   "cell_type": "code",
   "execution_count": 20,
   "metadata": {},
   "outputs": [
    {
     "name": "stdout",
     "output_type": "stream",
     "text": [
      "1,1\t1,2\t1,3\t1,4\t1,5\t1,6\t\n",
      "2,1\t2,2\t2,3\t2,4\t2,5\t2,6\t\n",
      "3,1\t3,2\t\n",
      "4,1\t4,2\t\n",
      "5,1\t5,2\t\n",
      "6,1\t6,2\t\n",
      "20\n"
     ]
    }
   ],
   "source": [
    "count = 0\n",
    "for i in range(1,7):\n",
    "    for j in range(1,7):\n",
    "        if (i in [1,2]) or (j in [1,2]):\n",
    "            print(i,\",\",j,\"\\t\",sep=\"\",end=\"\")\n",
    "            count+=1\n",
    "    print()\n",
    "print(count)"
   ]
  },
  {
   "cell_type": "code",
   "execution_count": 21,
   "metadata": {},
   "outputs": [
    {
     "data": {
      "text/plain": [
       "0.5555555555555556"
      ]
     },
     "execution_count": 21,
     "metadata": {},
     "output_type": "execute_result"
    }
   ],
   "source": [
    "20/36"
   ]
  },
  {
   "cell_type": "markdown",
   "metadata": {},
   "source": [
    "## Combinatorics"
   ]
  },
  {
   "cell_type": "markdown",
   "metadata": {},
   "source": [
    "*Definition* **Combinatorics** is the mathematics of counting. It can be used to find probabilities involving combinations of fair experiments."
   ]
  },
  {
   "cell_type": "markdown",
   "metadata": {},
   "source": [
    "*Definition* A combined experiment is one in which the outcome is a tuple that takes one outcome from each of a sequence of subexperiments."
   ]
  },
  {
   "cell_type": "markdown",
   "metadata": {},
   "source": [
    "We have already seen an example of a combined experiment: rolling a fair die twice."
   ]
  },
  {
   "cell_type": "markdown",
   "metadata": {},
   "source": [
    "When applied to probability, combinatorics often consists of counting two things for a combined experiment:\n",
    "1. The cardinality of the sample space\n",
    "2. The cardinality of some event we are asked about"
   ]
  },
  {
   "cell_type": "markdown",
   "metadata": {},
   "source": [
    "For instance, a state has license plates of the form AAA DDDD, where A represents any letter of the alphabet and D represents any numerical digit. \n",
    "\n",
    "What is the probability that a randomly chosen license plate is EEL 4930?\n",
    "\n",
    "If no characters or digits are allowed to repeat, what is the probability that a randomly chosen licen plate is UFL 2019 ?"
   ]
  },
  {
   "cell_type": "markdown",
   "metadata": {},
   "source": [
    "We are not quite ready to answer these yet. To answer them, we will need to determine the size of the sample space for the combined experiment. "
   ]
  },
  {
   "cell_type": "markdown",
   "metadata": {},
   "source": [
    "## Cartesian Products\n",
    "\n",
    "The *cartesian product* of two sets $A$ and $B$ is denoted $A \\times B$ and is defined by \n",
    "$$\n",
    "A \\times B = \\{ (a,b) | a \\in A \\mbox{ and } b \\in B\\}.\n",
    "$$\n",
    "That is, it is the set of all two-tuples with the first element from set $A$ and the second element from set $B$."
   ]
  },
  {
   "cell_type": "markdown",
   "metadata": {},
   "source": [
    "The sample space for a combined experiment is the Cartesian product of the sample spaces for the subexperiments.  "
   ]
  },
  {
   "cell_type": "markdown",
   "metadata": {},
   "source": [
    "**Example**\n",
    "\n",
    "If we want to know the sample space for an experiment where we flip a fair coin and then roll a fair die, then we just need to compute the Cartesian product of the sample spaces for each experiment.\n",
    "$$\n",
    "A = \\{ \\mbox{heads}, \\mbox{tails} \\}\n",
    "$$\n",
    "$$\n",
    "B = \\{ 1,2,3,4,5,6 \\}\n",
    "$$\n",
    "The ordered outcomes of the combined experiment are in the set $A \\times B$.\n",
    "\n",
    "\n",
    "\n"
   ]
  },
  {
   "cell_type": "markdown",
   "metadata": {},
   "source": [
    "Note that the experiments are conducted in order, and the outcome of one experiment may influence the sample spaces for later experiments.\n",
    "\n",
    "**Example**\n",
    "\n",
    "Suppose we are drawing balls for a lottery with 40 numbered balls in a bin. Consider only the first two draws. Let $S_1$ denote the sample space for the first draw, and $S_2$ denote the sample space for the second draw. The balls are not replace after the draws.  Let $s_i$ denote the outcome of draw $i$. \n",
    "\n",
    "Then\n",
    "$$S_1= \\{1,2,\\ldots, 40 \\}\\mbox{, and}$$\n",
    "$$S_2= S_1 - s_1$$ \n",
    "\n",
    "(I.e., $S_2$ is the same as $S_1$ except the first ball drawn is removed.)\n",
    "\n",
    "Then the combined sample space is $S_1 \\times S_2$\n",
    "\n",
    "In such cases, the particular set of outcomes in $S_2$ changes, but the cardinality of $S_2$ is constant"
   ]
  },
  {
   "cell_type": "markdown",
   "metadata": {},
   "source": [
    "The *itertools* library has a *product* method that computes the Cartesian products for sets:"
   ]
  },
  {
   "cell_type": "code",
   "execution_count": 11,
   "metadata": {},
   "outputs": [],
   "source": [
    "import itertools"
   ]
  },
  {
   "cell_type": "markdown",
   "metadata": {},
   "source": [
    "**Example** Flip a fair coin and roll a fair die"
   ]
  },
  {
   "cell_type": "code",
   "execution_count": 12,
   "metadata": {},
   "outputs": [],
   "source": [
    "A=[ 'heads','tails']\n",
    "B=list(range(1,7))\n"
   ]
  },
  {
   "cell_type": "code",
   "execution_count": null,
   "metadata": {},
   "outputs": [],
   "source": []
  },
  {
   "cell_type": "markdown",
   "metadata": {},
   "source": [
    "Note that itertools.product does not return a list directly, but instead gives an object that can be iterated over or turned into a list:"
   ]
  },
  {
   "cell_type": "code",
   "execution_count": null,
   "metadata": {},
   "outputs": [],
   "source": []
  },
  {
   "cell_type": "markdown",
   "metadata": {},
   "source": [
    "You have to be careful in working with iteratable objects. Once you iterate over them. They won't return anything else:"
   ]
  },
  {
   "cell_type": "code",
   "execution_count": null,
   "metadata": {},
   "outputs": [],
   "source": []
  },
  {
   "cell_type": "markdown",
   "metadata": {},
   "source": [
    "Note that you can pass more than two sets to itertools.product, and it will compute the Cartesian product of all of them. For instance, the ordered outcomes from flipping a fair coin, rolling a 6-sided die, and then flipping the coin again are"
   ]
  },
  {
   "cell_type": "code",
   "execution_count": null,
   "metadata": {},
   "outputs": [],
   "source": []
  },
  {
   "cell_type": "markdown",
   "metadata": {},
   "source": [
    "The following sets will be useful in answering the questions below:"
   ]
  },
  {
   "cell_type": "code",
   "execution_count": 13,
   "metadata": {},
   "outputs": [
    {
     "name": "stdout",
     "output_type": "stream",
     "text": [
      "['a', 'b', 'c', 'd', 'e', 'f', 'g', 'h', 'i', 'j', 'k', 'l', 'm', 'n', 'o', 'p', 'q', 'r', 's', 't', 'u', 'v', 'w', 'x', 'y', 'z']\n"
     ]
    }
   ],
   "source": [
    "import string\n",
    "alpha=list(string.ascii_lowercase)\n",
    "print(alpha)"
   ]
  },
  {
   "cell_type": "code",
   "execution_count": 14,
   "metadata": {},
   "outputs": [
    {
     "name": "stdout",
     "output_type": "stream",
     "text": [
      "[0, 1, 2, 3, 4, 5, 6, 7, 8, 9]\n"
     ]
    }
   ],
   "source": [
    "digits=list(range(10))\n",
    "print(digits)"
   ]
  },
  {
   "cell_type": "markdown",
   "metadata": {},
   "source": [
    "Answer the following questions and upload your work to Canvas:\n",
    "\n",
    "1. Use itertools to create a list of all the license plates of the form AA NNN, where A denotes an alphabetic character and N denotes a numeric digit? How many are there?\n",
    "1. Use itertools to create a list of all the license plates of the form\n",
    "XXXX, where X can be an alphabetic character **or** a numeric digit. How many are there?\n",
    "1. Use itertools to create a list of all the three-number lock combinations, where the numbers are from 1 to 50 and **can** be repeated. How many are there?"
   ]
  },
  {
   "cell_type": "code",
   "execution_count": null,
   "metadata": {},
   "outputs": [],
   "source": []
  },
  {
   "cell_type": "code",
   "execution_count": null,
   "metadata": {},
   "outputs": [],
   "source": []
  },
  {
   "cell_type": "code",
   "execution_count": null,
   "metadata": {},
   "outputs": [],
   "source": []
  },
  {
   "cell_type": "code",
   "execution_count": null,
   "metadata": {},
   "outputs": [],
   "source": []
  },
  {
   "cell_type": "code",
   "execution_count": null,
   "metadata": {},
   "outputs": [],
   "source": []
  },
  {
   "cell_type": "code",
   "execution_count": null,
   "metadata": {},
   "outputs": [],
   "source": []
  }
 ],
 "metadata": {
  "kernelspec": {
   "display_name": "Python 3",
   "language": "python",
   "name": "python3"
  },
  "language_info": {
   "codemirror_mode": {
    "name": "ipython",
    "version": 3
   },
   "file_extension": ".py",
   "mimetype": "text/x-python",
   "name": "python",
   "nbconvert_exporter": "python",
   "pygments_lexer": "ipython3",
   "version": "3.7.2"
  }
 },
 "nbformat": 4,
 "nbformat_minor": 2
}
