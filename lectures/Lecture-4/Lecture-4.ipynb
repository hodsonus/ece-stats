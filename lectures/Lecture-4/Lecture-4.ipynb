{
 "cells": [
  {
   "cell_type": "markdown",
   "metadata": {},
   "source": [
    "# Lecture 4"
   ]
  },
  {
   "cell_type": "markdown",
   "metadata": {},
   "source": [
    "## Random Experiments and Simulations"
   ]
  },
  {
   "cell_type": "markdown",
   "metadata": {},
   "source": [
    "Consider the following questions:\n",
    "\n",
    "1) If you flip a coin 20 times, how many times do you think it will come up heads?\n",
    "\n",
    "2) If you flip the coin 20 times and it comes up heads 6 times, do you think it is a fair or unfair coin? How confident can you be in your answer?\n",
    "\n",
    "Can you conduct an experiment to answer these questions? \n",
    "\n",
    "What problems may you encounter in conducting this experiment? How can we overcome these problems?"
   ]
  },
  {
   "cell_type": "markdown",
   "metadata": {},
   "source": [
    "1) We expect the answer will be about 10 because the coin will come up heads one-half the time\n",
    "\n",
    "2) We don't know yet how to answer this\n",
    "\n",
    "If we take a fair coin and flip it 20 times and count the number of heads, and then repeat that experiment many times, we can estimate how often 6 or fewer heads occurs. If it occurs very rarely (say, less than 5% of the time, then we can say that the coin is unlikely to be fair)\n",
    "\n",
    "*Here we use 6 or fewer heads because if 5 heads occurs, that is an even  more extreme outcome than 6 heads occuring, and so we want to count up how often we see an outcome as extreme OR MORE as 6 heads occurring*\n",
    "\n",
    "The problem is that we may need to repeat the experiment (of flipping the coin 20 times) many times to accurately estimate how often 6 or fewer heads come up. This may require thousands of coin flips\n",
    "\n",
    "We can overcome this problem by using a computer to flip the coin in a **simulation**. A **computer simulation** is a computer program that models reality and allows us to conduct experiments that:\n",
    "* would require a lot of time to carry out in real life\n",
    "* would require a lot of resources to carry out in real life\n",
    "* would not be possible to repeat in real life (for instance, simulation of the next day's weather or stock market performance)"
   ]
  },
  {
   "cell_type": "markdown",
   "metadata": {},
   "source": [
    "Let's build simulations of our coin flip experiment and learn about some Python libraries"
   ]
  },
  {
   "cell_type": "code",
   "execution_count": 1,
   "metadata": {},
   "outputs": [],
   "source": [
    "import random"
   ]
  },
  {
   "cell_type": "code",
   "execution_count": 2,
   "metadata": {},
   "outputs": [],
   "source": [
    "faces=['H','T'] #sample space"
   ]
  },
  {
   "cell_type": "code",
   "execution_count": 3,
   "metadata": {},
   "outputs": [
    {
     "data": {
      "text/plain": [
       "['H',\n",
       " 'H',\n",
       " 'H',\n",
       " 'H',\n",
       " 'T',\n",
       " 'T',\n",
       " 'T',\n",
       " 'H',\n",
       " 'H',\n",
       " 'T',\n",
       " 'T',\n",
       " 'T',\n",
       " 'T',\n",
       " 'T',\n",
       " 'H',\n",
       " 'T',\n",
       " 'H',\n",
       " 'T',\n",
       " 'H',\n",
       " 'H']"
      ]
     },
     "execution_count": 3,
     "metadata": {},
     "output_type": "execute_result"
    }
   ],
   "source": [
    "random.choices(faces,k=20)"
   ]
  },
  {
   "cell_type": "code",
   "execution_count": 4,
   "metadata": {},
   "outputs": [],
   "source": [
    "?random.choices"
   ]
  },
  {
   "cell_type": "code",
   "execution_count": 5,
   "metadata": {},
   "outputs": [],
   "source": [
    "coins=random.choices(faces,k=20)"
   ]
  },
  {
   "cell_type": "code",
   "execution_count": 6,
   "metadata": {},
   "outputs": [
    {
     "data": {
      "text/plain": [
       "13"
      ]
     },
     "execution_count": 6,
     "metadata": {},
     "output_type": "execute_result"
    }
   ],
   "source": [
    "coins.count('H')"
   ]
  },
  {
   "cell_type": "code",
   "execution_count": 7,
   "metadata": {},
   "outputs": [
    {
     "name": "stdout",
     "output_type": "stream",
     "text": [
      "9\n",
      "9\n",
      "8\n",
      "12\n",
      "9\n",
      "17\n",
      "7\n",
      "10\n",
      "9\n",
      "12\n",
      "7\n",
      "11\n",
      "11\n",
      "10\n",
      "9\n",
      "11\n",
      "9\n",
      "8\n",
      "9\n",
      "11\n"
     ]
    }
   ],
   "source": [
    "num_sims = 20\n",
    "flips = 20\n",
    "for sim in range(num_sims):\n",
    "    coins=random.choices(faces,k=flips)\n",
    "    print(coins.count('H'))"
   ]
  },
  {
   "cell_type": "markdown",
   "metadata": {},
   "source": [
    "Suppose we want to see how often 6 or fewer heads occurs. We can reduce the printing by only printing those extreme events:"
   ]
  },
  {
   "cell_type": "code",
   "execution_count": 8,
   "metadata": {},
   "outputs": [
    {
     "name": "stdout",
     "output_type": "stream",
     "text": [
      "6 : 5 Heads\n",
      "9 : 5 Heads\n",
      "15 : 5 Heads\n",
      "28 : 6 Heads\n",
      "60 : 5 Heads\n",
      "63 : 4 Heads\n",
      "77 : 5 Heads\n",
      "125 : 5 Heads\n",
      "153 : 6 Heads\n",
      "172 : 5 Heads\n",
      "183 : 6 Heads\n",
      "201 : 5 Heads\n",
      "213 : 5 Heads\n",
      "240 : 6 Heads\n",
      "241 : 6 Heads\n",
      "242 : 6 Heads\n",
      "267 : 6 Heads\n",
      "279 : 6 Heads\n",
      "304 : 5 Heads\n",
      "322 : 6 Heads\n",
      "326 : 6 Heads\n",
      "364 : 5 Heads\n",
      "375 : 6 Heads\n",
      "386 : 4 Heads\n",
      "394 : 5 Heads\n",
      "395 : 5 Heads\n",
      "446 : 6 Heads\n",
      "450 : 6 Heads\n",
      "465 : 4 Heads\n",
      "469 : 6 Heads\n",
      "506 : 6 Heads\n",
      "524 : 4 Heads\n",
      "572 : 6 Heads\n",
      "574 : 6 Heads\n",
      "597 : 6 Heads\n",
      "610 : 6 Heads\n",
      "628 : 6 Heads\n",
      "629 : 6 Heads\n",
      "659 : 4 Heads\n",
      "703 : 6 Heads\n",
      "706 : 6 Heads\n",
      "713 : 6 Heads\n",
      "721 : 6 Heads\n",
      "746 : 6 Heads\n",
      "765 : 6 Heads\n",
      "776 : 5 Heads\n",
      "783 : 6 Heads\n",
      "786 : 6 Heads\n",
      "805 : 5 Heads\n",
      "814 : 6 Heads\n",
      "826 : 6 Heads\n",
      "890 : 6 Heads\n",
      "903 : 5 Heads\n",
      "930 : 6 Heads\n",
      "963 : 6 Heads\n",
      "976 : 6 Heads\n",
      "984 : 6 Heads\n"
     ]
    }
   ],
   "source": [
    "num_sims = 1000\n",
    "flips = 20\n",
    "for sim in range(num_sims):\n",
    "    coins=random.choices(faces,k=flips)\n",
    "    num_heads = coins.count('H')\n",
    "    if num_heads <= 6:\n",
    "        print(sim,':',num_heads,\"Heads\")"
   ]
  },
  {
   "cell_type": "markdown",
   "metadata": {},
   "source": [
    "We really don't care about the particular experiment on which those events occur. Instead, we are really just looking at how often these events occur. Let's add a counter to our simulation:"
   ]
  },
  {
   "cell_type": "code",
   "execution_count": 9,
   "metadata": {},
   "outputs": [
    {
     "name": "stdout",
     "output_type": "stream",
     "text": [
      "0 : 0\n",
      "1 : 16\n",
      "2 : 200\n",
      "3 : 1076\n",
      "4 : 4501\n",
      "5 : 14799\n",
      "6 : 37163\n",
      "7 : 73491\n",
      "8 : 120089\n",
      "9 : 159523\n",
      "10 : 176558\n",
      "11 : 160181\n",
      "12 : 120596\n",
      "13 : 74045\n",
      "14 : 37274\n",
      "15 : 14589\n",
      "16 : 4598\n",
      "17 : 1088\n",
      "18 : 195\n",
      "19 : 18\n",
      "20 : 0\n"
     ]
    }
   ],
   "source": [
    "num_sims = 1000000\n",
    "flips = 20\n",
    "\n",
    "counts = [0]*21\n",
    "for sim in range(num_sims):\n",
    "    coins=random.choices(faces,k=flips)\n",
    "    num_heads = coins.count('H')\n",
    "    counts[num_heads]+=1\n",
    "    \n",
    "for num_heads in range(21):\n",
    "        print(num_heads,':',counts[num_heads])"
   ]
  },
  {
   "cell_type": "markdown",
   "metadata": {},
   "source": [
    "Let's visualize this data using a bar graph:"
   ]
  },
  {
   "cell_type": "code",
   "execution_count": 10,
   "metadata": {},
   "outputs": [],
   "source": [
    "import matplotlib.pyplot as plt\n",
    "%matplotlib inline"
   ]
  },
  {
   "cell_type": "code",
   "execution_count": 11,
   "metadata": {},
   "outputs": [
    {
     "data": {
      "image/png": "[encoded data removed]",
      "text/plain": [
       "<Figure size 432x288 with 1 Axes>"
      ]
     },
     "metadata": {
      "needs_background": "light"
     },
     "output_type": "display_data"
    }
   ],
   "source": [
    "num_sims = 10000\n",
    "flips = 20\n",
    "\n",
    "counts = [0]*21\n",
    "for sim in range(num_sims):\n",
    "    coins=random.choices(faces,k=flips)\n",
    "    num_heads = coins.count('H')\n",
    "    counts[num_heads]+=1\n",
    "    \n",
    "plt.bar(range(21),counts);"
   ]
  },
  {
   "cell_type": "code",
   "execution_count": 12,
   "metadata": {},
   "outputs": [
    {
     "data": {
      "text/plain": [
       "1.0"
      ]
     },
     "execution_count": 12,
     "metadata": {},
     "output_type": "execute_result"
    }
   ],
   "source": [
    "#easiest way -- convert to numpy array\n",
    "import numpy as np\n",
    "np.sum(np.array(counts)/num_sims)"
   ]
  },
  {
   "cell_type": "code",
   "execution_count": 13,
   "metadata": {},
   "outputs": [
    {
     "data": {
      "image/png": "[encoded data removed]",
      "text/plain": [
       "<Figure size 432x288 with 1 Axes>"
      ]
     },
     "metadata": {
      "needs_background": "light"
     },
     "output_type": "display_data"
    }
   ],
   "source": [
    "num_sims = 10000\n",
    "flips = 20\n",
    "\n",
    "counts = [0]*21\n",
    "for sim in range(num_sims):\n",
    "    coins=random.choices(faces,k=flips)\n",
    "    num_heads = coins.count('H')\n",
    "    counts[num_heads]+=1\n",
    "    \n",
    "plt.bar(range(21),np.array(counts)/num_sims);"
   ]
  },
  {
   "cell_type": "markdown",
   "metadata": {},
   "source": [
    "The values don't change much once the number of simulations gets large."
   ]
  },
  {
   "cell_type": "markdown",
   "metadata": {},
   "source": [
    "**Definition** The **relative frequency** of an event is the number of times that an event occurs divided by the number of times the experiment is conducted. "
   ]
  },
  {
   "cell_type": "markdown",
   "metadata": {},
   "source": [
    "Let $N$ denote the number of experiments, and $K$ denote the number of possible outcomes. \n",
    "\n",
    "Let $a_i$ denote the number of times the $i$th outcome is observed.\n",
    "\n",
    "Then \n",
    "$$ \\sum_{i=1}^{K} a_i =N $$\n",
    "\n",
    "Let $r_i$ denote the relative frequency of outcome $i$. Then\n",
    "\\begin{align} \\sum_{i=1}^{K} r_i &= \\sum_{i=1}^{K}\n",
    "\\frac{a_i}{N} \\\\\n",
    "&= \\frac{1}{N} \\sum_{i=1}^{K} a_i \\\\\n",
    "&=\\frac{1}{N} N = 1\n",
    "\\end{align}\n",
    "\n"
   ]
  },
  {
   "cell_type": "code",
   "execution_count": 14,
   "metadata": {},
   "outputs": [],
   "source": [
    "num_sims = 1000000\n",
    "flips = 20\n",
    "\n",
    "results = []\n",
    "for sim in range(num_sims):\n",
    "    coins=random.choices(faces,k=flips)\n",
    "    num_heads = coins.count('H')\n",
    "    results+=[num_heads]"
   ]
  },
  {
   "cell_type": "code",
   "execution_count": 15,
   "metadata": {},
   "outputs": [
    {
     "data": {
      "text/plain": [
       "(array([ 0,  1,  2,  3,  4,  5,  6,  7,  8,  9, 10, 11, 12, 13, 14, 15, 16,\n",
       "        17, 18, 19]),\n",
       " array([     1,     13,    214,   1066,   4685,  14896,  37117,  73815,\n",
       "        120036, 159616, 176254, 160362, 120226,  73850,  37168,  14841,\n",
       "          4573,   1096,    152,     19]))"
      ]
     },
     "execution_count": 15,
     "metadata": {},
     "output_type": "execute_result"
    }
   ],
   "source": [
    "np.unique(results, return_counts=True)"
   ]
  },
  {
   "cell_type": "code",
   "execution_count": 16,
   "metadata": {},
   "outputs": [],
   "source": [
    "vals,counts=np.unique(results,return_counts=True)"
   ]
  },
  {
   "cell_type": "code",
   "execution_count": 17,
   "metadata": {},
   "outputs": [
    {
     "data": {
      "text/plain": [
       "array([     1,     13,    214,   1066,   4685,  14896,  37117,  73815,\n",
       "       120036, 159616, 176254, 160362, 120226,  73850,  37168,  14841,\n",
       "         4573,   1096,    152,     19])"
      ]
     },
     "execution_count": 17,
     "metadata": {},
     "output_type": "execute_result"
    }
   ],
   "source": [
    "vals\n",
    "counts"
   ]
  },
  {
   "cell_type": "code",
   "execution_count": 18,
   "metadata": {},
   "outputs": [
    {
     "data": {
      "text/plain": [
       "<BarContainer object of 20 artists>"
      ]
     },
     "execution_count": 18,
     "metadata": {},
     "output_type": "execute_result"
    },
    {
     "data": {
      "image/png": "[encoded data removed]",
      "text/plain": [
       "<Figure size 432x288 with 1 Axes>"
      ]
     },
     "metadata": {
      "needs_background": "light"
     },
     "output_type": "display_data"
    }
   ],
   "source": [
    "plt.bar(vals,counts)"
   ]
  },
  {
   "cell_type": "code",
   "execution_count": 19,
   "metadata": {},
   "outputs": [
    {
     "data": {
      "text/plain": [
       "<BarContainer object of 20 artists>"
      ]
     },
     "execution_count": 19,
     "metadata": {},
     "output_type": "execute_result"
    },
    {
     "data": {
      "image/png": "[encoded data removed]",
      "text/plain": [
       "<Figure size 432x288 with 1 Axes>"
      ]
     },
     "metadata": {
      "needs_background": "light"
     },
     "output_type": "display_data"
    }
   ],
   "source": [
    "plt.bar(vals,counts/num_sims)"
   ]
  },
  {
   "cell_type": "markdown",
   "metadata": {},
   "source": [
    "We still haven't answered our question about whether the coin is fair. Often in simulation, we don't care about determinging the relative frequencies for all the outcomes. We only care about determining the probability of some event. Let's modify the experiment to calculate the relative frequency of getting 6 or fewer heads on 20 flips of a fair coin:"
   ]
  },
  {
   "cell_type": "code",
   "execution_count": 26,
   "metadata": {},
   "outputs": [
    {
     "name": "stdout",
     "output_type": "stream",
     "text": [
      "Relative frequency of 3 or fewer heads is -  0.001291\n"
     ]
    }
   ],
   "source": [
    "num_sims = 1000000\n",
    "flips = 20\n",
    "\n",
    "event_count=0\n",
    "for sim in range(num_sims):\n",
    "    coins=random.choices(faces,k=flips)\n",
    "    num_heads = coins.count('H')\n",
    "    if num_heads <= 3:\n",
    "        event_count+=1\n",
    "        \n",
    "print(\"Relative frequency of 3 or fewer heads is - \", event_count/num_sims)"
   ]
  },
  {
   "cell_type": "markdown",
   "metadata": {},
   "source": [
    "* How does the relative frequency change with the number of experiments simulated?\n",
    "\n",
    "* For 1M simulated experiments, what is the relative frequency of 6 or fewer heads?\n",
    "\n",
    "* What is your conclusion about whether this could be a fair coin?"
   ]
  },
  {
   "cell_type": "markdown",
   "metadata": {},
   "source": [
    "* For 1M simulated experiments, what is the relative frequency of 4 or fewer heads?"
   ]
  },
  {
   "cell_type": "markdown",
   "metadata": {},
   "source": [
    "This is an example of **binary hypothesis testing**. In this case, we set up two hypothesis:\n",
    "\n",
    "$H_0$: (the *null hypothesis*) is that the observed effect is just caused by randomness in the sampling. It is not real in the underlying system or data. For this exampe, our null hypothesis is that the coin is actually fair\n",
    "\n",
    "$H_1$: (the *alternative hypothesis*) is that the observed effect is not just caused by random sampling. In this example, the coin is biased toward Tails.\n",
    "\n",
    "In classical statistics/hypothesis testing, we say that an effect is statistically significant if the probability of observing an effect of that size under the null hypothesis is smaller than some small value $p$. Typical values of $p$ are 0.05 or 0.01, but many argue for even smaller values now. **The threshold to determine statistical significance must always be determined before the experiment is conducted -- otherwise, there is too much temptation to adjust the threshold based on the observed $p$-value.**\n",
    "\n",
    "In classical hypothesis testing, we do *not* test the alternative hypothesis directly, nor can we utilize side information that we may already have about the two hypotheses"
   ]
  },
  {
   "cell_type": "markdown",
   "metadata": {},
   "source": [
    "**Definition** The **probability** of an event is a number between 0 and 1 that quantifies how likely that event is to occur. An event that cannot occur has probability 0, and an event that is sure to occur has probability 1. The probabilities of the outcomes sum to 1."
   ]
  },
  {
   "cell_type": "markdown",
   "metadata": {},
   "source": [
    "**Definition** We say an experiment is **fair** if every outcome is equally likely."
   ]
  },
  {
   "cell_type": "markdown",
   "metadata": {},
   "source": [
    "Consider a fair experiment with $N$ outcomes, and let $p_i$ denote the probability of outcome $i$, then\n",
    "\n",
    "$$\n",
    "\\sum_{i=1}^{N} p_i = 1 \\\\\n",
    "\\sum_{i=1}^{N} p_1 = 1 \\\\\n",
    "Np_1=1\\\\\n",
    "p_1 = \\frac 1 N\\\\\n",
    "p_i = \\frac 1 N\\\\\n",
    "$$"
   ]
  },
  {
   "cell_type": "markdown",
   "metadata": {},
   "source": [
    "So, for instance, the probability of getting any number on a fair die is 1/6. Let's compare these to the relative frequencies:"
   ]
  }
 ],
 "metadata": {
  "kernelspec": {
   "display_name": "Python 3",
   "language": "python",
   "name": "python3"
  },
  "language_info": {
   "codemirror_mode": {
    "name": "ipython",
    "version": 3
   },
   "file_extension": ".py",
   "mimetype": "text/x-python",
   "name": "python",
   "nbconvert_exporter": "python",
   "pygments_lexer": "ipython3",
   "version": "3.7.2"
  }
 },
 "nbformat": 4,
 "nbformat_minor": 2
}
