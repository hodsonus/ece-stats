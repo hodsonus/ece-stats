{
 "cells": [
  {
   "cell_type": "markdown",
   "metadata": {
    "slideshow": {
     "slide_type": "slide"
    }
   },
   "source": [
    "# Lecture 6\n",
    "\n",
    "## Basic Combinatorics"
   ]
  },
  {
   "cell_type": "code",
   "execution_count": 1,
   "metadata": {
    "slideshow": {
     "slide_type": "slide"
    }
   },
   "outputs": [],
   "source": [
    "import numpy as np\n",
    "import numpy.random as npr\n",
    "import matplotlib.pyplot as plt\n",
    "import scipy\n",
    "%matplotlib inline"
   ]
  },
  {
   "cell_type": "markdown",
   "metadata": {
    "slideshow": {
     "slide_type": "slide"
    }
   },
   "source": [
    "Consider again our experiment where we flip a coin 20 times:"
   ]
  },
  {
   "cell_type": "code",
   "execution_count": 2,
   "metadata": {
    "slideshow": {
     "slide_type": "fragment"
    }
   },
   "outputs": [],
   "source": [
    "def coinsim2(num_sims=1000000, flips=20, threshold=6):\n",
    "\n",
    "    results=npr.randint(2,size=(num_sims,flips))\n",
    "    num_heads=np.sum(results,axis=1)\n",
    "\n",
    "    vals,counts=np.unique(num_heads,return_counts=True)\n",
    "    plt.bar(vals,counts/num_sims)\n",
    "    for i in range(len(vals)):\n",
    "\n",
    "        print(vals[i],counts[i]/num_sims)"
   ]
  },
  {
   "cell_type": "code",
   "execution_count": 3,
   "metadata": {
    "slideshow": {
     "slide_type": "subslide"
    }
   },
   "outputs": [
    {
     "name": "stdout",
     "output_type": "stream",
     "text": [
      "0 1e-06\n",
      "1 1.6e-05\n",
      "2 0.00016\n",
      "3 0.001084\n",
      "4 0.004566\n",
      "5 0.014776\n",
      "6 0.036836\n",
      "7 0.073681\n",
      "8 0.120295\n",
      "9 0.160882\n",
      "10 0.176037\n",
      "11 0.159771\n",
      "12 0.119999\n",
      "13 0.073973\n",
      "14 0.037128\n",
      "15 0.014865\n",
      "16 0.004673\n",
      "17 0.001064\n",
      "18 0.000176\n",
      "19 1.7e-05\n"
     ]
    },
    {
     "data": {
      "image/png": "[encoded data removed]",
      "text/plain": [
       "<Figure size 432x288 with 1 Axes>"
      ]
     },
     "metadata": {
      "needs_background": "light"
     },
     "output_type": "display_data"
    }
   ],
   "source": [
    "coinsim2()"
   ]
  },
  {
   "cell_type": "markdown",
   "metadata": {
    "slideshow": {
     "slide_type": "slide"
    }
   },
   "source": [
    "This is an example of a **combined experiment**. \n",
    "\n",
    "**Definition** A **combined experiment** or **sequential experiment** is an experiment that consists of a sequence of subexperiments. When ordered, the subexperiments may depend on the outcome of previous subexperiments."
   ]
  },
  {
   "cell_type": "markdown",
   "metadata": {
    "slideshow": {
     "slide_type": "subslide"
    }
   },
   "source": [
    "How can we determine the observed relative frequencies analytically for this combined experiment? Let's put together what we know so far:\n",
    "\n",
    "1. The experiment of flipping a fair coin is a fair experiment with 2 outcomes:\n",
    "$$S= \\{H,T\\}$$\n",
    "Let $P(H)$ and $P(T)$ denote the probability of getting heads and tails, respectively. Then\n",
    "$$P(H)=P(T)= \\frac{1}{|S|}=\\frac 1 2$$\n",
    "2. The combined experiment of flipping a fair coin 20 times has the sample space \n",
    "$$S_C=\\{H,T\\} \\times \\{H,T\\} \\times \\ldots \\times \\{H,T\\}~~~~\\mbox{(Cartesian product of 20 sets)}$$"
   ]
  },
  {
   "cell_type": "markdown",
   "metadata": {
    "slideshow": {
     "slide_type": "subslide"
    }
   },
   "source": [
    "We will need some more knowledge to calculate the probabilities shown above. First:\n",
    "\n",
    "**For a combined experiment, if all of the subexperiments have equally likely outcomes, then the outcomes of the combined experiment (meaning the members of $S_C$ above) are also equally likely.**"
   ]
  },
  {
   "cell_type": "markdown",
   "metadata": {
    "slideshow": {
     "slide_type": "subslide"
    }
   },
   "source": [
    "How does this relate to what we observed? The number of heads is not an outcome of the combined experiment. "
   ]
  },
  {
   "cell_type": "markdown",
   "metadata": {
    "slideshow": {
     "slide_type": "fragment"
    }
   },
   "source": [
    "An outcome of the combined experiment is a sequence of 20 heads and tails values; for instance, $(H,T,T,H,H,H,T,H,T,H,H,T,T,T,T,H,H,T,H,H)~$ is an outcome of the combined experiment."
   ]
  },
  {
   "cell_type": "markdown",
   "metadata": {
    "slideshow": {
     "slide_type": "subslide"
    }
   },
   "source": [
    "Enumerating all the outcomes of the combined experiment would be **painful**. Instead let's start by counting the number of outcomes. "
   ]
  },
  {
   "cell_type": "markdown",
   "metadata": {
    "slideshow": {
     "slide_type": "subslide"
    }
   },
   "source": [
    "Each outcome is a 20-tuple, and each element of the 20-tuple may take 1 of 2 values. Thus, the number of outcomes is\n",
    "$$\n",
    "\\left|S_C\\right| =\n",
    "$$\n"
   ]
  },
  {
   "cell_type": "code",
   "execution_count": 4,
   "metadata": {},
   "outputs": [
    {
     "data": {
      "text/plain": [
       "1048576"
      ]
     },
     "execution_count": 4,
     "metadata": {},
     "output_type": "execute_result"
    }
   ],
   "source": [
    "2**20"
   ]
  },
  {
   "cell_type": "markdown",
   "metadata": {
    "slideshow": {
     "slide_type": "fragment"
    }
   },
   "source": [
    "Thus, the probability of any particular outcome $s \\in S_C$ is\n",
    "$$\n",
    "P(s) = \\frac{1}{\\left|S_C \\right|} =\n",
    "$$"
   ]
  },
  {
   "cell_type": "code",
   "execution_count": 5,
   "metadata": {},
   "outputs": [
    {
     "data": {
      "text/plain": [
       "9.5367431640625e-07"
      ]
     },
     "execution_count": 5,
     "metadata": {},
     "output_type": "execute_result"
    }
   ],
   "source": [
    "1/2**20"
   ]
  },
  {
   "cell_type": "markdown",
   "metadata": {
    "slideshow": {
     "slide_type": "slide"
    }
   },
   "source": [
    "## Sampling with Replacement and with Ordering\n",
    "\n",
    "This is an example of **Sampling with Replacement and with Ordering**. We are choosing 20 ordered values from the set $\\{H,T\\}$, and after we choose a value, that value still remains in the set."
   ]
  },
  {
   "cell_type": "markdown",
   "metadata": {
    "slideshow": {
     "slide_type": "subslide"
    }
   },
   "source": [
    "Consider choosing $k$ values from a set of $n$ values. The result is a $k$-tuple: $(x_1, x_2, \\ldots, x_k)$, \n",
    "where $x_i \\in A, \\forall i=1,2,\\ldots, k$. \n",
    "\n",
    "Thus, this is a combined experiment with $|S_1|=|S_2|=\\ldots=|S_k|=|A|\\equiv n$.\\\\\n",
    "\n",
    "\n",
    "$\\Rightarrow$ number of distinct ordered $k$-tuples is \n",
    "$n^k$\n"
   ]
  },
  {
   "cell_type": "markdown",
   "metadata": {
    "slideshow": {
     "slide_type": "subslide"
    }
   },
   "source": [
    "Getting a certain number of Heads in the combined experiment is an **event** because in general it maps to multiple outcomes. For instance, the event that we get exactly one Head on 20 flips consists of these outcomes: "
   ]
  },
  {
   "cell_type": "code",
   "execution_count": 6,
   "metadata": {
    "slideshow": {
     "slide_type": "subslide"
    }
   },
   "outputs": [
    {
     "name": "stdout",
     "output_type": "stream",
     "text": [
      "{\n",
      "(H,T,T,T,T,T,T,T,T,T,T,T,T,T,T,T,T,T,T,T),\n",
      "(T,H,T,T,T,T,T,T,T,T,T,T,T,T,T,T,T,T,T,T),\n",
      "(T,T,H,T,T,T,T,T,T,T,T,T,T,T,T,T,T,T,T,T),\n",
      "(T,T,T,H,T,T,T,T,T,T,T,T,T,T,T,T,T,T,T,T),\n",
      "(T,T,T,T,H,T,T,T,T,T,T,T,T,T,T,T,T,T,T,T),\n",
      "(T,T,T,T,T,H,T,T,T,T,T,T,T,T,T,T,T,T,T,T),\n",
      "(T,T,T,T,T,T,H,T,T,T,T,T,T,T,T,T,T,T,T,T),\n",
      "(T,T,T,T,T,T,T,H,T,T,T,T,T,T,T,T,T,T,T,T),\n",
      "(T,T,T,T,T,T,T,T,H,T,T,T,T,T,T,T,T,T,T,T),\n",
      "(T,T,T,T,T,T,T,T,T,H,T,T,T,T,T,T,T,T,T,T),\n",
      "(T,T,T,T,T,T,T,T,T,T,H,T,T,T,T,T,T,T,T,T),\n",
      "(T,T,T,T,T,T,T,T,T,T,T,H,T,T,T,T,T,T,T,T),\n",
      "(T,T,T,T,T,T,T,T,T,T,T,T,H,T,T,T,T,T,T,T),\n",
      "(T,T,T,T,T,T,T,T,T,T,T,T,T,H,T,T,T,T,T,T),\n",
      "(T,T,T,T,T,T,T,T,T,T,T,T,T,T,H,T,T,T,T,T),\n",
      "(T,T,T,T,T,T,T,T,T,T,T,T,T,T,T,H,T,T,T,T),\n",
      "(T,T,T,T,T,T,T,T,T,T,T,T,T,T,T,T,H,T,T,T),\n",
      "(T,T,T,T,T,T,T,T,T,T,T,T,T,T,T,T,T,H,T,T),\n",
      "(T,T,T,T,T,T,T,T,T,T,T,T,T,T,T,T,T,T,H,T),\n",
      "(T,T,T,T,T,T,T,T,T,T,T,T,T,T,T,T,T,T,T,H),\n",
      "}\n"
     ]
    }
   ],
   "source": [
    "print(\"{\")\n",
    "for i in range(20):\n",
    "    print(\"(\",end=\"\")\n",
    "    for j in range(20):\n",
    "        if j==i:\n",
    "            print(\"H\",end=\"\")\n",
    "        else:\n",
    "            print(\"T\",end=\"\")\n",
    "        if j!=19:\n",
    "            print(\",\",end=\"\")\n",
    "    print(\"),\")\n",
    "print(\"}\")            "
   ]
  },
  {
   "cell_type": "markdown",
   "metadata": {
    "slideshow": {
     "slide_type": "subslide"
    }
   },
   "source": [
    "One of the first things we often do in working with probabilities is introduce notation to keep our work from getting too messy.\n",
    "\n",
    "Let $H_i$ be the event that $i$ heads occur on 20 flips of a fair coin."
   ]
  },
  {
   "cell_type": "markdown",
   "metadata": {
    "slideshow": {
     "slide_type": "fragment"
    }
   },
   "source": [
    "Thus, there are 20 outcomes in the event $H_1$. Since this is a fair experiment,\n",
    "$$\n",
    "P(H_1) = \\frac{20}{1048576} \\approx 2 \\times 10^{-5}\n",
    "$$"
   ]
  },
  {
   "cell_type": "markdown",
   "metadata": {},
   "source": [
    "There are also 20 outcomes for the event \"number of Tails = 1\", which is the same as $H_{19}$, so \n",
    "$$\n",
    "P(H_{19}) = \\frac{20}{1048576} \\approx 2 \\times 10^{-5}\n",
    "$$"
   ]
  },
  {
   "cell_type": "markdown",
   "metadata": {
    "slideshow": {
     "slide_type": "subslide"
    }
   },
   "source": [
    "It is also easy to see that there is 1 outcome for the event $H_0$ and 1 outcome for the event $H_{20}$, so\n",
    "$$\n",
    "P(H_0) = P(H_{20}) = \\frac{1}{1048576} \\approx 1 \\times 10^{-6}\n",
    "$$"
   ]
  },
  {
   "cell_type": "markdown",
   "metadata": {
    "slideshow": {
     "slide_type": "subslide"
    }
   },
   "source": [
    "Although we could generalize the code above to enumerate other events, it would require recursion to keep the code clean, and the number of outcomes would quickly get large. "
   ]
  },
  {
   "cell_type": "markdown",
   "metadata": {
    "slideshow": {
     "slide_type": "fragment"
    }
   },
   "source": [
    "Instead, we want to learn how to **count** the number of outcomes in the events without having to enumerate them"
   ]
  },
  {
   "cell_type": "markdown",
   "metadata": {
    "slideshow": {
     "slide_type": "subslide"
    }
   },
   "source": [
    "Consider the problem of counting the number of outcomes in the event $H_2$"
   ]
  },
  {
   "cell_type": "markdown",
   "metadata": {
    "slideshow": {
     "slide_type": "fragment"
    }
   },
   "source": [
    "An outcome in $H_2$ looks like \n",
    "$$\n",
    "(T,T,T,T,T,T,T,H,T,T,T,T,T,T,H,T,T,T,T,T)\n",
    "$$"
   ]
  },
  {
   "cell_type": "markdown",
   "metadata": {
    "slideshow": {
     "slide_type": "fragment"
    }
   },
   "source": [
    "Note that we can express this in compressed notation by just recording where the 2 Heads are: (7,14)\n",
    "\n",
    "(Equivalently, we could specify where the 18 Tails are)"
   ]
  },
  {
   "cell_type": "markdown",
   "metadata": {
    "slideshow": {
     "slide_type": "subslide"
    }
   },
   "source": [
    "So, determining the number of ways there are to have 2 heads out of 20 is  the same as determining the number of ways there are to specify a 2-tuple  $(h_1,h_2)$ such that:\n",
    "* $h_i \\in \\{0,1,\\ldots 19\\}$\n",
    "\n",
    "* $h_1 \\ne h_2$\n",
    "\n",
    "(This is actually not quite enough restrictions, but let's start counting here):\n",
    "\n",
    "\n"
   ]
  },
  {
   "cell_type": "markdown",
   "metadata": {
    "slideshow": {
     "slide_type": "fragment"
    }
   },
   "source": [
    "How many ways are there to choose $(h_1,h_2)$ according to the restrictions above?"
   ]
  },
  {
   "cell_type": "markdown",
   "metadata": {
    "slideshow": {
     "slide_type": "subslide"
    }
   },
   "source": [
    "Suppose we choose $h_1$ first. It can take on any of 20 values.\n",
    "\n",
    "Then $h_2$ can take on any of the other 19 values\n",
    "\n",
    "So, there are $20 \\cdot 19 =380$ such pairs"
   ]
  },
  {
   "cell_type": "markdown",
   "metadata": {
    "slideshow": {
     "slide_type": "subslide"
    }
   },
   "source": [
    "Why is this not the right number?"
   ]
  },
  {
   "cell_type": "markdown",
   "metadata": {},
   "source": [
    "I chose (14,7), and I also chose (7,14). These are the same thing, and we are counting this as two outcomes when this is really just one outcome."
   ]
  },
  {
   "cell_type": "markdown",
   "metadata": {
    "slideshow": {
     "slide_type": "slide"
    }
   },
   "source": [
    "## Sampling without replacement and with ordering\n",
    "In general, the number of ways to choose $k$ items from $n$ items **without replacement** and **with ordering** is\n",
    "$$\n",
    "n \\cdot (n-1) \\cdot \\ldots \\cdot (n-k+1) = \\frac{n!}{(n-k)!}\n",
    "$$\n",
    "\n",
    "Here, with ordering means that outcomes like $(7,14)$ and $(14,7)$ are both allowed and considered distinct"
   ]
  },
  {
   "cell_type": "markdown",
   "metadata": {
    "slideshow": {
     "slide_type": "subslide"
    }
   },
   "source": [
    "Note that in counting the number of ways that 2 Heads can occur in 20 flips, (7,14) represents the same thing as (14,7). "
   ]
  },
  {
   "cell_type": "markdown",
   "metadata": {
    "slideshow": {
     "slide_type": "fragment"
    }
   },
   "source": [
    "So, if we determine the number of **ordered** ways to choose 2 unique values out of 20, we have **overcounted** by a factor of 2"
   ]
  },
  {
   "cell_type": "markdown",
   "metadata": {
    "slideshow": {
     "slide_type": "fragment"
    }
   },
   "source": [
    "Thus, the correct number of outcomes in $E_2$ is\n",
    "$$\n",
    "\\left|E_2 \\right| = \\frac{20 \\cdot 19}{2} = 190\n",
    "$$\n",
    "Let's check:"
   ]
  },
  {
   "cell_type": "code",
   "execution_count": 7,
   "metadata": {
    "slideshow": {
     "slide_type": "subslide"
    }
   },
   "outputs": [
    {
     "name": "stdout",
     "output_type": "stream",
     "text": [
      "(0,1)  (0,2)  (0,3)  (0,4)  (0,5)  (0,6)  (0,7)  (0,8)  (0,9)  (0,10)  (0,11)  (0,12)  (0,13)  (0,14)  (0,15)  (0,16)  (0,17)  (0,18)  (0,19)  \n",
      "(1,2)  (1,3)  (1,4)  (1,5)  (1,6)  (1,7)  (1,8)  (1,9)  (1,10)  (1,11)  (1,12)  (1,13)  (1,14)  (1,15)  (1,16)  (1,17)  (1,18)  (1,19)  \n",
      "(2,3)  (2,4)  (2,5)  (2,6)  (2,7)  (2,8)  (2,9)  (2,10)  (2,11)  (2,12)  (2,13)  (2,14)  (2,15)  (2,16)  (2,17)  (2,18)  (2,19)  \n",
      "(3,4)  (3,5)  (3,6)  (3,7)  (3,8)  (3,9)  (3,10)  (3,11)  (3,12)  (3,13)  (3,14)  (3,15)  (3,16)  (3,17)  (3,18)  (3,19)  \n",
      "(4,5)  (4,6)  (4,7)  (4,8)  (4,9)  (4,10)  (4,11)  (4,12)  (4,13)  (4,14)  (4,15)  (4,16)  (4,17)  (4,18)  (4,19)  \n",
      "(5,6)  (5,7)  (5,8)  (5,9)  (5,10)  (5,11)  (5,12)  (5,13)  (5,14)  (5,15)  (5,16)  (5,17)  (5,18)  (5,19)  \n",
      "(6,7)  (6,8)  (6,9)  (6,10)  (6,11)  (6,12)  (6,13)  (6,14)  (6,15)  (6,16)  (6,17)  (6,18)  (6,19)  \n",
      "(7,8)  (7,9)  (7,10)  (7,11)  (7,12)  (7,13)  (7,14)  (7,15)  (7,16)  (7,17)  (7,18)  (7,19)  \n",
      "(8,9)  (8,10)  (8,11)  (8,12)  (8,13)  (8,14)  (8,15)  (8,16)  (8,17)  (8,18)  (8,19)  \n",
      "(9,10)  (9,11)  (9,12)  (9,13)  (9,14)  (9,15)  (9,16)  (9,17)  (9,18)  (9,19)  \n",
      "(10,11)  (10,12)  (10,13)  (10,14)  (10,15)  (10,16)  (10,17)  (10,18)  (10,19)  \n",
      "(11,12)  (11,13)  (11,14)  (11,15)  (11,16)  (11,17)  (11,18)  (11,19)  \n",
      "(12,13)  (12,14)  (12,15)  (12,16)  (12,17)  (12,18)  (12,19)  \n",
      "(13,14)  (13,15)  (13,16)  (13,17)  (13,18)  (13,19)  \n",
      "(14,15)  (14,16)  (14,17)  (14,18)  (14,19)  \n",
      "(15,16)  (15,17)  (15,18)  (15,19)  \n",
      "(16,17)  (16,18)  (16,19)  \n",
      "(17,18)  (17,19)  \n",
      "(18,19)  \n",
      "\n",
      "|E2|= 190\n"
     ]
    }
   ],
   "source": [
    "count=0\n",
    "for i in range(20):\n",
    "    for j in range(i+1,20):\n",
    "        print(\"(\",i,\",\",j,\")\",sep=\"\",end=\"  \")\n",
    "        count+=1\n",
    "    print(\"\")\n",
    "print(\"|E2|=\",count)"
   ]
  },
  {
   "cell_type": "markdown",
   "metadata": {
    "slideshow": {
     "slide_type": "subslide"
    }
   },
   "source": [
    "Now, let's try to count $|E_3|$. We know the number of ways to choose 3 **ordered** values from 20 without replacement is\n",
    "$$20 \\cdot 19 \\cdot 18 = $$"
   ]
  },
  {
   "cell_type": "code",
   "execution_count": 8,
   "metadata": {
    "slideshow": {
     "slide_type": "fragment"
    }
   },
   "outputs": [
    {
     "data": {
      "text/plain": [
       "6840"
      ]
     },
     "execution_count": 8,
     "metadata": {},
     "output_type": "execute_result"
    }
   ],
   "source": [
    "20*19*18"
   ]
  },
  {
   "cell_type": "markdown",
   "metadata": {
    "slideshow": {
     "slide_type": "subslide"
    }
   },
   "source": [
    "But how many repeats are there if we want to know the number of unordered sets? Let's consider how many ways we can arrange (1,2,3):\n"
   ]
  },
  {
   "cell_type": "markdown",
   "metadata": {
    "slideshow": {
     "slide_type": "fragment"
    }
   },
   "source": [
    "\n",
    "(1,2,3)\n",
    "(1,3,2)\n",
    "(2,1,3)\n",
    "(2,3,1)\n",
    "(3,1,2)\n",
    "(3,2,1)\n",
    "\n",
    "So, there are 6"
   ]
  },
  {
   "cell_type": "markdown",
   "metadata": {
    "slideshow": {
     "slide_type": "fragment"
    }
   },
   "source": [
    "Note that the number of ways to order 3 things is the same as the number of order ways to choose 3 items from a set of 3"
   ]
  },
  {
   "cell_type": "markdown",
   "metadata": {
    "slideshow": {
     "slide_type": "slide"
    }
   },
   "source": [
    "## Permutations\n",
    "\n",
    "**Definition** The number of *permutations* of $n$ objects is the number of orderings of those $n$ objects, and can be calculated as\n",
    "$$\n",
    "n \\cdot (n-1) \\cdot (n-2) \\cdot \\ldots \\cdot 2 \\cdot 1 \\\\\n",
    "= n!\n",
    "$$\n"
   ]
  },
  {
   "cell_type": "markdown",
   "metadata": {
    "slideshow": {
     "slide_type": "subslide"
    }
   },
   "source": [
    "**PYTHON technique:** To determine $n!$ in Python, use the SciPy library:\\\\\n"
   ]
  },
  {
   "cell_type": "code",
   "execution_count": 15,
   "metadata": {
    "slideshow": {
     "slide_type": "fragment"
    }
   },
   "outputs": [],
   "source": [
    "from scipy.special import factorial"
   ]
  },
  {
   "cell_type": "code",
   "execution_count": 16,
   "metadata": {
    "slideshow": {
     "slide_type": "fragment"
    }
   },
   "outputs": [
    {
     "data": {
      "text/plain": [
       "array(6.)"
      ]
     },
     "execution_count": 16,
     "metadata": {},
     "output_type": "execute_result"
    }
   ],
   "source": [
    "factorial(3)"
   ]
  },
  {
   "cell_type": "code",
   "execution_count": 18,
   "metadata": {
    "slideshow": {
     "slide_type": "fragment"
    }
   },
   "outputs": [
    {
     "data": {
      "text/plain": [
       "6"
      ]
     },
     "execution_count": 18,
     "metadata": {},
     "output_type": "execute_result"
    }
   ],
   "source": [
    "factorial(3,exact=True)"
   ]
  },
  {
   "cell_type": "code",
   "execution_count": 20,
   "metadata": {},
   "outputs": [
    {
     "data": {
      "text/plain": [
       "array(9.33262154e+157)"
      ]
     },
     "execution_count": 20,
     "metadata": {},
     "output_type": "execute_result"
    }
   ],
   "source": [
    "factorial(100)"
   ]
  },
  {
   "cell_type": "markdown",
   "metadata": {
    "slideshow": {
     "slide_type": "slide"
    }
   },
   "source": [
    "Finally, we are ready to determine $|H_3|$, which is $20 \\cdot 19 \\cdot 18$ divided by the number of orderings of 3 items, which is $3!=6$, so\n",
    "\\begin{align*}\n",
    "\\left|H_3\\right| &= \\frac{20!}{(20-3)!}\\frac{1}{3!} \\\\\n",
    "&=\\frac{20 \\cdot 19 \\cdot 18}{6} \n",
    "&= 1140\n",
    "\\end{align*}"
   ]
  },
  {
   "cell_type": "markdown",
   "metadata": {
    "slideshow": {
     "slide_type": "fragment"
    }
   },
   "source": [
    "Moreover, the formula for general $H_k$ follows directly:"
   ]
  },
  {
   "cell_type": "markdown",
   "metadata": {
    "slideshow": {
     "slide_type": "slide"
    }
   },
   "source": [
    "## Sampling without Replacement and without Ordering"
   ]
  },
  {
   "cell_type": "markdown",
   "metadata": {
    "slideshow": {
     "slide_type": "fragment"
    }
   },
   "source": [
    "The number of ways to choose $k$ items from a set of $n$ items without replacement and without ordering is\n",
    "$$\n",
    " \\frac{n!}{(n-k)!k!}\n",
    "$$\n",
    "\n",
    "The value on the RHS of the equation can also be expressed as\n",
    "$$\n",
    "\\binom{n}{k} = C^{n}_{k}\n",
    "$$\n",
    "and is know as the **binomial coefficient**"
   ]
  },
  {
   "cell_type": "markdown",
   "metadata": {
    "slideshow": {
     "slide_type": "subslide"
    }
   },
   "source": [
    "**PYTHON technique** To determine $\\binom{n}{k}$ in Python, you can use the SciPy library:"
   ]
  },
  {
   "cell_type": "code",
   "execution_count": 10,
   "metadata": {
    "slideshow": {
     "slide_type": "fragment"
    }
   },
   "outputs": [],
   "source": [
    "from scipy.special import binom"
   ]
  },
  {
   "cell_type": "code",
   "execution_count": 29,
   "metadata": {
    "slideshow": {
     "slide_type": "fragment"
    }
   },
   "outputs": [
    {
     "data": {
      "text/plain": [
       "1140.0"
      ]
     },
     "execution_count": 29,
     "metadata": {},
     "output_type": "execute_result"
    }
   ],
   "source": [
    "binom(20,3)"
   ]
  },
  {
   "cell_type": "markdown",
   "metadata": {
    "slideshow": {
     "slide_type": "subslide"
    }
   },
   "source": [
    "Thus, the probability of any event $H_k$ is \n",
    "$$\n",
    "P(H_k) = \\frac{|H_k|}{|S_c|} = \\frac{\\binom{20}{k}}{2^{20}}\n",
    "$$"
   ]
  },
  {
   "cell_type": "markdown",
   "metadata": {
    "slideshow": {
     "slide_type": "fragment"
    }
   },
   "source": [
    "Let's put it all together and compare with our simulation:"
   ]
  },
  {
   "cell_type": "code",
   "execution_count": 11,
   "metadata": {
    "slideshow": {
     "slide_type": "slide"
    }
   },
   "outputs": [],
   "source": [
    "def coinsim3(num_sims=1000000, flips=20, threshold=6):\n",
    "\n",
    "    results=npr.randint(2,size=(num_sims,flips))\n",
    "    num_heads=np.sum(results,axis=1)\n",
    "\n",
    "    vals,counts=np.unique(num_heads,return_counts=True)\n",
    "    plt.bar(vals,counts/num_sims,alpha=0.4)\n",
    "    \n",
    "    analytic=[]\n",
    "    for k in range(21):\n",
    "        analytic+=[binom(20,k)/(2**20)]\n",
    "        \n",
    "    plt.stem(range(21),analytic,'g')\n",
    "    for i in range(len(vals)):\n",
    "\n",
    "        print(vals[i],counts[i]/num_sims)"
   ]
  },
  {
   "cell_type": "code",
   "execution_count": 30,
   "metadata": {
    "slideshow": {
     "slide_type": "subslide"
    }
   },
   "outputs": [
    {
     "name": "stdout",
     "output_type": "stream",
     "text": [
      "0 1e-06\n",
      "1 1.8e-05\n",
      "2 0.000162\n",
      "3 0.001091\n",
      "4 0.004805\n",
      "5 0.014913\n",
      "6 0.037149\n",
      "7 0.074103\n",
      "8 0.120343\n",
      "9 0.160937\n",
      "10 0.175785\n",
      "11 0.159242\n",
      "12 0.120047\n",
      "13 0.07402\n",
      "14 0.036661\n",
      "15 0.014813\n",
      "16 0.004639\n",
      "17 0.001073\n",
      "18 0.000178\n",
      "19 1.9e-05\n",
      "20 1e-06\n"
     ]
    },
    {
     "data": {
      "image/png": "[encoded data removed]",
      "text/plain": [
       "<Figure size 432x288 with 1 Axes>"
      ]
     },
     "metadata": {
      "needs_background": "light"
     },
     "output_type": "display_data"
    }
   ],
   "source": [
    "coinsim3()"
   ]
  },
  {
   "cell_type": "markdown",
   "metadata": {},
   "source": [
    "1. First count the number of events in the outcome space\n",
    "2. divide by the total number of things in the sample space"
   ]
  },
  {
   "cell_type": "markdown",
   "metadata": {
    "slideshow": {
     "slide_type": "slide"
    }
   },
   "source": [
    "**In-class Assignment**\n",
    "\n",
    "Poker Dice is played by rolling a fair die 5 times and recording the ordered sequence of results. \n",
    "\n",
    "1) How many different hands are there? Use itertools to count them.\n",
    "\n",
    "2) How many ways are there make the hand \"one pair\", which consists of two dice with the same value and three other dice with 3 other values? (Give an analytical expression in factored form, using binom() or factorial() where necessary)\n",
    "\n",
    "3) What is the probability of getting the hand \"one pair\"? You can use the simulation at the end of this document to compare with your answer. (Give an analytical expression in factored form, using binom() or factorial() where necessary)"
   ]
  },
  {
   "cell_type": "code",
   "execution_count": 13,
   "metadata": {},
   "outputs": [],
   "source": [
    "import itertools"
   ]
  },
  {
   "cell_type": "code",
   "execution_count": 98,
   "metadata": {
    "slideshow": {
     "slide_type": "subslide"
    }
   },
   "outputs": [
    {
     "name": "stdout",
     "output_type": "stream",
     "text": [
      "Prob(one pair)=~ 0.4627871\n"
     ]
    }
   ],
   "source": [
    "num_sims=10000000\n",
    "event_count=0\n",
    "for sim in range(num_sims):\n",
    "    hand=npr.randint(1,7,size=5)\n",
    "#     print(hand)\n",
    "    counts=np.bincount(hand)\n",
    "#     print(counts)\n",
    "    counts=np.sort(counts)\n",
    "#     print(counts)\n",
    "    if counts[-1]==2 and counts[-2]==1:\n",
    "        event_count+=1\n",
    "#         print(\"One pair\")\n",
    "#     print()\n",
    "\n",
    "print(\"Prob(one pair)=~\",event_count/num_sims)\n"
   ]
  },
  {
   "cell_type": "markdown",
   "metadata": {},
   "source": [
    "# 1."
   ]
  },
  {
   "cell_type": "code",
   "execution_count": 160,
   "metadata": {},
   "outputs": [
    {
     "name": "stdout",
     "output_type": "stream",
     "text": [
      "There are exactly 7776 hands.\n"
     ]
    }
   ],
   "source": [
    "E = list(range(1,7))\n",
    "hands = list(itertools.product(E,E,E,E,E))\n",
    "num_hands= len(hands)\n",
    "print('There are exactly', num_hands, 'hands.')"
   ]
  },
  {
   "cell_type": "markdown",
   "metadata": {},
   "source": [
    "# 2."
   ]
  },
  {
   "cell_type": "code",
   "execution_count": 158,
   "metadata": {},
   "outputs": [
    {
     "name": "stdout",
     "output_type": "stream",
     "text": [
      "There are 3600 ways to make the hand \"one pair.\"\n"
     ]
    }
   ],
   "source": [
    "# of 5 dices, select 2 to make a pair (5 choose 2)\n",
    "# then choose which value they will both take on (6 choose 1)\n",
    "# then choose the remaining values that the other die will take on from the remaining 5 values (5 choose 3)\n",
    "# multiply the remaining values for the die by the possible permutations that these can be ordered in\n",
    "one_pair_hands = int(binom(5,2)*binom(6,1)*binom(5,3)*factorial(3))\n",
    "print('There are',one_pair_hands,'ways to make the hand \"one pair.\"')"
   ]
  },
  {
   "cell_type": "markdown",
   "metadata": {},
   "source": [
    "# 3."
   ]
  },
  {
   "cell_type": "code",
   "execution_count": 159,
   "metadata": {},
   "outputs": [
    {
     "name": "stdout",
     "output_type": "stream",
     "text": [
      "The probability of getting the hand \"one pair\" is ~0.463.\n"
     ]
    }
   ],
   "source": [
    "one_pair_prob = round(one_pair_hands/num_hands,3)\n",
    "print('The probability of getting the hand \"one pair\" is ~',one_pair_prob,\".\",sep=\"\")"
   ]
  }
 ],
 "metadata": {
  "celltoolbar": "Slideshow",
  "kernelspec": {
   "display_name": "Python 3",
   "language": "python",
   "name": "python3"
  },
  "language_info": {
   "codemirror_mode": {
    "name": "ipython",
    "version": 3
   },
   "file_extension": ".py",
   "mimetype": "text/x-python",
   "name": "python",
   "nbconvert_exporter": "python",
   "pygments_lexer": "ipython3",
   "version": "3.7.2"
  }
 },
 "nbformat": 4,
 "nbformat_minor": 2
}
