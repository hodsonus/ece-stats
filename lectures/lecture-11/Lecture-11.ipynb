{
 "cells": [
  {
   "cell_type": "code",
   "execution_count": 1,
   "metadata": {},
   "outputs": [],
   "source": [
    "import numpy as np\n",
    "import numpy.random as npr\n",
    "import matplotlib.pyplot as plt\n",
    "%matplotlib inline\n",
    "import pandas as pd"
   ]
  },
  {
   "cell_type": "markdown",
   "metadata": {},
   "source": [
    "**Make sure you have the CSV file wherever you are working on this notebook!**"
   ]
  },
  {
   "cell_type": "markdown",
   "metadata": {},
   "source": [
    "## Effect of 2004 Assault Weapons Ban -- Continued"
   ]
  },
  {
   "cell_type": "code",
   "execution_count": 2,
   "metadata": {},
   "outputs": [],
   "source": [
    "df=pd.read_csv(\"firearms-combined.csv\")"
   ]
  },
  {
   "cell_type": "markdown",
   "metadata": {},
   "source": [
    "# Summary Statistics"
   ]
  },
  {
   "cell_type": "markdown",
   "metadata": {},
   "source": [
    "Both Pandas and Numpy provide methods to calculate the average:"
   ]
  },
  {
   "cell_type": "code",
   "execution_count": 3,
   "metadata": {},
   "outputs": [],
   "source": [
    "rate2005=np.array(df[\"RATE-2005\"])\n",
    "rate2014=np.array(df[\"RATE-2014\"])"
   ]
  },
  {
   "cell_type": "code",
   "execution_count": 4,
   "metadata": {},
   "outputs": [
    {
     "data": {
      "text/plain": [
       "10.809999999999997"
      ]
     },
     "execution_count": 4,
     "metadata": {},
     "output_type": "execute_result"
    }
   ],
   "source": [
    "rate2005.mean()"
   ]
  },
  {
   "cell_type": "code",
   "execution_count": 5,
   "metadata": {},
   "outputs": [
    {
     "data": {
      "text/plain": [
       "11.44"
      ]
     },
     "execution_count": 5,
     "metadata": {},
     "output_type": "execute_result"
    }
   ],
   "source": [
    "np.mean(rate2014)"
   ]
  },
  {
   "cell_type": "code",
   "execution_count": 6,
   "metadata": {},
   "outputs": [
    {
     "data": {
      "text/plain": [
       "0.6300000000000026"
      ]
     },
     "execution_count": 6,
     "metadata": {},
     "output_type": "execute_result"
    }
   ],
   "source": [
    "diff=rate2014.mean()-rate2005.mean()\n",
    "diff"
   ]
  },
  {
   "cell_type": "markdown",
   "metadata": {},
   "source": [
    "How could we conduct an experiment to determine if this difference might caused by sampling?"
   ]
  },
  {
   "cell_type": "markdown",
   "metadata": {},
   "source": [
    "The null hypothesis is that there is no real difference between the two data sets, and any differences are just based on random sampling from the underlying population\n",
    "\n",
    "So, let's assume that the two samples are from the same population. \n",
    "\n",
    "By combining (called **pooling**) the samples, we get a new subset of the original population, if the null hypothesis is true. Morever, any sample from this better represents the original population than either of the samples\n",
    "\n",
    "We can whether the null hypothesis is true by checking how often samples from the pooled data set have a difference in means as large as the one observed "
   ]
  },
  {
   "cell_type": "markdown",
   "metadata": {},
   "source": [
    "**The big question**\n",
    "\n",
    "To sample **with replacement** or **without replacement**"
   ]
  },
  {
   "cell_type": "markdown",
   "metadata": {},
   "source": [
    "Sampling with replacement is called **bootstrapping** and is the most popular resampling technique. It is meant to better emulate independent sampling from the original population\n",
    "\n",
    "Sampling without replacement better emulates permutation tests, where we check every possible reordering of the data into samples. This will be discussed more later\n",
    "\n",
    "Generally, sampling without replacement is more conservative (produces a higher $p$-value) than bootstrapping. Bootstraping is **easy** and **most popular**, and we apply it here:"
   ]
  },
  {
   "cell_type": "markdown",
   "metadata": {},
   "source": [
    "### Bootstrap Model 1"
   ]
  },
  {
   "cell_type": "code",
   "execution_count": 7,
   "metadata": {},
   "outputs": [],
   "source": [
    "pooled=np.concatenate((rate2005,rate2014))"
   ]
  },
  {
   "cell_type": "code",
   "execution_count": 8,
   "metadata": {},
   "outputs": [
    {
     "data": {
      "text/plain": [
       "(array([16. , 17.5, 16.1, 15.7,  9.5, 11.6,  5.3,  8.8, 10. , 12.1,  2.1,\n",
       "        14.1,  8. , 11.2,  6.7,  9.3, 13. , 18.5,  7.8, 11.9,  3.4, 10.8,\n",
       "         7. , 16. , 12.9, 16.9,  7.7, 16.1,  6.6,  5.2, 13.9,  5.3, 12.8,\n",
       "         8.8,  9.6, 13.2, 10.7, 10.8,  3.6, 13.8, 10.2, 16. , 11.1, 10.1,\n",
       "         6.8, 11.5,  8.8, 13.8,  8.5, 13.4, 16.9, 19.2, 13.5, 16.6,  7.4,\n",
       "        12.2,  5. , 11.1, 11.5, 13.7,  2.6, 13.2,  9. , 12.4,  7.5, 11.3,\n",
       "        13.9, 19. ,  9.4,  9. ,  3.2, 11.1,  6.6, 18.3, 15.3, 16.1,  9.5,\n",
       "        14.8,  8.7,  5.3, 16. ,  4.2, 11.8, 12.3, 10.3, 15.7, 11.7, 10.5,\n",
       "         3. , 15.5, 10.3, 15.1, 10.7, 12.3, 10.3, 10.3,  9.7, 14.6,  8.2,\n",
       "        16.2]), 100)"
      ]
     },
     "execution_count": 8,
     "metadata": {},
     "output_type": "execute_result"
    }
   ],
   "source": [
    "pooled,pooled.size"
   ]
  },
  {
   "cell_type": "code",
   "execution_count": 9,
   "metadata": {},
   "outputs": [
    {
     "data": {
      "text/plain": [
       "array([14.1, 12.1, 13.8, 10.7, 14.1,  5. , 12.1, 12.3, 10.3,  5. ,  4.2,\n",
       "       15.7,  2.1, 12.9, 14.8,  8. ,  8. , 11.8,  8.8,  8.5, 10.7,  3. ,\n",
       "        6.6, 10.7,  7.7, 11.5,  8.2, 13.8, 16.1, 10.3, 13.9,  9.5, 10.3,\n",
       "       11.9,  8.8, 13.8, 11.1, 11.7, 18.3,  9. , 10.7,  8. , 12.4, 14.1,\n",
       "       11.1, 11.8, 11.7,  6.6, 14.8, 11.2])"
      ]
     },
     "execution_count": 9,
     "metadata": {},
     "output_type": "execute_result"
    }
   ],
   "source": [
    "npr.choice(pooled,size=50)"
   ]
  },
  {
   "cell_type": "code",
   "execution_count": 10,
   "metadata": {},
   "outputs": [
    {
     "name": "stdout",
     "output_type": "stream",
     "text": [
      "Under the null hypothesis, observe effect this large with prob =~0.452\n"
     ]
    }
   ],
   "source": [
    "num_sims=1000\n",
    "event_count=0\n",
    "for sim in range(num_sims):\n",
    "    sample05 = npr.choice(pooled, size=50)\n",
    "    sample14 = npr.choice(pooled, size=50)\n",
    "    # Bootstrap samples DO NOT have to be the same size\n",
    "    # They should be the sizes of the original sample\n",
    "    mean05 = sample05.mean()\n",
    "    mean14 = sample14.mean()\n",
    "    sample_diff = mean14-mean05\n",
    "    if abs(sample_diff) >= diff:\n",
    "        event_count+=1\n",
    "        \n",
    "print(\"Under the null hypothesis, observe effect this large with prob =~\",event_count/num_sims,sep=\"\")"
   ]
  },
  {
   "cell_type": "markdown",
   "metadata": {},
   "source": [
    "So the data does not support that the observed effect is statistically significant."
   ]
  },
  {
   "cell_type": "markdown",
   "metadata": {},
   "source": [
    "What are some problems with this approach?"
   ]
  },
  {
   "cell_type": "markdown",
   "metadata": {},
   "source": [
    "We treated all the states in the two samples as if they were independent -- but they are measurements on the same states! That violates our assumptions. \n",
    "\n",
    "The states have their own firearms mortality behavior based on other factors (rural/urban, poverty rate, population density, education level, laws, etc.)\n"
   ]
  },
  {
   "cell_type": "markdown",
   "metadata": {},
   "source": [
    "### Bootstrap Model 2\n",
    "\n",
    "<!-- A more reasonable bootstrap approach would be to randomly assign values from 2005 or 2014 for each state and then assess the difference: -->"
   ]
  },
  {
   "cell_type": "markdown",
   "metadata": {},
   "source": [
    "A more reasonable bootstrap approach would be to randomnly assign values from either 2005 or 2014 for each state and then assess the difference."
   ]
  },
  {
   "cell_type": "code",
   "execution_count": 11,
   "metadata": {},
   "outputs": [
    {
     "data": {
      "text/plain": [
       "array([[16. , 17.5, 16.1, 15.7,  9.5, 11.6,  5.3,  8.8, 10. , 12.1,  2.1,\n",
       "        14.1,  8. , 11.2,  6.7,  9.3, 13. , 18.5,  7.8, 11.9,  3.4, 10.8,\n",
       "         7. , 16. , 12.9, 16.9,  7.7, 16.1,  6.6,  5.2, 13.9,  5.3, 12.8,\n",
       "         8.8,  9.6, 13.2, 10.7, 10.8,  3.6, 13.8, 10.2, 16. , 11.1, 10.1,\n",
       "         6.8, 11.5,  8.8, 13.8,  8.5, 13.4],\n",
       "       [16.9, 19.2, 13.5, 16.6,  7.4, 12.2,  5. , 11.1, 11.5, 13.7,  2.6,\n",
       "        13.2,  9. , 12.4,  7.5, 11.3, 13.9, 19. ,  9.4,  9. ,  3.2, 11.1,\n",
       "         6.6, 18.3, 15.3, 16.1,  9.5, 14.8,  8.7,  5.3, 16. ,  4.2, 11.8,\n",
       "        12.3, 10.3, 15.7, 11.7, 10.5,  3. , 15.5, 10.3, 15.1, 10.7, 12.3,\n",
       "        10.3, 10.3,  9.7, 14.6,  8.2, 16.2]])"
      ]
     },
     "execution_count": 11,
     "metadata": {},
     "output_type": "execute_result"
    }
   ],
   "source": [
    "stacked = np.vstack((rate2005,rate2014))\n",
    "stacked"
   ]
  },
  {
   "cell_type": "code",
   "execution_count": 12,
   "metadata": {},
   "outputs": [
    {
     "name": "stdout",
     "output_type": "stream",
     "text": [
      "Under the null hypothesis, observe effect this large with prob =~4.2e-05\n"
     ]
    }
   ],
   "source": [
    "num_sims=500000\n",
    "event_count=0\n",
    "bs_stats = []\n",
    "for sim in range(num_sims):\n",
    "    sample05 = stacked[npr.randint(2,size=50),range(50)]\n",
    "    sample14 = stacked[npr.randint(2,size=50),range(50)]\n",
    "    # Bootstrap samples DO NOT have to be the same size\n",
    "    # They should be the sizes of the original sample\n",
    "    mean05 = sample05.mean()\n",
    "    mean14 = sample14.mean()\n",
    "    sample_diff = mean14-mean05\n",
    "    bs_stats+=[sample_diff]\n",
    "    if abs(sample_diff) >= diff:\n",
    "        event_count+=1\n",
    "        \n",
    "print(\"Under the null hypothesis, observe effect this large with prob =~\",event_count/num_sims,sep=\"\")"
   ]
  },
  {
   "cell_type": "markdown",
   "metadata": {},
   "source": [
    "What is the conclusion? "
   ]
  },
  {
   "cell_type": "markdown",
   "metadata": {},
   "source": [
    "The simulation supports rejecting the null hypothesis. We can assume that the effect is real: the mortality rate AFTER the assault weapons ban is higher than before."
   ]
  },
  {
   "cell_type": "markdown",
   "metadata": {},
   "source": [
    "It depends on HOW you interpret the data!"
   ]
  },
  {
   "cell_type": "markdown",
   "metadata": {},
   "source": [
    "## Distribution of the bootstrap mean-difference"
   ]
  },
  {
   "cell_type": "markdown",
   "metadata": {},
   "source": [
    "Every time we create a bootstrap value for the difference of means, we create a new random value. Let's see how the bootstrap means are distributed by looking at a histogram of those values:"
   ]
  },
  {
   "cell_type": "code",
   "execution_count": 13,
   "metadata": {},
   "outputs": [
    {
     "data": {
      "text/plain": [
       "(array([8.0000e+00, 5.8000e+01, 3.2900e+02, 1.3600e+03, 4.7240e+03,\n",
       "        1.2301e+04, 2.6548e+04, 4.7593e+04, 6.9283e+04, 8.3942e+04,\n",
       "        8.4978e+04, 7.1262e+04, 4.8980e+04, 2.8236e+04, 1.3232e+04,\n",
       "        5.1060e+03, 1.5530e+03, 4.1000e+02, 8.3000e+01, 1.4000e+01]),\n",
       " array([-0.702 , -0.6321, -0.5622, -0.4923, -0.4224, -0.3525, -0.2826,\n",
       "        -0.2127, -0.1428, -0.0729, -0.003 ,  0.0669,  0.1368,  0.2067,\n",
       "         0.2766,  0.3465,  0.4164,  0.4863,  0.5562,  0.6261,  0.696 ]),\n",
       " <a list of 20 Patch objects>)"
      ]
     },
     "execution_count": 13,
     "metadata": {},
     "output_type": "execute_result"
    },
    {
     "data": {
      "image/png": "[encoded data removed]",
      "text/plain": [
       "<Figure size 432x288 with 1 Axes>"
      ]
     },
     "metadata": {
      "needs_background": "light"
     },
     "output_type": "display_data"
    }
   ],
   "source": [
    "plt.hist(bs_stats,bins=20)"
   ]
  },
  {
   "cell_type": "markdown",
   "metadata": {},
   "source": [
    "A few observations:"
   ]
  },
  {
   "cell_type": "markdown",
   "metadata": {},
   "source": [
    "1. The difference of means has a bell shape -- we saw that before. Why?\n",
    "\n",
    "2. Almost all of the values fall between -0.5 and 0.5. Not suprising that a mean-difference as large as 0.6 is very rare.\n"
   ]
  },
  {
   "cell_type": "markdown",
   "metadata": {},
   "source": [
    "### Confidence Intervals"
   ]
  },
  {
   "cell_type": "markdown",
   "metadata": {},
   "source": [
    "An alternative to specifying $p$-values is to specify **confidence intervals**. The $x$% (symmetric) confidence interval for a statistic is the region such that (100-$x)/2$% of samples will fall below the confidence interval, and (100-$x)/2$% of samples will fall above the confidence interval. "
   ]
  },
  {
   "cell_type": "markdown",
   "metadata": {},
   "source": [
    "The confidence interval for a bootstrap statistic cannot be known exactly, but it can be estimated accurately given enough samples of the bootstrap statistic"
   ]
  },
  {
   "cell_type": "markdown",
   "metadata": {},
   "source": [
    "**Procedure for Estimating Confidence Interval for a Bootstrap Statistic**\n",
    "1. Draw $N$ samples from the pooled data using replacement\n",
    "2. For each sample(s), compute the desired statistic and store it\n",
    "3. Sort all of the stored statistics\n",
    "4. For confidence interval $x$%: ley y = 1-x/100\n",
    "    * the lower bound of the confidence interval is the element in position $Ny/2$\n",
    "    * the upper bound of the confidence interval is the element in position $N-Ny/2-1= N(1-y)/2-1$\n",
    "    \n",
    "    (Assuming 0-based indexing)"
   ]
  },
  {
   "cell_type": "markdown",
   "metadata": {},
   "source": [
    "**Compute the 95% confidence interval for the example above**"
   ]
  },
  {
   "cell_type": "code",
   "execution_count": 14,
   "metadata": {},
   "outputs": [],
   "source": [
    "bs_stats.sort()"
   ]
  },
  {
   "cell_type": "code",
   "execution_count": 15,
   "metadata": {},
   "outputs": [
    {
     "data": {
      "text/plain": [
       "12500"
      ]
     },
     "execution_count": 15,
     "metadata": {},
     "output_type": "execute_result"
    }
   ],
   "source": [
    "lower=int(len(bs_stats)*0.05/2)\n",
    "lower"
   ]
  },
  {
   "cell_type": "code",
   "execution_count": 16,
   "metadata": {},
   "outputs": [
    {
     "data": {
      "text/plain": [
       "487499"
      ]
     },
     "execution_count": 16,
     "metadata": {},
     "output_type": "execute_result"
    }
   ],
   "source": [
    "upper=int(len(bs_stats)-lower-1)\n",
    "upper"
   ]
  },
  {
   "cell_type": "code",
   "execution_count": 17,
   "metadata": {},
   "outputs": [
    {
     "data": {
      "text/plain": [
       "(-0.31199999999999584, 0.3119999999999976)"
      ]
     },
     "execution_count": 17,
     "metadata": {},
     "output_type": "execute_result"
    }
   ],
   "source": [
    "bs_stats[lower],bs_stats[upper]"
   ]
  },
  {
   "cell_type": "markdown",
   "metadata": {},
   "source": [
    "Thus, the 95% confidence interval is [-0.30, 0.31]"
   ]
  },
  {
   "cell_type": "markdown",
   "metadata": {},
   "source": [
    "Conclusion: The observed value (0.6x) falls outside of the 95% confidence interval, so we reject the null hypothesis."
   ]
  },
  {
   "cell_type": "markdown",
   "metadata": {},
   "source": [
    "**Lecture 11 Assignment**\n",
    "1. Compute the 99% confidence interval for this second way of carrying out the bootstrap on the 2005/2014 firearms mortality data sets. Resample a few times and see if the confidence interval varies. How many samples are needed to get a reliable estimate of the 99% confidence interval for this statistic?\n",
    "2. Compute the 95% confidence interval for the first way of carrying out the bootstrap on the 2005/2014 firearms mortality data sets. How many samples are needed to get a reliable estimate of the 95% confidence interval for this statistic?\n",
    "3. Compute the 99% confidence interval for the first way of carrying out the bootstrap on the 2005/2014 firearms mortality data sets. How many samples are needed to get a reliable estimate of the 99% confidence interval for this statistic?"
   ]
  },
  {
   "cell_type": "markdown",
   "metadata": {},
   "source": [
    "## 1."
   ]
  },
  {
   "cell_type": "code",
   "execution_count": 18,
   "metadata": {},
   "outputs": [
    {
     "name": "stdout",
     "output_type": "stream",
     "text": [
      "The 99% confidence interval for this second way of carrying out the bootstrap is (-0.4060000000000006,0.4079999999999959), and this was achieved with 500,000 simulations.\n"
     ]
    }
   ],
   "source": [
    "lower=int(len(bs_stats)*0.01/2)\n",
    "upper=int(len(bs_stats)-lower-1)\n",
    "bs_stats[lower],bs_stats[upper]\n",
    "\n",
    "print('The 99% confidence interval for this second way of carrying out the bootstrap is (',bs_stats[lower],',',bs_stats[upper],'), and this was achieved with 500,000 simulations.',sep=\"\")\n"
   ]
  },
  {
   "cell_type": "markdown",
   "metadata": {},
   "source": [
    "## 2."
   ]
  },
  {
   "cell_type": "code",
   "execution_count": 19,
   "metadata": {},
   "outputs": [],
   "source": [
    "num_sims=500000\n",
    "event_count=0\n",
    "pooled_diff = []\n",
    "for sim in range(num_sims):\n",
    "    sample05 = npr.choice(pooled, size=50)\n",
    "    sample14 = npr.choice(pooled, size=50)\n",
    "    # Bootstrap samples DO NOT have to be the same size\n",
    "    # They should be the sizes of the original sample\n",
    "    mean05 = sample05.mean()\n",
    "    mean14 = sample14.mean()\n",
    "    sample_diff = mean14-mean05\n",
    "    pooled_diff += [sample_diff]\n",
    "    if abs(sample_diff) >= diff:\n",
    "        event_count+=1"
   ]
  },
  {
   "cell_type": "code",
   "execution_count": 20,
   "metadata": {},
   "outputs": [
    {
     "name": "stdout",
     "output_type": "stream",
     "text": [
      "The 95% confidence interval for the first way of carrying out the bootstrap is (-1.565999999999999,1.5739999999999998), and this was achieved with 500000 simulations.\n"
     ]
    }
   ],
   "source": [
    "pooled_diff.sort()\n",
    "lower=int(len(pooled_diff)*0.05/2)\n",
    "upper=int(len(pooled_diff)-lower-1)\n",
    "\n",
    "print('The 95% confidence interval for the first way of carrying out the bootstrap is (',pooled_diff[lower],',',pooled_diff[upper],'), and this was achieved with ',num_sims,' simulations.',sep=\"\")\n"
   ]
  },
  {
   "cell_type": "markdown",
   "metadata": {},
   "source": [
    "## 3."
   ]
  },
  {
   "cell_type": "code",
   "execution_count": 21,
   "metadata": {},
   "outputs": [
    {
     "name": "stdout",
     "output_type": "stream",
     "text": [
      "The 99% confidence interval for the first way of carrying out the bootstrap is (-2.0779999999999994,2.0759999999999987), and this was achieved with 500000 simulations.\n"
     ]
    }
   ],
   "source": [
    "lower=int(len(pooled_diff)*0.01/2)\n",
    "upper=int(len(pooled_diff)-lower-1)\n",
    "\n",
    "print('The 99% confidence interval for the first way of carrying out the bootstrap is (',pooled_diff[lower],',',pooled_diff[upper],'), and this was achieved with ',num_sims,' simulations.',sep=\"\")\n"
   ]
  },
  {
   "cell_type": "markdown",
   "metadata": {},
   "source": [
    "## Effect of State Laws"
   ]
  },
  {
   "cell_type": "markdown",
   "metadata": {},
   "source": [
    "The column \"Total Laws 2014\" shows the total number of gun laws in each state as of 2014. The data is from \n",
    "\n",
    "https://www.statefirearmlaws.org/resources\n",
    "\n",
    "Now we have 2 data sources that are both in 2014, but they do not represent two samples from the same population. Instead, they represent two things that may depend on each other."
   ]
  },
  {
   "cell_type": "markdown",
   "metadata": {},
   "source": [
    "Again, the first thing to do is plot the data. When we have two sets of data that may be dependent, a scatter plot is usually the first tool to reach for:"
   ]
  },
  {
   "cell_type": "code",
   "execution_count": null,
   "metadata": {},
   "outputs": [],
   "source": []
  },
  {
   "cell_type": "code",
   "execution_count": null,
   "metadata": {},
   "outputs": [],
   "source": []
  },
  {
   "cell_type": "markdown",
   "metadata": {},
   "source": [
    "What does this data suggest?"
   ]
  },
  {
   "cell_type": "markdown",
   "metadata": {},
   "source": [
    "We don't know how to measure the dependence between two data sets like this -- **yet**\n",
    "\n",
    "Let's see if we can turn this into into two data sets:"
   ]
  },
  {
   "cell_type": "markdown",
   "metadata": {},
   "source": [
    "The data seems to fall into two clusters, one with < 50 laws and one with > 50 laws. \n",
    "\n",
    "Finding clusterings of data is a job computers are good at.\n",
    "\n",
    "Let's use a standard clustering algorithm to see what it find.\n",
    "\n"
   ]
  },
  {
   "cell_type": "markdown",
   "metadata": {},
   "source": [
    "There are several libraries that contain clustering algorithms. \n",
    "\n",
    "Clustering is a type of unsupervised machine learning; unsupervised means that you do not have to have labels for any of the data"
   ]
  },
  {
   "cell_type": "markdown",
   "metadata": {},
   "source": [
    "![scikit-learn logo](https://scikit-learn.org/stable/_static/scikit-learn-logo-small.png)\n",
    "The ```scikit-learn``` module has many useful methods for machine learning, including clustering"
   ]
  },
  {
   "cell_type": "markdown",
   "metadata": {},
   "source": [
    "We will start with one of the simplest clustering algorithms:\n",
    "\n",
    "The $K$-Means Algorithm is a randomized, iterative algorithm to cluster data. We will need to put the data into colums of a matrix as follows:"
   ]
  },
  {
   "cell_type": "code",
   "execution_count": null,
   "metadata": {},
   "outputs": [],
   "source": []
  },
  {
   "cell_type": "code",
   "execution_count": null,
   "metadata": {},
   "outputs": [],
   "source": []
  },
  {
   "cell_type": "code",
   "execution_count": null,
   "metadata": {},
   "outputs": [],
   "source": []
  },
  {
   "cell_type": "code",
   "execution_count": null,
   "metadata": {},
   "outputs": [],
   "source": []
  },
  {
   "cell_type": "code",
   "execution_count": null,
   "metadata": {},
   "outputs": [],
   "source": []
  },
  {
   "cell_type": "code",
   "execution_count": null,
   "metadata": {},
   "outputs": [],
   "source": []
  },
  {
   "cell_type": "code",
   "execution_count": null,
   "metadata": {},
   "outputs": [],
   "source": []
  },
  {
   "cell_type": "markdown",
   "metadata": {},
   "source": [
    "Now let's partition the data accordingly:"
   ]
  },
  {
   "cell_type": "code",
   "execution_count": null,
   "metadata": {},
   "outputs": [],
   "source": []
  },
  {
   "cell_type": "markdown",
   "metadata": {},
   "source": [
    "**Note that less50 is a pandas series object. It also has a mean method, as well as other useful summary statistics**"
   ]
  },
  {
   "cell_type": "code",
   "execution_count": null,
   "metadata": {},
   "outputs": [],
   "source": []
  },
  {
   "cell_type": "code",
   "execution_count": null,
   "metadata": {},
   "outputs": [],
   "source": []
  },
  {
   "cell_type": "markdown",
   "metadata": {},
   "source": [
    "Again, if we want to perform a binary hypothesis test, we need to pool the data and draw representative samples from it:"
   ]
  },
  {
   "cell_type": "code",
   "execution_count": null,
   "metadata": {},
   "outputs": [],
   "source": []
  },
  {
   "cell_type": "code",
   "execution_count": null,
   "metadata": {},
   "outputs": [],
   "source": []
  },
  {
   "cell_type": "markdown",
   "metadata": {},
   "source": [
    "What is your conclusion?"
   ]
  },
  {
   "cell_type": "markdown",
   "metadata": {},
   "source": [
    "What are some issues with this analysis?"
   ]
  },
  {
   "cell_type": "markdown",
   "metadata": {},
   "source": []
  },
  {
   "cell_type": "code",
   "execution_count": null,
   "metadata": {},
   "outputs": [],
   "source": []
  }
 ],
 "metadata": {
  "kernelspec": {
   "display_name": "Python 3",
   "language": "python",
   "name": "python3"
  },
  "language_info": {
   "codemirror_mode": {
    "name": "ipython",
    "version": 3
   },
   "file_extension": ".py",
   "mimetype": "text/x-python",
   "name": "python",
   "nbconvert_exporter": "python",
   "pygments_lexer": "ipython3",
   "version": "3.7.2"
  }
 },
 "nbformat": 4,
 "nbformat_minor": 2
}
